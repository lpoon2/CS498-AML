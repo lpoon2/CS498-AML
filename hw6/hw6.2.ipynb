{
 "cells": [
  {
   "cell_type": "code",
   "execution_count": 50,
   "metadata": {},
   "outputs": [],
   "source": [
    "import numpy as np\n",
    "import pandas as pd\n",
    "import statsmodels.api as sm\n",
    "import matplotlib.pyplot as plt\n",
    "from patsy import dmatrices\n",
    "from sklearn.linear_model import LogisticRegression\n",
    "from sklearn.cross_validation import train_test_split\n",
    "from sklearn import metrics\n",
    "from sklearn.cross_validation import cross_val_score\n",
    "#http://nbviewer.jupyter.org/gist/justmarkham/6d5c061ca5aee67c4316471f8c2ae976"
   ]
  },
  {
   "cell_type": "code",
   "execution_count": 9,
   "metadata": {},
   "outputs": [],
   "source": [
    "data = pd.read_excel('./default.xls', header = [0,1])"
   ]
  },
  {
   "cell_type": "code",
   "execution_count": 53,
   "metadata": {},
   "outputs": [],
   "source": [
    "model = LogisticRegression()\n",
    "train_cols = data.columns[2:]\n",
    "model = model.fit(data[train_cols], np.ravel(data['Y']))"
   ]
  },
  {
   "cell_type": "code",
   "execution_count": 54,
   "metadata": {},
   "outputs": [
    {
     "data": {
      "text/plain": [
       "0.7789666666666667"
      ]
     },
     "execution_count": 54,
     "metadata": {},
     "output_type": "execute_result"
    }
   ],
   "source": [
    "model.score(data[train_cols], np.ravel(data['Y']))"
   ]
  },
  {
   "cell_type": "code",
   "execution_count": 64,
   "metadata": {},
   "outputs": [
    {
     "data": {
      "text/plain": [
       "LogisticRegression(C=0.1, class_weight=None, dual=False, fit_intercept=True,\n",
       "          intercept_scaling=1, max_iter=100, multi_class='ovr', n_jobs=1,\n",
       "          penalty='l2', random_state=None, solver='liblinear', tol=0.0001,\n",
       "          verbose=0, warm_start=False)"
      ]
     },
     "execution_count": 64,
     "metadata": {},
     "output_type": "execute_result"
    }
   ],
   "source": [
    "# evaluate the model by splitting into train and test sets\n",
    "X_train, X_test, y_train, y_test = train_test_split(data[train_cols], np.ravel(data['Y']), test_size=0.2, random_state=0)"
   ]
  },
  {
   "cell_type": "code",
   "execution_count": 80,
   "metadata": {},
   "outputs": [
    {
     "name": "stdout",
     "output_type": "stream",
     "text": [
      "================= CV avg. score 0.2======================\n",
      "0.7788000025629631\n",
      "================= CV avg. score 0.4======================\n",
      "0.77890004701482\n",
      "================= CV avg. score 0.6======================\n",
      "0.7788000136777792\n",
      "================= CV avg. score 0.8======================\n",
      "0.7787666914518545\n",
      "================= CV avg. score 1.2======================\n",
      "0.7814666692296298\n",
      "================= CV avg. score 1.4======================\n",
      "0.7788000025629631\n",
      "================= CV avg. score 1.6======================\n",
      "0.7787666803370384\n",
      "================= CV avg. score 1.8======================\n",
      "0.7826320918739361\n",
      "================= CV avg. score 2.2======================\n",
      "0.7841684698224225\n",
      "================= CV avg. score 2.4======================\n",
      "0.7787333470037052\n",
      "================= CV avg. score 2.6======================\n",
      "0.7862333247888879\n",
      "================= CV avg. score 2.8======================\n",
      "0.7836997696407151\n",
      "================= CV avg. score 3.2======================\n",
      "0.7788333803481533\n",
      "================= CV avg. score 3.4======================\n",
      "0.778900069244452\n",
      "================= CV avg. score 3.6======================\n",
      "0.7787666914518545\n",
      "================= CV avg. score 3.8======================\n",
      "0.7788999581333287\n",
      "================= CV avg. score 4.2======================\n",
      "0.7823345474038386\n",
      "================= CV avg. score 4.4======================\n",
      "0.7788333581259288\n",
      "================= CV avg. score 4.6======================\n",
      "0.7788333470111126\n",
      "================= CV avg. score 4.8======================\n",
      "0.7789666692370372\n",
      "================= CV avg. score 5.2======================\n",
      "0.7787666692296299\n",
      "================= CV avg. score 5.4======================\n",
      "0.7824011918482805\n",
      "================= CV avg. score 5.6======================\n",
      "0.778866680344446\n",
      "================= CV avg. score 5.8======================\n",
      "0.8010073605860029\n",
      "================= CV avg. score 6.2======================\n",
      "0.7970939268178436\n",
      "================= CV avg. score 6.4======================\n",
      "0.779066791485199\n",
      "================= CV avg. score 6.6======================\n",
      "0.7788333359037038\n",
      "================= CV avg. score 6.8======================\n",
      "0.7797330359962632\n",
      "================= CV avg. score 7.2======================\n",
      "0.787436270192919\n",
      "================= CV avg. score 7.4======================\n",
      "0.7793001581703879\n",
      "================= CV avg. score 7.6======================\n",
      "0.7789000247851878\n",
      "================= CV avg. score 7.8======================\n",
      "0.781766702574078\n",
      "================= CV avg. score 8.2======================\n",
      "0.8010335026185373\n",
      "================= CV avg. score 8.4======================\n",
      "0.7795331026481225\n",
      "================= CV avg. score 8.6======================\n",
      "0.7788333358962964\n",
      "================= CV avg. score 8.8======================\n",
      "0.783034525255688\n",
      "================= CV avg. score 9.2======================\n",
      "0.7798996915703361\n",
      "================= CV avg. score 9.4======================\n",
      "0.7916333358962965\n",
      "================= CV avg. score 9.6======================\n",
      "0.7832666581222212\n",
      "================= CV avg. score 9.8======================\n",
      "0.7788333581259287\n"
     ]
    }
   ],
   "source": [
    "for i in range(10):\n",
    "    for j in [0.2, 0.4, 0.6, 0.8]:\n",
    "        model2 = LogisticRegression(C=(i+j), penalty='l2')\n",
    "        model2.fit(X_train, y_train)\n",
    "        # predict class labels for the test set\n",
    "        predicted = model2.predict(X_test)\n",
    "        # generate class probabilities\n",
    "        probs = model2.predict_proba(X_test)\n",
    "        # evaluate the model using 10-fold cross-validation\n",
    "        scores = cross_val_score(LogisticRegression(), data[train_cols], np.ravel(data['Y']), scoring='accuracy', cv=10)\n",
    "        print('================= CV avg. score '+ str(i+j)+'======================')\n",
    "        print (scores.mean())"
   ]
  },
  {
   "cell_type": "code",
   "execution_count": 68,
   "metadata": {},
   "outputs": [
    {
     "name": "stdout",
     "output_type": "stream",
     "text": [
      "[[4702    1]\n",
      " [1296    1]]\n",
      "             precision    recall  f1-score   support\n",
      "\n",
      "          0       0.78      1.00      0.88      4703\n",
      "          1       0.50      0.00      0.00      1297\n",
      "\n",
      "avg / total       0.72      0.78      0.69      6000\n",
      "\n"
     ]
    }
   ],
   "source": [
    "#print (metrics.confusion_matrix(y_test, predicted))\n",
    "#print (metrics.classification_report(y_test, predicted))"
   ]
  },
  {
   "cell_type": "code",
   "execution_count": 86,
   "metadata": {},
   "outputs": [
    {
     "name": "stdout",
     "output_type": "stream",
     "text": [
      "================= CV avg. score 0.2======================\n",
      "0.7787666692296299\n",
      "================= CV avg. score 0.4======================\n",
      "0.7788666914592619\n",
      "================= CV avg. score 0.6======================\n",
      "0.7788000136777792\n",
      "================= CV avg. score 0.8======================\n",
      "0.7796669137703978\n",
      "================= CV avg. score 1.2======================\n",
      "0.8009073605711882\n",
      "================= CV avg. score 1.4======================\n",
      "0.77873336922593\n",
      "================= CV avg. score 1.6======================\n",
      "0.7825345696482855\n",
      "================= CV avg. score 1.8======================\n",
      "0.7787666692296299\n",
      "================= CV avg. score 2.2======================\n",
      "0.7873000136777792\n",
      "================= CV avg. score 2.4======================\n",
      "0.7794668026222372\n",
      "================= CV avg. score 2.6======================\n",
      "0.7796663915444138\n",
      "================= CV avg. score 2.8======================\n",
      "0.7790333692407446\n",
      "================= CV avg. score 3.2======================\n",
      "0.77893334701852\n",
      "================= CV avg. score 3.4======================\n",
      "0.782401191855688\n",
      "================= CV avg. score 3.6======================\n",
      "0.7794335470778015\n",
      "================= CV avg. score 3.8======================\n",
      "0.8009406383526635\n",
      "================= CV avg. score 4.2======================\n",
      "0.7797669582222546\n",
      "================= CV avg. score 4.4======================\n",
      "0.7787666914518545\n",
      "================= CV avg. score 4.6======================\n",
      "0.7788666914592619\n",
      "================= CV avg. score 4.8======================\n",
      "0.7860647811479385\n",
      "================= CV avg. score 5.2======================\n",
      "0.7788000025629631\n",
      "================= CV avg. score 5.4======================\n",
      "0.7997263826584868\n",
      "================= CV avg. score 5.6======================\n",
      "0.7787333470037052\n",
      "================= CV avg. score 5.8======================\n",
      "0.778800035900004\n",
      "================= CV avg. score 6.2======================\n",
      "0.7788666803518534\n",
      "================= CV avg. score 6.4======================\n",
      "0.7787666803370384\n",
      "================= CV avg. score 6.6======================\n",
      "0.7945333470037051\n",
      "================= CV avg. score 6.8======================\n",
      "0.7787333470037052\n",
      "================= CV avg. score 7.2======================\n",
      "0.7788999803481459\n",
      "================= CV avg. score 7.4======================\n",
      "0.7787999914555546\n",
      "================= CV avg. score 7.6======================\n",
      "0.7800000136777793\n",
      "================= CV avg. score 7.8======================\n",
      "0.7824666914518545\n",
      "================= CV avg. score 8.2======================\n",
      "0.8145786065420675\n",
      "================= CV avg. score 8.4======================\n",
      "0.7824345807482869\n",
      "================= CV avg. score 8.6======================\n",
      "0.7792334915037211\n",
      "================= CV avg. score 8.8======================\n",
      "0.7789333247888879\n",
      "================= CV avg. score 9.2======================\n",
      "0.8001262160473572\n",
      "================= CV avg. score 9.4======================\n",
      "0.7788000025629631\n",
      "================= CV avg. score 9.6======================\n",
      "0.7789332914666619\n",
      "================= CV avg. score 9.8======================\n",
      "0.7803671916259842\n"
     ]
    }
   ],
   "source": [
    "for i in range(10):\n",
    "    for j in [0.2, 0.4, 0.6, 0.8]:\n",
    "        model2 = LogisticRegression(C=(i+j), penalty='l1')\n",
    "        model2.fit(X_train, y_train)\n",
    "        # predict class labels for the test set\n",
    "        predicted = model2.predict(X_test)\n",
    "        # generate class probabilities\n",
    "        probs = model2.predict_proba(X_test)\n",
    "        # evaluate the model using 10-fold cross-validation\n",
    "        scores = cross_val_score(LogisticRegression(), data[train_cols], np.ravel(data['Y']), scoring='accuracy', cv=10)\n",
    "        print('================= CV avg. score '+ str(i+j)+'======================')\n",
    "        print (scores.mean())"
   ]
  },
  {
   "cell_type": "code",
   "execution_count": null,
   "metadata": {},
   "outputs": [],
   "source": []
  }
 ],
 "metadata": {
  "kernelspec": {
   "display_name": "Python 3",
   "language": "python",
   "name": "python3"
  },
  "language_info": {
   "codemirror_mode": {
    "name": "ipython",
    "version": 3
   },
   "file_extension": ".py",
   "mimetype": "text/x-python",
   "name": "python",
   "nbconvert_exporter": "python",
   "pygments_lexer": "ipython3",
   "version": "3.6.4"
  }
 },
 "nbformat": 4,
 "nbformat_minor": 2
}

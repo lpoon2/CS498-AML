{
 "cells": [
  {
   "cell_type": "code",
   "execution_count": 41,
   "metadata": {
    "collapsed": true
   },
   "outputs": [],
   "source": [
    "import numpy as np\n",
    "import os\n",
    "import pandas as pd\n",
    "import csv\n",
    "from matplotlib import pyplot as plt\n",
    "import matplotlib.pyplot as pyplot\n",
    "import PIL.Image as Image\n",
    "from PIL import ImageOps\n",
    "from scipy.cluster.hierarchy import dendrogram, linkage\n",
    "from scipy.cluster.vq import vq, kmeans, whiten\n",
    "import glob\n",
    "import math"
   ]
  },
  {
   "cell_type": "code",
   "execution_count": 210,
   "metadata": {
    "collapsed": false
   },
   "outputs": [
    {
     "name": "stdout",
     "output_type": "stream",
     "text": [
      "Empty DataFrame\n",
      "Columns: []\n",
      "Index: []\n",
      "Empty DataFrame\n",
      "Columns: []\n",
      "Index: []\n",
      "Empty DataFrame\n",
      "Columns: []\n",
      "Index: []\n",
      "Empty DataFrame\n",
      "Columns: []\n",
      "Index: []\n",
      "Empty DataFrame\n",
      "Columns: []\n",
      "Index: []\n",
      "Empty DataFrame\n",
      "Columns: []\n",
      "Index: []\n",
      "Empty DataFrame\n",
      "Columns: []\n",
      "Index: []\n",
      "Empty DataFrame\n",
      "Columns: []\n",
      "Index: []\n",
      "Empty DataFrame\n",
      "Columns: []\n",
      "Index: []\n",
      "Empty DataFrame\n",
      "Columns: []\n",
      "Index: []\n",
      "Empty DataFrame\n",
      "Columns: []\n",
      "Index: []\n",
      "Empty DataFrame\n",
      "Columns: []\n",
      "Index: []\n",
      "Empty DataFrame\n",
      "Columns: []\n",
      "Index: []\n",
      "Empty DataFrame\n",
      "Columns: []\n",
      "Index: []\n"
     ]
    }
   ],
   "source": [
    "#df = pd.read_table(\"C:/Users/titus/Documents/CS498/hw4/HMP_Dataset/Brush_teeth/*.txt\", sep=\" \", header=None)\n",
    "#print(df)\n",
    "\n",
    "Brush_teeth_path =r'C:/Users/titus/Documents/CS498/hw4/HMP_Dataset/Brush_teeth' # use your path\n",
    "Climb_stairs_MODEL_path =r'C:/Users/titus/Documents/CS498/hw4/HMP_Dataset/Climb_stairs_MODEL'\n",
    "Comb_hair_path =r'C:/Users/titus/Documents/CS498/hw4/HMP_Dataset/Comb_hair'\n",
    "Descend_stairs_path =r'C:/Users/titus/Documents/CS498/hw4/HMP_Dataset/Descend_stairs'\n",
    "Drink_glass_MODEL_path =r'C:/Users/titus/Documents/CS498/hw4/HMP_Dataset/Drink_glass_MODEL'\n",
    "Eat_meat_path =r'C:/Users/titus/Documents/CS498/hw4/HMP_Dataset/Eat_meat'\n",
    "Eat_soup_path =r'C:/Users/titus/Documents/CS498/hw4/HMP_Dataset/Eat_soup'\n",
    "Getup_bed_MODEL_path =r'C:/Users/titus/Documents/CS498/hw4/HMP_Dataset/Getup_bed_MODEL'\n",
    "liedown_bed_path =r'C:/Users/titus/Documents/CS498/hw4/HMP_Dataset/liedown_bed'\n",
    "Pour_water_MODEL_path =r'C:/Users/titus/Documents/CS498/hw4/HMP_Dataset/Pour_water_MODEL'\n",
    "Sitdown_chair_MODEL_path =r'C:/Users/titus/Documents/CS498/hw4/HMP_Dataset/Sitdown_chair_MODEL'\n",
    "Standup_chair_MODEL_path =r'C:/Users/titus/Documents/CS498/hw4/HMP_Dataset/Standup_chair_MODEL'\n",
    "Use_telephone_path =r'C:/Users/titus/Documents/CS498/hw4/HMP_Dataset/Use_telephone'\n",
    "Walk_MODEL_path =r'C:/Users/titus/Documents/CS498/hw4/HMP_Dataset/Walk_MODEL'\n",
    "\n",
    "path_list = [Brush_teeth_path, Climb_stairs_MODEL_path, Comb_hair_path, Descend_stairs_path, Drink_glass_MODEL_path, Eat_meat_path, Eat_soup_path, Getup_bed_MODEL_path, liedown_bed_path, Pour_water_MODEL_path, Sitdown_chair_MODEL_path, Standup_chair_MODEL_path, Use_telephone_path, Walk_MODEL_path]\n",
    "#path_list = [Brush_teeth_path]\n",
    "df_list = []\n",
    "for path in path_list:\n",
    "    allFiles = glob.glob(path + \"/*.txt\")\n",
    "    a = False\n",
    "    for file_ in allFiles: #take every sample of one action in one single df\n",
    "        if a == False:\n",
    "            frame = pd.read_csv(file_,sep=\" \",index_col=None,  header=None)\n",
    "            a = True\n",
    "        else:\n",
    "            df = pd.read_csv(file_,sep=\" \",index_col=None,  header=None)\n",
    "            frame = pd.concat([frame,df])\n",
    "    newdf = frame.iloc[0:32,:]\n",
    "    newnp = newdf.as_matrix()\n",
    "    #print(newnp.size)\n",
    "\n",
    "    #print(newnp.shape)\n",
    "    #npreshape = pd.Panel(newdf.values.reshape(1,96))\n",
    "    #print(newnp.size)\n",
    "    #newnp = np.array(newnp,np.float32)\n",
    "    vq_df = pd.DataFrame(np.array(newnp).resize((1,96)))\n",
    "    #print(vq_df)                \n",
    "    for i in range (1, math.floor(len(frame.index)/32)):\n",
    "        newdf = frame.iloc[32*i:32*(i)+31, ]\n",
    "        newnp = newdf.as_matrix()\n",
    "        npreshape = pd.DataFrame(np.resize(newnp,(1,96)))\n",
    "\n",
    "        vq_df = pd.concat([vq_df,npreshape])\n",
    "\n",
    "    df_list.append(vq_df)\n",
    "\n"
   ]
  },
  {
   "cell_type": "code",
   "execution_count": 108,
   "metadata": {
    "collapsed": false
   },
   "outputs": [
    {
     "name": "stdout",
     "output_type": "stream",
     "text": [
      "    0   1   2   3   4   5   6   7   8   9  ...  86  87  88  89  90  91  92  \\\n",
      "0   57  11  36  11  36  35  11  37  35  12 ...  37  13  49  39  17  53  39   \n",
      "0   24  51  38  25  49  38  26  48  40  29 ...  44  18  32  45  18  30  48   \n",
      "0   17  30  47  17  30  49  17  32  47  18 ...  40  39  41  37  38  45  41   \n",
      "0   36  47  48  33  52  45  32  51  46  29 ...  47  23  40  46  24  42  47   \n",
      "0   23  38  49  22  38  48  23  38  51  19 ...  49  21  33  50  22  34  51   \n",
      "0   22  32  49  21  34  51  21  32  50  20 ...  50  24  38  49  28  34  49   \n",
      "0   24  34  45  15  41  62  22  32  47  21 ...  28  27  55  27  27  52  30   \n",
      "0   27  53  30  27  51  31  26  52  31  26 ...  46  26  45  46  27  46  48   \n",
      "0   27  44  48  28  47  47  28  45  48  27 ...  49  27  43  49  26  44  49   \n",
      "0   27  45  48  26  44  49  27  44  48  28 ...  49  26  44  49  27  44  49   \n",
      "0   26  43  49  27  44  48  26  43  48  26 ...  29  23  52  27  21  51  27   \n",
      "0   20  51  24  22  48  22  23  47  22  23 ...  29  26  51  28  27  49  28   \n",
      "0   28  50  24  29  52  24  29  52  24  27 ...  28  24  49  30  23  50  30   \n",
      "0   25  50  30  25  51  30  24  51  30  24 ...  28  24  53  26  21  52  26   \n",
      "0   21  52  26  22  50  27  23  51  29  24 ...  33  20  51  33  22  50  35   \n",
      "0   22  51  36  22  52  38  25  51  37  24 ...  15  31  41  23  27  35  32   \n",
      "0   26  46  41  28  62  20  37  63  14  27 ...  46  30  51  39  31  63  23   \n",
      "0   27  41  31  26  39  40  28  47  41  30 ...  24  28  35  32  27  45  38   \n",
      "0   31  62  21  38  62  21  35  44  25  27 ...  18  38  53  24  33  32  36   \n",
      "0   26  62  27  35  63  17  36  58  22  25 ...  27  29  48  33  28  26  40   \n",
      "0   27  62  22  32  63  15  31  42  27  27 ...  23  40  63  18  31  35  27   \n",
      "0   28  41  36  30  63  21  35  63  18  33 ...  34   8  36  39   5  48  37   \n",
      "0   27  43  31  37  57  39  53  63  36  36 ...  29  33  54  38  11  49  33   \n",
      "0    6  58  28  20  53  37  47  62  37  53 ...  37   2  53  33  19  60  35   \n",
      "0   59  62  29  43  51  33  14  56  35   0 ...  34  54  63  32  42  48  39   \n",
      "0    0  28  48   4  58  33  19  57  31  39 ...  38   9  50  42   0  48  40   \n",
      "0   28  44  33  53  57  32  51  53  32  25 ...  34  19  49  33  17  47  33   \n",
      "0   16  48  33  16  47  33  15  48  33  15 ...  35  19  50  34  19  52  34   \n",
      "0   22  49  35  23  51  37  25  50  38  21 ...  35  31  63  22  27  57  25   \n",
      "0   23  43  41  26  49  35  34  63  19  30 ...  22  32  62  22  26  29  27   \n",
      "..  ..  ..  ..  ..  ..  ..  ..  ..  ..  .. ...  ..  ..  ..  ..  ..  ..  ..   \n",
      "0   33  56  16  25  37  25  23  32  42  22 ...  22  25  43  27  24  37  40   \n",
      "0   25  62  23  30  63  10  30  49  20  24 ...   9  32  55  16  23  29  34   \n",
      "0   26  53  31  34  61  16  35  51  22  27 ...  29  19  49  29  21  53  27   \n",
      "0   25  54  28  26  49  29  25  50  32  27 ...  35  26  59  28  26  52  28   \n",
      "0   28  14  41  23  45  45  30  63  20  30 ...  37  25  49  37  32  58  26   \n",
      "0   34  60  21  28  23  35  25  45  40  27 ...  24  36  63  10  33  45  24   \n",
      "0   29  46  34  35  63  14  38  61  17  28 ...  36  17  50  36  18  49  36   \n",
      "0   16  52  40  18  53  40  19  53  41  20 ...  39  63  63  29  47  54  33   \n",
      "0    0  44  40   0  58  36  22  55  35  51 ...  43   1  55  39  25  46  39   \n",
      "0   48  58  34  20  44  43   1  44  41   9 ...  33  20  48  35  20  48  34   \n",
      "0   20  48  35  21  45  34  19  48  34  21 ...  40  18  48  38  23  56  38   \n",
      "0   58  60  29  39  49  35   7  58  40   0 ...  29  46  58  37  14  48  42   \n",
      "0   18  39  26  24  44  27  22  55  35  29 ...  31  27  54  33  27  53  30   \n",
      "0   27  33  34  26  19  37  31  50  41  32 ...  45  28  52  40  31  63  18   \n",
      "0   24  40  40  23  41  46  33  60  35  31 ...  37  20  49  37  19  49  37   \n",
      "0   18  49  36  17  50  36  19  52  36  19 ...  30  27  34  41  25  49  40   \n",
      "0   40  63  22  30  34  31  28  30  41  28 ...  44  31  53  44  32  63  22   \n",
      "0   30  50  31  28  29  41  25  51  43  31 ...  42  31  62  25  37  63  20   \n",
      "0   30  25  42  29  46  37  34  63  21  44 ...  38  33  56  32  55  62  28   \n",
      "0    5  37  44  13  51  42  33  53  30  45 ...  39  30  44  40  33  48  36   \n",
      "0   36  42  34  26  52  31   2  50  36   0 ...  28  52  47  35  22  42  37   \n",
      "0    2  47  36  17  46  33  33  52  40  59 ...  39  58  50  29  52  57  34   \n",
      "0    0  43  40   7  54  37  35  48  34  51 ...  19  26  44  39  20  24  45   \n",
      "0   23  63  28  30  63  32  36  55  34  41 ...  44  35  48  41  39  57  46   \n",
      "0   36  53  40  29  50  41  26  56  42  22 ...  43  24  49  40  22  50  38   \n",
      "0   23  53  38  25  51  38  27  54  37  25 ...  34  23  53  34  23  53  33   \n",
      "0   26  51  36  25  52  34  25  51  36  27 ...  46  17  31  48  16  32  47   \n",
      "0   15  30  48  16  29  47  17  28  47  17 ...  45  24  46  49  24  40  43   \n",
      "0   19  40  42  16  38  41  10  42  40   6 ...  34  12  38  33  12  38  34   \n",
      "0   12  38  34  13  38  34  13  39  34  14 ...  33  13  38  33  11  38  34   \n",
      "\n",
      "    93  94  95  \n",
      "0   19  52  37  \n",
      "0   17  31  47  \n",
      "0   39  45  43  \n",
      "0   22  40  49  \n",
      "0   21  32  49  \n",
      "0   26  34  48  \n",
      "0   26  52  30  \n",
      "0   27  45  48  \n",
      "0   26  43  48  \n",
      "0   25  43  48  \n",
      "0   21  52  23  \n",
      "0   27  53  27  \n",
      "0   23  50  29  \n",
      "0   22  52  26  \n",
      "0   22  50  38  \n",
      "0   21  40  46  \n",
      "0   38  62  22  \n",
      "0   28  48  36  \n",
      "0   27  40  38  \n",
      "0   28  45  39  \n",
      "0   30  29  36  \n",
      "0   13  56  29  \n",
      "0    0  34  37  \n",
      "0   48  62  33  \n",
      "0   18  52  37  \n",
      "0   14  51  38  \n",
      "0   16  47  32  \n",
      "0   19  50  35  \n",
      "0   25  41  35  \n",
      "0   25  31  36  \n",
      "..  ..  ..  ..  \n",
      "0   22  46  36  \n",
      "0   21  48  36  \n",
      "0   20  62  27  \n",
      "0   27  43  32  \n",
      "0   34  63   9  \n",
      "0   28  27  41  \n",
      "0   18  51  38  \n",
      "0   12  52  32  \n",
      "0   55  58  29  \n",
      "0   18  51  33  \n",
      "0   52  62  31  \n",
      "0    8  42  31  \n",
      "0   27  54  33  \n",
      "0   36  60  24  \n",
      "0   19  48  36  \n",
      "0   30  63  25  \n",
      "0   39  62  25  \n",
      "0   35  44  28  \n",
      "0   34  51  37  \n",
      "0   34  52  39  \n",
      "0    0  49  43  \n",
      "0   22  44  40  \n",
      "0   21  56  44  \n",
      "0   36  57  44  \n",
      "0   22  52  38  \n",
      "0   24  51  34  \n",
      "0   16  28  47  \n",
      "0   21  40  41  \n",
      "0   12  38  34  \n",
      "0   13  38  33  \n",
      "\n",
      "[73 rows x 96 columns]\n"
     ]
    }
   ],
   "source": [
    "#count = 0  #we cut every sample in to samples of 32 row * 3 xzy coordinate system, so one row is 96 data\n",
    "#newdf = df.loc[0:+31, ]\n",
    "#newnp = newdf.as_matrix()\n",
    "#npreshape = pd.DataFrame(np.reshape(newnp,(1,96)))\n",
    "#vq_df = npreshape\n",
    "#for i in range (1, math.floor(len(df.index)/32)):\n",
    "#   newdf = df.loc[32*i:32*(i)+31, ]\n",
    "#   newnp = newdf.as_matrix()\n",
    "#   npreshape = pd.DataFrame(np.reshape(newnp,(1,96)))\n",
    "#   vq_df = pd.concat([vq_df,npreshape])\n",
    "#print(vq_df) "
   ]
  },
  {
   "cell_type": "code",
   "execution_count": 213,
   "metadata": {
    "collapsed": false
   },
   "outputs": [
    {
     "data": {
      "image/png": "[encoded data removed]",
      "text/plain": [
       "<matplotlib.figure.Figure at 0x23840f20c50>"
      ]
     },
     "metadata": {},
     "output_type": "display_data"
    }
   ],
   "source": [
    "Z = linkage(df_list[1], 'average') #plot for Brush_teeth\n",
    "fig = plt.figure(figsize=(25, 10))\n",
    "dn = dendrogram(Z)\n",
    "plt.show() #show the Cluster all splits by hierarchical k-means"
   ]
  },
  {
   "cell_type": "code",
   "execution_count": 217,
   "metadata": {
    "collapsed": false
   },
   "outputs": [],
   "source": [
    "list_codebook = []\n",
    "for dfa in df_list:\n",
    "    whitened = whiten(dfa)\n",
    "    codebook, distortion = kmeans(dfa.astype(float), 12)\n",
    "    idx,_ = vq(whitened,codebook)"
   ]
  },
  {
   "cell_type": "code",
   "execution_count": 218,
   "metadata": {
    "collapsed": false
   },
   "outputs": [
    {
     "name": "stdout",
     "output_type": "stream",
     "text": [
      "[[ 13.          38.81818182  32.90909091 ...,  13.          38.81818182\n",
      "   32.90909091]\n",
      " [ 16.375       38.75        35.375      ...,  16.375       38.75        35.375     ]\n",
      " [  8.          35.          33.         ...,   8.          35.          33.        ]\n",
      " ..., \n",
      " [ 12.66666667  35.          30.22222222 ...,  12.66666667  35.\n",
      "   30.22222222]\n",
      " [ 15.          39.25        31.5        ...,  15.          39.25        31.5       ]\n",
      " [ 11.31578947  37.15789474  32.47368421 ...,  11.31578947  37.15789474\n",
      "   32.47368421]]\n"
     ]
    }
   ],
   "source": [
    "print(codebook) # do you get each of the codebook and train it on random forest? "
   ]
  },
  {
   "cell_type": "code",
   "execution_count": null,
   "metadata": {
    "collapsed": true
   },
   "outputs": [],
   "source": []
  }
 ],
 "metadata": {
  "kernelspec": {
   "display_name": "Python 3",
   "language": "python",
   "name": "python3"
  },
  "language_info": {
   "codemirror_mode": {
    "name": "ipython",
    "version": 3
   },
   "file_extension": ".py",
   "mimetype": "text/x-python",
   "name": "python",
   "nbconvert_exporter": "python",
   "pygments_lexer": "ipython3",
   "version": "3.6.0"
  }
 },
 "nbformat": 4,
 "nbformat_minor": 2
}

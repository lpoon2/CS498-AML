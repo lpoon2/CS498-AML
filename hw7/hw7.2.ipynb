{
 "cells": [
  {
   "cell_type": "code",
   "execution_count": 2,
   "metadata": {
    "collapsed": false
   },
   "outputs": [],
   "source": [
    "import numpy as np\n",
    "import os\n",
    "import pandas as pd\n",
    "import csv\n",
    "from matplotlib import pyplot as plt\n",
    "import matplotlib.pyplot as pyplot\n",
    "import math\n",
    "import scipy\n",
    "from sklearn.cluster import KMeans\n",
    "from scipy.cluster.vq import vq, kmeans, whiten\n",
    "from scipy.misc import logsumexp"
   ]
  },
  {
   "cell_type": "code",
   "execution_count": null,
   "metadata": {
    "collapsed": false
   },
   "outputs": [],
   "source": [
    "dfcount = pd.read_table(\"docword.nips.txt\", delimiter='\\s+' ,header= None, skiprows=3)\n",
    "dfword = pd.read_table(\"vocab.nips.txt\", delimiter='\\s+' ,header= None)"
   ]
  },
  {
   "cell_type": "code",
   "execution_count": null,
   "metadata": {
    "collapsed": false
   },
   "outputs": [],
   "source": [
    "D = 1500\n",
    "W = 12419\n",
    "N = 746316\n",
    "n_blob = 30"
   ]
  },
  {
   "cell_type": "code",
   "execution_count": null,
   "metadata": {
    "collapsed": false
   },
   "outputs": [],
   "source": [
    "dfcount"
   ]
  },
  {
   "cell_type": "code",
   "execution_count": null,
   "metadata": {
    "collapsed": false
   },
   "outputs": [],
   "source": [
    "dfcluster = np.zeros((D,W))\n",
    "#put the data into dataframe that is each doc X word get one cell"
   ]
  },
  {
   "cell_type": "code",
   "execution_count": null,
   "metadata": {
    "collapsed": false
   },
   "outputs": [],
   "source": [
    "for row in dfcount.iterrows():\n",
    "    dfcluster[row[1][0]-1][row[1][1]-1] = row[1][2]\n"
   ]
  },
  {
   "cell_type": "code",
   "execution_count": null,
   "metadata": {
    "collapsed": false
   },
   "outputs": [],
   "source": [
    "dfcluster.shape"
   ]
  },
  {
   "cell_type": "code",
   "execution_count": null,
   "metadata": {
    "collapsed": false
   },
   "outputs": [],
   "source": [
    "print(dfcluster)"
   ]
  },
  {
   "cell_type": "code",
   "execution_count": null,
   "metadata": {
    "collapsed": false
   },
   "outputs": [],
   "source": [
    "dfcluster.shape"
   ]
  },
  {
   "cell_type": "markdown",
   "metadata": {},
   "source": [
    "using k-mean package for  initializing\n",
    "https://piazza.com/class/jchzguhsowz6n9?cid=982"
   ]
  },
  {
   "cell_type": "code",
   "execution_count": null,
   "metadata": {
    "collapsed": false
   },
   "outputs": [],
   "source": [
    "whitened = whiten(dfcluster)\n",
    "codebook, distortion = kmeans(dfcluster, 30)\n",
    "#doing k means clustering for initialing the probibleity of per cluster get words center, but some get zeros and later on have to do deviation so this cell is not using now"
   ]
  },
  {
   "cell_type": "code",
   "execution_count": null,
   "metadata": {
    "collapsed": false
   },
   "outputs": [],
   "source": [
    "print(codebook)"
   ]
  },
  {
   "cell_type": "code",
   "execution_count": null,
   "metadata": {
    "collapsed": false
   },
   "outputs": [],
   "source": [
    "codebook.shape"
   ]
  },
  {
   "cell_type": "code",
   "execution_count": null,
   "metadata": {
    "collapsed": false
   },
   "outputs": [],
   "source": [
    "type(codebook)"
   ]
  },
  {
   "cell_type": "code",
   "execution_count": null,
   "metadata": {
    "collapsed": true
   },
   "outputs": [],
   "source": [
    "blob_centers = codebook"
   ]
  },
  {
   "cell_type": "code",
   "execution_count": null,
   "metadata": {
    "collapsed": false
   },
   "outputs": [],
   "source": [
    "blob_centers.shape"
   ]
  },
  {
   "cell_type": "code",
   "execution_count": null,
   "metadata": {
    "collapsed": true
   },
   "outputs": [],
   "source": []
  },
  {
   "cell_type": "code",
   "execution_count": null,
   "metadata": {
    "collapsed": false
   },
   "outputs": [],
   "source": [
    "p = np.zeros((n_blob, W))\n",
    "for i in range(n_blob):\n",
    "    s = np.random.uniform(0,1,W)\n",
    "    p[i,:] = s/sum(s) #over all word probibleity inside one cluster  has to sum to 1 (which is one row)\n",
    "#instead we use random uniform distributio initialing the probibleity of each cluster for each words center\n",
    "pi = np.full(n_blob, 1/n_blob)"
   ]
  },
  {
   "cell_type": "code",
   "execution_count": null,
   "metadata": {
    "collapsed": true
   },
   "outputs": [],
   "source": [
    "pi = np.full(n_blob, 1/n_blob)"
   ]
  },
  {
   "cell_type": "code",
   "execution_count": null,
   "metadata": {
    "collapsed": true
   },
   "outputs": [],
   "source": [
    "#p = np.zeros((n_blob, W))\n",
    "#for i in range(n_blob):\n",
    "#    for k in range(k)\n",
    "#          p[i,:] = blob_centers[i,k]/sum(blob_centers[i,:])\n"
   ]
  },
  {
   "cell_type": "code",
   "execution_count": null,
   "metadata": {
    "collapsed": false
   },
   "outputs": [],
   "source": [
    "pi"
   ]
  },
  {
   "cell_type": "code",
   "execution_count": null,
   "metadata": {
    "collapsed": false
   },
   "outputs": [],
   "source": [
    " p"
   ]
  },
  {
   "cell_type": "code",
   "execution_count": null,
   "metadata": {
    "collapsed": false
   },
   "outputs": [],
   "source": [
    "# e-step\n",
    "\n",
    "#in the equation, the most inside sum you see where the summing over k\n",
    "k_sum = np.dot(dfcluster,np.transpose(np.log(p)))"
   ]
  },
  {
   "cell_type": "code",
   "execution_count": null,
   "metadata": {
    "collapsed": false
   },
   "outputs": [],
   "source": [
    "k_sum "
   ]
  },
  {
   "cell_type": "code",
   "execution_count": null,
   "metadata": {
    "collapsed": false
   },
   "outputs": [],
   "source": [
    "#in the equation, the most inside sum you see where the summing over ij\n",
    "\n",
    "\n",
    "ij_sum =  np.zeros((D, n_blob))\n",
    "for i in range(n_blob):\n",
    "    ij_sum[:,i] = k_sum[:, i]+ np.log(pi[i])\n"
   ]
  },
  {
   "cell_type": "code",
   "execution_count": null,
   "metadata": {
    "collapsed": false
   },
   "outputs": [],
   "source": [
    "ij_sum"
   ]
  },
  {
   "cell_type": "code",
   "execution_count": null,
   "metadata": {
    "collapsed": true
   },
   "outputs": [],
   "source": [
    "#after this cell is getting w_ij\n",
    "\n",
    "w_ij =  np.zeros((D, n_blob))\n"
   ]
  },
  {
   "cell_type": "code",
   "execution_count": null,
   "metadata": {
    "collapsed": false
   },
   "outputs": [],
   "source": [
    "maxrow = np.max(ij_sum, axis=1, keepdims=True)"
   ]
  },
  {
   "cell_type": "code",
   "execution_count": null,
   "metadata": {
    "collapsed": false
   },
   "outputs": [],
   "source": [
    "temp_ij_sum = ij_sum"
   ]
  },
  {
   "cell_type": "markdown",
   "metadata": {},
   "source": [
    "temp_ij_sum"
   ]
  },
  {
   "cell_type": "code",
   "execution_count": null,
   "metadata": {
    "collapsed": false
   },
   "outputs": [],
   "source": [
    "from IPython.core.display import Image, display\n",
    "display(Image('20180330_154755.jpg', unconfined=True))\n"
   ]
  },
  {
   "cell_type": "code",
   "execution_count": null,
   "metadata": {
    "collapsed": false
   },
   "outputs": [],
   "source": [
    "for i in range(D):\n",
    "    log_wij[i] = logsumexp(temp_ij_sum[i,]-maxrow[i])"
   ]
  },
  {
   "cell_type": "code",
   "execution_count": null,
   "metadata": {
    "collapsed": false
   },
   "outputs": [],
   "source": [
    "maxrow"
   ]
  },
  {
   "cell_type": "markdown",
   "metadata": {},
   "source": [
    "### log(wij)=log(numerator)−log(denominator)=log(αj)−logSumExp([α1,⋯,αn])."
   ]
  },
  {
   "cell_type": "code",
   "execution_count": null,
   "metadata": {
    "collapsed": false
   },
   "outputs": [],
   "source": [
    "for i in range(n_blob):\n",
    "    w_ij[:,i] = ij_sum[:,i]-maxrow.flatten()-log_wij.flatten()"
   ]
  },
  {
   "cell_type": "code",
   "execution_count": null,
   "metadata": {
    "collapsed": false
   },
   "outputs": [],
   "source": [
    "w_ij = np.exp(w_ij)"
   ]
  },
  {
   "cell_type": "code",
   "execution_count": null,
   "metadata": {
    "collapsed": true
   },
   "outputs": [],
   "source": [
    "new_mus = np.zeros((n_blob,W))\n",
    "new_pies = np.zeros((n_blob))"
   ]
  },
  {
   "cell_type": "code",
   "execution_count": null,
   "metadata": {
    "collapsed": false
   },
   "outputs": [],
   "source": [
    "#M Step\n",
    "for i in range(n_blob):\n",
    "        new_mus[i,:] =  np.sum(dfcluster*w_ij[:,i].reshape(D,1), axis=0)/np.sum(np.sum(dfcluster)*w_ij[:,i])\n",
    "        new_pies[i] = np.sum(w_ij[:,i])/D\n",
    "#get the new mus and pie"
   ]
  },
  {
   "cell_type": "code",
   "execution_count": null,
   "metadata": {
    "collapsed": false
   },
   "outputs": [],
   "source": [
    "temp_ij_sum"
   ]
  },
  {
   "cell_type": "code",
   "execution_count": null,
   "metadata": {
    "collapsed": false
   },
   "outputs": [],
   "source": [
    "np.sum(dfcluster*w_ij[:,i,np.newaxis], axis=0)"
   ]
  },
  {
   "cell_type": "code",
   "execution_count": null,
   "metadata": {
    "collapsed": false
   },
   "outputs": [],
   "source": [
    "np.sum(dfcluster*w_ij[:,i].reshape(D,1), axis=0)"
   ]
  },
  {
   "cell_type": "code",
   "execution_count": null,
   "metadata": {
    "collapsed": true
   },
   "outputs": [],
   "source": [
    "Q = w_ij * ij_sum"
   ]
  },
  {
   "cell_type": "code",
   "execution_count": null,
   "metadata": {
    "collapsed": false
   },
   "outputs": [],
   "source": [
    "Q"
   ]
  },
  {
   "cell_type": "code",
   "execution_count": null,
   "metadata": {
    "collapsed": true
   },
   "outputs": [],
   "source": [
    "#run this two for the first time\n",
    "w_ij =  np.zeros((D, n_blob))\n",
    "ij_sum =  np.zeros((D, n_blob))\n",
    "p = np.zeros((n_blob, W))"
   ]
  },
  {
   "cell_type": "code",
   "execution_count": null,
   "metadata": {
    "collapsed": true
   },
   "outputs": [],
   "source": [
    "\n",
    "p= blob_centers+.0000000001       \n",
    "for i in range(n_blob):\n",
    "    p[i,:] =p[i,:]/sum(p[i,:])\n",
    "pi = np.full(n_blob, 1/n_blob)"
   ]
  },
  {
   "cell_type": "code",
   "execution_count": null,
   "metadata": {
    "collapsed": true
   },
   "outputs": [],
   "source": []
  },
  {
   "cell_type": "code",
   "execution_count": null,
   "metadata": {
    "collapsed": true
   },
   "outputs": [],
   "source": [
    "a = [Q]"
   ]
  },
  {
   "cell_type": "code",
   "execution_count": null,
   "metadata": {
    "collapsed": false
   },
   "outputs": [],
   "source": [
    "\n",
    "k_sum = np.dot(dfcluster,np.transpose(np.log(p)))\n",
    "for i in range(n_blob):\n",
    "    ij_sum[:,i] = k_sum[:, i]+ np.log(pi[i])\n",
    "maxrow = np.max(ij_sum, axis=1, keepdims=True)\n",
    "temp_ij_sum = ij_sum\n",
    "for i in range(D):\n",
    "    log_wij[i] = logsumexp(temp_ij_sum[i,]-maxrow[i])\n",
    "for i in range(n_blob):\n",
    "    w_ij[:,i] = ij_sum[:,i]-maxrow.flatten()-log_wij.flatten()\n",
    "w_ij = np.exp(w_ij)\n",
    "for i in range(n_blob):\n",
    "        p[i,:] =  np.sum(dfcluster*w_ij[:,i].reshape(D,1), axis=0)/np.sum(np.sum(dfcluster)*w_ij[:,i])\n",
    "        pi[i] = np.sum(w_ij[:,i])/D\n"
   ]
  },
  {
   "cell_type": "code",
   "execution_count": null,
   "metadata": {
    "collapsed": true
   },
   "outputs": [],
   "source": [
    "p= p+.0000000001       \n",
    "for i in range(n_blob):\n",
    "    p[i,:] =p[i,:]/sum(p[i,:])"
   ]
  },
  {
   "cell_type": "code",
   "execution_count": null,
   "metadata": {
    "collapsed": false
   },
   "outputs": [],
   "source": [
    "pi"
   ]
  },
  {
   "cell_type": "code",
   "execution_count": null,
   "metadata": {
    "collapsed": false
   },
   "outputs": [],
   "source": [
    "p"
   ]
  },
  {
   "cell_type": "code",
   "execution_count": null,
   "metadata": {
    "collapsed": true
   },
   "outputs": [],
   "source": [
    "p = np.zeros((n_blob, W))\n",
    "for i in range(n_blob):\n",
    "    s = np.random.uniform(0,1,W)\n",
    "    p[i,:] = s/sum(s) #over all word probibleity inside one cluster  has to sum to 1 (which is one row)\n",
    "#instead we use random uniform distributio initialing the probibleity of each cluster for each words center\n",
    "pi = np.full(n_blob, 1/n_blob)"
   ]
  },
  {
   "cell_type": "code",
   "execution_count": null,
   "metadata": {
    "collapsed": true
   },
   "outputs": [],
   "source": [
    "p= blob_centers+.0000000001       \n",
    "for i in range(n_blob):\n",
    "    p[i,:] =p[i,:]/sum(p[i,:])"
   ]
  },
  {
   "cell_type": "code",
   "execution_count": null,
   "metadata": {
    "collapsed": true
   },
   "outputs": [],
   "source": [
    "pi = np.full(n_blob, 1/n_blob)"
   ]
  },
  {
   "cell_type": "code",
   "execution_count": null,
   "metadata": {
    "collapsed": false
   },
   "outputs": [],
   "source": [
    "from scipy.stats import rankdata\n",
    "temp = rankdata(p[0], method='ordinal')"
   ]
  },
  {
   "cell_type": "code",
   "execution_count": null,
   "metadata": {
    "collapsed": false
   },
   "outputs": [],
   "source": [
    "for j in range(n_blob):\n",
    "    print(\"====this is the data blob\", j)\n",
    "    for i in range(12419, 12409, -1):\n",
    "        print(dfword.iloc[np.where((rankdata(p[j], method='ordinal'))==i)][0].values[0])"
   ]
  },
  {
   "cell_type": "code",
   "execution_count": null,
   "metadata": {
    "collapsed": false
   },
   "outputs": [],
   "source": [
    "a = pi\n",
    "N = len(a)\n",
    "b = range(N)\n",
    "width = 1/1.5\n",
    "plt.bar(b, a, width, color=\"blue\")\n",
    "plt.show()"
   ]
  },
  {
   "cell_type": "code",
   "execution_count": null,
   "metadata": {
    "collapsed": true
   },
   "outputs": [],
   "source": [
    "#problem 2"
   ]
  },
  {
   "cell_type": "code",
   "execution_count": 3,
   "metadata": {
    "collapsed": false
   },
   "outputs": [],
   "source": [
    "im1 = scipy.misc.imread('RobertMixed03.jpg')"
   ]
  },
  {
   "cell_type": "code",
   "execution_count": null,
   "metadata": {
    "collapsed": false
   },
   "outputs": [],
   "source": [
    "im1.shape"
   ]
  },
  {
   "cell_type": "code",
   "execution_count": 4,
   "metadata": {
    "collapsed": true
   },
   "outputs": [],
   "source": [
    "n_blob = 10"
   ]
  },
  {
   "cell_type": "code",
   "execution_count": 106,
   "metadata": {
    "collapsed": true
   },
   "outputs": [],
   "source": [
    "pi = np.full(n_blob, 1/n_blob)"
   ]
  },
  {
   "cell_type": "code",
   "execution_count": 7,
   "metadata": {
    "collapsed": true
   },
   "outputs": [],
   "source": [
    "n_blob = 10"
   ]
  },
  {
   "cell_type": "code",
   "execution_count": 272,
   "metadata": {
    "collapsed": false
   },
   "outputs": [],
   "source": [
    "im1a = im1[:,:,0].astype(np.float64).flatten()"
   ]
  },
  {
   "cell_type": "code",
   "execution_count": 99,
   "metadata": {
    "collapsed": false
   },
   "outputs": [],
   "source": [
    "codebook, distortion = kmeans(im1a, n_blob)"
   ]
  },
  {
   "cell_type": "code",
   "execution_count": 324,
   "metadata": {
    "collapsed": true
   },
   "outputs": [],
   "source": [
    "import copy\n",
    "p = copy.deepcopy(codebook)\n",
    "pi = np.full(n_blob, 1/n_blob)"
   ]
  },
  {
   "cell_type": "code",
   "execution_count": 336,
   "metadata": {
    "collapsed": false
   },
   "outputs": [],
   "source": [
    "#e-sept\n",
    "ij_sum = np.zeros((im1a.size, n_blob))\n",
    "for i in range(n_blob):\n",
    "    dis = im1a-p[i]\n",
    "    ij_sum[:, i] =(-(1/2)*dis*dis) #just here is different\n",
    "#w_ij =  np.zeros((im1a.size, n_blob))\n",
    "#log_wij = np.zeros((im1a.size, n_blob))\n",
    "#maxrow = np.max(ij_sum, axis=1, keepdims=True)\n",
    "#temp_ij_sum = ij_sum\n",
    "#for i in range(im1a.size):\n",
    "#    log_wij[i] = logsumexp(temp_ij_sum[i,]-maxrow[i])\n",
    "#for i in range(n_blob):\n",
    "#    w_ij[:,i] = ij_sum[:,i]-maxrow.flatten()-log_wij[:,i].flatten()\n",
    "#w_ij1 = np.exp(w_ij)\n",
    "#for i in range(n_blob):\n",
    "#    w_ij1[:,i] =w_ij1[:,i]/sum(w_ij1[:,i])\n",
    "log_wij = np.dot(np.exp(ij_sum), np.diag(pi))\n",
    "w_ij = log_wij[:]/ np.sum(log_wij[:], axis=0)\n"
   ]
  },
  {
   "cell_type": "code",
   "execution_count": 337,
   "metadata": {
    "collapsed": false
   },
   "outputs": [],
   "source": [
    "for i in range(n_blob):\n",
    "        #p[i] =  np.sum(im1a*w_ij1[:,i], axis=0)/np.sum(w_ij1[:,i])\n",
    "        p[i] = np.sum(im1a*w_ij[:,i], axis=0)/np.sum(w_ij[:,i])\n",
    "        pi[i] = np.sum(w_ij[:,i])/im1a.size\n",
    "\n",
    "\n",
    "pi= pi+.000000000001       \n",
    "pi[:] =pi[:]/sum(pi[:])"
   ]
  },
  {
   "cell_type": "code",
   "execution_count": 338,
   "metadata": {
    "collapsed": false
   },
   "outputs": [
    {
     "data": {
      "text/plain": [
       "array([ 163.68356538,   84.89437808,   22.76203079,   60.41594214,\n",
       "        111.3032375 ,  230.53319699,  193.61930462,  138.29482632,\n",
       "         39.07285655,    5.58132124])"
      ]
     },
     "execution_count": 338,
     "metadata": {},
     "output_type": "execute_result"
    }
   ],
   "source": [
    "p"
   ]
  },
  {
   "cell_type": "code",
   "execution_count": 163,
   "metadata": {
    "collapsed": false
   },
   "outputs": [],
   "source": [
    "p1 = p.astype(int)"
   ]
  },
  {
   "cell_type": "code",
   "execution_count": 184,
   "metadata": {
    "collapsed": false
   },
   "outputs": [],
   "source": [
    "for i in range(im1a.size):\n",
    "    im1a[i] =  min(p, key=lambda x:abs(x-im1a[i])) #put that 10 p result into the nearest picture pixels"
   ]
  },
  {
   "cell_type": "code",
   "execution_count": null,
   "metadata": {
    "collapsed": true
   },
   "outputs": [],
   "source": []
  }
 ],
 "metadata": {
  "kernelspec": {
   "display_name": "Python 3",
   "language": "python",
   "name": "python3"
  },
  "language_info": {
   "codemirror_mode": {
    "name": "ipython",
    "version": 3
   },
   "file_extension": ".py",
   "mimetype": "text/x-python",
   "name": "python",
   "nbconvert_exporter": "python",
   "pygments_lexer": "ipython3",
   "version": "3.6.0"
  }
 },
 "nbformat": 4,
 "nbformat_minor": 2
}

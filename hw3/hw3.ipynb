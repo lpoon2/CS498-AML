{
 "cells": [
  {
   "cell_type": "code",
   "execution_count": 41,
   "metadata": {
    "collapsed": true
   },
   "outputs": [],
   "source": [
    "import numpy as np\n",
    "import os\n",
    "import pandas as pd\n",
    "import csv\n",
    "from sklearn.decomposition import PCA\n",
    "from matplotlib import pyplot as plt\n",
    "import matplotlib.pyplot as pyplot\n",
    "import PIL.Image as Image\n",
    "from PIL import ImageOps\n",
    "from sklearn.metrics.pairwise import euclidean_distances\n",
    "from sklearn.metrics.pairwise import paired_distances\n",
    "from sklearn.manifold import MDS\n",
    "import warnings\n",
    "warnings.filterwarnings('ignore')"
   ]
  },
  {
   "cell_type": "code",
   "execution_count": 42,
   "metadata": {
    "collapsed": true
   },
   "outputs": [],
   "source": [
    "labels =['airplane', 'automobile', 'bird', 'cat', 'deer', 'dog', 'frog', 'horse', 'ship', 'truck'];\n"
   ]
  },
  {
   "cell_type": "markdown",
   "metadata": {},
   "source": [
    "### load data (Combined with train and test dat)"
   ]
  },
  {
   "cell_type": "code",
   "execution_count": 43,
   "metadata": {
    "collapsed": true
   },
   "outputs": [],
   "source": [
    "def unpickle(file):\n",
    "    import pickle\n",
    "    with open(file, 'rb') as fo:\n",
    "        dict = pickle.load(fo, encoding='bytes')\n",
    "    return dict"
   ]
  },
  {
   "cell_type": "code",
   "execution_count": 44,
   "metadata": {
    "collapsed": true
   },
   "outputs": [],
   "source": [
    "data_batch_1 = unpickle(\"/Users/poonl/CS498-AML/hw3/data/data_batch_1\")\n",
    "data_batch_2 = unpickle(\"/Users/poonl/CS498-AML/hw3/data/data_batch_2\")\n",
    "data_batch_3 = unpickle(\"/Users/poonl/CS498-AML/hw3/data/data_batch_3\")\n",
    "data_batch_4 = unpickle(\"/Users/poonl/CS498-AML/hw3/data/data_batch_4\")\n",
    "data_batch_5 = unpickle(\"/Users/poonl/CS498-AML/hw3/data/data_batch_5\")\n",
    "test_batch = unpickle(\"/Users/poonl/CS498-AML/hw3/data/test_batch\")\n"
   ]
  },
  {
   "cell_type": "markdown",
   "metadata": {},
   "source": [
    "### (1a) Mean image "
   ]
  },
  {
   "cell_type": "code",
   "execution_count": 47,
   "metadata": {
    "collapsed": true
   },
   "outputs": [],
   "source": [
    "sum_mean = np.zeros((10,3072))\n",
    "count = np.zeros(10)\n",
    "#sum over all the image data for each category \n",
    "for i in range (0, 10000):\n",
    "    sum_mean[data_batch_1[b'labels'][i]] += data_batch_1[b'data'][i]\n",
    "    count[data_batch_1[b'labels'][i]] += 1\n",
    "for i in range (0, 10000):\n",
    "    sum_mean[data_batch_2[b'labels'][i]] += data_batch_2[b'data'][i]\n",
    "    count[data_batch_2[b'labels'][i]] += 1\n",
    "for i in range (0, 10000):\n",
    "    sum_mean[data_batch_3[b'labels'][i]] += data_batch_3[b'data'][i]\n",
    "    count[data_batch_3[b'labels'][i]] += 1\n",
    "for i in range (0, 10000):\n",
    "    sum_mean[data_batch_4[b'labels'][i]] += data_batch_4[b'data'][i]\n",
    "    count[data_batch_4[b'labels'][i]] += 1\n",
    "for i in range (0, 10000):\n",
    "    sum_mean[data_batch_5[b'labels'][i]] += data_batch_5[b'data'][i]\n",
    "    count[data_batch_5[b'labels'][i]] += 1\n",
    "for i in range (0, 10000):\n",
    "    sum_mean[test_batch[b'labels'][i]] += test_batch[b'data'][i]\n",
    "    count[test_batch[b'labels'][i]] += 1"
   ]
  },
  {
   "cell_type": "code",
   "execution_count": 49,
   "metadata": {
    "collapsed": true
   },
   "outputs": [],
   "source": [
    "mean = sum_mean"
   ]
  },
  {
   "cell_type": "code",
   "execution_count": 50,
   "metadata": {
    "collapsed": true
   },
   "outputs": [],
   "source": [
    "#devide by the number of picture it has in that category to get the mean image \n",
    "for i in range (0, 10):\n",
    "    mean[i]=sum_mean[i]/count[i]"
   ]
  },
  {
   "cell_type": "code",
   "execution_count": 51,
   "metadata": {
    "collapsed": true
   },
   "outputs": [],
   "source": [
    "%matplotlib inline"
   ]
  },
  {
   "cell_type": "code",
   "execution_count": 52,
   "metadata": {},
   "outputs": [
    {
     "data": {
      "image/png": "[encoded data removed]",
      "text/plain": [
       "<matplotlib.figure.Figure at 0x1a1ceb94e0>"
      ]
     },
     "metadata": {},
     "output_type": "display_data"
    }
   ],
   "source": [
    "image = np.reshape(mean[0],(3,32,32)).transpose(1,2,0).astype('uint8')\n",
    "plt.imshow(image)\n",
    "pyplot.show()"
   ]
  },
  {
   "cell_type": "code",
   "execution_count": 53,
   "metadata": {},
   "outputs": [
    {
     "data": {
      "image/png": "[encoded data removed]",
      "text/plain": [
       "<matplotlib.figure.Figure at 0x1a1b086f98>"
      ]
     },
     "metadata": {},
     "output_type": "display_data"
    }
   ],
   "source": [
    "image = np.reshape(mean[1],(3,32,32)).transpose(1,2,0).astype('uint8')\n",
    "plt.imshow(image)\n",
    "pyplot.show()"
   ]
  },
  {
   "cell_type": "code",
   "execution_count": 54,
   "metadata": {},
   "outputs": [
    {
     "data": {
      "image/png": "[encoded data removed]",
      "text/plain": [
       "<matplotlib.figure.Figure at 0x1a1ce701d0>"
      ]
     },
     "metadata": {},
     "output_type": "display_data"
    }
   ],
   "source": [
    "image = np.reshape(mean[2],(3,32,32)).transpose(1,2,0).astype('uint8')\n",
    "plt.imshow(image)\n",
    "pyplot.show()"
   ]
  },
  {
   "cell_type": "code",
   "execution_count": 55,
   "metadata": {},
   "outputs": [
    {
     "data": {
      "image/png": "[encoded data removed]",
      "text/plain": [
       "<matplotlib.figure.Figure at 0x1a1ce8b828>"
      ]
     },
     "metadata": {},
     "output_type": "display_data"
    }
   ],
   "source": [
    "image = np.reshape(mean[3],(3,32,32)).transpose(1,2,0).astype('uint8')\n",
    "plt.imshow(image)\n",
    "pyplot.show()"
   ]
  },
  {
   "cell_type": "code",
   "execution_count": 56,
   "metadata": {},
   "outputs": [
    {
     "data": {
      "image/png": "[encoded data removed]",
      "text/plain": [
       "<matplotlib.figure.Figure at 0x1a11125128>"
      ]
     },
     "metadata": {},
     "output_type": "display_data"
    }
   ],
   "source": [
    "image = np.reshape(mean[4],(3,32,32)).transpose(1,2,0).astype('uint8')\n",
    "plt.imshow(image)\n",
    "pyplot.show()"
   ]
  },
  {
   "cell_type": "code",
   "execution_count": 57,
   "metadata": {},
   "outputs": [
    {
     "data": {
      "image/png": "[encoded data removed]",
      "text/plain": [
       "<matplotlib.figure.Figure at 0x1a111255f8>"
      ]
     },
     "metadata": {},
     "output_type": "display_data"
    }
   ],
   "source": [
    "image = np.reshape(mean[5],(3,32,32)).transpose(1,2,0).astype('uint8')\n",
    "plt.imshow(image)\n",
    "pyplot.show()"
   ]
  },
  {
   "cell_type": "code",
   "execution_count": 58,
   "metadata": {},
   "outputs": [
    {
     "data": {
      "image/png": "[encoded data removed]",
      "text/plain": [
       "<matplotlib.figure.Figure at 0x1a25cfe278>"
      ]
     },
     "metadata": {},
     "output_type": "display_data"
    }
   ],
   "source": [
    "image = np.reshape(mean[6],(3,32,32)).transpose(1,2,0).astype('uint8')\n",
    "plt.imshow(image)\n",
    "pyplot.show()"
   ]
  },
  {
   "cell_type": "code",
   "execution_count": 59,
   "metadata": {},
   "outputs": [
    {
     "data": {
      "image/png": "[encoded data removed]",
      "text/plain": [
       "<matplotlib.figure.Figure at 0x1a4a7d9240>"
      ]
     },
     "metadata": {},
     "output_type": "display_data"
    }
   ],
   "source": [
    "image = np.reshape(mean[7],(3,32,32)).transpose(1,2,0).astype('uint8')\n",
    "plt.imshow(image)\n",
    "pyplot.show()"
   ]
  },
  {
   "cell_type": "code",
   "execution_count": 60,
   "metadata": {},
   "outputs": [
    {
     "data": {
      "image/png": "[encoded data removed]",
      "text/plain": [
       "<matplotlib.figure.Figure at 0x1a25edbc88>"
      ]
     },
     "metadata": {},
     "output_type": "display_data"
    }
   ],
   "source": [
    "image = np.reshape(mean[8],(3,32,32)).transpose(1,2,0).astype('uint8')\n",
    "plt.imshow(image)\n",
    "pyplot.show()"
   ]
  },
  {
   "cell_type": "code",
   "execution_count": 61,
   "metadata": {},
   "outputs": [
    {
     "data": {
      "image/png": "[encoded data removed]",
      "text/plain": [
       "<matplotlib.figure.Figure at 0x1a1ce8b208>"
      ]
     },
     "metadata": {},
     "output_type": "display_data"
    }
   ],
   "source": [
    "image = np.reshape(mean[9],(3,32,32)).transpose(1,2,0).astype('uint8')\n",
    "plt.imshow(image)\n",
    "pyplot.show()"
   ]
  },
  {
   "cell_type": "code",
   "execution_count": 62,
   "metadata": {},
   "outputs": [
    {
     "data": {
      "image/png": "[encoded data removed]",
      "text/plain": [
       "<matplotlib.figure.Figure at 0x1a1122b5c0>"
      ]
     },
     "metadata": {},
     "output_type": "display_data"
    }
   ],
   "source": [
    "im = np.reshape(mean[2],(3,32,32)).transpose(1,2,0).astype('uint8')\n",
    "plt.imshow(im)\n",
    "pyplot.show()\n",
    "\n"
   ]
  },
  {
   "cell_type": "markdown",
   "metadata": {},
   "source": [
    "### (1b) Constructing with first 20 principal components"
   ]
  },
  {
   "cell_type": "code",
   "execution_count": 65,
   "metadata": {
    "collapsed": true
   },
   "outputs": [],
   "source": [
    "data_by_labels = [] #storing the image by labels, the list would be in this structure: data_by_labels[labes][row number of image][image data array]\n",
    "temp_count_loop = np.zeros(10) #counter for \n",
    "size = 6000 # we have counted there are 6000 images for each class\n",
    "\n",
    "for i in range (0,10): #building list of image classes\n",
    "    data_by_labels.append(np.zeros((size, 3072)))"
   ]
  },
  {
   "cell_type": "code",
   "execution_count": 66,
   "metadata": {
    "collapsed": true
   },
   "outputs": [],
   "source": [
    "#move data from data to data_by_labels so data is now by labels for PCA training\n",
    "# row = class index ; col = i_th data item in that category\n",
    "for i in range (0,10000):\n",
    "    idx_cat = int(temp_count_loop[data_batch_1[b'labels'][i]])\n",
    "    if idx_cat < size: #making sure the index wont exceed array size (for testing)\n",
    "        data_by_labels[data_batch_1[b'labels'][i]][idx_cat] += data_batch_1[b'data'][i]\n",
    "    temp_count_loop[data_batch_1[b'labels'][i]] += 1\n",
    "for i in range (0,10000):\n",
    "    idx_cat = int(temp_count_loop[data_batch_2[b'labels'][i]])\n",
    "    if idx_cat < size: \n",
    "        data_by_labels[data_batch_2[b'labels'][i]][idx_cat] += data_batch_2[b'data'][i]\n",
    "    temp_count_loop[data_batch_2[b'labels'][i]] += 1\n",
    "for i in range (0,10000):\n",
    "    idx_cat = int(temp_count_loop[data_batch_3[b'labels'][i]])\n",
    "    if idx_cat < size: \n",
    "        data_by_labels[data_batch_3[b'labels'][i]][idx_cat] += data_batch_3[b'data'][i]\n",
    "    temp_count_loop[data_batch_3[b'labels'][i]] += 1\n",
    "for i in range (0,10000):\n",
    "    idx_cat = int(temp_count_loop[data_batch_4[b'labels'][i]])\n",
    "    if idx_cat < size: \n",
    "        data_by_labels[data_batch_4[b'labels'][i]][idx_cat] += data_batch_4[b'data'][i]\n",
    "    temp_count_loop[data_batch_4[b'labels'][i]] += 1\n",
    "for i in range (0,10000):\n",
    "    idx_cat = int(temp_count_loop[data_batch_5[b'labels'][i]])\n",
    "    if idx_cat < size: \n",
    "        data_by_labels[data_batch_5[b'labels'][i]][idx_cat] += data_batch_5[b'data'][i]\n",
    "    temp_count_loop[data_batch_5[b'labels'][i]] += 1\n",
    "for i in range (0,10000):\n",
    "    idx_cat = int(temp_count_loop[test_batch[b'labels'][i]])\n",
    "    if idx_cat < size: \n",
    "        data_by_labels[test_batch[b'labels'][i]][idx_cat] += test_batch[b'data'][i]\n",
    "    temp_count_loop[test_batch[b'labels'][i]] += 1"
   ]
  },
  {
   "cell_type": "code",
   "execution_count": 67,
   "metadata": {
    "collapsed": true
   },
   "outputs": [],
   "source": [
    "#fit pca on each labels\n",
    "pca_objs = [PCA(20), PCA(20), PCA(20), PCA(20), PCA(20), PCA(20), PCA(20), PCA(20), PCA(20), PCA(20)]\n",
    "for i in range(0,10):\n",
    "    pca_objs[i].fit(data_by_labels[i])\n"
   ]
  },
  {
   "cell_type": "code",
   "execution_count": 68,
   "metadata": {},
   "outputs": [
    {
     "name": "stdout",
     "output_type": "stream",
     "text": [
      "1\n"
     ]
    },
    {
     "data": {
      "image/png": "[encoded data removed]",
      "text/plain": [
       "<matplotlib.figure.Figure at 0x1a25c10198>"
      ]
     },
     "metadata": {},
     "output_type": "display_data"
    }
   ],
   "source": [
    "#show the orgainl image and the category number\n",
    "image = np.reshape(data_batch_1[b'data'][4],(3,32,32)).transpose(1,2,0).astype('uint8')\n",
    "print(data_batch_1[b'labels'][4])\n",
    "plt.imshow(image)\n",
    "pyplot.show()"
   ]
  },
  {
   "cell_type": "code",
   "execution_count": 69,
   "metadata": {},
   "outputs": [
    {
     "data": {
      "image/png": "[encoded data removed]",
      "text/plain": [
       "<matplotlib.figure.Figure at 0x1a1b0dfb38>"
      ]
     },
     "metadata": {},
     "output_type": "display_data"
    }
   ],
   "source": [
    "#after applying PCA\n",
    "reshaped_4th = data_batch_1[b'data'][4].reshape(1,-1) \n",
    "apply_pca = pca_objs[1].transform(reshaped_4th)\n",
    "apply_pca_2 = pca_objs[1].inverse_transform(apply_pca)\n",
    "apply_pca_3 = np.reshape(apply_pca_2,(3,32,32)).transpose(1,2,0).astype('uint8')\n",
    "plt.imshow(apply_pca_3)\n",
    "pyplot.show()"
   ]
  },
  {
   "cell_type": "code",
   "execution_count": 70,
   "metadata": {
    "collapsed": true
   },
   "outputs": [],
   "source": [
    "#Using option 2 to calculate average error "
   ]
  },
  {
   "cell_type": "code",
   "execution_count": 71,
   "metadata": {
    "collapsed": true,
    "scrolled": false
   },
   "outputs": [],
   "source": [
    "###Error for each labels\n",
    "error_by_labels = [] #storing the image by labels, the list would be in this structure: error_by_labels[labes][image data array]\n",
    "temp_count_loop = np.zeros(10)\n",
    "mean_loop = np.zeros(10)\n",
    "\n",
    "\n",
    "for i in range (0,10000):\n",
    "    getLabelbyObj = data_batch_1[b'labels'][i]\n",
    "    getPCAbyLabel = pca_objs[getLabelbyObj]\n",
    "    img_data = data_batch_1[b'data'][i].reshape(1,-1)\n",
    "    temp = getPCAbyLabel.transform(img_data) #apply PCA on that image\n",
    "    temp2 = getPCAbyLabel.inverse_transform(temp)\n",
    "    error_temp = img_data-temp2 #subtract to get error\n",
    "    sqrsum = np.sum(np.square(error_temp)) # Square those differences individually and sum them over the whole image.\n",
    "    mean_loop[getLabelbyObj] =  mean_loop[getLabelbyObj] + sqrsum\n",
    "    temp_count_loop[getLabelbyObj] += 1\n",
    "for i in range (0,10000):\n",
    "    getLabelbyObj = data_batch_2[b'labels'][i]\n",
    "    getPCAbyLabel = pca_objs[getLabelbyObj]\n",
    "    img_data = data_batch_2[b'data'][i].reshape(1,-1)\n",
    "    temp = getPCAbyLabel.transform(img_data) #apply PCA on that image\n",
    "    temp2 = getPCAbyLabel.inverse_transform(temp)\n",
    "    error_temp = img_data-temp2 #subtract to get error\n",
    "    sqrsum = np.sum(np.square(error_temp)) # Square those differences individually and sum them over the whole image.\n",
    "    mean_loop[getLabelbyObj] =  mean_loop[getLabelbyObj] + sqrsum\n",
    "    temp_count_loop[getLabelbyObj] += 1\n",
    "for i in range (0,10000):\n",
    "    getLabelbyObj = data_batch_3[b'labels'][i]\n",
    "    getPCAbyLabel = pca_objs[getLabelbyObj]\n",
    "    img_data = data_batch_3[b'data'][i].reshape(1,-1)\n",
    "    temp = getPCAbyLabel.transform(img_data) #apply PCA on that image\n",
    "    temp2 = getPCAbyLabel.inverse_transform(temp)\n",
    "    error_temp = img_data-temp2 #subtract to get error\n",
    "    sqrsum = np.sum(np.square(error_temp)) # Square those differences individually and sum them over the whole image.\n",
    "    mean_loop[getLabelbyObj] =  mean_loop[getLabelbyObj] + sqrsum\n",
    "    temp_count_loop[getLabelbyObj] += 1\n",
    "for i in range (0,10000):\n",
    "    getLabelbyObj = data_batch_4[b'labels'][i]\n",
    "    getPCAbyLabel = pca_objs[getLabelbyObj]\n",
    "    img_data = data_batch_4[b'data'][i].reshape(1,-1)\n",
    "    temp = getPCAbyLabel.transform(img_data) #apply PCA on that image\n",
    "    temp2 = getPCAbyLabel.inverse_transform(temp)\n",
    "    error_temp = img_data-temp2 #subtract to get error\n",
    "    sqrsum = np.sum(np.square(error_temp)) # Square those differences individually and sum them over the whole image.\n",
    "    mean_loop[getLabelbyObj] =  mean_loop[getLabelbyObj] + sqrsum\n",
    "    temp_count_loop[getLabelbyObj] += 1\n",
    "for i in range (0,10000):\n",
    "    getLabelbyObj = data_batch_5[b'labels'][i]\n",
    "    getPCAbyLabel = pca_objs[getLabelbyObj]\n",
    "    img_data = data_batch_5[b'data'][i].reshape(1,-1)\n",
    "    temp = getPCAbyLabel.transform(img_data) #apply PCA on that image\n",
    "    temp2 = getPCAbyLabel.inverse_transform(temp)\n",
    "    error_temp = img_data-temp2 #subtract to get error\n",
    "    sqrsum = np.sum(np.square(error_temp)) # Square those differences individually and sum them over the whole image.\n",
    "    mean_loop[getLabelbyObj] =  mean_loop[getLabelbyObj] + sqrsum\n",
    "    temp_count_loop[getLabelbyObj] += 1\n",
    "for i in range (0,10000):\n",
    "    getLabelbyObj = test_batch[b'labels'][i]\n",
    "    getPCAbyLabel = pca_objs[getLabelbyObj]\n",
    "    img_data = test_batch[b'data'][i].reshape(1,-1)\n",
    "    temp = getPCAbyLabel.transform(img_data) #apply PCA on that image\n",
    "    temp2 = getPCAbyLabel.inverse_transform(temp)\n",
    "    error_temp = img_data-temp2 #subtract to get error\n",
    "    sqrsum = np.sum(np.square(error_temp)) # Square those differences individually and sum them over the whole image.\n",
    "    mean_loop[getLabelbyObj] =  mean_loop[getLabelbyObj] + sqrsum\n",
    "    temp_count_loop[getLabelbyObj] += 1"
   ]
  },
  {
   "cell_type": "code",
   "execution_count": 72,
   "metadata": {},
   "outputs": [
    {
     "name": "stdout",
     "output_type": "stream",
     "text": [
      "2620513.319108535\n",
      "3950692.9251901647\n",
      "2447700.287106346\n",
      "3116495.0292740604\n",
      "2180394.8091818294\n",
      "3231131.7146467185\n",
      "2630248.581784896\n",
      "3441110.2108379025\n",
      "2440642.7079096446\n",
      "4021109.107898354\n"
     ]
    }
   ],
   "source": [
    "#print error\n",
    "avg_erro_by_labels = np.zeros(10)\n",
    "for i in range (0,10):\n",
    "    avg_erro_by_labels[i] = mean_loop[i]/6000 #again, we are assuming each class has 6000 images for simplicity in code\n",
    "    print(avg_erro_by_labels[i])"
   ]
  },
  {
   "cell_type": "code",
   "execution_count": 73,
   "metadata": {},
   "outputs": [
    {
     "data": {
      "image/png": "[encoded data removed]",
      "text/plain": [
       "<matplotlib.figure.Figure at 0x1a25d4ab70>"
      ]
     },
     "metadata": {},
     "output_type": "display_data"
    }
   ],
   "source": [
    "#ploting error in each category \n",
    "import random\n",
    "import matplotlib.pyplot as plt\n",
    "\n",
    "fig, ax = plt.subplots() \n",
    "indx = np.arange(1,20,2)\n",
    "\n",
    "err_blks = plt.bar(indx, avg_erro_by_labels)\n",
    " \n",
    "ax.set_xticks(indx)\n",
    "ax.set_xticklabels(['airplane', 'automobile', 'bird', 'cat', 'deer', 'dog', 'frog', 'horse', 'ship', 'truck'], rotation = 45, ha=\"right\")\n",
    "ax.set_ylim([min(avg_erro_by_labels)*0.5, max(avg_erro_by_labels)*1.11])\n",
    "ax.set_ylabel('Mean error for each category')\n",
    "ax.set_title('Error resulting from representing the images of each category using the first 20 principal components against the category.')\n",
    "plt.show(block=False)\n",
    "\n"
   ]
  },
  {
   "cell_type": "markdown",
   "metadata": {},
   "source": [
    "### 2:  distances between mean image"
   ]
  },
  {
   "cell_type": "code",
   "execution_count": 74,
   "metadata": {
    "collapsed": true
   },
   "outputs": [],
   "source": [
    "#euclidean_distances(np.reshape(mean[0],(3,1024)),np.reshape(mean[1],(3,1024)))\n",
    "test = paired_distances(mean[1].reshape(1,-1),mean[0].reshape(1,-1))\n"
   ]
  },
  {
   "cell_type": "code",
   "execution_count": 75,
   "metadata": {
    "collapsed": true
   },
   "outputs": [],
   "source": [
    "euc_dis = np.zeros((10,10))        \n",
    "for i in range(0,10):\n",
    "    for j in range(0,10):\n",
    "        euc_dis[i][j] = euclidean_distances(mean[i].reshape(1,-1),mean[j].reshape(1,-1))"
   ]
  },
  {
   "cell_type": "code",
   "execution_count": 76,
   "metadata": {},
   "outputs": [
    {
     "name": "stdout",
     "output_type": "stream",
     "text": [
      "[[2.99009978e-04 1.68363535e+03 1.60502435e+03 1.90553526e+03\n",
      "  2.14876341e+03 1.96522149e+03 2.44567973e+03 1.66364593e+03\n",
      "  9.45541104e+02 1.44909491e+03]\n",
      " [1.68363535e+03 0.00000000e+00 8.86236750e+02 1.02764978e+03\n",
      "  1.14308137e+03 1.21607943e+03 1.19119200e+03 9.50786078e+02\n",
      "  1.30346655e+03 9.49995771e+02]\n",
      " [1.60502435e+03 8.86236750e+02 0.00000000e+00 5.17311502e+02\n",
      "  6.01250335e+02 7.01468226e+02 9.13747516e+02 4.18276306e+02\n",
      "  1.55771502e+03 1.41667473e+03]\n",
      " [1.90553526e+03 1.02764978e+03 5.17311502e+02 0.00000000e+00\n",
      "  4.69791716e+02 4.12181669e+02 6.77491969e+02 5.96376737e+02\n",
      "  1.85121450e+03 1.67646786e+03]\n",
      " [2.14876341e+03 1.14308137e+03 6.01250335e+02 4.69791716e+02\n",
      "  0.00000000e+00 6.17697141e+02 4.60510929e+02 6.84346911e+02\n",
      "  2.06562166e+03 1.83074085e+03]\n",
      " [1.96522149e+03 1.21607943e+03 7.01468226e+02 4.12181669e+02\n",
      "  6.17697141e+02 0.00000000e+00 8.28581051e+02 8.43672091e+02\n",
      "  1.89759182e+03 1.88024377e+03]\n",
      " [2.44567973e+03 1.19119200e+03 9.13747516e+02 6.77491969e+02\n",
      "  4.60510929e+02 8.28581051e+02 0.00000000e+00 9.48704021e+02\n",
      "  2.24919978e+03 1.91324088e+03]\n",
      " [1.66364593e+03 9.50786078e+02 4.18276306e+02 5.96376737e+02\n",
      "  6.84346911e+02 8.43672091e+02 9.48704021e+02 2.99009978e-04\n",
      "  1.66026808e+03 1.34733410e+03]\n",
      " [9.45541104e+02 1.30346655e+03 1.55771502e+03 1.85121450e+03\n",
      "  2.06562166e+03 1.89759182e+03 2.24919978e+03 1.66026808e+03\n",
      "  0.00000000e+00 1.06694163e+03]\n",
      " [1.44909491e+03 9.49995771e+02 1.41667473e+03 1.67646786e+03\n",
      "  1.83074085e+03 1.88024377e+03 1.91324088e+03 1.34733410e+03\n",
      "  1.06694163e+03 0.00000000e+00]]\n"
     ]
    }
   ],
   "source": [
    "# distance matrix calculated by L2 norm required for part 2 \n",
    "print(euc_dis)"
   ]
  },
  {
   "cell_type": "code",
   "execution_count": 77,
   "metadata": {},
   "outputs": [
    {
     "data": {
      "image/png": "[encoded data removed]",
      "text/plain": [
       "<matplotlib.figure.Figure at 0x1a112379e8>"
      ]
     },
     "metadata": {},
     "output_type": "display_data"
    }
   ],
   "source": [
    "#plot the result\n",
    "mds = MDS(n_components=2, dissimilarity=\"precomputed\", random_state=1)\n",
    "pos = mds.fit_transform(euc_dis)\n",
    "xs, ys = pos[:, 0], pos[:, 1]\n",
    "for x, y, name in zip(xs, ys, labels):\n",
    "    plt.scatter(x, y)\n",
    "    plt.text(x, y, name)\n",
    "plt.show()"
   ]
  },
  {
   "cell_type": "markdown",
   "metadata": {},
   "source": [
    "### 3  average error obtained by PCA"
   ]
  },
  {
   "cell_type": "markdown",
   "metadata": {},
   "source": [
    "For class A and class B, define E(A | B) to be the average error obtained by representing all the images of class A using the mean of class A and the first 20 principal components of class B. Now define the similarity between classes to be (1/2)(E(A | B) + E(B | A)). If A and B are very similar, then this error should be small, because A's principal components should be good at representing B."
   ]
  },
  {
   "cell_type": "code",
   "execution_count": 78,
   "metadata": {
    "collapsed": true
   },
   "outputs": [],
   "source": [
    "#data structure to store distances\n",
    "dist_classes = np.zeros((10,10))\n",
    "\n",
    "for i in range(10000): \n",
    "    for class_label in range(10):\n",
    "        getLabelbyObj = data_batch_1[b'labels'][i]\n",
    "        getPCAbyLabel = pca_objs[class_label]\n",
    "        img_data = data_batch_1[b'data'][i].reshape(1,-1)\n",
    "        temp = getPCAbyLabel.transform(img_data) #apply PCA on that image\n",
    "        temp2 = getPCAbyLabel.inverse_transform(temp)\n",
    "        error_temp = img_data-temp2 #subtract to get error\n",
    "        sqrsum = np.sum(np.square(error_temp)) # Square those differences individually and sum them over the whole image.\n",
    "        dist_classes[getLabelbyObj][class_label] = dist_classes[getLabelbyObj][class_label] + sqrsum\n",
    "        dist_classes[class_label][getLabelbyObj] = dist_classes[class_label][getLabelbyObj] + sqrsum\n",
    "for i in range(10000): \n",
    "    for class_label in range(10):\n",
    "        getLabelbyObj = data_batch_2[b'labels'][i]\n",
    "        getPCAbyLabel = pca_objs[class_label]\n",
    "        img_data = data_batch_2[b'data'][i].reshape(1,-1)\n",
    "        temp = getPCAbyLabel.transform(img_data) #apply PCA on that image\n",
    "        temp2 = getPCAbyLabel.inverse_transform(temp)\n",
    "        error_temp = img_data-temp2 #subtract to get error\n",
    "        sqrsum = np.sum(np.square(error_temp)) # Square those differences individually and sum them over the whole image.\n",
    "        dist_classes[getLabelbyObj][class_label] = dist_classes[getLabelbyObj][class_label] + sqrsum\n",
    "        dist_classes[class_label][getLabelbyObj] = dist_classes[class_label][getLabelbyObj] + sqrsum            \n",
    "for i in range(10000): \n",
    "    for class_label in range(10):\n",
    "        getLabelbyObj = data_batch_3[b'labels'][i]\n",
    "        getPCAbyLabel = pca_objs[class_label]\n",
    "        img_data = data_batch_3[b'data'][i].reshape(1,-1)\n",
    "        temp = getPCAbyLabel.transform(img_data) #apply PCA on that image\n",
    "        temp2 = getPCAbyLabel.inverse_transform(temp)\n",
    "        error_temp = img_data-temp2 #subtract to get error\n",
    "        sqrsum = np.sum(np.square(error_temp)) # Square those differences individually and sum them over the whole image.\n",
    "        dist_classes[getLabelbyObj][class_label] = dist_classes[getLabelbyObj][class_label] + sqrsum\n",
    "        dist_classes[class_label][getLabelbyObj] = dist_classes[class_label][getLabelbyObj] + sqrsum\n",
    "for i in range(10000): \n",
    "    for class_label in range(10):\n",
    "        getLabelbyObj = data_batch_4[b'labels'][i]\n",
    "        getPCAbyLabel = pca_objs[class_label]\n",
    "        img_data = data_batch_4[b'data'][i].reshape(1,-1)\n",
    "        temp = getPCAbyLabel.transform(img_data) #apply PCA on that image\n",
    "        temp2 = getPCAbyLabel.inverse_transform(temp)\n",
    "        error_temp = img_data-temp2 #subtract to get error\n",
    "        sqrsum = np.sum(np.square(error_temp)) # Square those differences individually and sum them over the whole image.\n",
    "        dist_classes[getLabelbyObj][class_label] = dist_classes[getLabelbyObj][class_label] + sqrsum\n",
    "        dist_classes[class_label][getLabelbyObj] = dist_classes[class_label][getLabelbyObj] + sqrsum\n",
    "for i in range(10000): \n",
    "    for class_label in range(10):\n",
    "        getLabelbyObj = data_batch_5[b'labels'][i]\n",
    "        getPCAbyLabel = pca_objs[class_label]\n",
    "        img_data = data_batch_5[b'data'][i].reshape(1,-1)\n",
    "        temp = getPCAbyLabel.transform(img_data) #apply PCA on that image\n",
    "        temp2 = getPCAbyLabel.inverse_transform(temp)\n",
    "        error_temp = img_data-temp2 #subtract to get error\n",
    "        sqrsum = np.sum(np.square(error_temp)) # Square those differences individually and sum them over the whole image.\n",
    "        dist_classes[getLabelbyObj][class_label] = dist_classes[getLabelbyObj][class_label] + sqrsum\n",
    "        dist_classes[class_label][getLabelbyObj] = dist_classes[class_label][getLabelbyObj] + sqrsum\n",
    "for i in range(10000): \n",
    "    for class_label in range(10):\n",
    "        getLabelbyObj = test_batch[b'labels'][i]\n",
    "        getPCAbyLabel = pca_objs[class_label]\n",
    "        img_data = test_batch[b'data'][i].reshape(1,-1)\n",
    "        temp = getPCAbyLabel.transform(img_data) #apply PCA on that image\n",
    "        temp2 = getPCAbyLabel.inverse_transform(temp)\n",
    "        error_temp = img_data-temp2 #subtract to get error\n",
    "        sqrsum = np.sum(np.square(error_temp)) # Square those differences individually and sum them over the whole image.\n",
    "        dist_classes[getLabelbyObj][class_label] = dist_classes[getLabelbyObj][class_label] + sqrsum\n",
    "        dist_classes[class_label][getLabelbyObj] = dist_classes[class_label][getLabelbyObj] + sqrsum\n",
    "\n",
    "dist_classes = (dist_classes / 6000) / 2 #E(A|B) = Average error of one class (6000 images), and each matrix entry stores the average of 2 difference class average error"
   ]
  },
  {
   "cell_type": "code",
   "execution_count": 79,
   "metadata": {},
   "outputs": [
    {
     "name": "stdout",
     "output_type": "stream",
     "text": [
      "[[2620513.31910851 3765263.72482817 2812070.46621585 3332052.06860216\n",
      "  2573709.08648721 3434991.39035774 3015350.62373824 3416927.28394457\n",
      "  2733154.70995142 3843214.55891384]\n",
      " [3765263.72482817 3950692.92519019 3769552.55317455 4074731.36436302\n",
      "  3542961.47280071 4250212.61825153 3776667.02873286 4318665.24677164\n",
      "  3520359.37697355 4155760.71610775]\n",
      " [2812070.46621585 3769552.55317455 2447700.28710633 2970962.22771785\n",
      "  2431224.06112306 2976043.11614289 2713257.04344166 3242350.08565994\n",
      "  2853345.49003857 3705163.63526976]\n",
      " [3332052.06860216 4074731.36436302 2970962.22771785 3116495.02927411\n",
      "  2938744.15282851 3266247.79935133 3063927.31620294 3591865.72883422\n",
      "  3222774.05864724 3939664.50671691]\n",
      " [2573709.08648721 3542961.47280071 2431224.06112306 2938744.15282851\n",
      "  2180394.80918182 2973998.746125   2572988.81061978 3066509.87728273\n",
      "  2595121.88325287 3533484.13553322]\n",
      " [3434991.39035774 4250212.61825153 2976043.11614289 3266247.79935133\n",
      "  2973998.746125   3231131.71464675 3127194.38271375 3647466.21153927\n",
      "  3420556.8672239  4124569.17970257]\n",
      " [3015350.62373824 3776667.02873286 2713257.04344166 3063927.31620294\n",
      "  2572988.81061978 3127194.38271375 2630248.5817849  3411669.76572176\n",
      "  2935288.93298992 3752089.59822993]\n",
      " [3416927.28394457 4318665.24677164 3242350.08565994 3591865.72883422\n",
      "  3066509.87728273 3647466.21153927 3411669.76572176 3441110.2108379\n",
      "  3433565.20681626 4214142.60555763]\n",
      " [2733154.70995142 3520359.37697355 2853345.49003857 3222774.05864724\n",
      "  2595121.88325287 3420556.8672239  2935288.93298992 3433565.20681626\n",
      "  2440642.70790964 3592559.87115334]\n",
      " [3843214.55891384 4155760.71610775 3705163.63526976 3939664.50671691\n",
      "  3533484.13553322 4124569.17970257 3752089.59822993 4214142.60555763\n",
      "  3592559.87115334 4021109.10789834]]\n"
     ]
    }
   ],
   "source": [
    "# 10 x 10 matrix requited for part 3 \n",
    "print(dist_classes)"
   ]
  },
  {
   "cell_type": "code",
   "execution_count": 80,
   "metadata": {},
   "outputs": [
    {
     "name": "stdout",
     "output_type": "stream",
     "text": [
      "2620513.3191085146\n",
      "3950692.9251901875\n",
      "2447700.2871063314\n",
      "3116495.029274109\n",
      "2180394.809181821\n",
      "3231131.714646755\n",
      "2630248.581784899\n",
      "3441110.210837897\n",
      "2440642.7079096376\n",
      "4021109.1078983364\n"
     ]
    }
   ],
   "source": [
    "#Dignoal entries should be the same result obtained from part 1b and they are\n",
    "for i in range(10):\n",
    "    print(dist_classes[i,i])"
   ]
  },
  {
   "cell_type": "code",
   "execution_count": 81,
   "metadata": {},
   "outputs": [
    {
     "data": {
      "image/png": "[encoded data removed]",
      "text/plain": [
       "<matplotlib.figure.Figure at 0x1a10516be0>"
      ]
     },
     "metadata": {},
     "output_type": "display_data"
    }
   ],
   "source": [
    "mds = MDS(n_components=2, dissimilarity=\"precomputed\", random_state=1)\n",
    "pos = mds.fit_transform(dist_classes)\n",
    "xs, ys = pos[:, 0], pos[:, 1]\n",
    "for x, y, name in zip(xs, ys, labels):\n",
    "    plt.scatter(x, y)\n",
    "    plt.text(x, y, name)\n",
    "plt.show()"
   ]
  }
 ],
 "metadata": {
  "kernelspec": {
   "display_name": "Python 2",
   "language": "python",
   "name": "python2"
  },
  "language_info": {
   "codemirror_mode": {
    "name": "ipython",
    "version": 2
   },
   "file_extension": ".py",
   "mimetype": "text/x-python",
   "name": "python",
   "nbconvert_exporter": "python",
   "pygments_lexer": "ipython2",
   "version": "2.7.14"
  }
 },
 "nbformat": 4,
 "nbformat_minor": 2
}

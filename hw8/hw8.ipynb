{
 "cells": [
  {
   "cell_type": "code",
   "execution_count": 234,
   "metadata": {},
   "outputs": [],
   "source": [
    "import os, struct\n",
    "import math, random, copy\n",
    "import numpy as np\n",
    "import sys\n",
    "from scipy import misc\n",
    "import math\n",
    "import matplotlib.pyplot as plt\n",
    "import numpy as np\n",
    "import scipy\n",
    "from matplotlib import pyplot as plt\n",
    "import pandas as pd\n",
    "import mnist\n",
    "import scipy.misc"
   ]
  },
  {
   "cell_type": "markdown",
   "metadata": {},
   "source": [
    "### Step 1 - Flipping images"
   ]
  },
  {
   "cell_type": "code",
   "execution_count": 235,
   "metadata": {},
   "outputs": [
    {
     "name": "stderr",
     "output_type": "stream",
     "text": [
      "/Users/poonl/anaconda2/envs/py36/lib/python3.6/site-packages/ipykernel_launcher.py:2: DeprecationWarning: `imresize` is deprecated!\n",
      "`imresize` is deprecated in SciPy 1.0.0, and will be removed in 1.2.0.\n",
      "Use ``skimage.transform.resize`` instead.\n",
      "  \n",
      "/Users/poonl/anaconda2/envs/py36/lib/python3.6/site-packages/ipykernel_launcher.py:2: DeprecationWarning: `toimage` is deprecated!\n",
      "`toimage` is deprecated in SciPy 1.0.0, and will be removed in 1.2.0.\n",
      "Use Pillow's ``Image.fromarray`` directly instead.\n",
      "  \n"
     ]
    },
    {
     "data": {
      "image/png": "[encoded data removed]",
      "text/plain": [
       "<PIL.Image.Image image mode=L size=280x280 at 0x1811D773C8>"
      ]
     },
     "execution_count": 235,
     "metadata": {},
     "output_type": "execute_result"
    }
   ],
   "source": [
    "images = mnist.train_images()\n",
    "scipy.misc.toimage(scipy.misc.imresize(images[0,:,:] * -1 + 256, 10.))\n"
   ]
  },
  {
   "cell_type": "code",
   "execution_count": 236,
   "metadata": {},
   "outputs": [],
   "source": [
    "im_of_20 = np.zeros((20, 28, 28))"
   ]
  },
  {
   "cell_type": "code",
   "execution_count": 237,
   "metadata": {},
   "outputs": [],
   "source": [
    "im_of_20_flip = np.zeros((20, 28, 28))"
   ]
  },
  {
   "cell_type": "code",
   "execution_count": 238,
   "metadata": {},
   "outputs": [],
   "source": [
    "for i in range(20): #get the first 20 images to work with\n",
    "    im_of_20[i,:,:] = images[i,:,:]\n",
    "    \n",
    "im_of_20_map = np.where(im_of_20 < 0.5 ,-1,1)"
   ]
  },
  {
   "cell_type": "markdown",
   "metadata": {},
   "source": [
    "### Step 2 - Adding noises to images"
   ]
  },
  {
   "cell_type": "code",
   "execution_count": 239,
   "metadata": {},
   "outputs": [],
   "source": [
    "noise_df = np.loadtxt(\"NoiseCoordinates.csv\", delimiter= ',',  usecols=range(1,16), skiprows=1)"
   ]
  },
  {
   "cell_type": "code",
   "execution_count": 240,
   "metadata": {},
   "outputs": [
    {
     "data": {
      "text/plain": [
       "array([-1, -1, -1, -1, -1, -1, -1, -1,  1,  1,  1,  1,  1,  1,  1,  1,  1,\n",
       "        1, -1, -1, -1, -1, -1, -1, -1, -1, -1, -1])"
      ]
     },
     "execution_count": 240,
     "metadata": {},
     "output_type": "execute_result"
    }
   ],
   "source": [
    "im_of_20_map[0,21,:]"
   ]
  },
  {
   "cell_type": "code",
   "execution_count": 241,
   "metadata": {},
   "outputs": [
    {
     "data": {
      "text/plain": [
       "(40, 15)"
      ]
     },
     "execution_count": 241,
     "metadata": {},
     "output_type": "execute_result"
    }
   ],
   "source": [
    "noise_df.shape"
   ]
  },
  {
   "cell_type": "code",
   "execution_count": 242,
   "metadata": {},
   "outputs": [],
   "source": [
    "im_of_20_flip = im_of_20_map"
   ]
  },
  {
   "cell_type": "code",
   "execution_count": 243,
   "metadata": {},
   "outputs": [
    {
     "data": {
      "text/plain": [
       "9.0"
      ]
     },
     "execution_count": 243,
     "metadata": {},
     "output_type": "execute_result"
    }
   ],
   "source": [
    "noise_df[1*2,1]"
   ]
  },
  {
   "cell_type": "code",
   "execution_count": 244,
   "metadata": {},
   "outputs": [],
   "source": [
    "for i in range(20):\n",
    "    for j in range(15):\n",
    "        row = int(noise_df[i*2,j])\n",
    "        col = int(noise_df[i*2+1,j])\n",
    "        if im_of_20_flip[i, row, col] == 1:\n",
    "            im_of_20_flip[i, row, col] = -1\n",
    "        else:\n",
    "            im_of_20_flip[i, row, col] = 1"
   ]
  },
  {
   "cell_type": "markdown",
   "metadata": {},
   "source": [
    "### Step 3 - Denoising with Mean Field Inference"
   ]
  },
  {
   "cell_type": "code",
   "execution_count": 245,
   "metadata": {},
   "outputs": [],
   "source": [
    "import copy"
   ]
  },
  {
   "cell_type": "code",
   "execution_count": 246,
   "metadata": {},
   "outputs": [],
   "source": [
    "initial_df = np.loadtxt(\"InitialParametersModel.csv\", delimiter= ',') # 28x28\n",
    "update_df = np.loadtxt(\"UpdateOrderCoordinates.csv\", delimiter= ',', usecols=range(1,785), skiprows=1)"
   ]
  },
  {
   "cell_type": "code",
   "execution_count": 247,
   "metadata": {},
   "outputs": [],
   "source": [
    "for i in range(10):\n",
    "    for img in range(20):\n",
    "        for idx in range(784): \n",
    "            row_num = int(update_df[img*2,idx])\n",
    "            col_num = int(update_df[img*2+1,idx])\n",
    "            first_sum = 0 \n",
    "            sec_sum = 0 \n",
    "            third_sum = 0\n",
    "            fourth_sum = 0\n",
    "            if (row_num - 1) >= 0:\n",
    "                first_sum += 0.8 * (2 * initial_df[row_num - 1, col_num] - 1)\n",
    "                sec_sum += (2 * im_of_20_flip[img, row_num - 1, col_num])\n",
    "                third_sum += -0.8 * (2 * initial_df[row_num - 1, col_num] - 1)\n",
    "                fourth_sum += (-2 * im_of_20_flip[img, row_num - 1, col_num])\n",
    "            if (row_num + 1) < 28:\n",
    "                first_sum += 0.8 * (2 * initial_df[row_num + 1, col_num] - 1)\n",
    "                sec_sum += (2 * im_of_20_flip[img, row_num + 1, col_num])\n",
    "                third_sum += -0.8 * (2 * initial_df[row_num + 1, col_num] - 1)\n",
    "                fourth_sum += (-2 * im_of_20_flip[img, row_num + 1, col_num])\n",
    "            if (col_num - 1) >= 0:\n",
    "                first_sum += 0.8 * (2 * initial_df[row_num , col_num - 1] - 1)\n",
    "                sec_sum += (2 * im_of_20_flip[img, row_num , col_num - 1])\n",
    "                third_sum += -0.8 * (2 * initial_df[row_num , col_num - 1] - 1)\n",
    "                fourth_sum += (-2 * im_of_20_flip[img, row_num , col_num - 1])\n",
    "            if (col_num + 1) < 28:\n",
    "                first_sum += 0.8 * (2 * initial_df[row_num , col_num + 1] - 1)\n",
    "                sec_sum += (2 * im_of_20_flip[img, row_num , col_num + 1])\n",
    "                third_sum += -0.8 * (2 * initial_df[row_num , col_num + 1] - 1)\n",
    "                fourth_sum += (-2 * im_of_20_flip[img, row_num , col_num + 1])\n",
    "            numerator = np.exp(first_sum+sec_sum)\n",
    "            denominator = numerator + np.exp(third_sum+fourth_sum)\n",
    "\n",
    "            initial_df[row_num , col_num] = numerator/denominator\n",
    "    "
   ]
  },
  {
   "cell_type": "code",
   "execution_count": 248,
   "metadata": {},
   "outputs": [
    {
     "data": {
      "text/plain": [
       "array([[1.36740135e-05, 5.05675318e-08, 5.05653273e-08, 5.05653273e-08,\n",
       "        5.05653273e-08, 5.05898015e-08, 5.05653273e-08, 5.05653273e-08,\n",
       "        5.05653273e-08, 5.05653273e-08, 5.05653273e-08, 5.05653273e-08,\n",
       "        5.05653273e-08, 5.05654175e-08, 1.50710407e-04, 5.05653273e-08,\n",
       "        5.05653273e-08, 5.05653273e-08, 5.05653273e-08, 5.05653273e-08,\n",
       "        5.05653273e-08, 5.05653273e-08, 5.05653273e-08, 5.05653273e-08,\n",
       "        5.05897113e-08, 1.50710407e-04, 5.73445842e-08, 3.91657350e-02],\n",
       "       [5.05675318e-08, 1.86983699e-10, 1.86983669e-10, 1.86983669e-10,\n",
       "        1.86984002e-10, 1.86983669e-10, 1.86983669e-10, 1.86983669e-10,\n",
       "        1.86983669e-10, 1.86983669e-10, 1.86983669e-10, 1.86983669e-10,\n",
       "        1.86984002e-10, 5.57390150e-07, 1.86984669e-10, 5.57390150e-07,\n",
       "        1.86985327e-10, 1.86983671e-10, 1.86983669e-10, 1.86983669e-10,\n",
       "        1.86983669e-10, 1.86983669e-10, 1.86983669e-10, 1.86984002e-10,\n",
       "        1.86983669e-10, 1.87073837e-10, 5.57390264e-07, 5.73169444e-08],\n",
       "       [5.05653273e-08, 1.86983669e-10, 1.86983638e-10, 1.86983638e-10,\n",
       "        5.57390060e-07, 1.86984305e-10, 1.86983638e-10, 1.86983638e-10,\n",
       "        1.86983638e-10, 1.86983638e-10, 1.86983638e-10, 1.86983638e-10,\n",
       "        1.86983638e-10, 1.86983972e-10, 5.57390060e-07, 1.88113513e-10,\n",
       "        9.29765143e-10, 4.58209939e-09, 1.86984021e-10, 1.86983638e-10,\n",
       "        1.86983972e-10, 1.86983638e-10, 1.86984305e-10, 5.57390060e-07,\n",
       "        1.86984305e-10, 1.86983638e-10, 1.86984335e-10, 5.05653273e-08],\n",
       "       [5.05653273e-08, 1.86983669e-10, 1.86983638e-10, 5.57390060e-07,\n",
       "        1.86983638e-10, 5.57390060e-07, 1.86983972e-10, 1.86984305e-10,\n",
       "        1.86983638e-10, 1.86984305e-10, 1.86983638e-10, 1.86983638e-10,\n",
       "        1.86983638e-10, 1.86983638e-10, 1.86983972e-10, 1.86983709e-10,\n",
       "        4.61482371e-09, 9.29886906e-10, 7.83759970e-08, 1.86984354e-10,\n",
       "        1.86983638e-10, 1.86984307e-10, 5.57390060e-07, 1.86984639e-10,\n",
       "        5.57390060e-07, 1.86984305e-10, 1.86983669e-10, 5.05654175e-08],\n",
       "       [5.05653273e-08, 1.86983669e-10, 1.86983638e-10, 1.86983972e-10,\n",
       "        5.57390060e-07, 1.86983638e-10, 1.86983972e-10, 5.57390060e-07,\n",
       "        1.86984639e-10, 1.86983638e-10, 1.86983972e-10, 1.86983638e-10,\n",
       "        1.86983638e-10, 1.86983642e-10, 1.05485309e-09, 1.13212160e-07,\n",
       "        4.58778305e-09, 4.08447027e-05, 3.74713601e-09, 3.19847120e-09,\n",
       "        1.86983977e-10, 1.86983638e-10, 1.86984330e-10, 5.57390061e-07,\n",
       "        1.86984639e-10, 1.86983638e-10, 1.86983669e-10, 5.05653273e-08],\n",
       "       [5.05653273e-08, 1.86983669e-10, 1.86983638e-10, 1.86983638e-10,\n",
       "        1.86983638e-10, 1.86983638e-10, 5.57390060e-07, 1.86984639e-10,\n",
       "        5.57391054e-07, 1.86984305e-10, 1.86983972e-10, 1.86983638e-10,\n",
       "        1.86983642e-10, 4.73287386e-09, 4.59583531e-09, 3.20050363e-10,\n",
       "        4.59557863e-09, 9.20919488e-08, 1.86991948e-10, 3.74664672e-09,\n",
       "        1.86983641e-10, 1.86984229e-10, 1.86983638e-10, 1.86983996e-10,\n",
       "        1.86983638e-10, 1.86983972e-10, 1.86983669e-10, 5.05653273e-08],\n",
       "       [5.05653273e-08, 1.86983669e-10, 1.86983638e-10, 1.86983638e-10,\n",
       "        1.86983638e-10, 1.86983638e-10, 1.86983972e-10, 5.57391054e-07,\n",
       "        1.86984305e-10, 1.86983972e-10, 1.86983696e-10, 1.86983656e-10,\n",
       "        9.57297680e-10, 5.77705134e-07, 5.92080099e-04, 1.67955269e-01,\n",
       "        5.74535366e-04, 5.61267190e-04, 1.37876075e-05, 1.87147606e-10,\n",
       "        1.86984340e-10, 1.86983640e-10, 1.86983640e-10, 1.86983638e-10,\n",
       "        1.86983640e-10, 1.86983638e-10, 1.86983669e-10, 5.05653273e-08],\n",
       "       [5.05653273e-08, 1.86983669e-10, 1.86983638e-10, 1.86983638e-10,\n",
       "        1.86983638e-10, 1.86983638e-10, 1.86983972e-10, 5.57391054e-07,\n",
       "        1.86984305e-10, 1.86996223e-10, 1.86983655e-10, 2.86149020e-08,\n",
       "        2.07283487e-03, 1.05948927e-02, 9.99676437e-01, 9.99999396e-01,\n",
       "        9.99804026e-01, 9.93373640e-01, 6.52757305e-02, 1.00875030e-02,\n",
       "        1.87007371e-10, 1.86983638e-10, 1.86983641e-10, 1.86983640e-10,\n",
       "        1.86983638e-10, 1.86983638e-10, 1.86983669e-10, 5.05653273e-08],\n",
       "       [1.50710407e-04, 1.86984002e-10, 1.86983638e-10, 1.86983638e-10,\n",
       "        1.86983638e-10, 1.86983638e-10, 5.57390060e-07, 1.86983638e-10,\n",
       "        5.57427400e-07, 1.86983972e-10, 2.16121232e-10, 4.52208849e-02,\n",
       "        4.88304383e-02, 9.99999907e-01, 9.99999437e-01, 1.00000000e+00,\n",
       "        9.99999887e-01, 1.00000000e+00, 9.99997239e-01, 5.01499511e-01,\n",
       "        1.87991580e-03, 1.87007412e-10, 1.86983638e-10, 1.86983640e-10,\n",
       "        1.86983638e-10, 1.86983638e-10, 1.86983669e-10, 5.05653273e-08],\n",
       "       [5.05653273e-08, 5.57390150e-07, 1.86983972e-10, 1.86983638e-10,\n",
       "        1.86983638e-10, 1.86983638e-10, 1.86984305e-10, 5.57390060e-07,\n",
       "        1.86983641e-10, 1.87004442e-10, 1.38324374e-05, 5.36113767e-01,\n",
       "        9.99999996e-01, 9.99999443e-01, 9.99991797e-01, 9.99661076e-01,\n",
       "        9.99986308e-01, 9.99932277e-01, 9.99997239e-01, 9.99997239e-01,\n",
       "        3.91701744e-02, 6.31824426e-07, 1.86983680e-10, 1.86983638e-10,\n",
       "        1.86983638e-10, 1.86983638e-10, 1.86983669e-10, 5.05653273e-08],\n",
       "       [1.50710407e-04, 1.86984002e-10, 1.86983638e-10, 1.86983638e-10,\n",
       "        1.86983638e-10, 1.86983638e-10, 1.86983638e-10, 1.86983972e-10,\n",
       "        1.86984152e-10, 1.90322357e-10, 1.36877094e-05, 9.99986242e-01,\n",
       "        1.00000000e+00, 9.99991155e-01, 5.47351931e-01, 9.30177637e-07,\n",
       "        4.99714607e-01, 9.99655904e-01, 1.00000000e+00, 9.99997239e-01,\n",
       "        9.92829942e-01, 5.57390178e-07, 1.86983638e-10, 1.86983638e-10,\n",
       "        1.86983638e-10, 1.86983638e-10, 1.86983669e-10, 5.05653273e-08],\n",
       "       [5.05653273e-08, 1.86983669e-10, 1.86983638e-10, 1.86983638e-10,\n",
       "        1.86983638e-10, 1.86983638e-10, 1.86983638e-10, 1.86983638e-10,\n",
       "        1.86983640e-10, 3.58710946e-09, 3.00116992e-04, 9.99999287e-01,\n",
       "        1.00000000e+00, 6.74239949e-01, 5.93839448e-02, 5.72141066e-07,\n",
       "        8.28282969e-01, 9.92019715e-01, 9.99996831e-01, 9.99999888e-01,\n",
       "        1.65880110e-03, 5.60357641e-07, 1.86983638e-10, 1.86983638e-10,\n",
       "        1.86983638e-10, 1.86983638e-10, 1.86983669e-10, 5.05653273e-08],\n",
       "       [5.05653273e-08, 1.86983669e-10, 1.86983638e-10, 1.86983638e-10,\n",
       "        1.86983638e-10, 1.86983638e-10, 1.86983638e-10, 1.86983638e-10,\n",
       "        1.86990832e-10, 1.87179455e-10, 3.27083460e-04, 9.99999366e-01,\n",
       "        9.99991968e-01, 9.99999998e-01, 6.68023013e-01, 9.92847959e-01,\n",
       "        9.99986009e-01, 9.99999995e-01, 9.99989560e-01, 5.34759362e-01,\n",
       "        1.66761541e-03, 1.86983641e-10, 1.86983638e-10, 1.86983638e-10,\n",
       "        1.86983638e-10, 1.86983638e-10, 1.86983669e-10, 5.05653273e-08],\n",
       "       [5.05653273e-08, 1.86983669e-10, 1.86983638e-10, 1.86983638e-10,\n",
       "        1.86983638e-10, 1.86983638e-10, 1.86983638e-10, 1.86983638e-10,\n",
       "        1.86991659e-10, 4.46978116e-09, 1.40393330e-05, 9.99999425e-01,\n",
       "        1.00000000e+00, 9.99991926e-01, 9.99999999e-01, 1.00000000e+00,\n",
       "        9.99999996e-01, 9.99998908e-01, 5.49564939e-01, 1.79094843e-05,\n",
       "        2.51896065e-10, 1.86983638e-10, 1.86983638e-10, 1.86983638e-10,\n",
       "        1.86983638e-10, 1.86983638e-10, 1.86983669e-10, 5.05653273e-08],\n",
       "       [5.05653273e-08, 1.86983669e-10, 5.57390060e-07, 1.86983638e-10,\n",
       "        1.86983638e-10, 1.86983638e-10, 1.86983638e-10, 1.86983638e-10,\n",
       "        1.88112881e-10, 5.19460239e-09, 7.91297763e-03, 9.98330684e-01,\n",
       "        1.00000000e+00, 1.00000000e+00, 1.00000000e+00, 1.00000000e+00,\n",
       "        9.99999992e-01, 8.41368400e-01, 2.03095165e-02, 3.85247061e-09,\n",
       "        1.86983642e-10, 1.86984629e-10, 1.86983638e-10, 1.86983638e-10,\n",
       "        1.86983638e-10, 1.86983638e-10, 1.86983669e-10, 5.05653273e-08],\n",
       "       [5.05653273e-08, 5.57390150e-07, 1.86983972e-10, 5.57390060e-07,\n",
       "        1.86983638e-10, 1.86983638e-10, 1.86983638e-10, 1.88113214e-10,\n",
       "        1.86983638e-10, 1.88112961e-10, 5.30453640e-09, 9.98332379e-01,\n",
       "        9.91780045e-01, 1.00000000e+00, 1.00000000e+00, 9.99999995e-01,\n",
       "        9.99997244e-01, 5.01093192e-01, 9.91797179e-10, 4.58701637e-09,\n",
       "        2.67989556e-09, 1.86988418e-10, 1.86983972e-10, 1.86983638e-10,\n",
       "        1.86983638e-10, 1.86983638e-10, 1.86983669e-10, 5.05653273e-08],\n",
       "       [5.05653273e-08, 1.86984002e-10, 5.57390060e-07, 1.86983972e-10,\n",
       "        1.86983638e-10, 1.86983638e-10, 1.86984306e-10, 1.86983638e-10,\n",
       "        2.16665026e-10, 1.27677555e-07, 2.76076112e-06, 2.74608618e-06,\n",
       "        4.99460308e-01, 9.99999427e-01, 9.99999886e-01, 9.99999455e-01,\n",
       "        9.99430184e-01, 3.21808207e-05, 2.75997390e-06, 2.67978879e-09,\n",
       "        4.58618342e-09, 1.86983641e-10, 1.86983638e-10, 1.86983638e-10,\n",
       "        1.86983638e-10, 1.86983638e-10, 1.86983669e-10, 5.05653273e-08],\n",
       "       [5.05653273e-08, 1.86983669e-10, 1.86983972e-10, 1.86983638e-10,\n",
       "        1.86983638e-10, 1.86984305e-10, 5.57390100e-07, 1.86984309e-10,\n",
       "        1.86993173e-10, 1.29615509e-07, 1.12536002e-07, 1.88089841e-10,\n",
       "        1.83730910e-03, 9.91540090e-01, 9.99999884e-01, 9.99999992e-01,\n",
       "        8.32877548e-01, 1.54201401e-05, 1.86995451e-10, 1.12495614e-07,\n",
       "        1.86984042e-10, 1.86984305e-10, 1.86983638e-10, 1.86983638e-10,\n",
       "        1.86983972e-10, 1.86983638e-10, 1.86983669e-10, 5.05653273e-08],\n",
       "       [5.05653273e-08, 1.86983669e-10, 5.57390060e-07, 1.86983638e-10,\n",
       "        1.86983638e-10, 5.57390060e-07, 1.86984308e-10, 5.57419206e-07,\n",
       "        1.57819631e-05, 3.35352531e-04, 1.92143931e-10, 3.14775697e-06,\n",
       "        4.09957146e-02, 9.99697798e-01, 9.99999887e-01, 9.99999888e-01,\n",
       "        1.90942949e-03, 5.60836644e-07, 1.44960668e-06, 6.28831258e-08,\n",
       "        1.86983676e-10, 1.86983972e-10, 1.86984305e-10, 1.86983972e-10,\n",
       "        1.86983638e-10, 1.86983972e-10, 1.86983669e-10, 5.05653273e-08],\n",
       "       [5.05653273e-08, 5.57390150e-07, 1.86983638e-10, 5.57390060e-07,\n",
       "        1.86983638e-10, 1.86983972e-10, 5.57390068e-07, 5.58544153e-07,\n",
       "        5.57864271e-07, 2.39652894e-04, 8.16876769e-03, 4.16982322e-02,\n",
       "        5.04320804e-02, 9.99999944e-01, 9.99947435e-01, 5.44908867e-01,\n",
       "        6.48429599e-03, 7.56928978e-08, 1.86984747e-10, 2.68251051e-09,\n",
       "        1.86984309e-10, 1.86984972e-10, 1.87979158e-10, 1.86983638e-10,\n",
       "        1.87979156e-10, 1.86983638e-10, 1.86983669e-10, 5.05653273e-08],\n",
       "       [5.05653273e-08, 1.86983669e-10, 5.57390060e-07, 1.86983972e-10,\n",
       "        1.86983638e-10, 1.86983638e-10, 1.86983972e-10, 3.19930427e-10,\n",
       "        9.76055254e-06, 5.67164207e-07, 5.18289150e-03, 9.98341196e-01,\n",
       "        9.99999937e-01, 9.99999996e-01, 7.91864942e-02, 4.98561537e-02,\n",
       "        1.57234476e-07, 4.58619591e-09, 3.25557315e-07, 4.58712063e-09,\n",
       "        1.86983641e-10, 1.86984309e-10, 1.86983638e-10, 1.86983974e-10,\n",
       "        1.86983638e-10, 1.86983638e-10, 1.86983669e-10, 5.05653273e-08],\n",
       "       [5.05653273e-08, 1.86983669e-10, 1.86983638e-10, 1.86983638e-10,\n",
       "        1.86983638e-10, 1.86983638e-10, 1.86983708e-10, 1.86983754e-10,\n",
       "        1.86989520e-10, 6.97875347e-08, 9.56622284e-01, 9.99999356e-01,\n",
       "        1.00000000e+00, 9.99990008e-01, 9.69254406e-01, 4.87648727e-09,\n",
       "        1.61104139e-06, 1.86984610e-10, 4.70754049e-09, 9.26915222e-10,\n",
       "        1.86983974e-10, 1.86983638e-10, 1.86983974e-10, 1.86983638e-10,\n",
       "        1.86983638e-10, 1.86983638e-10, 1.86983669e-10, 5.05653273e-08],\n",
       "       [5.05653273e-08, 1.86983669e-10, 1.86983638e-10, 1.86983638e-10,\n",
       "        1.86983638e-10, 1.86983638e-10, 1.86983638e-10, 1.86983708e-10,\n",
       "        1.87024282e-10, 7.37905910e-03, 9.50255413e-01, 9.99926964e-01,\n",
       "        9.99999995e-01, 9.60807050e-01, 2.68121285e-04, 1.12241323e-07,\n",
       "        1.52199979e-08, 4.70753581e-09, 1.86983644e-10, 1.86983639e-10,\n",
       "        1.86983638e-10, 1.86983638e-10, 1.86983638e-10, 1.86983638e-10,\n",
       "        1.86983638e-10, 1.86983638e-10, 1.86983669e-10, 5.05653273e-08],\n",
       "       [5.05653273e-08, 1.86983669e-10, 1.86983638e-10, 1.86983638e-10,\n",
       "        1.86983638e-10, 1.86983638e-10, 1.86983638e-10, 1.86983680e-10,\n",
       "        1.66761502e-03, 4.73574432e-01, 9.57893305e-01, 9.99999871e-01,\n",
       "        1.40518124e-05, 3.47124124e-02, 5.11717113e-09, 4.58703783e-09,\n",
       "        1.86983981e-10, 6.20444063e-10, 1.91931117e-10, 1.86983638e-10,\n",
       "        1.86983638e-10, 1.86983638e-10, 1.86983638e-10, 1.86983638e-10,\n",
       "        1.86983638e-10, 1.86983638e-10, 1.86983669e-10, 5.05653273e-08],\n",
       "       [5.05653273e-08, 1.86983669e-10, 1.86983638e-10, 1.86983638e-10,\n",
       "        1.86983638e-10, 1.86983638e-10, 1.86983678e-10, 5.60356654e-07,\n",
       "        1.65880754e-03, 9.99997253e-01, 9.99999871e-01, 5.02653915e-01,\n",
       "        1.65887852e-03, 2.10063370e-10, 1.86983641e-10, 1.86983641e-10,\n",
       "        1.86983638e-10, 1.86983972e-10, 1.86983638e-10, 1.86983638e-10,\n",
       "        1.86983638e-10, 1.86983638e-10, 1.86983638e-10, 1.86983638e-10,\n",
       "        1.86983638e-10, 1.86983638e-10, 1.86983669e-10, 5.05653273e-08],\n",
       "       [5.05653273e-08, 1.86983669e-10, 1.86983638e-10, 1.86983638e-10,\n",
       "        1.86983638e-10, 1.86983638e-10, 1.87978821e-10, 1.65880701e-03,\n",
       "        9.91921195e-01, 9.99932276e-01, 9.99999888e-01, 1.65880405e-03,\n",
       "        5.57390060e-07, 1.86983972e-10, 1.86983638e-10, 1.86983638e-10,\n",
       "        1.86983638e-10, 1.86983638e-10, 1.86983638e-10, 1.86983638e-10,\n",
       "        1.86983638e-10, 1.86983638e-10, 1.86983638e-10, 1.86983638e-10,\n",
       "        1.86983638e-10, 1.86983638e-10, 1.86983669e-10, 5.05653273e-08],\n",
       "       [5.05675318e-08, 1.86983699e-10, 1.86983669e-10, 1.86983669e-10,\n",
       "        1.86983669e-10, 1.86984002e-10, 5.57391144e-07, 5.57658939e-07,\n",
       "        9.99646935e-01, 9.91835675e-01, 4.94923286e-01, 1.66761524e-03,\n",
       "        1.86984002e-10, 1.86983669e-10, 1.86983669e-10, 1.86983669e-10,\n",
       "        1.86983669e-10, 1.86983669e-10, 1.86983669e-10, 1.86983669e-10,\n",
       "        1.86983669e-10, 1.86983669e-10, 1.86983669e-10, 1.86983669e-10,\n",
       "        1.86983669e-10, 1.86983669e-10, 1.86983699e-10, 5.05675318e-08],\n",
       "       [1.36740135e-05, 5.05675318e-08, 5.05653273e-08, 5.05653273e-08,\n",
       "        5.05653273e-08, 5.05653273e-08, 5.05653273e-08, 1.50710407e-04,\n",
       "        1.50783073e-04, 3.59302592e-03, 1.50710407e-04, 5.05653273e-08,\n",
       "        5.05653273e-08, 5.05653273e-08, 5.05653273e-08, 5.05653273e-08,\n",
       "        5.05653273e-08, 5.05653273e-08, 5.05653273e-08, 5.05653273e-08,\n",
       "        5.05653273e-08, 5.05653273e-08, 5.05653273e-08, 5.05653273e-08,\n",
       "        5.05653273e-08, 5.05653273e-08, 5.05675318e-08, 1.36740135e-05]])"
      ]
     },
     "execution_count": 248,
     "metadata": {},
     "output_type": "execute_result"
    }
   ],
   "source": [
    "initial_df"
   ]
  },
  {
   "cell_type": "markdown",
   "metadata": {},
   "source": [
    "### Step 4 - Turning in the energy function values computed initially and after each iteration"
   ]
  },
  {
   "cell_type": "code",
   "execution_count": 249,
   "metadata": {},
   "outputs": [],
   "source": [
    "'''\n",
    "Helper function to calculate E_q [log P]\n",
    "'''\n",
    "def EQLOGP(imgIdx): \n",
    "    first_sum = 0 \n",
    "    sec_sum = 0\n",
    "    for row in range(28):\n",
    "        for col in range(28): \n",
    "            if col - 1 >= 0:\n",
    "                first_sum += 0.8 * (2 * initial_df[row, col] - 1) * (2 * initial_df[row, col - 1] - 1)\n",
    "                sec_sum += 2 * (2*initial_df[row, col]-1) * (im_of_20_flip[imgIdx, row , col - 1])\n",
    "            if col + 1 < 28:\n",
    "                first_sum += 0.8 * (2 * initial_df[row, col] - 1) * (2 * initial_df[row, col + 1] - 1)\n",
    "                sec_sum += 2 * (2*initial_df[row, col]-1) * (im_of_20_flip[imgIdx, row , col + 1])\n",
    "            if row - 1 >= 0:\n",
    "                first_sum += 0.8 * (2 * initial_df[row, col] - 1) * (2 * initial_df[row - 1, col] - 1)\n",
    "                sec_sum += 2 * (2*initial_df[row, col]-1) * (im_of_20_flip[imgIdx, row - 1, col])\n",
    "            if row + 1 < 28:\n",
    "                first_sum += 0.8 * (2 * initial_df[row, col] - 1) * (2 * initial_df[row + 1, col] - 1)\n",
    "                sec_sum += 2 * (2*initial_df[row, col]-1) * (im_of_20_flip[imgIdx, row + 1, col])\n",
    "    return first_sum + sec_sum \n",
    "    "
   ]
  },
  {
   "cell_type": "code",
   "execution_count": 250,
   "metadata": {},
   "outputs": [],
   "source": [
    "'''\n",
    "Helper function to calculate E_q [log Q] \n",
    "'''\n",
    "def EQLOGQ():\n",
    "    eqlogq = 0\n",
    "    for row in range(28):\n",
    "        for col in range(28):\n",
    "            eqlogq += initial_df[row, col] * (np.log(initial_df[row, col]) + (10e-10)) + \\\n",
    "                (1-initial_df[row, col])*(np.log(1-initial_df[row, col] + (10e-10)))\n",
    "    return eqlogq"
   ]
  },
  {
   "cell_type": "code",
   "execution_count": 251,
   "metadata": {},
   "outputs": [],
   "source": [
    "'''\n",
    "loading the initial VFE\n",
    "'''\n",
    "initial_df = np.loadtxt(\"InitialParametersModel.csv\", delimiter= ',') # 28x28\n",
    "energy_list = np.zeros((20,11))\n",
    "first_sum = 0 \n",
    "sec_sum = 0 \n",
    "for imgIdx in range(20):\n",
    "    first_sum = 0 \n",
    "    sec_sum = 0 \n",
    "    for row in range(28):\n",
    "        for col in range(28): \n",
    "            if (col - 1) >= 0:\n",
    "                first_sum += 0.8 * (2 * initial_df[row, col] - 1) * (2 * initial_df[row, col - 1] - 1)\n",
    "                sec_sum += 2 * (2 * initial_df[row, col] - 1) * (im_of_20_flip[imgIdx, row , col - 1])\n",
    "            if (col + 1) < 28:\n",
    "                first_sum += 0.8 * (2 * initial_df[row, col] - 1) * (2 * initial_df[row, col + 1] - 1)\n",
    "                sec_sum += 2 * (2 * initial_df[row, col] - 1) * (im_of_20_flip[imgIdx, row , col + 1])\n",
    "            if (row - 1) >= 0:\n",
    "                first_sum += 0.8 * (2 * initial_df[row, col] - 1) * (2 * initial_df[row - 1, col] - 1)\n",
    "                sec_sum += 2 * (2 * initial_df[row, col] - 1) * (im_of_20_flip[imgIdx, row - 1, col])\n",
    "            if (row + 1) < 28:\n",
    "                first_sum += 0.8 * (2 * initial_df[row, col] - 1) * (2 * initial_df[row + 1, col] - 1)\n",
    "                sec_sum += 2 * (2 * initial_df[row, col] - 1) * (im_of_20_flip[imgIdx, row + 1, col])\n",
    "    energy_list[imgIdx,0] = EQLOGQ() - (first_sum + sec_sum) "
   ]
  },
  {
   "cell_type": "code",
   "execution_count": 252,
   "metadata": {},
   "outputs": [],
   "source": [
    "for i in range(1,11):\n",
    "    for img in range(20):\n",
    "        for idx in range(784): \n",
    "            row_num = int(update_df[img*2,idx])\n",
    "            col_num = int(update_df[img*2+1,idx])\n",
    "            first_sum = 0 \n",
    "            sec_sum = 0 \n",
    "            third_sum = 0\n",
    "            fourth_sum = 0\n",
    "            if (row_num - 1) >= 0:\n",
    "                first_sum += 0.8 * (2 * initial_df[row_num - 1, col_num] - 1)\n",
    "                sec_sum += (2 * im_of_20_flip[img, row_num - 1, col_num])\n",
    "                third_sum += -0.8 * (2 * initial_df[row_num - 1, col_num] - 1)\n",
    "                fourth_sum += (-2 * im_of_20_flip[img, row_num - 1, col_num])\n",
    "            if (row_num + 1) < 28:\n",
    "                first_sum += 0.8 * (2 * initial_df[row_num + 1, col_num] - 1)\n",
    "                sec_sum += (2 * im_of_20_flip[img, row_num + 1, col_num])\n",
    "                third_sum += -0.8 * (2 * initial_df[row_num + 1, col_num] - 1)\n",
    "                fourth_sum += (-2 * im_of_20_flip[img, row_num + 1, col_num])\n",
    "            if (col_num - 1) >= 0:\n",
    "                first_sum += 0.8 * (2 * initial_df[row_num , col_num - 1] - 1)\n",
    "                sec_sum += (2 * im_of_20_flip[img, row_num , col_num - 1])\n",
    "                third_sum += -0.8 * (2 * initial_df[row_num , col_num - 1] - 1)\n",
    "                fourth_sum += (-2 * im_of_20_flip[img, row_num , col_num - 1])\n",
    "            if (col_num + 1) < 28:\n",
    "                first_sum += 0.8 * (2 * initial_df[row_num , col_num + 1] - 1)\n",
    "                sec_sum += (2 * im_of_20_flip[img, row_num , col_num + 1])\n",
    "                third_sum += -0.8 * (2 * initial_df[row_num , col_num + 1] - 1)\n",
    "                fourth_sum += (-2 * im_of_20_flip[img, row_num , col_num + 1])\n",
    "            numerator = np.exp(first_sum+sec_sum)\n",
    "            denominator = numerator + np.exp(third_sum+fourth_sum)\n",
    "\n",
    "            initial_df[row_num , col_num] = numerator/denominator\n",
    "        energy_list[img, i] = EQLOGQ() - EQLOGP(img)"
   ]
  },
  {
   "cell_type": "code",
   "execution_count": 253,
   "metadata": {},
   "outputs": [
    {
     "data": {
      "text/plain": [
       "array([[ -439.34752336, -7045.75649442, -7045.65058693, -7045.65058693,\n",
       "        -7045.65058693, -7045.65058693, -7045.65058693, -7045.65058693,\n",
       "        -7045.65058693, -7045.65058693, -7045.65058693],\n",
       "       [ -475.7957465 , -6955.45912087, -6954.55438868, -6954.55438868,\n",
       "        -6954.55438868, -6954.55438868, -6954.55438868, -6954.55438868,\n",
       "        -6954.55438868, -6954.55438868, -6954.55438868],\n",
       "       [ -498.10333194, -7150.02727519, -7151.23912246, -7151.23912246,\n",
       "        -7151.23912246, -7151.23912246, -7151.23912246, -7151.23912246,\n",
       "        -7151.23912246, -7151.23912246, -7151.23912246],\n",
       "       [ -430.0199188 , -7506.62504607, -7506.62172691, -7506.62172691,\n",
       "        -7506.62172691, -7506.62172691, -7506.62172691, -7506.62172691,\n",
       "        -7506.62172691, -7506.62172691, -7506.62172691],\n",
       "       [ -482.95447134, -7219.25990777, -7219.26028207, -7219.26028207,\n",
       "        -7219.26028207, -7219.26028207, -7219.26028207, -7219.26028207,\n",
       "        -7219.26028207, -7219.26028207, -7219.26028207],\n",
       "       [ -419.77904288, -7082.67271471, -7082.67271268, -7082.67271268,\n",
       "        -7082.67271268, -7082.67271268, -7082.67271268, -7082.67271268,\n",
       "        -7082.67271268, -7082.67271268, -7082.67271268],\n",
       "       [ -460.11539563, -7630.69733328, -7630.69733334, -7630.69733334,\n",
       "        -7630.69733334, -7630.69733334, -7630.69733334, -7630.69733334,\n",
       "        -7630.69733334, -7630.69733334, -7630.69733334],\n",
       "       [ -480.08149662, -6980.77647011, -6980.77647013, -6980.77647013,\n",
       "        -6980.77647013, -6980.77647013, -6980.77647013, -6980.77647013,\n",
       "        -6980.77647013, -6980.77647013, -6980.77647013],\n",
       "       [ -477.36962973, -7658.44072223, -7658.44072221, -7658.44072221,\n",
       "        -7658.44072221, -7658.44072221, -7658.44072221, -7658.44072221,\n",
       "        -7658.44072221, -7658.44072221, -7658.44072221],\n",
       "       [ -430.45337376, -7163.0635825 , -7163.0635825 , -7163.0635825 ,\n",
       "        -7163.0635825 , -7163.0635825 , -7163.0635825 , -7163.0635825 ,\n",
       "        -7163.0635825 , -7163.0635825 , -7163.0635825 ],\n",
       "       [ -417.90454415, -7368.2407501 , -7368.2407501 , -7368.2407501 ,\n",
       "        -7368.2407501 , -7368.2407501 , -7368.2407501 , -7368.2407501 ,\n",
       "        -7368.2407501 , -7368.2407501 , -7368.2407501 ],\n",
       "       [ -319.25471012, -7392.40047287, -7392.40047287, -7392.40047287,\n",
       "        -7392.40047287, -7392.40047287, -7392.40047287, -7392.40047287,\n",
       "        -7392.40047287, -7392.40047287, -7392.40047287],\n",
       "       [ -428.29879996, -6890.95509173, -6890.95509173, -6890.95509173,\n",
       "        -6890.95509173, -6890.95509173, -6890.95509173, -6890.95509173,\n",
       "        -6890.95509173, -6890.95509173, -6890.95509173],\n",
       "       [ -498.92492942, -7127.12397817, -7127.12397817, -7127.12397817,\n",
       "        -7127.12397817, -7127.12397817, -7127.12397817, -7127.12397817,\n",
       "        -7127.12397817, -7127.12397817, -7127.12397817],\n",
       "       [ -427.45302936, -7698.01129399, -7698.01129399, -7698.01129399,\n",
       "        -7698.01129399, -7698.01129399, -7698.01129399, -7698.01129399,\n",
       "        -7698.01129399, -7698.01129399, -7698.01129399],\n",
       "       [ -447.30116448, -7214.63537116, -7214.63537116, -7214.63537116,\n",
       "        -7214.63537116, -7214.63537116, -7214.63537116, -7214.63537116,\n",
       "        -7214.63537116, -7214.63537116, -7214.63537116],\n",
       "       [ -410.41172327, -6981.84169361, -6981.84169361, -6981.84169361,\n",
       "        -6981.84169361, -6981.84169361, -6981.84169361, -6981.84169361,\n",
       "        -6981.84169361, -6981.84169361, -6981.84169361],\n",
       "       [ -380.27836355, -7373.59293546, -7373.59293546, -7373.59293546,\n",
       "        -7373.59293546, -7373.59293546, -7373.59293546, -7373.59293546,\n",
       "        -7373.59293546, -7373.59293546, -7373.59293546],\n",
       "       [ -483.49971198, -7127.20619139, -7127.20619139, -7127.20619139,\n",
       "        -7127.20619139, -7127.20619139, -7127.20619139, -7127.20619139,\n",
       "        -7127.20619139, -7127.20619139, -7127.20619139],\n",
       "       [ -374.90739514, -7354.21628931, -7354.21628931, -7354.21628931,\n",
       "        -7354.21628931, -7354.21628931, -7354.21628931, -7354.21628931,\n",
       "        -7354.21628931, -7354.21628931, -7354.21628931]])"
      ]
     },
     "execution_count": 253,
     "metadata": {},
     "output_type": "execute_result"
    }
   ],
   "source": [
    "energy_list"
   ]
  },
  {
   "cell_type": "markdown",
   "metadata": {},
   "source": [
    "### Step 5 - Displaying the reconstructed images (Image 11 - 19)"
   ]
  },
  {
   "cell_type": "code",
   "execution_count": 254,
   "metadata": {},
   "outputs": [],
   "source": [
    "initial_df = np.loadtxt(\"InitialParametersModel.csv\", delimiter= ',') # 28x28\n",
    "\n",
    "for i in range(10):\n",
    "    for img in range(10,20):\n",
    "        for idx in range(784): \n",
    "            row_num = int(update_df[img*2,idx])\n",
    "            col_num = int(update_df[img*2+1,idx])\n",
    "            first_sum = 0 \n",
    "            sec_sum = 0 \n",
    "            third_sum = 0\n",
    "            fourth_sum = 0\n",
    "            if (row_num - 1) >= 0:\n",
    "                first_sum += 0.8 * (2 * initial_df[row_num - 1, col_num] - 1)\n",
    "                sec_sum += (2 * im_of_20_flip[img, row_num - 1, col_num])\n",
    "                third_sum += -0.8 * (2 * initial_df[row_num - 1, col_num] - 1)\n",
    "                fourth_sum += (-2 * im_of_20_flip[img, row_num - 1, col_num])\n",
    "            if (row_num + 1) < 28:\n",
    "                first_sum += 0.8 * (2 * initial_df[row_num + 1, col_num] - 1)\n",
    "                sec_sum += (2 * im_of_20_flip[img, row_num + 1, col_num])\n",
    "                third_sum += -0.8 * (2 * initial_df[row_num + 1, col_num] - 1)\n",
    "                fourth_sum += (-2 * im_of_20_flip[img, row_num + 1, col_num])\n",
    "            if (col_num - 1) >= 0:\n",
    "                first_sum += 0.8 * (2 * initial_df[row_num , col_num - 1] - 1)\n",
    "                sec_sum += (2 * im_of_20_flip[img, row_num , col_num - 1])\n",
    "                third_sum += -0.8 * (2 * initial_df[row_num , col_num - 1] - 1)\n",
    "                fourth_sum += (-2 * im_of_20_flip[img, row_num , col_num - 1])\n",
    "            if (col_num + 1) < 28:\n",
    "                first_sum += 0.8 * (2 * initial_df[row_num , col_num + 1] - 1)\n",
    "                sec_sum += (2 * im_of_20_flip[img, row_num , col_num + 1])\n",
    "                third_sum += -0.8 * (2 * initial_df[row_num , col_num + 1] - 1)\n",
    "                fourth_sum += (-2 * im_of_20_flip[img, row_num , col_num + 1])\n",
    "            numerator = np.exp(first_sum+sec_sum)\n",
    "            denominator = numerator + np.exp(third_sum+fourth_sum)\n",
    "\n",
    "            initial_df[row_num , col_num] = numerator/denominator"
   ]
  },
  {
   "cell_type": "code",
   "execution_count": 255,
   "metadata": {},
   "outputs": [],
   "source": [
    "a = [] \n",
    "for i in range(10,20):\n",
    "    for row in range(28):\n",
    "        for col in range(28):\n",
    "            if (initial_df[row,col] < 0.5):\n",
    "                if (im_of_20_flip[i, row , col] == 1):\n",
    "                    im_of_20_flip[i, row , col] = 0\n",
    "                else: \n",
    "                    im_of_20_flip[i, row , col] = 1\n",
    "    a.append(im_of_20_flip[i])"
   ]
  },
  {
   "cell_type": "code",
   "execution_count": 268,
   "metadata": {},
   "outputs": [],
   "source": [
    "'''\n",
    "wrtie to file\n",
    "'''\n",
    "output_str = '' \n",
    "for row in range(28): # height of image\n",
    "    for img in range(10): # 10 images align\n",
    "        for col in range(28):\n",
    "            output_str += str(a[img][row, col]) + ','\n",
    "    output_str = output_str[:-1]\n",
    "    output_str += '\\n'"
   ]
  },
  {
   "cell_type": "code",
   "execution_count": 272,
   "metadata": {},
   "outputs": [
    {
     "data": {
      "text/plain": [
       "'1,1,1,1,1,1,1,1,1,1,1,1,1,1,1,1,1,1,1,1,1,1,1,1,1,1,1,1,1,1,1,1,1,1,1,1,1,1,1,1,1,1,1,1,1,1,1,1,1,1,1,1,1,0,0,1,1,1,1,1,1,1,1,1,1,1,1,1,1,1,1,1,1,1,1,1,1,1,1,1,1,1,1,1,1,1,1,1,1,1,1,1,1,1,1,1,1,1,1,1,1,0,1,1,1,1,1,1,1,1,1,1,1,1,1,1,1,1,1,1,1,1,1,1,1,1,1,1,1,1,1,1,0,1,1,1,1,1,1,1,1,1,1,1,1,1,1,1,1,1,1,1,1,1,1,1,1,1,1,1,1,1,1,1,1,1,1,1,1,1,1,1,1,1,1,1,1,1,1,1,1,1,1,1,1,1,1,1,1,1,1,1,1,1,1,1,1,1,1,1,1,1,1,1,1,1,1,1,1,1,1,1,1,1,1,1,1,1,1,1,1,1,1,1,1,1,1,1,1,1,1,1,1,1,1,1,1,1,1,1,1,1,1,1,0,1,1,1,1,1,1,1,1,1,1,1,1,1,1,1,1,1,1,1,1,1,1,1,1,1,1,1,1,1,1,1,1,1,0,1\\n1,1,1,1,1,1,1,1,1,1,1,1,1,1,1,1,1,1,1,1,1,1,1,0,1,1,1,1,1,1,1,1,1,1,1,1,1,1,1,1,1,1,1,1,1,1,1,1,1,1,1,1,1,1,1,0,1,1,1,1,1,1,1,1,1,1,1,1,1,1,1,1,1,1,1,0,1,1,1,1,1,1,1,1,1,1,1,1,1,1,1,1,1,1,1,0,1,1,0,0,1,1,1,1,1,1,1,1,1,1,1,1,0,1,1,1,1,1,1,1,1,1,1,1,1,1,1,1,1,1,1,1,1,1,1,1,1,1,1,1,1,1,1,1,1,1,1,1,1,1,1,1,1,1,1,1,1,1,1,1,1,1,1,1,1,1,1,1,1,1,1,1,1,1,1,1,1,1,1,1,1,1,1,1,1,1,1,1,1,1,1,1,1,1,1,1,1,1,1,1,1,1,1,1,1,1,1,1,1,1,1,1,1,1,1,1,1,1,1,1,1,1,1,1,1,1,1,1,1,1,0,1,1,1,1,1,1,1,1,1,1,1,1,1,1,1,1,1,1,1,1,1,1,1,1,1,1,1,1,1,1,1,1,1,1,1,0,1,1,1,1,1,1,1,1,1,1,1,1,1\\n1,1,1,1,1,1,1,1,1,1,1,1,1,1,1,1,1,1,1,1,1,1,1,1,1,1,1,1,1,1,1,1,1,1,1,1,1,1,1,1,1,1,1,1,1,1,1,1,1,1,1,1,1,1,1,1,1,1,1,1,1,1,1,1,1,1,1,0,1,1,1,1,1,1,1,1,1,1,1,1,1,1,1,1,1,1,1,1,1,1,1,1,1,1,1,1,1,1,1,1,0,0,0,1,1,1,1,1,1,1,1,1,1,1,1,1,1,1,1,0,1,1,1,1,1,1,1,1,1,1,1,1,1,1,1,1,1,1,1,1,1,1,1,1,1,1,1,1,1,1,1,1,1,1,1,1,1,1,1,1,1,1,1,1,1,1,1,1,1,1,1,1,1,1,1,1,1,1,1,1,1,1,1,1,1,1,1,1,1,1,1,1,1,1,1,1,1,1,1,1,1,1,1,1,1,1,1,1,1,1,1,1,1,1,1,1,1,1,1,1,1,1,1,1,1,1,1,1,1,1,1,1,1,1,1,1,1,1,1,1,1,1,1,1,1,1,1,1,1,1,1,1,1,1,1,1,1,1,1,1,1,1,1,1,1,1,1,1,1,1,1,1,1,1,1,1,1,1,1,1\\n1,1,1,1,1,1,1,1,1,1,1,1,1,1,1,1,1,1,1,1,1,1,1,1,1,1,1,1,1,1,1,1,1,1,1,1,1,1,1,1,1,1,1,1,1,1,1,1,1,1,1,1,1,1,1,1,1,1,1,1,1,1,1,1,1,1,1,1,1,1,1,1,1,1,1,1,1,1,1,1,1,1,1,1,1,1,1,1,1,1,1,1,1,1,1,1,1,1,1,0,0,0,0,1,1,1,1,1,1,1,1,1,1,1,1,1,1,1,1,1,0,1,1,1,1,1,1,1,1,1,1,1,1,1,1,1,1,0,1,1,1,1,1,1,1,1,1,1,1,1,0,1,1,1,1,1,1,1,1,1,1,1,1,1,1,1,1,1,1,1,1,1,1,1,1,1,1,1,1,1,1,1,1,1,1,1,1,1,1,1,1,1,1,1,1,1,1,1,1,1,1,1,1,1,1,1,1,1,1,1,1,1,1,1,1,1,1,1,1,1,1,1,1,1,1,1,1,1,1,1,1,1,1,1,1,1,1,1,1,1,0,0,0,0,1,1,1,1,1,0,1,1,1,1,1,1,0,1,1,1,1,1,1,1,1,1,1,1,1,1,1,1,1,1,1,0,1,1,1,1\\n1,1,1,1,1,1,1,1,1,1,1,0,0,0,0,0,0,0,1,1,1,1,1,1,1,1,1,1,1,1,1,1,1,1,1,1,1,1,1,1,0,1,1,1,1,1,1,1,1,0,1,1,1,1,1,1,1,1,1,1,1,1,1,1,1,1,1,1,1,1,1,1,1,1,1,1,1,1,1,1,1,1,1,1,1,1,1,1,1,1,1,1,0,1,1,1,1,0,0,0,0,0,0,1,1,1,1,1,1,1,1,1,1,1,1,1,1,1,1,1,1,1,1,1,1,1,1,1,1,1,1,1,1,1,1,1,1,1,1,1,1,1,1,1,1,1,1,1,1,1,1,1,1,1,1,1,1,1,1,1,1,1,1,1,1,1,1,1,1,1,1,1,1,1,1,1,1,1,1,1,1,1,1,1,1,1,1,1,1,1,1,1,1,1,1,1,1,1,1,1,1,1,1,1,1,1,1,1,1,1,1,1,1,1,1,1,1,1,1,1,1,1,1,1,1,1,1,1,1,1,1,1,0,1,1,1,1,1,1,0,0,0,0,0,1,1,1,1,1,1,1,1,1,1,1,1,1,1,1,1,1,1,1,1,1,1,1,1,1,1,1,1,1,1,1,1,1,1,1,1\\n1,1,1,1,1,1,1,1,1,1,0,0,0,0,0,0,0,1,1,1,1,1,1,1,1,1,1,1,1,1,1,1,1,1,1,1,1,1,1,1,1,1,1,1,1,1,1,1,1,1,1,1,1,1,1,1,1,1,1,0,0,0,0,0,0,0,0,0,0,0,0,0,1,1,1,1,1,1,1,1,1,1,1,1,1,1,1,1,1,1,1,1,1,1,1,1,0,0,0,0,0,0,1,1,1,1,0,1,1,1,1,1,1,1,1,1,1,1,1,1,1,1,1,0,0,0,0,1,1,1,1,1,1,0,1,1,1,1,1,1,1,1,1,1,1,1,1,1,1,1,1,1,1,1,1,1,1,1,1,1,1,1,1,1,1,1,1,1,1,1,0,1,1,1,1,1,1,1,1,0,0,0,0,0,0,0,1,1,1,1,1,1,1,1,0,1,1,1,1,1,1,1,1,1,1,1,1,1,1,1,1,1,1,1,1,0,0,0,0,1,1,1,1,1,1,1,1,1,1,1,1,1,1,1,1,1,1,1,0,0,0,0,1,1,1,1,1,1,1,1,1,1,1,1,1,1,1,1,1,0,1,1,1,1,1,1,1,1,1,1,1,1,1,1,1,1,1,1,1,1\\n1,1,1,1,1,1,1,1,1,1,0,0,0,0,0,0,0,0,0,1,1,1,1,1,1,1,1,1,1,1,1,1,1,1,1,1,1,1,1,1,1,1,1,1,1,1,1,1,1,1,1,1,1,1,1,1,1,1,1,0,0,0,0,0,0,0,0,0,0,1,0,0,0,0,0,1,1,1,1,1,1,1,1,1,1,1,1,1,1,1,1,1,1,1,1,1,0,0,0,0,0,1,1,1,1,1,1,1,1,1,1,1,1,1,1,1,1,1,1,1,1,1,1,0,0,0,0,1,1,1,1,1,1,1,1,1,1,1,1,1,1,1,1,1,1,1,1,1,1,1,1,1,1,1,1,1,1,1,1,1,1,1,1,1,1,1,1,1,1,1,1,1,1,1,1,1,1,0,0,0,0,0,0,0,0,0,1,1,1,1,1,1,1,1,1,1,1,1,1,1,1,1,1,1,1,1,1,1,1,1,1,0,0,0,0,0,0,0,0,1,1,1,1,1,1,1,1,1,1,1,1,1,1,0,1,1,1,0,0,0,0,0,1,1,1,1,1,1,1,1,1,1,1,1,1,1,1,1,1,1,1,1,1,1,1,1,1,1,1,1,1,1,1,1,1,1,1,1,1,1\\n1,1,1,1,1,1,1,1,1,1,1,0,1,0,1,1,1,1,0,1,1,1,1,1,1,1,1,1,1,1,1,1,1,1,1,1,1,1,1,1,1,1,-1,-1,-1,-1,1,1,0,0,0,0,0,0,1,1,1,1,1,0,0,0,0,0,1,0,0,0,0,0,1,1,1,1,0,1,1,1,1,1,1,1,1,1,1,1,1,1,1,1,1,1,1,1,1,0,0,0,1,1,-1,-1,1,1,1,1,1,1,1,1,1,1,1,1,1,1,1,1,1,1,1,1,1,0,0,0,1,-1,-1,-1,1,0,1,1,1,1,1,0,1,1,1,1,1,1,1,1,1,1,1,1,0,1,0,1,-1,1,1,1,0,0,0,1,1,1,1,1,1,1,1,1,1,1,1,1,1,1,1,0,0,0,0,1,-1,1,1,1,0,1,1,1,1,1,1,1,1,1,1,1,1,1,1,1,1,1,1,1,1,0,0,0,1,1,1,1,0,0,0,0,0,1,1,1,1,1,1,1,1,1,1,1,1,1,1,1,1,1,0,0,1,1,-1,-1,1,1,1,1,1,1,1,1,1,1,1,1,1,1,1,1,1,1,1,1,1,1,1,0,1,1,1,1,0,1,1,1,1,1,1,1,1,1\\n1,1,1,1,1,1,1,1,1,1,1,1,0,1,1,1,1,1,1,-1,1,1,1,1,1,1,1,1,1,1,1,1,1,1,1,1,1,1,1,1,1,-1,-1,-1,-1,-1,1,1,0,0,0,0,0,0,1,1,1,1,0,0,0,0,0,0,1,1,1,1,1,-1,1,1,1,1,1,-1,1,1,1,1,1,1,1,1,1,1,1,1,1,1,1,1,1,1,1,0,0,1,1,-1,-1,-1,-1,-1,1,1,1,1,1,1,1,1,1,1,1,1,1,1,1,1,1,1,1,1,0,1,1,-1,-1,-1,-1,-1,1,1,1,1,1,1,1,1,1,1,1,1,1,1,1,1,1,1,1,1,0,1,1,1,1,1,1,1,0,0,1,1,1,1,1,1,1,1,1,1,1,1,0,1,0,0,0,1,1,-1,-1,-1,1,1,1,-1,1,1,1,1,1,1,1,1,1,1,1,1,1,1,1,1,1,1,1,0,0,1,1,1,1,1,-1,1,0,0,1,1,1,1,1,1,1,1,1,1,1,1,1,1,1,1,1,1,0,1,1,-1,-1,-1,-1,-1,1,1,1,1,1,1,1,1,1,1,1,1,1,1,1,0,1,1,1,1,0,-1,1,1,1,1,1,1,1,1,1,1,1,1,1,1\\n1,1,1,1,1,1,1,1,1,1,1,-1,1,1,1,1,1,1,1,-1,1,1,1,1,1,1,1,1,1,1,0,1,1,1,1,1,1,1,1,1,-1,-1,-1,-1,1,1,1,1,0,0,0,1,0,1,1,1,1,1,1,0,1,1,1,1,1,1,1,-1,-1,-1,1,1,1,1,1,-1,1,1,1,1,1,1,1,1,1,1,1,1,1,1,1,1,1,1,0,1,1,1,1,-1,-1,-1,-1,-1,1,1,1,1,1,1,1,1,1,1,1,1,1,1,1,1,1,1,1,-1,1,1,1,1,-1,-1,-1,-1,1,1,1,1,1,1,1,1,1,1,1,1,1,1,1,1,0,0,0,1,1,1,1,1,1,1,1,1,0,0,1,1,1,1,1,1,1,1,1,1,1,1,1,1,0,0,0,-1,-1,-1,-1,-1,1,1,1,1,1,1,1,1,1,1,1,1,1,1,1,1,1,1,0,1,1,1,0,1,1,1,1,1,1,1,1,1,0,0,1,1,1,1,1,1,1,1,1,1,1,1,1,1,1,0,1,1,1,1,-1,-1,-1,-1,-1,-1,1,1,1,1,1,1,1,1,0,1,1,1,1,1,1,1,1,1,1,1,1,1,1,1,1,1,1,1,0,1,1,1,1,1,1,1\\n1,1,1,1,1,1,1,1,1,1,1,-1,-1,1,1,0,0,1,1,-1,-1,1,1,1,0,1,1,1,1,0,1,1,1,1,1,1,1,1,1,-1,-1,-1,1,0,0,1,1,1,1,0,1,1,1,1,1,1,1,1,1,1,1,1,1,1,1,1,1,-1,1,1,1,0,0,1,-1,-1,-1,1,1,1,1,1,1,1,1,1,1,1,1,1,1,1,1,0,0,1,1,1,-1,1,1,-1,-1,-1,-1,1,1,1,1,1,1,1,1,1,1,1,1,1,1,1,1,1,1,-1,1,1,1,0,1,-1,-1,-1,-1,1,1,0,1,1,1,1,1,1,1,1,1,1,1,0,0,0,0,1,1,1,1,0,0,1,1,1,1,0,1,1,1,1,1,1,1,1,1,1,1,1,1,1,0,0,1,-1,-1,1,-1,1,0,1,1,1,-1,1,1,1,1,1,1,1,1,1,1,1,1,1,1,1,1,1,0,1,1,1,-1,1,0,1,1,1,1,1,1,1,1,1,1,1,1,1,1,1,1,1,1,1,1,1,1,1,1,1,-1,1,1,-1,-1,-1,-1,1,1,1,1,1,1,1,1,1,1,1,1,1,1,1,1,1,1,1,1,1,-1,1,1,1,1,1,1,1,1,1,1,1,1,1\\n1,1,1,1,1,1,1,1,1,1,1,-1,1,-1,0,0,1,1,1,-1,1,1,1,1,1,1,1,1,1,1,1,1,1,1,1,1,1,1,1,-1,-1,-1,0,0,1,1,-1,-1,1,1,1,1,1,1,1,1,1,1,1,1,1,1,1,1,1,1,1,1,1,1,0,0,1,1,-1,-1,1,1,1,1,1,1,1,1,1,1,1,1,1,1,1,1,0,0,0,1,1,-1,1,1,-1,1,1,1,1,0,1,1,1,1,1,1,1,1,1,1,1,1,1,1,1,1,1,-1,1,1,0,0,-1,-1,-1,-1,1,1,1,1,1,1,1,1,1,1,1,1,1,1,1,0,0,0,0,1,1,1,1,1,-1,1,1,1,0,0,1,1,1,1,1,1,1,1,1,1,1,1,1,1,1,1,1,1,-1,-1,1,1,1,1,1,1,1,1,1,1,1,1,1,1,1,1,1,1,1,1,1,1,1,1,1,1,1,1,0,0,1,1,1,1,1,1,1,1,1,1,1,1,1,1,1,1,1,1,1,1,1,1,1,1,1,-1,1,1,-1,-1,-1,-1,1,1,1,1,1,1,1,1,1,1,1,1,1,1,1,1,1,1,1,1,1,1,1,1,-1,1,1,1,0,1,1,1,1,1,1,1\\n1,1,1,1,1,1,1,1,1,1,0,1,1,1,1,1,1,1,1,-1,1,1,1,1,1,1,1,1,1,1,1,1,1,1,1,1,1,1,1,1,1,1,1,1,1,-1,-1,-1,1,1,1,1,1,1,1,1,1,1,1,1,1,1,1,1,1,1,0,1,1,1,1,1,-1,1,-1,-1,1,1,1,0,1,1,1,1,1,1,1,1,1,1,1,1,0,0,0,1,1,-1,-1,1,1,1,1,1,0,0,1,1,1,1,1,1,1,1,1,1,1,1,1,1,1,1,1,-1,1,1,1,1,-1,-1,-1,-1,1,1,1,1,1,1,1,1,1,1,1,1,1,1,0,0,0,0,0,1,-1,-1,-1,-1,-1,1,1,1,0,1,1,1,1,1,1,1,1,1,1,1,1,1,1,1,1,1,1,-1,-1,-1,-1,-1,-1,1,1,1,1,1,1,1,1,1,1,1,1,1,1,1,0,1,1,1,1,1,0,1,1,1,1,1,1,1,1,-1,1,1,1,1,1,1,1,1,1,1,1,1,1,1,1,1,1,1,0,1,1,-1,-1,-1,-1,1,-1,-1,1,1,1,1,1,1,1,1,1,1,1,1,1,1,1,1,1,1,1,1,1,-1,1,1,1,1,1,1,1,1,1,1,1,1,1,1\\n1,1,1,1,1,1,1,1,1,1,1,1,1,1,1,1,1,1,1,1,1,1,1,1,1,1,1,1,1,1,1,1,1,1,1,1,1,1,1,1,1,1,1,-1,-1,-1,-1,1,1,1,1,1,1,1,1,1,1,1,1,1,1,1,1,1,0,1,0,1,1,1,1,1,1,1,1,0,1,1,1,1,1,1,1,1,1,1,1,1,1,1,1,1,0,0,0,1,1,-1,1,1,1,1,1,0,0,0,0,1,1,1,1,1,1,1,1,1,1,1,1,1,1,1,1,-1,1,1,1,1,-1,-1,-1,1,1,1,1,1,1,1,1,1,1,1,1,1,1,1,0,0,0,0,0,-1,-1,-1,-1,1,1,1,1,0,0,1,1,1,1,1,1,1,1,1,1,1,1,1,1,1,1,1,1,-1,-1,-1,-1,-1,1,1,1,0,1,1,1,1,0,1,1,1,1,1,1,1,1,1,1,1,1,1,1,1,1,1,1,1,1,1,1,1,1,1,1,1,1,1,1,1,1,1,1,1,1,1,1,1,1,1,0,1,1,-1,1,1,1,1,1,1,1,1,1,1,1,1,1,1,1,1,1,1,1,1,1,1,1,1,1,1,1,1,1,1,1,1,-1,1,1,1,1,1,1,1,1,1\\n0,1,1,1,1,1,1,1,1,1,1,1,1,1,1,1,1,1,0,1,1,1,1,1,1,1,1,1,1,1,1,1,1,1,1,1,1,1,1,1,1,1,-1,-1,-1,-1,1,1,1,1,1,1,1,1,1,1,1,1,1,1,1,1,1,1,1,0,0,1,1,1,1,1,1,1,0,0,0,0,1,1,1,1,1,1,1,1,1,0,1,1,1,0,0,0,0,1,-1,1,1,1,1,1,0,0,0,0,0,1,1,1,1,1,1,1,1,1,1,1,1,1,1,1,1,-1,1,1,1,1,-1,-1,1,1,1,1,1,1,1,1,1,1,1,1,1,1,0,0,1,0,0,0,1,-1,-1,-1,-1,1,1,1,0,0,1,1,1,1,1,1,1,1,1,1,1,1,1,1,1,1,1,1,1,-1,-1,-1,-1,-1,1,1,0,0,1,1,0,0,0,0,0,1,1,1,1,1,1,1,1,1,1,1,1,1,1,-1,1,1,1,1,1,1,1,1,1,1,1,1,1,1,1,1,1,1,1,1,1,1,1,1,0,1,-1,1,1,1,1,1,0,0,1,1,1,1,1,1,1,1,1,1,1,1,1,1,1,1,1,1,1,1,1,1,1,1,1,1,1,1,1,1,1,1,1,1,1,1\\n1,1,1,1,1,1,1,1,1,1,1,-1,1,1,1,1,1,1,0,1,1,1,1,1,1,1,1,1,1,0,1,1,1,1,1,1,1,1,1,1,1,1,1,-1,-1,-1,1,1,1,1,1,1,1,1,1,1,1,0,1,1,1,1,1,0,1,1,1,-1,1,1,1,1,1,1,0,0,0,0,0,1,1,1,1,1,1,1,1,1,1,1,1,0,0,0,0,-1,1,1,1,1,1,1,0,0,0,0,1,1,1,1,1,1,1,1,1,1,1,1,1,1,1,1,1,-1,1,1,1,1,-1,-1,1,1,1,1,1,1,1,1,1,1,1,1,1,1,1,1,1,1,1,1,1,-1,-1,-1,1,1,1,1,0,1,1,1,1,1,1,1,1,1,1,1,1,1,1,1,1,1,0,1,1,-1,-1,-1,1,1,1,1,0,0,0,0,0,0,0,0,1,1,1,1,1,1,1,1,1,1,1,1,0,1,1,1,1,1,-1,-1,1,1,1,1,1,1,1,1,1,1,1,1,1,1,1,1,1,1,1,0,0,1,1,1,1,-1,-1,-1,0,0,1,1,1,1,1,1,1,1,1,1,0,1,1,1,1,1,1,1,1,-1,1,1,1,1,1,-1,1,1,1,1,1,1,1,1,1,1\\n1,1,1,1,1,1,1,1,1,1,1,1,1,-1,-1,1,1,0,0,0,1,1,1,1,1,1,1,1,1,1,1,1,1,1,1,1,0,0,1,0,0,1,1,1,-1,1,1,1,1,1,1,1,1,1,1,1,1,1,1,1,1,1,1,1,1,1,1,1,1,-1,-1,-1,1,0,0,0,0,0,0,1,1,1,1,1,1,1,1,1,1,1,1,0,0,0,1,1,0,1,1,1,-1,0,0,0,1,1,1,1,1,1,1,1,1,1,1,1,1,1,1,1,1,1,1,1,0,1,1,-1,-1,1,1,1,1,1,1,1,1,1,1,1,1,1,1,1,1,1,1,1,1,1,1,1,1,-1,1,1,1,0,1,1,1,1,1,1,1,1,1,1,1,1,1,1,1,1,1,1,0,0,0,0,0,1,1,1,1,0,0,0,0,0,0,0,0,1,1,1,1,1,1,1,0,1,1,1,1,1,0,0,0,1,1,1,-1,1,1,1,1,1,1,1,1,1,0,1,1,1,1,1,1,1,1,1,0,0,0,0,1,1,1,-1,-1,1,0,0,1,1,1,1,1,1,1,1,1,1,1,1,1,1,1,1,1,1,1,1,1,1,1,1,1,1,1,1,1,1,1,1,1,1,1,1\\n0,1,1,1,1,1,1,1,1,1,1,1,1,-1,-1,1,1,0,0,0,1,1,1,1,1,1,1,1,1,1,1,1,1,1,0,0,0,0,1,1,0,1,1,1,-1,1,1,1,1,1,1,1,1,1,1,1,1,1,1,1,1,1,1,1,1,1,1,1,1,-1,-1,-1,-1,0,0,0,0,0,0,1,1,1,1,1,1,1,1,1,1,1,1,0,0,0,1,0,0,1,1,-1,1,0,0,0,1,1,1,1,1,1,1,0,1,1,1,1,1,1,1,1,1,1,1,1,0,1,1,1,-1,1,1,1,1,1,1,1,1,1,1,1,1,1,1,1,1,1,1,1,1,1,1,1,1,1,1,1,1,1,1,0,1,1,1,1,1,1,1,1,1,1,1,1,1,1,0,0,0,0,0,0,0,1,-1,1,1,0,0,0,1,1,1,1,1,1,1,1,1,1,1,1,1,1,1,1,0,0,0,0,0,1,1,1,-1,1,1,1,1,1,1,1,1,1,1,1,1,1,1,1,1,1,1,1,1,0,0,0,1,-1,-1,-1,-1,1,0,0,1,1,0,1,1,1,1,1,1,1,1,1,1,1,1,1,1,1,1,1,1,1,1,1,1,1,1,1,1,1,1,1,1,1,1,1\\n1,1,1,1,1,1,1,1,1,1,1,1,1,-1,-1,1,0,0,0,1,1,1,1,1,1,1,1,1,1,1,1,1,1,0,0,0,1,1,1,1,0,1,1,1,1,1,1,1,1,1,1,1,1,1,1,1,1,1,1,1,1,1,1,1,1,1,1,1,1,-1,-1,-1,1,1,0,0,0,0,0,1,1,1,1,1,1,1,1,1,1,1,1,0,0,0,1,0,0,1,1,1,0,0,0,0,1,1,1,1,1,1,1,1,1,1,1,1,1,1,1,1,1,1,1,1,0,1,1,1,1,1,1,1,1,1,1,1,1,1,1,0,1,1,1,1,1,1,1,1,1,1,1,1,0,1,1,1,0,0,1,1,1,1,1,1,1,0,1,1,1,1,1,1,1,1,0,0,0,0,0,0,0,1,-1,1,0,0,0,1,1,1,1,1,1,1,1,1,1,1,1,1,1,1,1,1,0,0,0,0,0,1,1,1,1,1,1,1,1,1,1,0,1,1,1,1,1,1,1,1,1,1,1,1,1,0,0,0,1,-1,-1,-1,1,1,0,0,1,1,1,1,1,1,1,1,1,1,1,1,1,1,0,1,1,1,1,1,1,1,1,1,0,1,1,1,1,1,1,1,1,1,1,1\\n1,1,1,1,1,1,0,0,0,1,1,1,1,-1,1,1,0,0,0,1,1,1,1,1,1,1,1,1,1,1,1,1,1,1,0,0,0,0,0,0,0,1,1,-1,1,1,1,1,1,1,1,1,1,1,1,1,1,1,1,1,1,1,1,1,0,0,0,1,1,-1,-1,-1,1,0,0,0,0,0,0,1,1,1,1,1,1,1,1,1,1,1,1,0,0,0,0,0,0,1,1,1,0,1,1,1,1,1,1,1,1,1,1,1,1,1,1,1,1,1,1,1,1,1,1,1,0,1,1,1,1,1,1,1,1,1,1,1,1,1,1,1,1,1,1,1,1,1,1,1,1,1,1,0,0,1,1,1,0,1,1,1,1,1,1,1,1,1,1,1,1,1,1,1,1,1,0,0,0,1,1,1,1,1,1,1,0,0,1,1,1,1,1,1,1,1,1,1,1,1,1,1,1,1,1,0,0,0,0,0,0,1,1,1,1,1,1,1,1,1,1,1,1,1,1,1,1,1,1,1,1,1,1,1,1,0,0,0,1,-1,-1,-1,1,0,0,1,1,0,0,1,0,1,1,1,1,1,0,1,1,1,1,1,0,0,1,1,0,1,1,1,1,1,1,1,1,1,1,1,1,1,1,1\\n1,1,1,1,0,1,0,0,1,0,0,-1,1,1,0,0,0,0,0,1,1,1,1,1,1,1,1,1,1,1,1,1,1,1,1,0,0,0,0,1,1,1,0,0,1,1,1,1,1,1,1,1,1,1,1,1,1,1,1,1,1,1,1,0,0,0,0,-1,-1,-1,1,1,0,0,0,0,0,0,1,1,0,1,1,1,1,1,1,1,1,1,1,0,0,0,0,1,1,1,0,0,0,1,1,0,1,1,1,1,1,1,1,1,1,1,1,1,1,1,1,1,0,1,1,-1,1,1,0,0,1,1,1,1,1,1,1,1,1,0,1,1,1,1,1,1,1,1,1,1,1,1,0,1,1,1,1,0,1,1,1,1,1,1,1,1,1,1,1,1,1,1,1,1,1,1,0,0,0,1,1,-1,-1,1,0,0,0,1,1,1,1,1,1,1,1,1,1,1,1,1,1,1,1,1,1,0,0,0,1,1,1,1,0,0,1,1,1,1,0,1,0,1,1,1,1,1,1,1,1,1,1,1,1,1,1,0,0,1,-1,-1,1,1,0,0,0,0,1,1,1,1,1,1,1,1,1,1,1,1,1,1,1,1,1,1,1,1,1,1,0,1,1,1,1,1,1,1,1,1,1,1,1,1\\n1,1,1,1,1,1,0,0,0,0,1,1,1,1,1,0,1,0,1,1,1,1,1,1,1,1,1,1,1,1,1,1,1,1,1,1,1,1,-1,-1,-1,-1,-1,1,1,1,1,1,1,1,1,1,1,1,1,1,1,1,1,1,1,1,0,0,0,0,1,1,-1,-1,1,0,0,0,0,0,0,0,1,1,1,1,1,1,1,1,1,1,1,1,1,1,0,0,1,1,1,1,1,0,1,1,1,1,1,1,1,1,1,1,1,1,1,1,1,1,1,1,1,1,1,1,-1,-1,1,1,1,0,1,1,1,1,1,1,1,1,1,1,1,1,1,1,1,1,1,1,1,1,1,1,1,1,1,1,-1,1,1,1,1,1,1,1,1,1,1,1,1,1,1,1,1,1,1,1,0,0,0,0,1,1,1,1,1,0,1,1,1,1,1,1,1,0,1,1,1,1,1,1,1,1,1,1,1,0,0,0,1,1,1,1,1,1,1,1,1,1,1,1,1,1,1,1,1,1,1,1,1,1,1,1,1,1,1,1,1,1,1,1,1,0,0,0,0,1,1,1,1,1,1,1,1,1,1,1,1,1,1,1,1,1,1,1,-1,1,1,1,-1,1,1,1,1,1,1,1,1,1,1,1,1,1\\n1,1,1,1,1,1,1,0,0,0,1,1,1,1,0,0,1,1,1,1,1,1,1,1,1,1,1,1,1,1,1,1,1,1,1,1,1,1,-1,-1,-1,-1,1,1,1,1,1,1,1,1,1,1,1,1,1,1,1,1,1,1,1,1,1,0,0,0,1,1,1,1,0,0,0,0,0,0,0,1,1,1,1,1,1,1,1,1,1,1,1,1,1,1,1,1,-1,-1,-1,-1,1,1,1,1,1,1,1,1,1,1,1,1,1,1,1,1,1,1,1,1,1,1,1,1,-1,-1,-1,1,0,0,1,1,1,1,1,1,1,1,1,1,1,1,1,1,1,1,1,1,1,1,1,0,1,1,1,1,1,1,1,1,1,1,1,1,1,1,1,1,1,1,1,1,1,1,1,1,1,0,1,0,1,1,1,1,1,1,1,1,1,1,1,1,1,1,1,1,1,1,1,1,0,1,1,1,1,0,0,0,1,1,1,1,1,1,1,1,1,1,1,1,1,1,1,1,1,1,1,1,1,1,1,1,1,1,1,1,-1,1,1,1,0,0,0,0,1,1,1,1,1,1,1,1,1,1,1,1,1,1,1,1,1,1,1,1,1,1,1,1,1,1,1,1,1,1,1,1,1,1,1,1,1,1\\n1,1,1,1,1,1,1,1,0,0,1,1,0,0,0,0,1,1,1,1,1,1,1,1,1,1,1,1,1,1,1,1,1,1,1,1,1,1,-1,-1,1,1,1,1,1,1,1,0,1,1,1,1,1,1,1,1,1,1,1,1,1,1,1,0,0,0,1,1,0,0,1,0,0,0,0,0,1,1,1,1,1,1,1,1,1,1,1,1,1,1,1,1,1,1,-1,-1,1,1,1,1,1,1,1,1,1,1,1,1,1,1,1,1,1,1,1,1,1,1,1,1,1,1,-1,-1,1,0,0,0,1,1,1,1,1,1,1,1,1,1,1,1,1,0,1,1,1,1,1,1,1,0,1,1,0,1,1,1,1,1,1,1,1,1,1,1,1,1,1,1,1,1,1,0,1,1,1,1,1,1,-1,-1,1,1,1,1,1,0,1,1,1,1,1,1,1,1,1,1,1,1,1,1,1,1,1,0,0,0,1,1,0,0,1,1,1,1,1,1,1,1,1,1,1,1,1,1,1,1,1,1,1,1,1,1,1,1,-1,-1,1,1,1,1,1,1,1,1,1,1,1,1,1,1,1,1,1,1,1,1,1,1,1,1,1,0,1,-1,0,1,1,1,1,1,1,1,1,1,1,1,1,1,1,1\\n1,1,1,1,1,1,1,1,1,-1,-1,-1,1,1,1,1,1,1,1,1,1,1,1,1,1,1,1,1,1,1,1,1,1,1,1,1,1,-1,-1,-1,1,1,1,1,1,1,1,1,1,1,1,1,1,1,1,1,1,1,1,1,1,1,1,1,0,1,1,1,0,0,0,0,0,0,1,1,1,1,1,1,1,1,1,1,1,1,1,1,1,1,1,1,1,-1,-1,-1,1,1,1,1,1,1,1,1,1,1,1,1,1,1,1,1,1,1,1,1,1,1,1,1,1,-1,-1,-1,1,0,0,0,1,1,1,1,1,1,1,1,1,0,1,1,1,1,1,1,1,1,1,1,1,1,1,1,0,1,1,1,1,1,1,1,1,1,1,1,1,1,1,1,1,1,1,1,1,1,1,1,1,-1,-1,-1,1,1,0,1,1,1,1,1,1,1,1,1,1,1,1,1,1,1,1,1,1,1,1,0,0,1,1,1,1,1,1,1,1,1,1,1,0,1,1,0,1,1,1,1,1,1,1,1,1,1,1,1,1,-1,-1,-1,1,1,1,1,1,1,1,1,1,1,1,1,1,1,1,1,1,1,1,1,1,1,1,1,0,1,1,1,1,1,1,1,1,1,1,1,1,1,1,1,1,1,1,1\\n1,1,1,1,1,1,0,1,-1,-1,-1,1,1,1,1,1,1,1,1,1,1,1,1,1,1,1,1,1,1,1,1,1,1,1,1,1,-1,-1,-1,0,1,1,1,1,1,1,1,1,1,1,1,1,1,1,1,1,1,1,1,1,1,1,1,1,-1,-1,-1,1,1,1,1,1,1,1,1,1,1,1,1,1,1,1,1,1,1,1,1,1,1,1,1,1,-1,-1,-1,1,0,1,1,1,1,1,1,1,1,1,1,1,1,1,1,1,1,1,1,1,1,1,1,1,-1,-1,-1,1,1,1,1,1,1,1,1,1,1,1,1,1,1,1,1,1,1,1,1,1,1,1,1,0,1,1,1,0,1,1,1,1,1,1,1,1,1,1,1,1,1,1,1,1,1,1,1,1,1,1,1,1,-1,-1,-1,1,1,1,1,1,1,1,1,1,1,1,1,1,1,1,1,1,1,1,1,1,1,1,1,1,-1,-1,-1,1,1,1,1,1,1,1,1,1,1,1,1,1,1,1,1,1,1,1,1,1,1,1,1,1,-1,-1,-1,1,1,1,1,1,1,1,1,1,1,1,1,1,1,1,1,1,1,1,1,1,1,1,1,1,1,1,1,0,1,1,1,1,1,1,1,1,1,1,1,1,1,1,1,1\\n1,1,1,1,1,1,1,1,-1,-1,1,1,1,1,1,1,1,1,1,1,1,1,1,1,1,1,1,1,1,1,1,1,1,1,1,1,-1,-1,1,1,1,1,1,1,1,1,1,1,1,1,1,1,1,1,1,1,1,1,1,1,1,1,1,1,-1,-1,1,1,1,1,1,1,1,1,1,1,1,1,1,1,1,1,1,1,1,1,1,1,1,1,1,1,-1,-1,1,1,1,1,1,1,1,1,1,1,1,1,1,1,1,1,1,1,1,1,1,1,1,1,1,1,-1,-1,1,1,1,1,1,1,1,1,1,1,1,1,1,1,1,1,1,1,1,1,1,1,1,1,1,1,1,1,0,1,1,1,1,0,1,1,1,1,1,1,1,1,1,1,1,1,1,1,1,1,1,1,1,1,-1,-1,1,1,1,1,1,1,1,1,1,1,1,1,1,1,1,1,1,1,1,1,1,1,1,1,0,1,-1,-1,1,1,1,1,1,1,1,1,1,1,1,1,1,1,1,1,1,1,1,1,1,1,1,1,1,1,-1,-1,1,1,1,1,1,1,1,1,1,1,1,1,1,1,1,1,1,1,1,1,1,1,1,1,1,0,1,1,0,1,1,1,1,1,1,1,1,1,1,1,1,1,1,1,1,1\\n1,1,1,1,1,1,1,1,1,1,1,1,1,1,1,1,0,0,1,1,1,1,1,0,1,1,1,1,1,1,1,1,1,1,1,1,1,1,1,1,1,1,1,1,1,1,1,1,1,1,1,1,1,1,1,1,1,1,1,1,1,1,1,1,1,1,1,1,1,1,1,1,1,1,1,1,1,1,1,1,1,1,1,1,1,1,1,1,1,1,1,1,1,1,1,1,1,1,1,1,1,1,1,1,1,1,1,1,1,1,0,1,1,1,1,1,1,1,1,1,1,1,1,1,1,1,1,1,1,1,1,1,1,1,1,1,1,1,1,1,1,1,1,1,1,1,1,1,1,1,1,1,1,1,1,1,1,0,1,1,1,1,1,1,1,1,1,1,1,1,1,1,1,1,1,1,1,1,1,1,1,1,1,1,1,1,1,1,1,1,1,1,1,1,1,1,1,1,1,1,1,1,1,1,1,1,1,1,1,1,1,1,1,1,1,1,1,1,1,1,1,1,1,1,1,1,1,1,1,1,1,1,1,1,1,1,1,1,1,1,1,1,1,1,1,1,1,1,1,1,1,1,1,1,1,1,1,1,1,1,1,1,1,1,1,1,1,1,1,1,1,1,1,1,1,1,1,1,1,1\\n'"
      ]
     },
     "execution_count": 272,
     "metadata": {},
     "output_type": "execute_result"
    }
   ],
   "source": [
    "output_str # X in {0,1}"
   ]
  },
  {
   "cell_type": "code",
   "execution_count": 271,
   "metadata": {},
   "outputs": [
    {
     "data": {
      "text/plain": [
       "<function TextIOWrapper.close>"
      ]
     },
     "execution_count": 271,
     "metadata": {},
     "output_type": "execute_result"
    }
   ],
   "source": [
    "f= open(\"output.txt\",\"w+\")\n",
    "f.write(output_str)\n",
    "f.close()"
   ]
  },
  {
   "cell_type": "code",
   "execution_count": 190,
   "metadata": {
    "collapsed": true
   },
   "outputs": [],
   "source": [
    "im = copy.deepcopy(im_of_20_map[0,:,:])\n",
    "out_im = copy.deepcopy(im_of_20_map[0,:,:])\n",
    "im[:,:] = np.where(im[:,:] < 0.5 ,0,1)"
   ]
  },
  {
   "cell_type": "code",
   "execution_count": 191,
   "metadata": {
    "collapsed": true
   },
   "outputs": [],
   "source": [
    "theta_1 = 0.8\n",
    "theta_2 = 2\n",
    "im_temp =  copy.deepcopy(initial_df)\n",
    "im_temp_pr =  copy.deepcopy(initial_df)"
   ]
  },
  {
   "cell_type": "code",
   "execution_count": 192,
   "metadata": {},
   "outputs": [],
   "source": [
    "for k in range(5):\n",
    "    for i in range(28):\n",
    "        for j in range(28):\n",
    "            EQ_P = 0.0\n",
    "            EQ_Q = 0\n",
    "            if (i >= 1): \n",
    "                    EQ_P += theta_1 * (2 * im_temp_pr[i-1,j]-1) + theta_2 * im[i-1,j]\n",
    "            if (i < 27): \n",
    "                    EQ_P += theta_1 * (2 * im_temp_pr[i+1,j]-1) + theta_2 * im[i+1,j]\n",
    "            if (j >= 1): \n",
    "                    EQ_P += theta_1 * (2 * im_temp_pr[i,j-1]-1) + theta_2 * im[i,j-1]\n",
    "            if (j <27):\n",
    "                    EQ_P += theta_1 * (2 * im_temp_pr[i,j+1]-1) + theta_2 * im[i,j+1]\n",
    "            im_temp[i,j] = np.exp(EQ_P) / (np.exp(EQ_P)+np.exp(-EQ_P))\n",
    "    im_temp_pr  =  copy.deepcopy(im_temp)\n",
    "\n",
    "        \n",
    "#here is to loop over x y and get the pi[i] as in book page 263"
   ]
  },
  {
   "cell_type": "code",
   "execution_count": 186,
   "metadata": {},
   "outputs": [
    {
     "data": {
      "text/plain": [
       "array([[ 0.12740902,  0.99063091,  0.99858948,  0.99182831,  0.99976283,\n",
       "         0.99155932,  0.46782802,  0.99132822,  0.30278311,  0.99132805,\n",
       "         0.98327455,  0.99132804,  0.99115738,  0.99132592,  0.96408582,\n",
       "         0.99073241,  0.91147881,  0.82476324,  0.98438455,  0.01156283,\n",
       "         0.9911696 ,  0.00867552,  0.89432032,  0.00867214,  0.01724408,\n",
       "         0.0086989 ,  0.01588492,  0.04168815],\n",
       "       [ 0.9903739 ,  0.12468828,  0.99832164,  0.99996081,  0.99832191,\n",
       "         0.99004707,  0.99826629,  0.48314053,  0.99826624,  0.9799555 ,\n",
       "         0.99826624,  0.99825626,  0.99826624,  0.99819381,  0.99826561,\n",
       "         0.98901391,  0.9976319 ,  0.99531537,  0.39392031,  0.99825525,\n",
       "         0.00238908,  0.99806205,  0.00175688,  0.56400352,  0.00173688,\n",
       "         0.02137973,  0.00180422,  0.21750624],\n",
       "       [ 0.02314021,  0.99826583,  0.95382564,  0.99831386,  0.99828668,\n",
       "         0.99830467,  0.99235503,  0.99830466,  0.98815466,  0.99830466,\n",
       "         0.9982915 ,  0.99830466,  0.99830463,  0.99830471,  0.99824013,\n",
       "         0.99830453,  0.99743899,  0.99993458,  0.99831739,  0.44391019,\n",
       "         0.99830446,  0.02273248,  0.99732144,  0.00275154,  0.86900847,\n",
       "         0.00233884,  0.89721588,  0.02259448],\n",
       "       [ 0.99132732,  0.68111199,  0.99830467,  0.99805707,  0.99830488,\n",
       "         0.9983001 ,  0.99830487,  0.99802802,  0.99830492,  0.99829519,\n",
       "         0.99830492,  0.99830501,  0.99831391,  0.99831388,  0.99831401,\n",
       "         0.99829974,  0.99996907,  0.99834061,  0.99994659,  0.99832285,\n",
       "         0.92831284,  0.99831332,  0.40273727,  0.99750902,  0.0756386 ,\n",
       "         0.99549436,  0.12395109,  0.98833322],\n",
       "       [ 0.906296  ,  0.99826624,  0.99791464,  0.99830488,  0.99830438,\n",
       "         0.99830492,  0.99830338,  0.99830502,  0.99831164,  0.99831396,\n",
       "         0.998314  ,  0.99832302,  0.99996924,  0.9999694 ,  0.9999694 ,\n",
       "         0.9999694 ,  0.99996956,  0.99999944,  0.99996956,  0.99996788,\n",
       "         0.9999694 ,  0.999926  ,  0.99996939,  0.99948509,  0.99827287,\n",
       "         0.96563513,  0.99826804,  0.9229467 ],\n",
       "       [ 0.9913281 ,  0.99809918,  0.99831366,  0.99830451,  0.99830502,\n",
       "         0.99831386,  0.99830517,  0.99832291,  0.99996924,  0.9999694 ,\n",
       "         0.9999694 ,  0.99999944,  0.99999944,  0.99999999,  0.99999999,\n",
       "         0.99999999,  0.99999999,  0.99999999,  0.99999999,  0.99999999,\n",
       "         0.99999999,  0.99999999,  0.99999999,  0.99999944,  0.99996602,\n",
       "         0.99833138,  0.99996593,  0.99160371],\n",
       "       [ 0.99112841,  0.9982848 ,  0.9999689 ,  0.9983229 ,  0.9983229 ,\n",
       "         0.99996891,  0.99833202,  0.99999944,  0.99999944,  0.99999999,\n",
       "         0.99999999,  0.99999999,  1.        ,  1.        ,  1.        ,\n",
       "         1.        ,  1.        ,  1.        ,  1.        ,  1.        ,\n",
       "         1.        ,  1.        ,  1.        ,  0.99999944,  0.9999694 ,\n",
       "         0.99996906,  0.99833985,  0.99983947],\n",
       "       [ 0.99137484,  0.99996749,  0.99834054,  0.99996907,  0.99996907,\n",
       "         0.9983407 ,  0.99999944,  0.99999944,  1.        ,  1.        ,\n",
       "         1.        ,  1.        ,  1.        ,  1.        ,  1.        ,\n",
       "         1.        ,  1.        ,  1.        ,  0.99999999,  0.99999999,\n",
       "         0.99999999,  0.99999999,  0.99999944,  0.99999944,  0.998323  ,\n",
       "         0.9983229 ,  0.99996812,  0.99160478],\n",
       "       [ 0.97070833,  0.9982848 ,  0.99996814,  0.9983229 ,  0.9983229 ,\n",
       "         0.99996907,  0.9999694 ,  0.99999944,  1.        ,  1.        ,\n",
       "         1.        ,  1.        ,  1.        ,  1.        ,  1.        ,\n",
       "         0.99999999,  1.        ,  0.99999999,  0.99999944,  0.9999694 ,\n",
       "         0.9999694 ,  0.9999694 ,  0.9999694 ,  0.99832296,  0.99830507,\n",
       "         0.99821187,  0.99827569,  0.9847779 ],\n",
       "       [ 0.9913281 ,  0.94045248,  0.99831366,  0.99828178,  0.99830502,\n",
       "         0.99831396,  0.99832302,  0.99999944,  0.99999944,  1.        ,\n",
       "         1.        ,  1.        ,  1.        ,  1.        ,  0.99999944,\n",
       "         0.99999999,  0.99999944,  0.99999944,  0.99996924,  0.99832286,\n",
       "         0.99831416,  0.99833175,  0.99996907,  0.9983229 ,  0.99811074,\n",
       "         0.99830467,  0.94755909,  0.99132826],\n",
       "       [ 0.12191777,  0.99826624,  0.9359405 ,  0.99830488,  0.99830153,\n",
       "         0.99830493,  0.99830507,  0.99832313,  0.99999944,  0.99999944,\n",
       "         0.99999999,  1.        ,  1.        ,  0.99999999,  0.99999999,\n",
       "         0.99834087,  0.99996924,  0.99996924,  0.99832281,  0.99830512,\n",
       "         0.99831391,  0.99996891,  0.99834054,  0.99996697,  0.99831386,\n",
       "         0.62501015,  0.99826624,  0.14110581],\n",
       "       [ 0.99132805,  0.02526877,  0.99830466,  0.98980628,  0.99830488,\n",
       "         0.99830459,  0.99830493,  0.99830507,  0.99832297,  0.99996924,\n",
       "         0.99999944,  0.99999999,  1.        ,  1.        ,  0.99999944,\n",
       "         0.99996924,  0.9983318 ,  0.99832295,  0.99830517,  0.99830488,\n",
       "         0.99830502,  0.9983228 ,  0.99996881,  0.9983228 ,  0.96118776,\n",
       "         0.99830466,  0.00324268,  0.9913273 ],\n",
       "       [ 0.00874033,  0.99826624,  0.1455823 ,  0.99830487,  0.99672592,\n",
       "         0.99830502,  0.99831381,  0.99830502,  0.99830506,  0.99832281,\n",
       "         0.99996924,  0.99999944,  1.        ,  1.        ,  0.99999999,\n",
       "         0.99999944,  0.9999694 ,  0.99996924,  0.99832297,  0.99830507,\n",
       "         0.99830488,  0.99830495,  0.99831386,  0.99794102,  0.99830492,\n",
       "         0.09665619,  0.99826602,  0.00874548],\n",
       "       [ 0.9913253 ,  0.00178791,  0.99830465,  0.3645856 ,  0.99830502,\n",
       "         0.99797574,  0.99996891,  0.99832277,  0.99830502,  0.99830483,\n",
       "         0.99832297,  0.99999944,  0.99999944,  1.        ,  1.        ,\n",
       "         0.99999999,  0.99999999,  0.99999944,  0.99999944,  0.99832313,\n",
       "         0.99830507,  0.99830488,  0.99830348,  0.99830502,  0.97966734,\n",
       "         0.9983047 ,  0.00437104,  0.99107238],\n",
       "       [ 0.0086721 ,  0.99826379,  0.00188116,  0.99830415,  0.50690928,\n",
       "         0.99996891,  0.99831954,  0.99996891,  0.99816983,  0.99830493,\n",
       "         0.99830442,  0.99832313,  0.99999944,  0.99999944,  1.        ,\n",
       "         1.        ,  1.        ,  1.        ,  0.99999944,  0.99999944,\n",
       "         0.99832297,  0.99830502,  0.99830502,  0.99832112,  0.99996891,\n",
       "         0.7172257 ,  0.99799672,  0.0091918 ],\n",
       "       [ 0.98714294,  0.00173378,  0.99807929,  0.00209193,  0.99829481,\n",
       "         0.53969003,  0.99996891,  0.96493306,  0.99830502,  0.99755193,\n",
       "         0.99830488,  0.99830445,  0.99832313,  0.99999944,  0.99999944,\n",
       "         1.        ,  1.        ,  1.        ,  1.        ,  0.99999944,\n",
       "         0.99996924,  0.99831401,  0.99831401,  0.99996907,  0.99832986,\n",
       "         0.99994806,  0.0487425 ,  0.88027749],\n",
       "       [ 0.00867195,  0.94546991,  0.00169537,  0.98650657,  0.00199079,\n",
       "         0.9982865 ,  0.04938433,  0.99830502,  0.47544656,  0.99830488,\n",
       "         0.99770561,  0.99830488,  0.99830492,  0.99832323,  0.99999944,\n",
       "         0.99999944,  0.99999999,  1.        ,  1.        ,  0.99999999,\n",
       "         0.99999944,  0.99832311,  0.99832295,  0.99996924,  0.99995419,\n",
       "         0.95953722,  0.52179519,  0.01001737],\n",
       "       [ 0.14589408,  0.00173376,  0.13338441,  0.00169642,  0.96636281,\n",
       "         0.00174882,  0.99829534,  0.00224079,  0.99830487,  0.9269544 ,\n",
       "         0.99830493,  0.99827566,  0.99831396,  0.99832311,  0.9999694 ,\n",
       "         0.99999944,  0.99999999,  0.99999999,  1.        ,  1.        ,\n",
       "         0.99999944,  0.9999694 ,  0.99996907,  0.99833927,  0.99996345,\n",
       "         0.52333054,  0.0451043 ,  0.01535268],\n",
       "       [ 0.00867218,  0.00217327,  0.00170291,  0.04917317,  0.00199256,\n",
       "         0.99498355,  0.00234035,  0.99830432,  0.22418935,  0.99830502,\n",
       "         0.99742422,  0.99832302,  0.99996924,  0.99999944,  0.99999944,\n",
       "         0.99999999,  0.99999999,  1.        ,  1.        ,  1.        ,\n",
       "         0.99999999,  0.9999694 ,  0.99833172,  0.99996886,  0.97221374,\n",
       "         0.95404333,  0.00282345,  0.01064399],\n",
       "       [ 0.01269719,  0.00174848,  0.00235383,  0.01293868,  0.86356116,\n",
       "         0.05563381,  0.99825277,  0.34454525,  0.99831396,  0.99379556,\n",
       "         0.99996924,  0.99999944,  0.99999944,  0.99999999,  1.        ,\n",
       "         1.        ,  1.        ,  1.        ,  1.        ,  0.99999999,\n",
       "         0.99999944,  0.99996924,  0.99831402,  0.99814089,  0.99807071,\n",
       "         0.08619809,  0.33818534,  0.00869903],\n",
       "       [ 0.00980422,  0.06147109,  0.07624695,  0.490286  ,  0.87250001,\n",
       "         0.99762629,  0.96551888,  0.99832291,  0.99991937,  0.99999944,\n",
       "         0.99999944,  0.99999999,  1.        ,  1.        ,  1.        ,\n",
       "         1.        ,  1.        ,  0.99999999,  0.99999944,  0.99999944,\n",
       "         0.99996919,  0.99832281,  0.99830396,  0.99830434,  0.97082677,\n",
       "         0.995847  ,  0.00281058,  0.66121044],\n",
       "       [ 0.85010509,  0.17274267,  0.96093229,  0.97975992,  0.99757226,\n",
       "         0.99811692,  0.99996923,  0.99999941,  0.99999944,  0.99999999,\n",
       "         1.        ,  1.        ,  1.        ,  1.        ,  1.        ,\n",
       "         1.        ,  0.99999944,  0.99999943,  0.99996924,  0.9979753 ,\n",
       "         0.99831396,  0.99806418,  0.99830488,  0.99801776,  0.99830324,\n",
       "         0.07684771,  0.99533778,  0.00878205],\n",
       "       [ 0.74617139,  0.99782395,  0.99077284,  0.99996737,  0.99996937,\n",
       "         0.99999944,  0.99999944,  0.99999999,  1.        ,  1.        ,\n",
       "         1.        ,  1.        ,  1.        ,  1.        ,  0.99999999,\n",
       "         0.99999944,  0.99999942,  0.99832318,  0.97588367,  0.99830502,\n",
       "         0.95247853,  0.99830488,  0.96126204,  0.99830487,  0.57079066,\n",
       "         0.99830285,  0.00231672,  0.989193  ],\n",
       "       [ 0.99116166,  0.99674904,  0.99996903,  0.99996956,  0.99999999,\n",
       "         0.99999944,  1.        ,  1.        ,  1.        ,  1.        ,\n",
       "         1.        ,  1.        ,  0.99999999,  0.99999944,  0.99999944,\n",
       "         0.99996887,  0.99832297,  0.89487735,  0.99830493,  0.07313761,\n",
       "         0.99830488,  0.05039515,  0.99830487,  0.05377053,  0.99830439,\n",
       "         0.00263482,  0.99826443,  0.00868052],\n",
       "       [ 0.99025967,  0.99825138,  0.9983224 ,  0.99999938,  0.99996957,\n",
       "         0.99999999,  0.99999944,  0.99999999,  0.99999999,  0.99999999,\n",
       "         0.99999999,  0.99999944,  0.99999999,  0.9999694 ,  0.99832245,\n",
       "         0.99831396,  0.9899451 ,  0.99830488,  0.01476747,  0.99830487,\n",
       "         0.00193108,  0.99830487,  0.00219697,  0.99830108,  0.00200469,\n",
       "         0.99825473,  0.00173494,  0.991212  ],\n",
       "       [ 0.98955699,  0.9982649 ,  0.98774962,  0.99832276,  0.99982692,\n",
       "         0.99833166,  0.99996891,  0.99996939,  0.9999694 ,  0.99996956,\n",
       "         0.9999694 ,  0.99999944,  0.99834086,  0.99996907,  0.99831375,\n",
       "         0.99822117,  0.99830467,  0.39531503,  0.99830466,  0.00171282,\n",
       "         0.99830465,  0.00169814,  0.99829702,  0.00170265,  0.99672413,\n",
       "         0.00169611,  0.9971595 ,  0.00869924],\n",
       "       [ 0.99036972,  0.91583422,  0.99826582,  0.40655433,  0.99827544,\n",
       "         0.97882382,  0.99827553,  0.99825484,  0.99833086,  0.99996842,\n",
       "         0.99833091,  0.99828658,  0.9999682 ,  0.9982848 ,  0.99826614,\n",
       "         0.99826624,  0.98773136,  0.99826624,  0.00772998,  0.99826622,\n",
       "         0.00173458,  0.99825572,  0.00173383,  0.99430582,  0.00173385,\n",
       "         0.91419155,  0.00178401,  0.95320062],\n",
       "       [ 0.75004036,  0.99037279,  0.10495857,  0.99132733,  0.2898479 ,\n",
       "         0.99132824,  0.9790765 ,  0.99155957,  0.99983918,  0.99182833,\n",
       "         0.99984021,  0.99156107,  0.99138117,  0.99132979,  0.99132811,\n",
       "         0.99067855,  0.99132805,  0.45607194,  0.99132795,  0.01005495,\n",
       "         0.99129769,  0.0086739 ,  0.98483687,  0.00867206,  0.66189949,\n",
       "         0.00869916,  0.53698288,  0.04155834]])"
      ]
     },
     "execution_count": 186,
     "metadata": {},
     "output_type": "execute_result"
    }
   ],
   "source": [
    "im_temp"
   ]
  },
  {
   "cell_type": "code",
   "execution_count": 85,
   "metadata": {},
   "outputs": [
    {
     "data": {
      "text/plain": [
       "625.76477275558659"
      ]
     },
     "execution_count": 85,
     "metadata": {},
     "output_type": "execute_result"
    }
   ],
   "source": [
    "np.sum(im_temp)"
   ]
  },
  {
   "cell_type": "code",
   "execution_count": 28,
   "metadata": {
    "collapsed": true
   },
   "outputs": [],
   "source": [
    "im_temp_out = np.zeros((28,28))"
   ]
  },
  {
   "cell_type": "code",
   "execution_count": 193,
   "metadata": {},
   "outputs": [],
   "source": [
    "im_temp_out[:,:] = np.where(im_temp[:,:] < 0.5 ,0,1)"
   ]
  },
  {
   "cell_type": "code",
   "execution_count": 194,
   "metadata": {},
   "outputs": [
    {
     "data": {
      "image/png": "[encoded data removed]",
      "text/plain": [
       "<matplotlib.figure.Figure at 0x2978387d588>"
      ]
     },
     "metadata": {},
     "output_type": "display_data"
    }
   ],
   "source": [
    "plt.imshow(im_temp.astype(np.float64),cmap='gray')\n",
    "plt.show() #????????????????????????????????????"
   ]
  },
  {
   "cell_type": "code",
   "execution_count": null,
   "metadata": {
    "collapsed": true
   },
   "outputs": [],
   "source": []
  }
 ],
 "metadata": {
  "kernelspec": {
   "display_name": "Python 3",
   "language": "python",
   "name": "python3"
  },
  "language_info": {
   "codemirror_mode": {
    "name": "ipython",
    "version": 3
   },
   "file_extension": ".py",
   "mimetype": "text/x-python",
   "name": "python",
   "nbconvert_exporter": "python",
   "pygments_lexer": "ipython3",
   "version": "3.6.4"
  }
 },
 "nbformat": 4,
 "nbformat_minor": 2
}

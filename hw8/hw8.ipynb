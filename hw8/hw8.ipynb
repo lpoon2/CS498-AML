{
 "cells": [
  {
   "cell_type": "code",
   "execution_count": 76,
   "metadata": {},
   "outputs": [],
   "source": [
    "import os, struct\n",
    "import math, random, copy\n",
    "import numpy as np\n",
    "import sys\n",
    "from scipy import misc\n",
    "import math\n",
    "import matplotlib.pyplot as plt\n",
    "import numpy as np\n",
    "import scipy\n",
    "from matplotlib import pyplot as plt\n",
    "import pandas as pd\n",
    "import mnist\n",
    "import scipy.misc"
   ]
  },
  {
   "cell_type": "markdown",
   "metadata": {},
   "source": [
    "### Step 1 - Flipping images"
   ]
  },
  {
   "cell_type": "code",
   "execution_count": 77,
   "metadata": {},
   "outputs": [
    {
     "name": "stderr",
     "output_type": "stream",
     "text": [
      "/Users/poonl/anaconda2/envs/py36/lib/python3.6/site-packages/ipykernel_launcher.py:2: DeprecationWarning: `imresize` is deprecated!\n",
      "`imresize` is deprecated in SciPy 1.0.0, and will be removed in 1.2.0.\n",
      "Use ``skimage.transform.resize`` instead.\n",
      "  \n",
      "/Users/poonl/anaconda2/envs/py36/lib/python3.6/site-packages/ipykernel_launcher.py:2: DeprecationWarning: `toimage` is deprecated!\n",
      "`toimage` is deprecated in SciPy 1.0.0, and will be removed in 1.2.0.\n",
      "Use Pillow's ``Image.fromarray`` directly instead.\n",
      "  \n"
     ]
    },
    {
     "data": {
      "image/png": "[encoded data removed]",
      "text/plain": [
       "<PIL.Image.Image image mode=L size=280x280 at 0x1119A6048>"
      ]
     },
     "execution_count": 77,
     "metadata": {},
     "output_type": "execute_result"
    }
   ],
   "source": [
    "images = mnist.train_images()\n",
    "scipy.misc.toimage(scipy.misc.imresize(images[0,:,:] * -1 + 256, 10.))\n"
   ]
  },
  {
   "cell_type": "code",
   "execution_count": 78,
   "metadata": {},
   "outputs": [],
   "source": [
    "im_of_20 = np.zeros((20, 28, 28))"
   ]
  },
  {
   "cell_type": "code",
   "execution_count": 79,
   "metadata": {},
   "outputs": [],
   "source": [
    "im_of_20_flip = np.zeros((20, 28, 28))"
   ]
  },
  {
   "cell_type": "code",
   "execution_count": 80,
   "metadata": {},
   "outputs": [],
   "source": [
    "for i in range(20): #get the first 20 images to work with\n",
    "    im_of_20[i,:,:] = images[i,:,:]\n",
    "    \n",
    "im_of_20_map = np.where(im_of_20 < 128.0 ,-1,1)"
   ]
  },
  {
   "cell_type": "markdown",
   "metadata": {},
   "source": [
    "### Step 2 - Adding noises to images"
   ]
  },
  {
   "cell_type": "code",
   "execution_count": 81,
   "metadata": {},
   "outputs": [],
   "source": [
    "noise_df = np.loadtxt(\"NoiseCoordinates.csv\", delimiter= ',',  usecols=range(1,16), skiprows=1)"
   ]
  },
  {
   "cell_type": "code",
   "execution_count": 82,
   "metadata": {},
   "outputs": [],
   "source": [
    "im_of_20_flip =  copy.deepcopy(im_of_20_map)"
   ]
  },
  {
   "cell_type": "code",
   "execution_count": 83,
   "metadata": {},
   "outputs": [],
   "source": [
    "for i in range(20):\n",
    "    for j in range(15):\n",
    "        row = int(noise_df[i*2,j])\n",
    "        col = int(noise_df[i*2+1,j])\n",
    "        if im_of_20_flip[i, row, col] == 1:\n",
    "            im_of_20_flip[i, row, col] = -1\n",
    "        else:\n",
    "            im_of_20_flip[i, row, col] = 1"
   ]
  },
  {
   "cell_type": "code",
   "execution_count": 84,
   "metadata": {},
   "outputs": [
    {
     "data": {
      "image/png": "[encoded data removed]",
      "text/plain": [
       "<matplotlib.figure.Figure at 0x1119c2cc0>"
      ]
     },
     "metadata": {},
     "output_type": "display_data"
    }
   ],
   "source": [
    "plt.imshow(im_of_20_flip[0].astype(np.float64),cmap='gray')\n",
    "plt.show()\n"
   ]
  },
  {
   "cell_type": "markdown",
   "metadata": {},
   "source": [
    "### Step 3 - Denoising with Mean Field Inference"
   ]
  },
  {
   "cell_type": "code",
   "execution_count": 85,
   "metadata": {},
   "outputs": [],
   "source": [
    "import copy"
   ]
  },
  {
   "cell_type": "code",
   "execution_count": 86,
   "metadata": {},
   "outputs": [],
   "source": [
    "initial_df = np.loadtxt(\"InitialParametersModel.csv\", delimiter= ',') # 28x28\n",
    "update_df = np.loadtxt(\"UpdateOrderCoordinates.csv\", delimiter= ',', usecols=range(1,785), skiprows=1)"
   ]
  },
  {
   "cell_type": "code",
   "execution_count": 87,
   "metadata": {},
   "outputs": [],
   "source": [
    "for i in range(10):\n",
    "    for img in range(20):\n",
    "        for idx in range(784): \n",
    "            row_num = int(update_df[img*2,idx])\n",
    "            col_num = int(update_df[img*2+1,idx])\n",
    "            first_sum = 0 \n",
    "            sec_sum = 0 \n",
    "            third_sum = 0\n",
    "            fourth_sum = 0\n",
    "            if (row_num - 1) >= 0:\n",
    "                first_sum += 0.8 * (2 * initial_df[row_num - 1, col_num] - 1)\n",
    "                sec_sum += (2 * im_of_20_flip[img, row_num - 1, col_num])\n",
    "                third_sum += -0.8 * (2 * initial_df[row_num - 1, col_num] - 1)\n",
    "                fourth_sum += (-2 * im_of_20_flip[img, row_num - 1, col_num])\n",
    "            if (row_num + 1) < 28:\n",
    "                first_sum += 0.8 * (2 * initial_df[row_num + 1, col_num] - 1)\n",
    "                sec_sum += (2 * im_of_20_flip[img, row_num + 1, col_num])\n",
    "                third_sum += -0.8 * (2 * initial_df[row_num + 1, col_num] - 1)\n",
    "                fourth_sum += (-2 * im_of_20_flip[img, row_num + 1, col_num])\n",
    "            if (col_num - 1) >= 0:\n",
    "                first_sum += 0.8 * (2 * initial_df[row_num , col_num - 1] - 1)\n",
    "                sec_sum += (2 * im_of_20_flip[img, row_num , col_num - 1])\n",
    "                third_sum += -0.8 * (2 * initial_df[row_num , col_num - 1] - 1)\n",
    "                fourth_sum += (-2 * im_of_20_flip[img, row_num , col_num - 1])\n",
    "            if (col_num + 1) < 28:\n",
    "                first_sum += 0.8 * (2 * initial_df[row_num , col_num + 1] - 1)\n",
    "                sec_sum += (2 * im_of_20_flip[img, row_num , col_num + 1])\n",
    "                third_sum += -0.8 * (2 * initial_df[row_num , col_num + 1] - 1)\n",
    "                fourth_sum += (-2 * im_of_20_flip[img, row_num , col_num + 1])\n",
    "\n",
    "            numerator = np.exp(first_sum+sec_sum)\n",
    "            denominator = numerator + np.exp(third_sum+fourth_sum)\n",
    "\n",
    "            initial_df[row_num , col_num] = numerator/denominator\n",
    "    "
   ]
  },
  {
   "cell_type": "code",
   "execution_count": 88,
   "metadata": {},
   "outputs": [
    {
     "data": {
      "text/plain": [
       "array([[1.36740135e-05, 5.05675318e-08, 5.05653273e-08, 5.05653273e-08,\n",
       "        5.05653273e-08, 5.05898015e-08, 5.05653273e-08, 5.05653273e-08,\n",
       "        5.05653273e-08, 5.05653273e-08, 5.05653273e-08, 5.05653273e-08,\n",
       "        5.05653273e-08, 5.05654175e-08, 1.50710407e-04, 5.05653273e-08,\n",
       "        5.05653273e-08, 5.05653273e-08, 5.05653273e-08, 5.05653273e-08,\n",
       "        5.05653273e-08, 5.05653273e-08, 5.05653273e-08, 5.05653273e-08,\n",
       "        5.05897113e-08, 1.50710407e-04, 5.73445842e-08, 3.91657350e-02],\n",
       "       [5.05675318e-08, 1.86983699e-10, 1.86983669e-10, 1.86983669e-10,\n",
       "        1.86984002e-10, 1.86983669e-10, 1.86983669e-10, 1.86983669e-10,\n",
       "        1.86983669e-10, 1.86983669e-10, 1.86983669e-10, 1.86983669e-10,\n",
       "        1.86984002e-10, 5.57390150e-07, 1.86984669e-10, 5.57390150e-07,\n",
       "        1.86983669e-10, 1.86983669e-10, 1.86983669e-10, 1.86983669e-10,\n",
       "        1.86983669e-10, 1.86983669e-10, 1.86983669e-10, 1.86984002e-10,\n",
       "        1.86983669e-10, 1.87073837e-10, 5.57390264e-07, 5.73169444e-08],\n",
       "       [5.05653273e-08, 1.86983669e-10, 1.86983638e-10, 1.86983638e-10,\n",
       "        5.57390060e-07, 1.86984305e-10, 1.86983638e-10, 1.86983638e-10,\n",
       "        1.86983638e-10, 1.86983638e-10, 1.86983638e-10, 1.86983638e-10,\n",
       "        1.86983638e-10, 1.86983972e-10, 5.57390060e-07, 1.86983638e-10,\n",
       "        1.88250953e-10, 2.10977997e-10, 1.86983638e-10, 1.86983638e-10,\n",
       "        1.86983638e-10, 1.86983638e-10, 1.86984305e-10, 5.57390060e-07,\n",
       "        1.86984305e-10, 1.86983638e-10, 1.86984335e-10, 5.05653273e-08],\n",
       "       [5.05653273e-08, 1.86983669e-10, 1.86983638e-10, 5.57390060e-07,\n",
       "        1.86983638e-10, 5.57390060e-07, 1.86983972e-10, 1.86984305e-10,\n",
       "        1.86983638e-10, 1.86984305e-10, 1.86983638e-10, 1.86983638e-10,\n",
       "        1.86983638e-10, 1.86983638e-10, 1.86983972e-10, 1.86983638e-10,\n",
       "        2.10977586e-10, 1.88250955e-10, 2.12101263e-10, 1.86983638e-10,\n",
       "        1.86983638e-10, 1.86983972e-10, 5.57390060e-07, 1.86984639e-10,\n",
       "        5.57390060e-07, 1.86984305e-10, 1.86983669e-10, 5.05654175e-08],\n",
       "       [5.05653273e-08, 1.86983669e-10, 1.86983638e-10, 1.86983972e-10,\n",
       "        5.57390060e-07, 1.86983638e-10, 1.86983972e-10, 5.57390060e-07,\n",
       "        1.86984639e-10, 1.86983638e-10, 1.86983972e-10, 1.86983638e-10,\n",
       "        1.86983638e-10, 1.86983638e-10, 1.89108472e-10, 2.12100517e-10,\n",
       "        4.56730810e-10, 3.42984235e-09, 1.86988446e-10, 1.87979156e-10,\n",
       "        1.86983638e-10, 1.86983638e-10, 1.86984305e-10, 5.57390060e-07,\n",
       "        1.86984639e-10, 1.86983638e-10, 1.86983669e-10, 5.05653273e-08],\n",
       "       [5.05653273e-08, 1.86983669e-10, 1.86983638e-10, 1.86983638e-10,\n",
       "        1.86983638e-10, 1.86983638e-10, 5.57390060e-07, 1.86984639e-10,\n",
       "        5.57391054e-07, 1.86984305e-10, 1.86983972e-10, 1.86983638e-10,\n",
       "        1.86983638e-10, 1.96116128e-10, 1.87978864e-10, 1.86989704e-10,\n",
       "        1.87998189e-10, 4.56910672e-10, 1.86983639e-10, 1.86988446e-10,\n",
       "        1.86983638e-10, 1.86983639e-10, 1.86983638e-10, 1.86983972e-10,\n",
       "        1.86983638e-10, 1.86983972e-10, 1.86983669e-10, 5.05653273e-08],\n",
       "       [5.05653273e-08, 1.86983669e-10, 1.86983638e-10, 1.86983638e-10,\n",
       "        1.86983638e-10, 1.86983638e-10, 1.86983972e-10, 5.57391054e-07,\n",
       "        1.86984305e-10, 1.86983972e-10, 1.86983638e-10, 1.86983639e-10,\n",
       "        1.94950111e-10, 1.86983752e-10, 4.25189748e-09, 1.01377036e-05,\n",
       "        3.21274359e-05, 1.15008414e-04, 2.11491482e-10, 1.86983972e-10,\n",
       "        1.86983654e-10, 1.86983638e-10, 1.86983638e-10, 1.86983638e-10,\n",
       "        1.86983638e-10, 1.86983638e-10, 1.86983669e-10, 5.05653273e-08],\n",
       "       [5.05653273e-08, 1.86983669e-10, 1.86983638e-10, 1.86983638e-10,\n",
       "        1.86983638e-10, 1.86983638e-10, 1.86983972e-10, 5.57391054e-07,\n",
       "        1.86984305e-10, 1.86983972e-10, 1.86983639e-10, 3.35665017e-10,\n",
       "        1.87344203e-10, 1.85934436e-07, 8.45158677e-03, 3.80315231e-02,\n",
       "        9.87737005e-01, 4.24478600e-02, 3.83655879e-02, 2.99363281e-06,\n",
       "        1.86984009e-10, 1.86983638e-10, 1.86983638e-10, 1.86983638e-10,\n",
       "        1.86983638e-10, 1.86983638e-10, 1.86983669e-10, 5.05653273e-08],\n",
       "       [1.50710407e-04, 1.86984002e-10, 1.86983638e-10, 1.86983638e-10,\n",
       "        1.86983638e-10, 1.86983638e-10, 5.57390060e-07, 1.86983638e-10,\n",
       "        5.57391055e-07, 1.86983972e-10, 1.86983972e-10, 1.87543772e-10,\n",
       "        6.01834717e-04, 1.40824413e-01, 4.72932797e-01, 9.99999450e-01,\n",
       "        9.91514644e-01, 9.99999897e-01, 9.91835757e-01, 4.86940684e-01,\n",
       "        5.57418718e-07, 1.86984009e-10, 1.86983638e-10, 1.86983638e-10,\n",
       "        1.86983638e-10, 1.86983638e-10, 1.86983669e-10, 5.05653273e-08],\n",
       "       [5.05653273e-08, 5.57390150e-07, 1.86983972e-10, 1.86983638e-10,\n",
       "        1.86983638e-10, 1.86983638e-10, 1.86984305e-10, 5.57390060e-07,\n",
       "        1.86983638e-10, 1.86983972e-10, 1.87182938e-10, 3.57200216e-02,\n",
       "        4.69841714e-01, 9.99738694e-01, 9.97964556e-01, 1.68426547e-03,\n",
       "        9.91703124e-01, 1.65882415e-03, 9.99932634e-01, 9.91835826e-01,\n",
       "        1.33214280e-05, 1.86991609e-10, 1.86983639e-10, 1.86983638e-10,\n",
       "        1.86983638e-10, 1.86983638e-10, 1.86983669e-10, 5.05653273e-08],\n",
       "       [1.50710407e-04, 1.86984002e-10, 1.86983638e-10, 1.86983638e-10,\n",
       "        1.86983638e-10, 1.86983638e-10, 1.86983638e-10, 1.86983972e-10,\n",
       "        1.86983972e-10, 1.86983641e-10, 1.35469335e-05, 5.00261309e-01,\n",
       "        9.99999999e-01, 4.69355359e-01, 1.53868755e-01, 5.57390077e-07,\n",
       "        4.50426939e-09, 2.26958376e-03, 9.99976126e-01, 9.91623179e-01,\n",
       "        1.33129312e-05, 1.86983639e-10, 1.86983638e-10, 1.86983638e-10,\n",
       "        1.86983638e-10, 1.86983638e-10, 1.86983669e-10, 5.05653273e-08],\n",
       "       [5.05653273e-08, 1.86983669e-10, 1.86983638e-10, 1.86983638e-10,\n",
       "        1.86983638e-10, 1.86983638e-10, 1.86983638e-10, 1.86983638e-10,\n",
       "        1.86983638e-10, 1.87348556e-10, 2.54347029e-05, 9.99980190e-01,\n",
       "        9.99986339e-01, 9.98170567e-01, 1.87177932e-10, 6.46693185e-10,\n",
       "        8.20821652e-07, 9.65015834e-02, 8.32019472e-01, 3.62543465e-01,\n",
       "        5.57390060e-07, 1.86983972e-10, 1.86983638e-10, 1.86983638e-10,\n",
       "        1.86983638e-10, 1.86983638e-10, 1.86983669e-10, 5.05653273e-08],\n",
       "       [5.05653273e-08, 1.86983669e-10, 1.86983638e-10, 1.86983638e-10,\n",
       "        1.86983638e-10, 1.86983638e-10, 1.86983638e-10, 1.86983638e-10,\n",
       "        1.86983639e-10, 1.86992888e-10, 1.54587705e-05, 9.99992441e-01,\n",
       "        9.99999855e-01, 9.64384144e-01, 3.26730819e-02, 1.79695819e-03,\n",
       "        2.44486731e-02, 2.26093766e-03, 2.38128951e-02, 5.27304182e-03,\n",
       "        1.86983974e-10, 1.86983638e-10, 1.86983638e-10, 1.86983638e-10,\n",
       "        1.86983638e-10, 1.86983638e-10, 1.86983669e-10, 5.05653273e-08],\n",
       "       [5.05653273e-08, 1.86983669e-10, 1.86983638e-10, 1.86983638e-10,\n",
       "        1.86983638e-10, 1.86983638e-10, 1.86983638e-10, 1.86983638e-10,\n",
       "        1.86984015e-10, 2.11377435e-10, 1.32993397e-05, 9.91301663e-01,\n",
       "        9.99999887e-01, 9.99999867e-01, 9.99987682e-01, 9.99972614e-01,\n",
       "        8.43607026e-01, 2.44133648e-02, 6.02680991e-07, 1.90165887e-10,\n",
       "        1.86983638e-10, 1.86983638e-10, 1.86983638e-10, 1.86983638e-10,\n",
       "        1.86983638e-10, 1.86983638e-10, 1.86983669e-10, 5.05653273e-08],\n",
       "       [5.05653273e-08, 1.86983669e-10, 5.57390060e-07, 1.86983638e-10,\n",
       "        1.86983638e-10, 1.86983638e-10, 1.86983638e-10, 1.86983638e-10,\n",
       "        1.86983972e-10, 2.12028938e-10, 7.31289464e-07, 4.40898036e-02,\n",
       "        9.93089235e-01, 9.99986148e-01, 9.99999921e-01, 1.00000000e+00,\n",
       "        9.99443605e-01, 5.60286871e-07, 7.79543949e-10, 1.87978819e-10,\n",
       "        1.86983638e-10, 1.86983638e-10, 1.86983638e-10, 1.86983638e-10,\n",
       "        1.86983638e-10, 1.86983638e-10, 1.86983669e-10, 5.05653273e-08],\n",
       "       [5.05653273e-08, 5.57390150e-07, 1.86983972e-10, 5.57390060e-07,\n",
       "        1.86983638e-10, 1.86983638e-10, 1.86983638e-10, 1.86984305e-10,\n",
       "        1.86983638e-10, 1.86983972e-10, 1.86984800e-10, 6.50280768e-07,\n",
       "        5.77189473e-07, 2.87622359e-03, 9.99980938e-01, 9.99999931e-01,\n",
       "        5.29769851e-01, 2.29916873e-06, 1.86985014e-10, 1.87989468e-10,\n",
       "        1.87979156e-10, 1.86983974e-10, 1.86983972e-10, 1.86983638e-10,\n",
       "        1.86983638e-10, 1.86983638e-10, 1.86983669e-10, 5.05653273e-08],\n",
       "       [5.05653273e-08, 1.86984002e-10, 5.57390060e-07, 1.86983972e-10,\n",
       "        1.86983638e-10, 1.86983638e-10, 1.86984305e-10, 1.86983638e-10,\n",
       "        1.86984639e-10, 2.15091949e-10, 2.16651062e-10, 1.92844941e-10,\n",
       "        1.86989742e-10, 1.00986869e-05, 8.93305667e-01, 9.88554551e-01,\n",
       "        3.78105450e-02, 1.87980596e-10, 1.89006420e-10, 1.87978819e-10,\n",
       "        1.87995144e-10, 1.86983638e-10, 1.86983638e-10, 1.86983638e-10,\n",
       "        1.86983638e-10, 1.86983638e-10, 1.86983669e-10, 5.05653273e-08],\n",
       "       [5.05653273e-08, 1.86983669e-10, 1.86983972e-10, 1.86983638e-10,\n",
       "        1.86983638e-10, 1.86984305e-10, 5.57390060e-07, 1.86984306e-10,\n",
       "        1.86983972e-10, 1.92934028e-10, 9.16197530e-10, 1.86983639e-10,\n",
       "        1.87310008e-10, 5.57395033e-07, 9.88553740e-01, 9.99639172e-01,\n",
       "        5.57391063e-07, 1.86983980e-10, 1.86983638e-10, 1.87995485e-10,\n",
       "        1.86983972e-10, 1.86984305e-10, 1.86983638e-10, 1.86983638e-10,\n",
       "        1.86983972e-10, 1.86983638e-10, 1.86983669e-10, 5.05653273e-08],\n",
       "       [5.05653273e-08, 1.86983669e-10, 5.57390060e-07, 1.86983638e-10,\n",
       "        1.86983638e-10, 5.57390060e-07, 1.86984306e-10, 5.57392049e-07,\n",
       "        5.58302995e-07, 2.72656357e-06, 1.86986902e-10, 9.16200993e-10,\n",
       "        1.86985288e-10, 3.81643519e-02, 9.91580159e-01, 4.92976451e-01,\n",
       "        5.57390268e-07, 1.86983972e-10, 1.86984649e-10, 1.88979636e-10,\n",
       "        1.86983638e-10, 1.86983972e-10, 1.86984305e-10, 1.86983972e-10,\n",
       "        1.86983638e-10, 1.86983972e-10, 1.86983669e-10, 5.05653273e-08],\n",
       "       [5.05653273e-08, 5.57390150e-07, 1.86983638e-10, 5.57390060e-07,\n",
       "        1.86983638e-10, 1.86983972e-10, 5.57390061e-07, 5.57391148e-07,\n",
       "        5.57394063e-07, 5.71968227e-07, 2.72727439e-06, 1.87986271e-10,\n",
       "        1.66791590e-03, 1.89394023e-03, 1.66762623e-03, 8.02497838e-03,\n",
       "        1.87984236e-10, 1.87989784e-10, 1.86983638e-10, 1.86984642e-10,\n",
       "        1.86983972e-10, 1.86984972e-10, 1.87979158e-10, 1.86983638e-10,\n",
       "        1.87979156e-10, 1.86983638e-10, 1.86983669e-10, 5.05653273e-08],\n",
       "       [5.05653273e-08, 1.86983669e-10, 5.57390060e-07, 1.86983972e-10,\n",
       "        1.86983638e-10, 1.86983638e-10, 1.86983972e-10, 1.86985650e-10,\n",
       "        5.57391346e-07, 5.57392074e-07, 1.87986939e-10, 1.66846128e-03,\n",
       "        1.71528498e-03, 8.35111352e-01, 1.66081546e-03, 1.88987181e-10,\n",
       "        1.89000682e-10, 1.87978817e-10, 1.89001007e-10, 1.87978821e-10,\n",
       "        1.86983638e-10, 1.86983974e-10, 1.86983638e-10, 1.86983974e-10,\n",
       "        1.86983638e-10, 1.86983638e-10, 1.86983669e-10, 5.05653273e-08],\n",
       "       [5.05653273e-08, 1.86983669e-10, 1.86983638e-10, 1.86983638e-10,\n",
       "        1.86983638e-10, 1.86983638e-10, 1.86983652e-10, 1.86983706e-10,\n",
       "        1.86983972e-10, 1.87024888e-10, 5.57570563e-07, 1.70488279e-03,\n",
       "        9.99933738e-01, 1.69704792e-03, 6.40333881e-07, 1.86984022e-10,\n",
       "        1.89991739e-10, 1.86983638e-10, 1.87978817e-10, 1.87989788e-10,\n",
       "        1.86983638e-10, 1.86983638e-10, 1.86983974e-10, 1.86983638e-10,\n",
       "        1.86983638e-10, 1.86983638e-10, 1.86983669e-10, 5.05653273e-08],\n",
       "       [5.05653273e-08, 1.86983669e-10, 1.86983638e-10, 1.86983638e-10,\n",
       "        1.86983638e-10, 1.86983638e-10, 1.86983638e-10, 1.86983652e-10,\n",
       "        1.87024223e-10, 1.86983641e-10, 1.66762677e-03, 1.65990329e-03,\n",
       "        1.70606983e-03, 1.88633831e-03, 1.88116123e-10, 2.12968653e-10,\n",
       "        1.89135595e-10, 1.87978817e-10, 1.86983638e-10, 1.86983638e-10,\n",
       "        1.86983638e-10, 1.86983638e-10, 1.86983638e-10, 1.86983638e-10,\n",
       "        1.86983638e-10, 1.86983638e-10, 1.86983669e-10, 5.05653273e-08],\n",
       "       [5.05653273e-08, 1.86983669e-10, 1.86983638e-10, 1.86983638e-10,\n",
       "        1.86983638e-10, 1.86983638e-10, 1.86983638e-10, 1.86983641e-10,\n",
       "        1.86983972e-10, 1.78674726e-03, 5.57391067e-07, 8.32759956e-01,\n",
       "        5.57783375e-07, 1.88116454e-10, 2.11833765e-10, 1.88123695e-10,\n",
       "        1.86983972e-10, 1.87989786e-10, 1.86983638e-10, 1.86983638e-10,\n",
       "        1.86983638e-10, 1.86983638e-10, 1.86983638e-10, 1.86983638e-10,\n",
       "        1.86983638e-10, 1.86983638e-10, 1.86983669e-10, 5.05653273e-08],\n",
       "       [5.05653273e-08, 1.86983669e-10, 1.86983638e-10, 1.86983638e-10,\n",
       "        1.86983638e-10, 1.86983638e-10, 1.86983638e-10, 1.86983972e-10,\n",
       "        5.57390076e-07, 2.32587730e-02, 9.99937133e-01, 1.97404271e-04,\n",
       "        5.57391054e-07, 1.86983972e-10, 1.86983638e-10, 1.86983638e-10,\n",
       "        1.86983638e-10, 1.86983638e-10, 1.86983638e-10, 1.86983638e-10,\n",
       "        1.86983638e-10, 1.86983638e-10, 1.86983638e-10, 1.86983638e-10,\n",
       "        1.86983638e-10, 1.86983638e-10, 1.86983669e-10, 5.05653273e-08],\n",
       "       [5.05653273e-08, 1.86983669e-10, 1.86983638e-10, 1.86983638e-10,\n",
       "        1.86983638e-10, 1.86983638e-10, 1.86983638e-10, 1.86983972e-10,\n",
       "        2.32587726e-02, 8.32018387e-01, 3.69949336e-01, 1.65880108e-03,\n",
       "        1.86983638e-10, 1.86983638e-10, 1.86983638e-10, 1.86983638e-10,\n",
       "        1.86983638e-10, 1.86983638e-10, 1.86983638e-10, 1.86983638e-10,\n",
       "        1.86983638e-10, 1.86983638e-10, 1.86983638e-10, 1.86983638e-10,\n",
       "        1.86983638e-10, 1.86983638e-10, 1.86983669e-10, 5.05653273e-08],\n",
       "       [5.05675318e-08, 1.86983699e-10, 1.86983669e-10, 1.86983669e-10,\n",
       "        1.86983669e-10, 1.86983669e-10, 1.86984002e-10, 5.57390150e-07,\n",
       "        6.47167581e-07, 2.32587358e-02, 5.81354628e-03, 1.87978847e-10,\n",
       "        1.86983669e-10, 1.86983669e-10, 1.86983669e-10, 1.86983669e-10,\n",
       "        1.86983669e-10, 1.86983669e-10, 1.86983669e-10, 1.86983669e-10,\n",
       "        1.86983669e-10, 1.86983669e-10, 1.86983669e-10, 1.86983669e-10,\n",
       "        1.86983669e-10, 1.86983669e-10, 1.86983699e-10, 5.05675318e-08],\n",
       "       [1.36740135e-05, 5.05675318e-08, 5.05653273e-08, 5.05653273e-08,\n",
       "        5.05653273e-08, 5.05653273e-08, 5.05653273e-08, 5.05653273e-08,\n",
       "        1.50710407e-04, 1.62431846e-04, 5.05653273e-08, 5.05653273e-08,\n",
       "        5.05653273e-08, 5.05653273e-08, 5.05653273e-08, 5.05653273e-08,\n",
       "        5.05653273e-08, 5.05653273e-08, 5.05653273e-08, 5.05653273e-08,\n",
       "        5.05653273e-08, 5.05653273e-08, 5.05653273e-08, 5.05653273e-08,\n",
       "        5.05653273e-08, 5.05653273e-08, 5.05675318e-08, 1.36740135e-05]])"
      ]
     },
     "execution_count": 88,
     "metadata": {},
     "output_type": "execute_result"
    }
   ],
   "source": [
    "initial_df"
   ]
  },
  {
   "cell_type": "code",
   "execution_count": 89,
   "metadata": {
    "scrolled": true
   },
   "outputs": [
    {
     "data": {
      "image/png": "[encoded data removed]",
      "text/plain": [
       "<matplotlib.figure.Figure at 0x1119c2ac8>"
      ]
     },
     "metadata": {},
     "output_type": "display_data"
    }
   ],
   "source": [
    "initial_df1 = np.where(initial_df < 0.5 ,-1,1)\n",
    "plt.imshow(initial_df1.astype(np.float64),cmap='gray')\n",
    "plt.show()"
   ]
  },
  {
   "cell_type": "markdown",
   "metadata": {},
   "source": [
    "### Step 4 - Turning in the energy function values computed initially and after each iteration"
   ]
  },
  {
   "cell_type": "code",
   "execution_count": 90,
   "metadata": {},
   "outputs": [],
   "source": [
    "'''\n",
    "Helper function to calculate E_q [log P]\n",
    "'''\n",
    "def EQLOGP(imgIdx): \n",
    "    first_sum = 0 \n",
    "    sec_sum = 0\n",
    "    for row in range(28):\n",
    "        for col in range(28): \n",
    "            if col - 1 >= 0:\n",
    "                first_sum += 0.8 * (2 * initial_df[row, col] - 1) * (2 * initial_df[row, col - 1] - 1)\n",
    "            if col + 1 < 28:\n",
    "                first_sum += 0.8 * (2 * initial_df[row, col] - 1) * (2 * initial_df[row, col + 1] - 1)\n",
    "            if row - 1 >= 0:\n",
    "                first_sum += 0.8 * (2 * initial_df[row, col] - 1) * (2 * initial_df[row - 1, col] - 1)\n",
    "            if row + 1 < 28:\n",
    "                first_sum += 0.8 * (2 * initial_df[row, col] - 1) * (2 * initial_df[row + 1, col] - 1)\n",
    "            sec_sum += 2 * (2*initial_df[row, col]-1) * (im_of_20_flip[imgIdx, row , col ]) \n",
    "    return first_sum + sec_sum\n",
    "    "
   ]
  },
  {
   "cell_type": "code",
   "execution_count": 91,
   "metadata": {},
   "outputs": [],
   "source": [
    "'''\n",
    "Helper function to calculate E_q [log Q] \n",
    "'''\n",
    "def EQLOGQ(img):\n",
    "    eqlogq = 0\n",
    "    for row in range(28):\n",
    "        for col in range(28):\n",
    "            eqlogq += initial_df[row, col] * (np.log(initial_df[row, col]) + (1e-10)) + \\\n",
    "                (1-initial_df[row, col])*(np.log(1-initial_df[row, col] + (1e-10)))\n",
    "    return eqlogq"
   ]
  },
  {
   "cell_type": "code",
   "execution_count": 92,
   "metadata": {},
   "outputs": [],
   "source": [
    "'''\n",
    "loading the initial VFE\n",
    "'''\n",
    "\n",
    "initial_df = np.loadtxt(\"InitialParametersModel.csv\", delimiter= ',', dtype = np.float64) # 28x28\n",
    "energy_list = np.zeros((20,11))\n",
    "first_sum = 0 \n",
    "sec_sum = 0 \n",
    "for imgIdx in range(20):\n",
    "    first_sum = 0 \n",
    "    sec_sum = 0 \n",
    "    for row in range(28):\n",
    "        for col in range(28): \n",
    "            if (col - 1) >= 0:\n",
    "                first_sum += 0.8 * (2 * initial_df[row, col] - 1.0) * (2 * initial_df[row, col - 1] - 1.0)\n",
    "            if (col + 1) < 28:\n",
    "                first_sum += 0.8 * (2 * initial_df[row, col] - 1.0) * (2 * initial_df[row, col + 1] - 1.0)\n",
    "            if (row - 1) >= 0:\n",
    "                first_sum += 0.8 * (2 * initial_df[row, col] - 1.0) * (2 * initial_df[row - 1, col] - 1.0)\n",
    "            if (row + 1) < 28:\n",
    "                first_sum += 0.8 * (2 * initial_df[row, col] - 1.0) * (2 * initial_df[row + 1, col] - 1.0)\n",
    "            sec_sum += 2 * (2 * initial_df[row, col] - 1.0) * (im_of_20_flip[imgIdx][row, col])\n",
    "    \n",
    "    energy_list[imgIdx,0] = EQLOGQ(imgIdx) - (first_sum + sec_sum)"
   ]
  },
  {
   "cell_type": "code",
   "execution_count": 93,
   "metadata": {},
   "outputs": [
    {
     "data": {
      "text/plain": [
       "array([[-425.34792871,    0.        ,    0.        ,    0.        ,\n",
       "           0.        ,    0.        ,    0.        ,    0.        ,\n",
       "           0.        ,    0.        ,    0.        ],\n",
       "       [-431.07472978,    0.        ,    0.        ,    0.        ,\n",
       "           0.        ,    0.        ,    0.        ,    0.        ,\n",
       "           0.        ,    0.        ,    0.        ],\n",
       "       [-443.89991751,    0.        ,    0.        ,    0.        ,\n",
       "           0.        ,    0.        ,    0.        ,    0.        ,\n",
       "           0.        ,    0.        ,    0.        ],\n",
       "       [-434.99920689,    0.        ,    0.        ,    0.        ,\n",
       "           0.        ,    0.        ,    0.        ,    0.        ,\n",
       "           0.        ,    0.        ,    0.        ],\n",
       "       [-433.09041963,    0.        ,    0.        ,    0.        ,\n",
       "           0.        ,    0.        ,    0.        ,    0.        ,\n",
       "           0.        ,    0.        ,    0.        ],\n",
       "       [-405.35954595,    0.        ,    0.        ,    0.        ,\n",
       "           0.        ,    0.        ,    0.        ,    0.        ,\n",
       "           0.        ,    0.        ,    0.        ],\n",
       "       [-402.19309532,    0.        ,    0.        ,    0.        ,\n",
       "           0.        ,    0.        ,    0.        ,    0.        ,\n",
       "           0.        ,    0.        ,    0.        ],\n",
       "       [-438.7261279 ,    0.        ,    0.        ,    0.        ,\n",
       "           0.        ,    0.        ,    0.        ,    0.        ,\n",
       "           0.        ,    0.        ,    0.        ],\n",
       "       [-448.34716008,    0.        ,    0.        ,    0.        ,\n",
       "           0.        ,    0.        ,    0.        ,    0.        ,\n",
       "           0.        ,    0.        ,    0.        ],\n",
       "       [-416.27513276,    0.        ,    0.        ,    0.        ,\n",
       "           0.        ,    0.        ,    0.        ,    0.        ,\n",
       "           0.        ,    0.        ,    0.        ],\n",
       "       [-405.78964905,    0.        ,    0.        ,    0.        ,\n",
       "           0.        ,    0.        ,    0.        ,    0.        ,\n",
       "           0.        ,    0.        ,    0.        ],\n",
       "       [-374.37647635,    0.        ,    0.        ,    0.        ,\n",
       "           0.        ,    0.        ,    0.        ,    0.        ,\n",
       "           0.        ,    0.        ,    0.        ],\n",
       "       [-397.25762839,    0.        ,    0.        ,    0.        ,\n",
       "           0.        ,    0.        ,    0.        ,    0.        ,\n",
       "           0.        ,    0.        ,    0.        ],\n",
       "       [-438.71351479,    0.        ,    0.        ,    0.        ,\n",
       "           0.        ,    0.        ,    0.        ,    0.        ,\n",
       "           0.        ,    0.        ,    0.        ],\n",
       "       [-435.99774673,    0.        ,    0.        ,    0.        ,\n",
       "           0.        ,    0.        ,    0.        ,    0.        ,\n",
       "           0.        ,    0.        ,    0.        ],\n",
       "       [-448.55906653,    0.        ,    0.        ,    0.        ,\n",
       "           0.        ,    0.        ,    0.        ,    0.        ,\n",
       "           0.        ,    0.        ,    0.        ],\n",
       "       [-424.46499987,    0.        ,    0.        ,    0.        ,\n",
       "           0.        ,    0.        ,    0.        ,    0.        ,\n",
       "           0.        ,    0.        ,    0.        ],\n",
       "       [-404.05842954,    0.        ,    0.        ,    0.        ,\n",
       "           0.        ,    0.        ,    0.        ,    0.        ,\n",
       "           0.        ,    0.        ,    0.        ],\n",
       "       [-442.05662317,    0.        ,    0.        ,    0.        ,\n",
       "           0.        ,    0.        ,    0.        ,    0.        ,\n",
       "           0.        ,    0.        ,    0.        ],\n",
       "       [-403.90533105,    0.        ,    0.        ,    0.        ,\n",
       "           0.        ,    0.        ,    0.        ,    0.        ,\n",
       "           0.        ,    0.        ,    0.        ]])"
      ]
     },
     "execution_count": 93,
     "metadata": {},
     "output_type": "execute_result"
    }
   ],
   "source": [
    "energy_list"
   ]
  },
  {
   "cell_type": "code",
   "execution_count": 94,
   "metadata": {},
   "outputs": [],
   "source": [
    "for img in range(20):\n",
    "    initial_df = np.loadtxt(\"InitialParametersModel.csv\", delimiter= ',') # 28x28\n",
    "    for i in range(1,11):\n",
    "        for idx in range(784): \n",
    "            row_num = int(update_df[img*2,idx])\n",
    "            col_num = int(update_df[img*2+1,idx])\n",
    "            first_sum = 0 \n",
    "            sec_sum = 0 \n",
    "            third_sum = 0\n",
    "            fourth_sum = 0\n",
    "            if (row_num - 1) >= 0:\n",
    "                first_sum += 0.8 * (2 * initial_df[row_num - 1, col_num] - 1)\n",
    "                third_sum += -0.8 * (2 * initial_df[row_num - 1, col_num] - 1)\n",
    "            if (row_num + 1) < 28:\n",
    "                first_sum += 0.8 * (2 * initial_df[row_num + 1, col_num] - 1)\n",
    "                third_sum += -0.8 * (2 * initial_df[row_num + 1, col_num] - 1)\n",
    "            if (col_num - 1) >= 0:\n",
    "                first_sum += 0.8 * (2 * initial_df[row_num , col_num - 1] - 1)\n",
    "                third_sum += -0.8 * (2 * initial_df[row_num , col_num - 1] - 1)\n",
    "            if (col_num + 1) < 28:\n",
    "                first_sum += 0.8 * (2 * initial_df[row_num , col_num + 1] - 1)\n",
    "                third_sum += -0.8 * (2 * initial_df[row_num , col_num + 1] - 1)\n",
    "            sec_sum += (2 * im_of_20_flip[img, row_num , col_num])\n",
    "            fourth_sum += (-2 * im_of_20_flip[img, row_num , col_num])\n",
    "\n",
    "            numerator = np.exp(first_sum+sec_sum)\n",
    "            denominator = numerator + np.exp(third_sum+fourth_sum)\n",
    "\n",
    "            initial_df[row_num , col_num] = numerator/denominator\n",
    "        energy_list[img, i] = EQLOGQ(img) - EQLOGP(img)"
   ]
  },
  {
   "cell_type": "code",
   "execution_count": 95,
   "metadata": {},
   "outputs": [
    {
     "data": {
      "text/plain": [
       "array([[ -425.34792871, -3405.66635344, -3557.28707277, -3560.93157354,\n",
       "        -3560.98732733, -3560.99304488, -3560.9943021 , -3560.99463   ,\n",
       "        -3560.99471738, -3560.99474071, -3560.99474694],\n",
       "       [ -431.07472978, -3348.8787683 , -3520.22504612, -3524.50103063,\n",
       "        -3524.82677041, -3524.8516257 , -3524.85334168, -3524.85346845,\n",
       "        -3524.85347876, -3524.85347966, -3524.85347975],\n",
       "       [ -443.89991751, -3431.42714716, -3595.44648817, -3595.65556599,\n",
       "        -3595.66259274, -3595.66323135, -3595.66330181, -3595.66331007,\n",
       "        -3595.66331105, -3595.66331117, -3595.66331118],\n",
       "       [ -434.99920689, -3537.05249981, -3723.41126431, -3723.79864936,\n",
       "        -3723.79898233, -3723.79898176, -3723.7989818 , -3723.7989818 ,\n",
       "        -3723.7989818 , -3723.7989818 , -3723.7989818 ],\n",
       "       [ -433.09041963, -3424.19855832, -3605.58014831, -3606.3603415 ,\n",
       "        -3606.35658067, -3606.35637885, -3606.35636466, -3606.35636416,\n",
       "        -3606.35636414, -3606.35636414, -3606.35636414],\n",
       "       [ -405.35954595, -3355.73336992, -3518.68224062, -3525.8435273 ,\n",
       "        -3527.02667299, -3527.20579039, -3527.2290014 , -3527.23194447,\n",
       "        -3527.23231687, -3527.23236399, -3527.23236995],\n",
       "       [ -402.19309532, -3559.74132908, -3760.98099164, -3761.40624754,\n",
       "        -3761.39819038, -3761.39394486, -3761.39271893, -3761.39237934,\n",
       "        -3761.39228565, -3761.39225981, -3761.39225268],\n",
       "       [ -438.7261279 , -3419.9317567 , -3571.75723818, -3573.78234964,\n",
       "        -3573.88538721, -3573.89054077, -3573.89081428, -3573.89083088,\n",
       "        -3573.8908325 , -3573.89083279, -3573.89083287],\n",
       "       [ -448.34716008, -3578.36819474, -3763.31308488, -3766.13966964,\n",
       "        -3766.19966232, -3766.20143485, -3766.20149106, -3766.20149286,\n",
       "        -3766.20149292, -3766.20149292, -3766.20149292],\n",
       "       [ -416.27513276, -3442.48786941, -3604.8978261 , -3606.87137594,\n",
       "        -3606.970239  , -3606.98231289, -3606.98486983, -3606.98551006,\n",
       "        -3606.98567651, -3606.98572035, -3606.98573196],\n",
       "       [ -405.78964905, -3461.04356096, -3644.40175113, -3644.9096779 ,\n",
       "        -3644.97159289, -3644.9901628 , -3644.99541079, -3644.99687134,\n",
       "        -3644.99727701, -3644.99738972, -3644.99742105],\n",
       "       [ -374.37647635, -3493.68643498, -3671.04954999, -3673.2386325 ,\n",
       "        -3673.31022548, -3673.31738576, -3673.31834181, -3673.31848434,\n",
       "        -3673.31850655, -3673.3185101 , -3673.31851068],\n",
       "       [ -397.25762839, -3338.7852585 , -3526.89156319, -3534.43950801,\n",
       "        -3534.65898719, -3534.66292275, -3534.66173632, -3534.66130764,\n",
       "        -3534.6611833 , -3534.66114852, -3534.66113888],\n",
       "       [ -438.71351479, -3352.14004167, -3520.97784456, -3526.78825767,\n",
       "        -3527.5741756 , -3527.66730385, -3527.67780106, -3527.67898698,\n",
       "        -3527.6791224 , -3527.67913806, -3527.6791399 ],\n",
       "       [ -435.99774673, -3568.3374454 , -3763.44647497, -3764.8651919 ,\n",
       "        -3764.88434886, -3764.88491467, -3764.88493174, -3764.88493226,\n",
       "        -3764.88493227, -3764.88493227, -3764.88493227],\n",
       "       [ -448.55906653, -3404.66735539, -3606.13817149, -3606.95881009,\n",
       "        -3606.99131726, -3606.99727544, -3606.9986743 , -3606.99902852,\n",
       "        -3606.99912086, -3606.99914523, -3606.9991517 ],\n",
       "       [ -424.46499987, -3344.59669823, -3538.50333924, -3539.95852831,\n",
       "        -3540.01271541, -3540.01512591, -3540.01595957, -3540.01629066,\n",
       "        -3540.01640072, -3540.01643439, -3540.01644432],\n",
       "       [ -404.05842954, -3391.22106047, -3591.95279261, -3594.30897323,\n",
       "        -3594.36345468, -3594.36507575, -3594.36512735, -3594.3651291 ,\n",
       "        -3594.36512916, -3594.36512916, -3594.36512916],\n",
       "       [ -442.05662317, -3407.98848669, -3594.01708759, -3604.65333478,\n",
       "        -3607.03905655, -3607.37224829, -3607.41108523, -3607.41558549,\n",
       "        -3607.41611769, -3607.41618245, -3607.41619061],\n",
       "       [ -403.90533105, -3457.20781725, -3648.5304326 , -3651.13083856,\n",
       "        -3651.3515665 , -3651.38019614, -3651.38470723, -3651.38564081,\n",
       "        -3651.38588265, -3651.38595333, -3651.38597506]])"
      ]
     },
     "execution_count": 95,
     "metadata": {},
     "output_type": "execute_result"
    }
   ],
   "source": [
    "energy_list"
   ]
  },
  {
   "cell_type": "code",
   "execution_count": 96,
   "metadata": {},
   "outputs": [],
   "source": [
    "np.savetxt(\"outputEnergy.csv\", energy_list, delimiter=',', fmt='%.12g')"
   ]
  },
  {
   "cell_type": "markdown",
   "metadata": {},
   "source": [
    "### Step 5 - Displaying the reconstructed images (Image 11 - 19)"
   ]
  },
  {
   "cell_type": "code",
   "execution_count": 97,
   "metadata": {},
   "outputs": [],
   "source": [
    "a = [] \n",
    "for img in range(20):\n",
    "    initial_df = np.loadtxt(\"InitialParametersModel.csv\", delimiter= ',',dtype = np.float64) # 28x28\n",
    "    for i in range(10):\n",
    "        for idx in range(784): \n",
    "            row_num = int(update_df[img*2,idx])\n",
    "            col_num = int(update_df[img*2+1,idx])\n",
    "            first_sum = 0 \n",
    "            sec_sum = 0 \n",
    "            third_sum = 0\n",
    "            fourth_sum = 0\n",
    "            if (row_num - 1) >= 0:\n",
    "                first_sum += 0.8 * (2 * initial_df[row_num - 1, col_num] - 1)\n",
    "                third_sum += -0.8 * (2 * initial_df[row_num - 1, col_num] - 1)\n",
    "            if (row_num + 1) < 28:\n",
    "                first_sum += 0.8 * (2 * initial_df[row_num + 1, col_num] - 1)\n",
    "                third_sum += -0.8 * (2 * initial_df[row_num + 1, col_num] - 1)\n",
    "            if (col_num - 1) >= 0:\n",
    "                first_sum += 0.8 * (2 * initial_df[row_num , col_num - 1] - 1)\n",
    "                third_sum += -0.8 * (2 * initial_df[row_num , col_num - 1] - 1)\n",
    "            if (col_num + 1) < 28:\n",
    "                first_sum += 0.8 * (2 * initial_df[row_num , col_num + 1] - 1)\n",
    "                third_sum += -0.8 * (2 * initial_df[row_num , col_num + 1] - 1)\n",
    "            sec_sum += (2 * im_of_20_flip[img, row_num , col_num])\n",
    "            fourth_sum += (-2 * im_of_20_flip[img, row_num , col_num])\n",
    "            \n",
    "            numerator = np.exp(first_sum+sec_sum)\n",
    "            denominator = numerator + np.exp(third_sum+fourth_sum)\n",
    "\n",
    "            initial_df[row_num , col_num] = numerator/denominator\n",
    "    for row in range(28):\n",
    "        for col in range(28):\n",
    "            if (initial_df[row,col] < 0.5):\n",
    "                im_of_20_flip[img, row , col] = 0\n",
    "            else: \n",
    "                im_of_20_flip[img, row , col] = 1\n",
    "    a.append(im_of_20_flip[img])"
   ]
  },
  {
   "cell_type": "code",
   "execution_count": 98,
   "metadata": {},
   "outputs": [],
   "source": [
    "'''\n",
    "wrtie to file\n",
    "'''\n",
    "output_str = '' \n",
    "big_img = np.zeros((28, 10*28))\n",
    "for row in range(28): # height of image\n",
    "    for img in range(10): # 10 images align\n",
    "        for col in range(28):\n",
    "            output_str += str(a[img][row, col]) + ','\n",
    "            big_img[row,28*img+col] = a[img][row, col]\n",
    "    output_str = output_str[:-1]\n",
    "    output_str += '\\n'"
   ]
  },
  {
   "cell_type": "code",
   "execution_count": 99,
   "metadata": {},
   "outputs": [],
   "source": [
    "f= open(\"output.txt\",\"w+\")\n",
    "f.write(output_str)\n",
    "f.close()"
   ]
  },
  {
   "cell_type": "code",
   "execution_count": 100,
   "metadata": {},
   "outputs": [
    {
     "data": {
      "image/png": "[encoded data removed]",
      "text/plain": [
       "<matplotlib.figure.Figure at 0x1117f7278>"
      ]
     },
     "metadata": {},
     "output_type": "display_data"
    },
    {
     "data": {
      "image/png": "[encoded data removed]",
      "text/plain": [
       "<matplotlib.figure.Figure at 0x11128eb38>"
      ]
     },
     "metadata": {},
     "output_type": "display_data"
    },
    {
     "data": {
      "image/png": "[encoded data removed]",
      "text/plain": [
       "<matplotlib.figure.Figure at 0x1117dcbe0>"
      ]
     },
     "metadata": {},
     "output_type": "display_data"
    },
    {
     "data": {
      "image/png": "[encoded data removed]",
      "text/plain": [
       "<matplotlib.figure.Figure at 0x110c0fc88>"
      ]
     },
     "metadata": {},
     "output_type": "display_data"
    },
    {
     "data": {
      "image/png": "[encoded data removed]",
      "text/plain": [
       "<matplotlib.figure.Figure at 0x110c07f98>"
      ]
     },
     "metadata": {},
     "output_type": "display_data"
    },
    {
     "data": {
      "image/png": "[encoded data removed]",
      "text/plain": [
       "<matplotlib.figure.Figure at 0x1116d2940>"
      ]
     },
     "metadata": {},
     "output_type": "display_data"
    },
    {
     "data": {
      "image/png": "[encoded data removed]",
      "text/plain": [
       "<matplotlib.figure.Figure at 0x1119c2cc0>"
      ]
     },
     "metadata": {},
     "output_type": "display_data"
    },
    {
     "data": {
      "image/png": "[encoded data removed]",
      "text/plain": [
       "<matplotlib.figure.Figure at 0x1113d8438>"
      ]
     },
     "metadata": {},
     "output_type": "display_data"
    },
    {
     "data": {
      "image/png": "[encoded data removed]",
      "text/plain": [
       "<matplotlib.figure.Figure at 0x110ace588>"
      ]
     },
     "metadata": {},
     "output_type": "display_data"
    },
    {
     "data": {
      "image/png": "[encoded data removed]",
      "text/plain": [
       "<matplotlib.figure.Figure at 0x11139fba8>"
      ]
     },
     "metadata": {},
     "output_type": "display_data"
    },
    {
     "data": {
      "image/png": "[encoded data removed]",
      "text/plain": [
       "<matplotlib.figure.Figure at 0x11160fe80>"
      ]
     },
     "metadata": {},
     "output_type": "display_data"
    },
    {
     "data": {
      "image/png": "[encoded data removed]",
      "text/plain": [
       "<matplotlib.figure.Figure at 0x110a9e240>"
      ]
     },
     "metadata": {},
     "output_type": "display_data"
    },
    {
     "data": {
      "image/png": "[encoded data removed]",
      "text/plain": [
       "<matplotlib.figure.Figure at 0x1114a0dd8>"
      ]
     },
     "metadata": {},
     "output_type": "display_data"
    },
    {
     "data": {
      "image/png": "[encoded data removed]",
      "text/plain": [
       "<matplotlib.figure.Figure at 0x11126acc0>"
      ]
     },
     "metadata": {},
     "output_type": "display_data"
    },
    {
     "data": {
      "image/png": "[encoded data removed]",
      "text/plain": [
       "<matplotlib.figure.Figure at 0x1112bc438>"
      ]
     },
     "metadata": {},
     "output_type": "display_data"
    },
    {
     "data": {
      "image/png": "[encoded data removed]",
      "text/plain": [
       "<matplotlib.figure.Figure at 0x1112f0400>"
      ]
     },
     "metadata": {},
     "output_type": "display_data"
    },
    {
     "data": {
      "image/png": "[encoded data removed]",
      "text/plain": [
       "<matplotlib.figure.Figure at 0x110b43da0>"
      ]
     },
     "metadata": {},
     "output_type": "display_data"
    },
    {
     "data": {
      "image/png": "[encoded data removed]",
      "text/plain": [
       "<matplotlib.figure.Figure at 0x110c8a5f8>"
      ]
     },
     "metadata": {},
     "output_type": "display_data"
    },
    {
     "data": {
      "image/png": "[encoded data removed]",
      "text/plain": [
       "<matplotlib.figure.Figure at 0x1116d4780>"
      ]
     },
     "metadata": {},
     "output_type": "display_data"
    },
    {
     "data": {
      "image/png": "[encoded data removed]",
      "text/plain": [
       "<matplotlib.figure.Figure at 0x110c8a128>"
      ]
     },
     "metadata": {},
     "output_type": "display_data"
    }
   ],
   "source": [
    "for i in range(20):\n",
    "    plt.imshow(a[i].astype(np.float64),cmap='gray')\n",
    "    plt.show() "
   ]
  },
  {
   "cell_type": "code",
   "execution_count": 101,
   "metadata": {},
   "outputs": [
    {
     "data": {
      "image/png": "[encoded data removed]",
      "text/plain": [
       "<matplotlib.figure.Figure at 0x110d0df28>"
      ]
     },
     "metadata": {},
     "output_type": "display_data"
    }
   ],
   "source": [
    "plt.imshow(big_img.astype(np.float64),cmap='gray')\n",
    "plt.show() "
   ]
  },
  {
   "cell_type": "code",
   "execution_count": null,
   "metadata": {},
   "outputs": [],
   "source": []
  }
 ],
 "metadata": {
  "kernelspec": {
   "display_name": "Python 3",
   "language": "python",
   "name": "python3"
  },
  "language_info": {
   "codemirror_mode": {
    "name": "ipython",
    "version": 3
   },
   "file_extension": ".py",
   "mimetype": "text/x-python",
   "name": "python",
   "nbconvert_exporter": "python",
   "pygments_lexer": "ipython3",
   "version": "3.6.4"
  }
 },
 "nbformat": 4,
 "nbformat_minor": 2
}

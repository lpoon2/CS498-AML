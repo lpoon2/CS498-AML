{
 "cells": [
  {
   "cell_type": "code",
   "execution_count": 52,
   "metadata": {},
   "outputs": [],
   "source": [
    "import os, struct\n",
    "import math, random, copy\n",
    "import numpy as np\n",
    "import sys\n",
    "from scipy import misc\n",
    "import math\n",
    "import matplotlib.pyplot as plt\n",
    "import numpy as np\n",
    "import scipy\n",
    "from matplotlib import pyplot as plt\n",
    "import pandas as pd\n",
    "import mnist\n",
    "import scipy.misc"
   ]
  },
  {
   "cell_type": "code",
   "execution_count": 53,
   "metadata": {},
   "outputs": [
    {
     "name": "stderr",
     "output_type": "stream",
     "text": [
      "/Users/poonl/anaconda2/envs/py36/lib/python3.6/site-packages/ipykernel_launcher.py:2: DeprecationWarning: `imresize` is deprecated!\n",
      "`imresize` is deprecated in SciPy 1.0.0, and will be removed in 1.2.0.\n",
      "Use ``skimage.transform.resize`` instead.\n",
      "  \n",
      "/Users/poonl/anaconda2/envs/py36/lib/python3.6/site-packages/ipykernel_launcher.py:2: DeprecationWarning: `toimage` is deprecated!\n",
      "`toimage` is deprecated in SciPy 1.0.0, and will be removed in 1.2.0.\n",
      "Use Pillow's ``Image.fromarray`` directly instead.\n",
      "  \n"
     ]
    },
    {
     "data": {
      "image/png": "[encoded data removed]",
      "text/plain": [
       "<PIL.Image.Image image mode=L size=280x280 at 0x10A45A278>"
      ]
     },
     "execution_count": 53,
     "metadata": {},
     "output_type": "execute_result"
    }
   ],
   "source": [
    "images = mnist.train_images()\n",
    "scipy.misc.toimage(scipy.misc.imresize(images[0,:,:] * -1 + 256, 10.))\n"
   ]
  },
  {
   "cell_type": "code",
   "execution_count": 54,
   "metadata": {},
   "outputs": [],
   "source": [
    "im_of_20 = np.zeros((20, 28, 28))"
   ]
  },
  {
   "cell_type": "code",
   "execution_count": 55,
   "metadata": {},
   "outputs": [],
   "source": [
    "im_of_20_flip = np.zeros((20, 28, 28))"
   ]
  },
  {
   "cell_type": "code",
   "execution_count": 56,
   "metadata": {},
   "outputs": [],
   "source": [
    "for i in range(20): #get the first 20 images to work with\n",
    "    im_of_20[i,:,:] = images[i,:,:]"
   ]
  },
  {
   "cell_type": "markdown",
   "metadata": {},
   "source": [
    "### Step 2 - Adding noises to images"
   ]
  },
  {
   "cell_type": "code",
   "execution_count": 57,
   "metadata": {},
   "outputs": [],
   "source": [
    "noise_df = np.loadtxt(\"NoiseCoordinates.csv\", delimiter= ',',  usecols=range(1,16), skiprows=1)"
   ]
  },
  {
   "cell_type": "code",
   "execution_count": 58,
   "metadata": {},
   "outputs": [],
   "source": [
    "im_of_20_map = np.where(im_of_20 < 0.5 ,-1,1)"
   ]
  },
  {
   "cell_type": "code",
   "execution_count": 59,
   "metadata": {},
   "outputs": [
    {
     "data": {
      "text/plain": [
       "array([-1, -1, -1, -1, -1, -1, -1, -1,  1,  1,  1,  1,  1,  1,  1,  1,  1,\n",
       "        1, -1, -1, -1, -1, -1, -1, -1, -1, -1, -1])"
      ]
     },
     "execution_count": 59,
     "metadata": {},
     "output_type": "execute_result"
    }
   ],
   "source": [
    "im_of_20_map[0,21,:]"
   ]
  },
  {
   "cell_type": "code",
   "execution_count": 60,
   "metadata": {},
   "outputs": [
    {
     "data": {
      "text/plain": [
       "(40, 15)"
      ]
     },
     "execution_count": 60,
     "metadata": {},
     "output_type": "execute_result"
    }
   ],
   "source": [
    "noise_df.shape"
   ]
  },
  {
   "cell_type": "code",
   "execution_count": 65,
   "metadata": {},
   "outputs": [],
   "source": [
    "im_of_20_flip = im_of_20_map"
   ]
  },
  {
   "cell_type": "code",
   "execution_count": 66,
   "metadata": {},
   "outputs": [
    {
     "data": {
      "text/plain": [
       "9.0"
      ]
     },
     "execution_count": 66,
     "metadata": {},
     "output_type": "execute_result"
    }
   ],
   "source": [
    "noise_df[1*2,1]"
   ]
  },
  {
   "cell_type": "code",
   "execution_count": 73,
   "metadata": {},
   "outputs": [],
   "source": [
    "for i in range(20):\n",
    "    for j in range(15):\n",
    "        row = int(noise_df[i*2,j])\n",
    "        col = int(noise_df[i*2+1,j])\n",
    "        if im_of_20_flip[i, row, col] == 1:\n",
    "            im_of_20_flip[i, row, col] = -1\n",
    "        else:\n",
    "            im_of_20_flip[i, row, col] = 1"
   ]
  },
  {
   "cell_type": "markdown",
   "metadata": {},
   "source": [
    "### Step 3 - Denoising with Mean Field Inference"
   ]
  },
  {
   "cell_type": "code",
   "execution_count": 76,
   "metadata": {},
   "outputs": [],
   "source": [
    "import copy"
   ]
  },
  {
   "cell_type": "code",
   "execution_count": 77,
   "metadata": {},
   "outputs": [],
   "source": [
    "initial_df = np.loadtxt(\"InitialParametersModel.csv\", delimiter= ',') # 28x28\n",
    "update_df = np.loadtxt(\"UpdateOrderCoordinates.csv\", delimiter= ',', usecols=range(1,785), skiprows=1)"
   ]
  },
  {
   "cell_type": "code",
   "execution_count": 78,
   "metadata": {},
   "outputs": [
    {
     "data": {
      "text/plain": [
       "(40, 784)"
      ]
     },
     "execution_count": 78,
     "metadata": {},
     "output_type": "execute_result"
    }
   ],
   "source": [
    "update_df.shape"
   ]
  },
  {
   "cell_type": "code",
   "execution_count": 79,
   "metadata": {},
   "outputs": [],
   "source": [
    "for i in range(10):\n",
    "    for img in range(20):\n",
    "        for idx in range(784): \n",
    "            row_num = int(update_df[img*2,idx])\n",
    "            col_num = int(update_df[img*2+1,idx])\n",
    "            first_sum = 0 \n",
    "            sec_sum = 0 \n",
    "            third_sum = 0\n",
    "            fourth_sum = 0\n",
    "            if (row_num - 1) >= 0:\n",
    "                first_sum += 0.8 * (2 * initial_df[row_num - 1, col_num] - 1)\n",
    "                sec_sum += (2 * im_of_20_flip[img, row_num - 1, col_num])\n",
    "                third_sum += -0.8 * (2 * initial_df[row_num - 1, col_num] - 1)\n",
    "                fourth_sum += (-2 * im_of_20_flip[img, row_num - 1, col_num])\n",
    "            if (row_num + 1) < 28:\n",
    "                first_sum += 0.8 * (2 * initial_df[row_num + 1, col_num] - 1)\n",
    "                sec_sum += (2 * im_of_20_flip[img, row_num + 1, col_num])\n",
    "                third_sum += -0.8 * (2 * initial_df[row_num + 1, col_num] - 1)\n",
    "                fourth_sum += (-2 * im_of_20_flip[img, row_num + 1, col_num])\n",
    "            if (col_num - 1) >= 0:\n",
    "                first_sum += 0.8 * (2 * initial_df[row_num , col_num - 1] - 1)\n",
    "                sec_sum += (2 * im_of_20_flip[img, row_num , col_num - 1])\n",
    "                third_sum += -0.8 * (2 * initial_df[row_num , col_num - 1] - 1)\n",
    "                fourth_sum += (-2 * im_of_20_flip[img, row_num , col_num - 1])\n",
    "            if (col_num + 1) < 28:\n",
    "                first_sum += 0.8 * (2 * initial_df[row_num , col_num + 1] - 1)\n",
    "                sec_sum += (2 * im_of_20_flip[img, row_num , col_num + 1])\n",
    "                third_sum += -0.8 * (2 * initial_df[row_num , col_num + 1] - 1)\n",
    "                fourth_sum += (-2 * im_of_20_flip[img, row_num , col_num + 1])\n",
    "            numerator = np.exp(first_sum+sec_sum)\n",
    "            denominator = numerator + np.exp(third_sum+fourth_sum)\n",
    "\n",
    "            initial_df[row_num , col_num] = numerator/denominator"
   ]
  },
  {
   "cell_type": "code",
   "execution_count": 80,
   "metadata": {},
   "outputs": [
    {
     "data": {
      "text/plain": [
       "array([[1.36740135e-05, 5.05675318e-08, 5.05653273e-08, 5.05653273e-08,\n",
       "        5.05653273e-08, 5.05653273e-08, 5.05653273e-08, 5.05653273e-08,\n",
       "        5.05653273e-08, 5.05653273e-08, 5.05653273e-08, 5.05653273e-08,\n",
       "        5.05653273e-08, 5.05653273e-08, 5.05653273e-08, 5.05653273e-08,\n",
       "        5.05653273e-08, 5.05653273e-08, 5.05653273e-08, 5.05653273e-08,\n",
       "        5.05653273e-08, 5.05653273e-08, 5.05653273e-08, 5.05653273e-08,\n",
       "        5.05653273e-08, 5.05653273e-08, 5.05675318e-08, 1.36740135e-05],\n",
       "       [5.05675318e-08, 1.86983699e-10, 1.86983669e-10, 1.86983669e-10,\n",
       "        1.86983669e-10, 1.86983669e-10, 1.86983669e-10, 1.86983669e-10,\n",
       "        1.86983669e-10, 1.86983669e-10, 1.86983669e-10, 1.86983669e-10,\n",
       "        1.86983669e-10, 1.86983669e-10, 1.86983669e-10, 1.86983669e-10,\n",
       "        1.86985327e-10, 1.86983671e-10, 1.86983669e-10, 1.86983669e-10,\n",
       "        1.86983669e-10, 1.86983669e-10, 1.86983669e-10, 1.86983669e-10,\n",
       "        1.86983669e-10, 1.86983669e-10, 1.86983699e-10, 5.05675318e-08],\n",
       "       [5.05653273e-08, 1.86983669e-10, 1.86983638e-10, 1.86983638e-10,\n",
       "        1.86983638e-10, 1.86983638e-10, 1.86983638e-10, 1.86983638e-10,\n",
       "        1.86983638e-10, 1.86983638e-10, 1.86983638e-10, 1.86983638e-10,\n",
       "        1.86983638e-10, 1.86983638e-10, 1.86983638e-10, 1.88113513e-10,\n",
       "        9.29765133e-10, 4.58209933e-09, 1.86984021e-10, 1.86983638e-10,\n",
       "        1.86983972e-10, 1.86983638e-10, 1.86983638e-10, 1.86983638e-10,\n",
       "        1.86983638e-10, 1.86983638e-10, 1.86983669e-10, 5.05653273e-08],\n",
       "       [5.05653273e-08, 1.86983669e-10, 1.86983638e-10, 1.86983638e-10,\n",
       "        1.86983638e-10, 1.86983638e-10, 1.86983638e-10, 1.86983638e-10,\n",
       "        1.86983638e-10, 1.86983638e-10, 1.86983638e-10, 1.86983638e-10,\n",
       "        1.86983638e-10, 1.86983638e-10, 1.86983639e-10, 1.86983709e-10,\n",
       "        4.61482371e-09, 9.29771207e-10, 7.83759960e-08, 1.86984354e-10,\n",
       "        1.86983638e-10, 1.86983973e-10, 1.86983639e-10, 1.86983638e-10,\n",
       "        1.86983638e-10, 1.86983638e-10, 1.86983669e-10, 5.05653273e-08],\n",
       "       [5.05653273e-08, 1.86983669e-10, 1.86983638e-10, 1.86983638e-10,\n",
       "        1.86983638e-10, 1.86983638e-10, 1.86983638e-10, 1.86983638e-10,\n",
       "        1.86983638e-10, 1.86983638e-10, 1.86983638e-10, 1.86983638e-10,\n",
       "        1.86983638e-10, 1.86983642e-10, 1.05485297e-09, 1.13212147e-07,\n",
       "        4.58721196e-09, 1.96356140e-06, 7.07546740e-10, 3.19837798e-09,\n",
       "        1.86983977e-10, 1.86983638e-10, 1.86983663e-10, 1.86983639e-10,\n",
       "        1.86983638e-10, 1.86983638e-10, 1.86983669e-10, 5.05653273e-08],\n",
       "       [5.05653273e-08, 1.86983669e-10, 1.86983638e-10, 1.86983638e-10,\n",
       "        1.86983638e-10, 1.86983638e-10, 1.86983638e-10, 1.86983638e-10,\n",
       "        1.86983638e-10, 1.86983638e-10, 1.86983638e-10, 1.86983638e-10,\n",
       "        1.86983644e-10, 4.71287372e-09, 4.59281108e-09, 2.09718230e-10,\n",
       "        4.59262793e-09, 1.73580670e-08, 1.86985080e-10, 7.07542378e-10,\n",
       "        1.86983639e-10, 1.86984229e-10, 1.86983638e-10, 1.86983663e-10,\n",
       "        1.86983638e-10, 1.86983638e-10, 1.86983669e-10, 5.05653273e-08],\n",
       "       [5.05653273e-08, 1.86983669e-10, 1.86983638e-10, 1.86983638e-10,\n",
       "        1.86983638e-10, 1.86983638e-10, 1.86983638e-10, 1.86983638e-10,\n",
       "        1.86983638e-10, 1.86983638e-10, 1.86983678e-10, 1.86983655e-10,\n",
       "        4.28632657e-09, 1.21954418e-05, 3.86410182e-04, 3.58573002e-02,\n",
       "        3.73931841e-04, 2.90384365e-06, 2.39084975e-06, 1.86983649e-10,\n",
       "        1.86984340e-10, 1.86983640e-10, 1.86983640e-10, 1.86983638e-10,\n",
       "        1.86983640e-10, 1.86983638e-10, 1.86983669e-10, 5.05653273e-08],\n",
       "       [5.05653273e-08, 1.86983669e-10, 1.86983638e-10, 1.86983638e-10,\n",
       "        1.86983638e-10, 1.86983638e-10, 1.86983638e-10, 1.86983638e-10,\n",
       "        1.86983638e-10, 1.86983682e-10, 1.86983653e-10, 2.39356733e-08,\n",
       "        4.71855842e-01, 9.63852299e-01, 9.99984668e-01, 9.99999365e-01,\n",
       "        9.98182625e-01, 9.92750516e-01, 3.91735483e-02, 9.28666054e-03,\n",
       "        1.87007372e-10, 1.86983638e-10, 1.86983641e-10, 1.86983640e-10,\n",
       "        1.86983638e-10, 1.86983638e-10, 1.86983669e-10, 5.05653273e-08],\n",
       "       [5.05653273e-08, 1.86983669e-10, 1.86983638e-10, 1.86983638e-10,\n",
       "        1.86983638e-10, 1.86983638e-10, 1.86983638e-10, 1.86983638e-10,\n",
       "        1.86983643e-10, 1.86983639e-10, 8.22863363e-10, 4.63040655e-01,\n",
       "        9.92248629e-01, 1.00000000e+00, 1.00000000e+00, 1.00000000e+00,\n",
       "        9.99999886e-01, 1.00000000e+00, 9.99997239e-01, 5.01499511e-01,\n",
       "        1.87991580e-03, 1.87007413e-10, 1.86983638e-10, 1.86983640e-10,\n",
       "        1.86983638e-10, 1.86983638e-10, 1.86983669e-10, 5.05653273e-08],\n",
       "       [5.05653273e-08, 1.86983669e-10, 1.86983638e-10, 1.86983638e-10,\n",
       "        1.86983638e-10, 1.86983638e-10, 1.86983638e-10, 1.86983638e-10,\n",
       "        1.86983641e-10, 1.86990882e-10, 1.20993429e-05, 8.14832133e-01,\n",
       "        1.00000000e+00, 1.00000000e+00, 9.99991797e-01, 9.99661042e-01,\n",
       "        9.99986308e-01, 9.99932277e-01, 9.99997239e-01, 9.99997239e-01,\n",
       "        3.91701746e-02, 6.31824426e-07, 1.86983680e-10, 1.86983638e-10,\n",
       "        1.86983638e-10, 1.86983638e-10, 1.86983669e-10, 5.05653273e-08],\n",
       "       [5.05653273e-08, 1.86983669e-10, 1.86983638e-10, 1.86983638e-10,\n",
       "        1.86983638e-10, 1.86983638e-10, 1.86983638e-10, 1.86983638e-10,\n",
       "        1.86983639e-10, 1.87162464e-10, 1.36874411e-05, 9.99984532e-01,\n",
       "        1.00000000e+00, 9.99991155e-01, 5.48983406e-01, 9.30191598e-07,\n",
       "        4.99994862e-01, 9.99664162e-01, 1.00000000e+00, 9.99997239e-01,\n",
       "        9.92829942e-01, 5.57390178e-07, 1.86983638e-10, 1.86983638e-10,\n",
       "        1.86983638e-10, 1.86983638e-10, 1.86983669e-10, 5.05653273e-08],\n",
       "       [5.05653273e-08, 1.86983669e-10, 1.86983638e-10, 1.86983638e-10,\n",
       "        1.86983638e-10, 1.86983638e-10, 1.86983638e-10, 1.86983638e-10,\n",
       "        1.86983641e-10, 3.98108278e-09, 2.95282046e-04, 9.99999358e-01,\n",
       "        1.00000000e+00, 9.99839014e-01, 6.14423935e-02, 1.20765028e-05,\n",
       "        8.31842448e-01, 9.99613521e-01, 9.99996831e-01, 9.99999888e-01,\n",
       "        1.65880110e-03, 5.60357641e-07, 1.86983638e-10, 1.86983638e-10,\n",
       "        1.86983638e-10, 1.86983638e-10, 1.86983669e-10, 5.05653273e-08],\n",
       "       [5.05653273e-08, 1.86983669e-10, 1.86983638e-10, 1.86983638e-10,\n",
       "        1.86983638e-10, 1.86983638e-10, 1.86983638e-10, 1.86983638e-10,\n",
       "        1.86990836e-10, 1.87180048e-10, 3.28072467e-04, 9.99999366e-01,\n",
       "        9.99999997e-01, 1.00000000e+00, 9.99837965e-01, 9.99620518e-01,\n",
       "        9.99986324e-01, 1.00000000e+00, 9.99989560e-01, 5.34759362e-01,\n",
       "        1.66761541e-03, 1.86983641e-10, 1.86983638e-10, 1.86983638e-10,\n",
       "        1.86983638e-10, 1.86983638e-10, 1.86983669e-10, 5.05653273e-08],\n",
       "       [5.05653273e-08, 1.86983669e-10, 1.86983638e-10, 1.86983638e-10,\n",
       "        1.86983638e-10, 1.86983638e-10, 1.86983638e-10, 1.86983638e-10,\n",
       "        1.86991681e-10, 4.48337030e-09, 1.40404497e-05, 9.99999427e-01,\n",
       "        1.00000000e+00, 9.99999997e-01, 1.00000000e+00, 1.00000000e+00,\n",
       "        1.00000000e+00, 9.99998908e-01, 5.49564939e-01, 1.79094844e-05,\n",
       "        2.51896065e-10, 1.86983638e-10, 1.86983638e-10, 1.86983638e-10,\n",
       "        1.86983638e-10, 1.86983638e-10, 1.86983669e-10, 5.05653273e-08],\n",
       "       [5.05653273e-08, 1.86983669e-10, 1.86983638e-10, 1.86983638e-10,\n",
       "        1.86983638e-10, 1.86983638e-10, 1.86983638e-10, 1.86983638e-10,\n",
       "        1.86983998e-10, 4.90707241e-09, 7.93684379e-03, 9.98330685e-01,\n",
       "        1.00000000e+00, 1.00000000e+00, 1.00000000e+00, 1.00000000e+00,\n",
       "        9.99999992e-01, 8.41368402e-01, 2.03095165e-02, 3.85247061e-09,\n",
       "        1.86983642e-10, 1.86984629e-10, 1.86983638e-10, 1.86983638e-10,\n",
       "        1.86983638e-10, 1.86983638e-10, 1.86983669e-10, 5.05653273e-08],\n",
       "       [5.05653273e-08, 1.86983669e-10, 1.86983638e-10, 1.86983638e-10,\n",
       "        1.86983638e-10, 1.86983638e-10, 1.86983638e-10, 1.86983996e-10,\n",
       "        1.86983638e-10, 1.86984073e-10, 5.01128924e-09, 9.98332332e-01,\n",
       "        9.91779736e-01, 1.00000000e+00, 1.00000000e+00, 9.99999995e-01,\n",
       "        9.99997244e-01, 5.01093192e-01, 9.91797179e-10, 4.58701637e-09,\n",
       "        2.67989556e-09, 1.86988418e-10, 1.86983638e-10, 1.86983638e-10,\n",
       "        1.86983638e-10, 1.86983638e-10, 1.86983669e-10, 5.05653273e-08],\n",
       "       [5.05653273e-08, 1.86983669e-10, 1.86983638e-10, 1.86983638e-10,\n",
       "        1.86983638e-10, 1.86983638e-10, 1.86983638e-10, 1.86983638e-10,\n",
       "        1.86993299e-10, 1.20555286e-07, 2.76076105e-06, 2.73155260e-06,\n",
       "        4.99449087e-01, 9.99999424e-01, 9.99999886e-01, 9.99999455e-01,\n",
       "        9.99430205e-01, 3.21808241e-05, 2.75998062e-06, 2.67978879e-09,\n",
       "        4.58618342e-09, 1.86983641e-10, 1.86983638e-10, 1.86983638e-10,\n",
       "        1.86983638e-10, 1.86983638e-10, 1.86983669e-10, 5.05653273e-08],\n",
       "       [5.05653273e-08, 1.86983669e-10, 1.86983638e-10, 1.86983638e-10,\n",
       "        1.86983638e-10, 1.86983638e-10, 1.86983651e-10, 1.86983641e-10,\n",
       "        1.86983721e-10, 1.12540561e-07, 1.12535996e-07, 1.88089777e-10,\n",
       "        1.83721725e-03, 9.91536313e-01, 9.99999884e-01, 9.99999992e-01,\n",
       "        8.32888791e-01, 1.54531893e-05, 1.86996470e-10, 1.12495888e-07,\n",
       "        1.86984042e-10, 1.86983972e-10, 1.86983638e-10, 1.86983638e-10,\n",
       "        1.86983638e-10, 1.86983638e-10, 1.86983669e-10, 5.05653273e-08],\n",
       "       [5.05653273e-08, 1.86983669e-10, 1.86983638e-10, 1.86983638e-10,\n",
       "        1.86983638e-10, 1.86983638e-10, 1.86983641e-10, 1.86983641e-10,\n",
       "        4.59685212e-09, 1.12530280e-07, 1.86987308e-10, 3.14775039e-06,\n",
       "        4.09950614e-02, 9.99697794e-01, 9.99999887e-01, 9.99999888e-01,\n",
       "        1.93464063e-03, 5.60885046e-07, 3.11874015e-06, 6.40466278e-08,\n",
       "        1.86983677e-10, 1.86983972e-10, 1.86983638e-10, 1.86983638e-10,\n",
       "        1.86983638e-10, 1.86983638e-10, 1.86983669e-10, 5.05653273e-08],\n",
       "       [5.05653273e-08, 1.86983669e-10, 1.86983638e-10, 1.86983638e-10,\n",
       "        1.86983638e-10, 1.86983638e-10, 1.86983641e-10, 1.87368908e-10,\n",
       "        1.86983691e-10, 8.03269813e-08, 2.76076072e-06, 4.06664572e-02,\n",
       "        5.02741020e-02, 9.99999944e-01, 9.99949271e-01, 5.48998678e-01,\n",
       "        9.92297928e-03, 1.31256192e-07, 1.86985929e-10, 2.22456392e-08,\n",
       "        1.86984318e-10, 1.86983972e-10, 1.86983638e-10, 1.86983638e-10,\n",
       "        1.86983638e-10, 1.86983638e-10, 1.86983669e-10, 5.05653273e-08],\n",
       "       [5.05653273e-08, 1.86983669e-10, 1.86983638e-10, 1.86983638e-10,\n",
       "        1.86983638e-10, 1.86983638e-10, 1.86983639e-10, 3.19930479e-10,\n",
       "        3.27430589e-09, 1.90029865e-10, 5.04988642e-03, 9.98341196e-01,\n",
       "        9.99999937e-01, 9.99999997e-01, 9.02970079e-02, 5.15734124e-02,\n",
       "        1.81486490e-07, 4.58620048e-09, 5.57168538e-07, 4.58714977e-09,\n",
       "        1.86983641e-10, 1.86983972e-10, 1.86983638e-10, 1.86983638e-10,\n",
       "        1.86983638e-10, 1.86983638e-10, 1.86983669e-10, 5.05653273e-08],\n",
       "       [5.05653273e-08, 1.86983669e-10, 1.86983638e-10, 1.86983638e-10,\n",
       "        1.86983638e-10, 1.86983638e-10, 1.86983708e-10, 1.86983754e-10,\n",
       "        1.86983682e-10, 6.97875475e-08, 9.56622296e-01, 9.99999356e-01,\n",
       "        1.00000000e+00, 9.99990042e-01, 9.70308552e-01, 4.91992670e-09,\n",
       "        1.61122894e-06, 1.86984610e-10, 4.70754465e-09, 4.49147117e-09,\n",
       "        1.86983974e-10, 1.86983638e-10, 1.86983638e-10, 1.86983638e-10,\n",
       "        1.86983638e-10, 1.86983638e-10, 1.86983669e-10, 5.05653273e-08],\n",
       "       [5.05653273e-08, 1.86983669e-10, 1.86983638e-10, 1.86983638e-10,\n",
       "        1.86983638e-10, 1.86983638e-10, 1.86983638e-10, 1.86983708e-10,\n",
       "        1.87024283e-10, 7.37905913e-03, 9.56259592e-01, 9.99999975e-01,\n",
       "        9.99999995e-01, 9.60818520e-01, 2.69036885e-04, 1.12288583e-07,\n",
       "        1.52199999e-08, 4.70753642e-09, 1.86983644e-10, 1.86983641e-10,\n",
       "        1.86983638e-10, 1.86983638e-10, 1.86983638e-10, 1.86983638e-10,\n",
       "        1.86983638e-10, 1.86983638e-10, 1.86983669e-10, 5.05653273e-08],\n",
       "       [5.05653273e-08, 1.86983669e-10, 1.86983638e-10, 1.86983638e-10,\n",
       "        1.86983638e-10, 1.86983638e-10, 1.86983638e-10, 1.86983680e-10,\n",
       "        1.66761502e-03, 5.07222843e-01, 9.99985254e-01, 9.99999901e-01,\n",
       "        4.02043530e-02, 3.92907359e-02, 5.19427497e-09, 4.58703804e-09,\n",
       "        1.86983981e-10, 6.20444125e-10, 1.91931142e-10, 1.86983638e-10,\n",
       "        1.86983638e-10, 1.86983638e-10, 1.86983638e-10, 1.86983638e-10,\n",
       "        1.86983638e-10, 1.86983638e-10, 1.86983669e-10, 5.05653273e-08],\n",
       "       [5.05653273e-08, 1.86983669e-10, 1.86983638e-10, 1.86983638e-10,\n",
       "        1.86983638e-10, 1.86983638e-10, 1.86983678e-10, 5.60356654e-07,\n",
       "        1.65880754e-03, 9.99997253e-01, 9.99999887e-01, 9.99668431e-01,\n",
       "        1.88612244e-03, 2.13318651e-10, 1.86983641e-10, 1.86983641e-10,\n",
       "        1.86983638e-10, 1.86983972e-10, 1.86983638e-10, 1.86983638e-10,\n",
       "        1.86983638e-10, 1.86983638e-10, 1.86983638e-10, 1.86983638e-10,\n",
       "        1.86983638e-10, 1.86983638e-10, 1.86983669e-10, 5.05653273e-08],\n",
       "       [5.05653273e-08, 1.86983669e-10, 1.86983638e-10, 1.86983638e-10,\n",
       "        1.86983638e-10, 1.86983638e-10, 1.87978821e-10, 1.65880701e-03,\n",
       "        9.91921195e-01, 9.99932276e-01, 9.99999888e-01, 1.65880405e-03,\n",
       "        5.57390060e-07, 1.86983972e-10, 1.86983638e-10, 1.86983638e-10,\n",
       "        1.86983638e-10, 1.86983638e-10, 1.86983638e-10, 1.86983638e-10,\n",
       "        1.86983638e-10, 1.86983638e-10, 1.86983638e-10, 1.86983638e-10,\n",
       "        1.86983638e-10, 1.86983638e-10, 1.86983669e-10, 5.05653273e-08],\n",
       "       [5.05675318e-08, 1.86983699e-10, 1.86983669e-10, 1.86983669e-10,\n",
       "        1.86983669e-10, 1.86984002e-10, 5.57391144e-07, 5.57658939e-07,\n",
       "        9.99646935e-01, 9.91835675e-01, 4.94923286e-01, 1.66761524e-03,\n",
       "        1.86984002e-10, 1.86983669e-10, 1.86983669e-10, 1.86983669e-10,\n",
       "        1.86983669e-10, 1.86983669e-10, 1.86983669e-10, 1.86983669e-10,\n",
       "        1.86983669e-10, 1.86983669e-10, 1.86983669e-10, 1.86983669e-10,\n",
       "        1.86983669e-10, 1.86983669e-10, 1.86983699e-10, 5.05675318e-08],\n",
       "       [1.36740135e-05, 5.05675318e-08, 5.05653273e-08, 5.05653273e-08,\n",
       "        5.05653273e-08, 5.05653273e-08, 5.05653273e-08, 1.50710407e-04,\n",
       "        1.50783073e-04, 3.59302592e-03, 1.50710407e-04, 5.05653273e-08,\n",
       "        5.05653273e-08, 5.05653273e-08, 5.05653273e-08, 5.05653273e-08,\n",
       "        5.05653273e-08, 5.05653273e-08, 5.05653273e-08, 5.05653273e-08,\n",
       "        5.05653273e-08, 5.05653273e-08, 5.05653273e-08, 5.05653273e-08,\n",
       "        5.05653273e-08, 5.05653273e-08, 5.05675318e-08, 1.36740135e-05]])"
      ]
     },
     "execution_count": 80,
     "metadata": {},
     "output_type": "execute_result"
    }
   ],
   "source": [
    "initial_df"
   ]
  },
  {
   "cell_type": "markdown",
   "metadata": {},
   "source": [
    "### Step 4 - Turning in the energy function values computed initially and after each iteration"
   ]
  },
  {
   "cell_type": "code",
   "execution_count": null,
   "metadata": {},
   "outputs": [],
   "source": []
  },
  {
   "cell_type": "code",
   "execution_count": null,
   "metadata": {},
   "outputs": [],
   "source": []
  },
  {
   "cell_type": "code",
   "execution_count": null,
   "metadata": {},
   "outputs": [],
   "source": []
  },
  {
   "cell_type": "code",
   "execution_count": 190,
   "metadata": {
    "collapsed": true
   },
   "outputs": [],
   "source": [
    "im = copy.deepcopy(im_of_20_map[0,:,:])\n",
    "out_im = copy.deepcopy(im_of_20_map[0,:,:])\n",
    "im[:,:] = np.where(im[:,:] < 0.5 ,0,1)"
   ]
  },
  {
   "cell_type": "code",
   "execution_count": 191,
   "metadata": {
    "collapsed": true
   },
   "outputs": [],
   "source": [
    "theta_1 = 0.8\n",
    "theta_2 = 2\n",
    "im_temp =  copy.deepcopy(initial_df)\n",
    "im_temp_pr =  copy.deepcopy(initial_df)"
   ]
  },
  {
   "cell_type": "code",
   "execution_count": 192,
   "metadata": {},
   "outputs": [],
   "source": [
    "for k in range(5):\n",
    "    for i in range(28):\n",
    "        for j in range(28):\n",
    "            EQ_P = 0.0\n",
    "            EQ_Q = 0\n",
    "            if (i >= 1): \n",
    "                    EQ_P += theta_1 * (2 * im_temp_pr[i-1,j]-1) + theta_2 * im[i-1,j]\n",
    "            if (i < 27): \n",
    "                    EQ_P += theta_1 * (2 * im_temp_pr[i+1,j]-1) + theta_2 * im[i+1,j]\n",
    "            if (j >= 1): \n",
    "                    EQ_P += theta_1 * (2 * im_temp_pr[i,j-1]-1) + theta_2 * im[i,j-1]\n",
    "            if (j <27):\n",
    "                    EQ_P += theta_1 * (2 * im_temp_pr[i,j+1]-1) + theta_2 * im[i,j+1]\n",
    "            im_temp[i,j] = np.exp(EQ_P) / (np.exp(EQ_P)+np.exp(-EQ_P))\n",
    "    im_temp_pr  =  copy.deepcopy(im_temp)\n",
    "\n",
    "        \n",
    "#here is to loop over x y and get the pi[i] as in book page 263"
   ]
  },
  {
   "cell_type": "code",
   "execution_count": 186,
   "metadata": {},
   "outputs": [
    {
     "data": {
      "text/plain": [
       "array([[ 0.12740902,  0.99063091,  0.99858948,  0.99182831,  0.99976283,\n",
       "         0.99155932,  0.46782802,  0.99132822,  0.30278311,  0.99132805,\n",
       "         0.98327455,  0.99132804,  0.99115738,  0.99132592,  0.96408582,\n",
       "         0.99073241,  0.91147881,  0.82476324,  0.98438455,  0.01156283,\n",
       "         0.9911696 ,  0.00867552,  0.89432032,  0.00867214,  0.01724408,\n",
       "         0.0086989 ,  0.01588492,  0.04168815],\n",
       "       [ 0.9903739 ,  0.12468828,  0.99832164,  0.99996081,  0.99832191,\n",
       "         0.99004707,  0.99826629,  0.48314053,  0.99826624,  0.9799555 ,\n",
       "         0.99826624,  0.99825626,  0.99826624,  0.99819381,  0.99826561,\n",
       "         0.98901391,  0.9976319 ,  0.99531537,  0.39392031,  0.99825525,\n",
       "         0.00238908,  0.99806205,  0.00175688,  0.56400352,  0.00173688,\n",
       "         0.02137973,  0.00180422,  0.21750624],\n",
       "       [ 0.02314021,  0.99826583,  0.95382564,  0.99831386,  0.99828668,\n",
       "         0.99830467,  0.99235503,  0.99830466,  0.98815466,  0.99830466,\n",
       "         0.9982915 ,  0.99830466,  0.99830463,  0.99830471,  0.99824013,\n",
       "         0.99830453,  0.99743899,  0.99993458,  0.99831739,  0.44391019,\n",
       "         0.99830446,  0.02273248,  0.99732144,  0.00275154,  0.86900847,\n",
       "         0.00233884,  0.89721588,  0.02259448],\n",
       "       [ 0.99132732,  0.68111199,  0.99830467,  0.99805707,  0.99830488,\n",
       "         0.9983001 ,  0.99830487,  0.99802802,  0.99830492,  0.99829519,\n",
       "         0.99830492,  0.99830501,  0.99831391,  0.99831388,  0.99831401,\n",
       "         0.99829974,  0.99996907,  0.99834061,  0.99994659,  0.99832285,\n",
       "         0.92831284,  0.99831332,  0.40273727,  0.99750902,  0.0756386 ,\n",
       "         0.99549436,  0.12395109,  0.98833322],\n",
       "       [ 0.906296  ,  0.99826624,  0.99791464,  0.99830488,  0.99830438,\n",
       "         0.99830492,  0.99830338,  0.99830502,  0.99831164,  0.99831396,\n",
       "         0.998314  ,  0.99832302,  0.99996924,  0.9999694 ,  0.9999694 ,\n",
       "         0.9999694 ,  0.99996956,  0.99999944,  0.99996956,  0.99996788,\n",
       "         0.9999694 ,  0.999926  ,  0.99996939,  0.99948509,  0.99827287,\n",
       "         0.96563513,  0.99826804,  0.9229467 ],\n",
       "       [ 0.9913281 ,  0.99809918,  0.99831366,  0.99830451,  0.99830502,\n",
       "         0.99831386,  0.99830517,  0.99832291,  0.99996924,  0.9999694 ,\n",
       "         0.9999694 ,  0.99999944,  0.99999944,  0.99999999,  0.99999999,\n",
       "         0.99999999,  0.99999999,  0.99999999,  0.99999999,  0.99999999,\n",
       "         0.99999999,  0.99999999,  0.99999999,  0.99999944,  0.99996602,\n",
       "         0.99833138,  0.99996593,  0.99160371],\n",
       "       [ 0.99112841,  0.9982848 ,  0.9999689 ,  0.9983229 ,  0.9983229 ,\n",
       "         0.99996891,  0.99833202,  0.99999944,  0.99999944,  0.99999999,\n",
       "         0.99999999,  0.99999999,  1.        ,  1.        ,  1.        ,\n",
       "         1.        ,  1.        ,  1.        ,  1.        ,  1.        ,\n",
       "         1.        ,  1.        ,  1.        ,  0.99999944,  0.9999694 ,\n",
       "         0.99996906,  0.99833985,  0.99983947],\n",
       "       [ 0.99137484,  0.99996749,  0.99834054,  0.99996907,  0.99996907,\n",
       "         0.9983407 ,  0.99999944,  0.99999944,  1.        ,  1.        ,\n",
       "         1.        ,  1.        ,  1.        ,  1.        ,  1.        ,\n",
       "         1.        ,  1.        ,  1.        ,  0.99999999,  0.99999999,\n",
       "         0.99999999,  0.99999999,  0.99999944,  0.99999944,  0.998323  ,\n",
       "         0.9983229 ,  0.99996812,  0.99160478],\n",
       "       [ 0.97070833,  0.9982848 ,  0.99996814,  0.9983229 ,  0.9983229 ,\n",
       "         0.99996907,  0.9999694 ,  0.99999944,  1.        ,  1.        ,\n",
       "         1.        ,  1.        ,  1.        ,  1.        ,  1.        ,\n",
       "         0.99999999,  1.        ,  0.99999999,  0.99999944,  0.9999694 ,\n",
       "         0.9999694 ,  0.9999694 ,  0.9999694 ,  0.99832296,  0.99830507,\n",
       "         0.99821187,  0.99827569,  0.9847779 ],\n",
       "       [ 0.9913281 ,  0.94045248,  0.99831366,  0.99828178,  0.99830502,\n",
       "         0.99831396,  0.99832302,  0.99999944,  0.99999944,  1.        ,\n",
       "         1.        ,  1.        ,  1.        ,  1.        ,  0.99999944,\n",
       "         0.99999999,  0.99999944,  0.99999944,  0.99996924,  0.99832286,\n",
       "         0.99831416,  0.99833175,  0.99996907,  0.9983229 ,  0.99811074,\n",
       "         0.99830467,  0.94755909,  0.99132826],\n",
       "       [ 0.12191777,  0.99826624,  0.9359405 ,  0.99830488,  0.99830153,\n",
       "         0.99830493,  0.99830507,  0.99832313,  0.99999944,  0.99999944,\n",
       "         0.99999999,  1.        ,  1.        ,  0.99999999,  0.99999999,\n",
       "         0.99834087,  0.99996924,  0.99996924,  0.99832281,  0.99830512,\n",
       "         0.99831391,  0.99996891,  0.99834054,  0.99996697,  0.99831386,\n",
       "         0.62501015,  0.99826624,  0.14110581],\n",
       "       [ 0.99132805,  0.02526877,  0.99830466,  0.98980628,  0.99830488,\n",
       "         0.99830459,  0.99830493,  0.99830507,  0.99832297,  0.99996924,\n",
       "         0.99999944,  0.99999999,  1.        ,  1.        ,  0.99999944,\n",
       "         0.99996924,  0.9983318 ,  0.99832295,  0.99830517,  0.99830488,\n",
       "         0.99830502,  0.9983228 ,  0.99996881,  0.9983228 ,  0.96118776,\n",
       "         0.99830466,  0.00324268,  0.9913273 ],\n",
       "       [ 0.00874033,  0.99826624,  0.1455823 ,  0.99830487,  0.99672592,\n",
       "         0.99830502,  0.99831381,  0.99830502,  0.99830506,  0.99832281,\n",
       "         0.99996924,  0.99999944,  1.        ,  1.        ,  0.99999999,\n",
       "         0.99999944,  0.9999694 ,  0.99996924,  0.99832297,  0.99830507,\n",
       "         0.99830488,  0.99830495,  0.99831386,  0.99794102,  0.99830492,\n",
       "         0.09665619,  0.99826602,  0.00874548],\n",
       "       [ 0.9913253 ,  0.00178791,  0.99830465,  0.3645856 ,  0.99830502,\n",
       "         0.99797574,  0.99996891,  0.99832277,  0.99830502,  0.99830483,\n",
       "         0.99832297,  0.99999944,  0.99999944,  1.        ,  1.        ,\n",
       "         0.99999999,  0.99999999,  0.99999944,  0.99999944,  0.99832313,\n",
       "         0.99830507,  0.99830488,  0.99830348,  0.99830502,  0.97966734,\n",
       "         0.9983047 ,  0.00437104,  0.99107238],\n",
       "       [ 0.0086721 ,  0.99826379,  0.00188116,  0.99830415,  0.50690928,\n",
       "         0.99996891,  0.99831954,  0.99996891,  0.99816983,  0.99830493,\n",
       "         0.99830442,  0.99832313,  0.99999944,  0.99999944,  1.        ,\n",
       "         1.        ,  1.        ,  1.        ,  0.99999944,  0.99999944,\n",
       "         0.99832297,  0.99830502,  0.99830502,  0.99832112,  0.99996891,\n",
       "         0.7172257 ,  0.99799672,  0.0091918 ],\n",
       "       [ 0.98714294,  0.00173378,  0.99807929,  0.00209193,  0.99829481,\n",
       "         0.53969003,  0.99996891,  0.96493306,  0.99830502,  0.99755193,\n",
       "         0.99830488,  0.99830445,  0.99832313,  0.99999944,  0.99999944,\n",
       "         1.        ,  1.        ,  1.        ,  1.        ,  0.99999944,\n",
       "         0.99996924,  0.99831401,  0.99831401,  0.99996907,  0.99832986,\n",
       "         0.99994806,  0.0487425 ,  0.88027749],\n",
       "       [ 0.00867195,  0.94546991,  0.00169537,  0.98650657,  0.00199079,\n",
       "         0.9982865 ,  0.04938433,  0.99830502,  0.47544656,  0.99830488,\n",
       "         0.99770561,  0.99830488,  0.99830492,  0.99832323,  0.99999944,\n",
       "         0.99999944,  0.99999999,  1.        ,  1.        ,  0.99999999,\n",
       "         0.99999944,  0.99832311,  0.99832295,  0.99996924,  0.99995419,\n",
       "         0.95953722,  0.52179519,  0.01001737],\n",
       "       [ 0.14589408,  0.00173376,  0.13338441,  0.00169642,  0.96636281,\n",
       "         0.00174882,  0.99829534,  0.00224079,  0.99830487,  0.9269544 ,\n",
       "         0.99830493,  0.99827566,  0.99831396,  0.99832311,  0.9999694 ,\n",
       "         0.99999944,  0.99999999,  0.99999999,  1.        ,  1.        ,\n",
       "         0.99999944,  0.9999694 ,  0.99996907,  0.99833927,  0.99996345,\n",
       "         0.52333054,  0.0451043 ,  0.01535268],\n",
       "       [ 0.00867218,  0.00217327,  0.00170291,  0.04917317,  0.00199256,\n",
       "         0.99498355,  0.00234035,  0.99830432,  0.22418935,  0.99830502,\n",
       "         0.99742422,  0.99832302,  0.99996924,  0.99999944,  0.99999944,\n",
       "         0.99999999,  0.99999999,  1.        ,  1.        ,  1.        ,\n",
       "         0.99999999,  0.9999694 ,  0.99833172,  0.99996886,  0.97221374,\n",
       "         0.95404333,  0.00282345,  0.01064399],\n",
       "       [ 0.01269719,  0.00174848,  0.00235383,  0.01293868,  0.86356116,\n",
       "         0.05563381,  0.99825277,  0.34454525,  0.99831396,  0.99379556,\n",
       "         0.99996924,  0.99999944,  0.99999944,  0.99999999,  1.        ,\n",
       "         1.        ,  1.        ,  1.        ,  1.        ,  0.99999999,\n",
       "         0.99999944,  0.99996924,  0.99831402,  0.99814089,  0.99807071,\n",
       "         0.08619809,  0.33818534,  0.00869903],\n",
       "       [ 0.00980422,  0.06147109,  0.07624695,  0.490286  ,  0.87250001,\n",
       "         0.99762629,  0.96551888,  0.99832291,  0.99991937,  0.99999944,\n",
       "         0.99999944,  0.99999999,  1.        ,  1.        ,  1.        ,\n",
       "         1.        ,  1.        ,  0.99999999,  0.99999944,  0.99999944,\n",
       "         0.99996919,  0.99832281,  0.99830396,  0.99830434,  0.97082677,\n",
       "         0.995847  ,  0.00281058,  0.66121044],\n",
       "       [ 0.85010509,  0.17274267,  0.96093229,  0.97975992,  0.99757226,\n",
       "         0.99811692,  0.99996923,  0.99999941,  0.99999944,  0.99999999,\n",
       "         1.        ,  1.        ,  1.        ,  1.        ,  1.        ,\n",
       "         1.        ,  0.99999944,  0.99999943,  0.99996924,  0.9979753 ,\n",
       "         0.99831396,  0.99806418,  0.99830488,  0.99801776,  0.99830324,\n",
       "         0.07684771,  0.99533778,  0.00878205],\n",
       "       [ 0.74617139,  0.99782395,  0.99077284,  0.99996737,  0.99996937,\n",
       "         0.99999944,  0.99999944,  0.99999999,  1.        ,  1.        ,\n",
       "         1.        ,  1.        ,  1.        ,  1.        ,  0.99999999,\n",
       "         0.99999944,  0.99999942,  0.99832318,  0.97588367,  0.99830502,\n",
       "         0.95247853,  0.99830488,  0.96126204,  0.99830487,  0.57079066,\n",
       "         0.99830285,  0.00231672,  0.989193  ],\n",
       "       [ 0.99116166,  0.99674904,  0.99996903,  0.99996956,  0.99999999,\n",
       "         0.99999944,  1.        ,  1.        ,  1.        ,  1.        ,\n",
       "         1.        ,  1.        ,  0.99999999,  0.99999944,  0.99999944,\n",
       "         0.99996887,  0.99832297,  0.89487735,  0.99830493,  0.07313761,\n",
       "         0.99830488,  0.05039515,  0.99830487,  0.05377053,  0.99830439,\n",
       "         0.00263482,  0.99826443,  0.00868052],\n",
       "       [ 0.99025967,  0.99825138,  0.9983224 ,  0.99999938,  0.99996957,\n",
       "         0.99999999,  0.99999944,  0.99999999,  0.99999999,  0.99999999,\n",
       "         0.99999999,  0.99999944,  0.99999999,  0.9999694 ,  0.99832245,\n",
       "         0.99831396,  0.9899451 ,  0.99830488,  0.01476747,  0.99830487,\n",
       "         0.00193108,  0.99830487,  0.00219697,  0.99830108,  0.00200469,\n",
       "         0.99825473,  0.00173494,  0.991212  ],\n",
       "       [ 0.98955699,  0.9982649 ,  0.98774962,  0.99832276,  0.99982692,\n",
       "         0.99833166,  0.99996891,  0.99996939,  0.9999694 ,  0.99996956,\n",
       "         0.9999694 ,  0.99999944,  0.99834086,  0.99996907,  0.99831375,\n",
       "         0.99822117,  0.99830467,  0.39531503,  0.99830466,  0.00171282,\n",
       "         0.99830465,  0.00169814,  0.99829702,  0.00170265,  0.99672413,\n",
       "         0.00169611,  0.9971595 ,  0.00869924],\n",
       "       [ 0.99036972,  0.91583422,  0.99826582,  0.40655433,  0.99827544,\n",
       "         0.97882382,  0.99827553,  0.99825484,  0.99833086,  0.99996842,\n",
       "         0.99833091,  0.99828658,  0.9999682 ,  0.9982848 ,  0.99826614,\n",
       "         0.99826624,  0.98773136,  0.99826624,  0.00772998,  0.99826622,\n",
       "         0.00173458,  0.99825572,  0.00173383,  0.99430582,  0.00173385,\n",
       "         0.91419155,  0.00178401,  0.95320062],\n",
       "       [ 0.75004036,  0.99037279,  0.10495857,  0.99132733,  0.2898479 ,\n",
       "         0.99132824,  0.9790765 ,  0.99155957,  0.99983918,  0.99182833,\n",
       "         0.99984021,  0.99156107,  0.99138117,  0.99132979,  0.99132811,\n",
       "         0.99067855,  0.99132805,  0.45607194,  0.99132795,  0.01005495,\n",
       "         0.99129769,  0.0086739 ,  0.98483687,  0.00867206,  0.66189949,\n",
       "         0.00869916,  0.53698288,  0.04155834]])"
      ]
     },
     "execution_count": 186,
     "metadata": {},
     "output_type": "execute_result"
    }
   ],
   "source": [
    "im_temp"
   ]
  },
  {
   "cell_type": "code",
   "execution_count": 85,
   "metadata": {},
   "outputs": [
    {
     "data": {
      "text/plain": [
       "625.76477275558659"
      ]
     },
     "execution_count": 85,
     "metadata": {},
     "output_type": "execute_result"
    }
   ],
   "source": [
    "np.sum(im_temp)"
   ]
  },
  {
   "cell_type": "code",
   "execution_count": 28,
   "metadata": {
    "collapsed": true
   },
   "outputs": [],
   "source": [
    "im_temp_out = np.zeros((28,28))"
   ]
  },
  {
   "cell_type": "code",
   "execution_count": 193,
   "metadata": {},
   "outputs": [],
   "source": [
    "im_temp_out[:,:] = np.where(im_temp[:,:] < 0.5 ,0,1)"
   ]
  },
  {
   "cell_type": "code",
   "execution_count": 194,
   "metadata": {},
   "outputs": [
    {
     "data": {
      "image/png": "[encoded data removed]",
      "text/plain": [
       "<matplotlib.figure.Figure at 0x2978387d588>"
      ]
     },
     "metadata": {},
     "output_type": "display_data"
    }
   ],
   "source": [
    "plt.imshow(im_temp.astype(np.float64),cmap='gray')\n",
    "plt.show() #????????????????????????????????????"
   ]
  },
  {
   "cell_type": "code",
   "execution_count": null,
   "metadata": {
    "collapsed": true
   },
   "outputs": [],
   "source": []
  }
 ],
 "metadata": {
  "kernelspec": {
   "display_name": "Python 3",
   "language": "python",
   "name": "python3"
  },
  "language_info": {
   "codemirror_mode": {
    "name": "ipython",
    "version": 3
   },
   "file_extension": ".py",
   "mimetype": "text/x-python",
   "name": "python",
   "nbconvert_exporter": "python",
   "pygments_lexer": "ipython3",
   "version": "3.6.4"
  }
 },
 "nbformat": 4,
 "nbformat_minor": 2
}

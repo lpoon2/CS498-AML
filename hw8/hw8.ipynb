{
 "cells": [
  {
   "cell_type": "code",
   "execution_count": 3,
   "metadata": {
    "collapsed": false
   },
   "outputs": [],
   "source": [
    "import os, struct\n",
    "import math, random, copy\n",
    "import numpy as np\n",
    "import sys\n",
    "from scipy import misc\n",
    "import math\n",
    "import matplotlib.pyplot as plt\n",
    "import numpy as np\n",
    "import scipy\n",
    "from matplotlib import pyplot as plt\n",
    "import pandas as pd\n",
    "import mnist\n",
    "import scipy.misc"
   ]
  },
  {
   "cell_type": "code",
   "execution_count": 4,
   "metadata": {
    "collapsed": false
   },
   "outputs": [
    {
     "data": {
      "image/png": "[encoded data removed]",
      "text/plain": [
       "<PIL.Image.Image image mode=L size=280x280 at 0x297F86368D0>"
      ]
     },
     "execution_count": 4,
     "metadata": {},
     "output_type": "execute_result"
    }
   ],
   "source": [
    "images = mnist.train_images()\n",
    "scipy.misc.toimage(scipy.misc.imresize(images[0,:,:] * -1 + 256, 10.))\n"
   ]
  },
  {
   "cell_type": "code",
   "execution_count": 5,
   "metadata": {
    "collapsed": false
   },
   "outputs": [],
   "source": [
    "im_of_20 = np.zeros((20, 28, 28))"
   ]
  },
  {
   "cell_type": "code",
   "execution_count": 6,
   "metadata": {
    "collapsed": false
   },
   "outputs": [],
   "source": [
    "im_of_20_flip = np.zeros((20, 28, 28))"
   ]
  },
  {
   "cell_type": "code",
   "execution_count": 7,
   "metadata": {
    "collapsed": false
   },
   "outputs": [],
   "source": [
    "for i in range(20): #get the first 20 images to work with\n",
    "    im_of_20[i,:,:] = images[i,:,:]"
   ]
  },
  {
   "cell_type": "code",
   "execution_count": 8,
   "metadata": {
    "collapsed": false
   },
   "outputs": [],
   "source": [
    "noise_df = np.loadtxt(\"NoiseCoordinates.csv\", delimiter= ',',  usecols=range(1,16), skiprows=1)"
   ]
  },
  {
   "cell_type": "code",
   "execution_count": 9,
   "metadata": {
    "collapsed": true
   },
   "outputs": [],
   "source": [
    "im_of_20_map = np.where(im_of_20 < 0.5 ,0,1)"
   ]
  },
  {
   "cell_type": "code",
   "execution_count": 10,
   "metadata": {
    "collapsed": false
   },
   "outputs": [
    {
     "data": {
      "text/plain": [
       "array([0, 0, 0, 0, 0, 0, 0, 0, 1, 1, 1, 1, 1, 1, 1, 1, 1, 1, 0, 0, 0, 0, 0,\n",
       "       0, 0, 0, 0, 0])"
      ]
     },
     "execution_count": 10,
     "metadata": {},
     "output_type": "execute_result"
    }
   ],
   "source": [
    "im_of_20_map[0,21,:]"
   ]
  },
  {
   "cell_type": "code",
   "execution_count": 11,
   "metadata": {
    "collapsed": false
   },
   "outputs": [
    {
     "data": {
      "text/plain": [
       "(40, 15)"
      ]
     },
     "execution_count": 11,
     "metadata": {},
     "output_type": "execute_result"
    }
   ],
   "source": [
    "noise_df.shape"
   ]
  },
  {
   "cell_type": "code",
   "execution_count": 12,
   "metadata": {
    "collapsed": true
   },
   "outputs": [],
   "source": [
    "im_of_20_flip = im_of_20_map"
   ]
  },
  {
   "cell_type": "code",
   "execution_count": 13,
   "metadata": {
    "collapsed": false
   },
   "outputs": [
    {
     "name": "stderr",
     "output_type": "stream",
     "text": [
      "C:\\Users\\titus\\Anaconda3\\lib\\site-packages\\ipykernel\\__main__.py:3: VisibleDeprecationWarning: using a non-integer number instead of an integer will result in an error in the future\n",
      "  app.launch_new_instance()\n",
      "C:\\Users\\titus\\Anaconda3\\lib\\site-packages\\ipykernel\\__main__.py:4: VisibleDeprecationWarning: using a non-integer number instead of an integer will result in an error in the future\n",
      "C:\\Users\\titus\\Anaconda3\\lib\\site-packages\\ipykernel\\__main__.py:6: VisibleDeprecationWarning: using a non-integer number instead of an integer will result in an error in the future\n"
     ]
    }
   ],
   "source": [
    "for i in range(20):\n",
    "    for j in range(15):\n",
    "        if im_of_20_flip[i,noise_df[i*2,j],noise_df[i*2+1,j]] == 1:\n",
    "            im_of_20_flip[i,noise_df[i*2,j],noise_df[i*2+1,j]] = 0\n",
    "        else:\n",
    "            im_of_20_flip[i,noise_df[i*2,j],noise_df[i*2+1,j]] = 1"
   ]
  },
  {
   "cell_type": "code",
   "execution_count": 45,
   "metadata": {
    "collapsed": false
   },
   "outputs": [
    {
     "data": {
      "image/png": "[encoded data removed]",
      "text/plain": [
       "<matplotlib.figure.Figure at 0x29783530978>"
      ]
     },
     "metadata": {},
     "output_type": "display_data"
    }
   ],
   "source": [
    "plt.imshow(im_of_20_map[0,:,:].astype(np.float64),cmap='gray')\n",
    "plt.show()"
   ]
  },
  {
   "cell_type": "code",
   "execution_count": 15,
   "metadata": {
    "collapsed": false
   },
   "outputs": [
    {
     "data": {
      "text/plain": [
       "(28, 28)"
      ]
     },
     "execution_count": 15,
     "metadata": {},
     "output_type": "execute_result"
    }
   ],
   "source": [
    "im_of_20_map[0,:,:].shape"
   ]
  },
  {
   "cell_type": "code",
   "execution_count": 16,
   "metadata": {
    "collapsed": true
   },
   "outputs": [],
   "source": [
    "import copy"
   ]
  },
  {
   "cell_type": "code",
   "execution_count": 17,
   "metadata": {
    "collapsed": true
   },
   "outputs": [],
   "source": [
    "initial_df = np.loadtxt(\"InitialParametersModel.csv\", delimiter= ',')"
   ]
  },
  {
   "cell_type": "code",
   "execution_count": 72,
   "metadata": {
    "collapsed": false
   },
   "outputs": [
    {
     "data": {
      "text/plain": [
       "array([[ 0.16300214,  0.94316862,  0.96634146,  0.10651438,  0.26554397,\n",
       "         0.34707835,  0.67709336,  0.02912923,  0.15127202,  0.59990637,\n",
       "         0.73833034,  0.83619068,  0.2893352 ,  0.65670935,  0.87977655,\n",
       "         0.16016019,  0.23492615,  0.11374673,  0.28475778,  0.31280987,\n",
       "         0.93402849,  0.15177695,  0.8826161 ,  0.71386387,  0.17587459,\n",
       "         0.01110196,  0.41407671,  0.61636517],\n",
       "       [ 0.40710576,  0.82578904,  0.82286658,  0.00924469,  0.88895483,\n",
       "         0.29499995,  0.97541   ,  0.1424434 ,  0.79675955,  0.60710713,\n",
       "         0.66467161,  0.86486237,  0.34308286,  0.66699751,  0.9461347 ,\n",
       "         0.59839563,  0.9245649 ,  0.37260699,  0.3717223 ,  0.48294116,\n",
       "         0.31698619,  0.8433582 ,  0.70219987,  0.57948744,  0.06761362,\n",
       "         0.21294267,  0.56438057,  0.54707479],\n",
       "       [ 0.39508248,  0.4623402 ,  0.06388167,  0.07989033,  0.61315388,\n",
       "         0.4460562 ,  0.87217136,  0.74902117,  0.14950757,  0.10404094,\n",
       "         0.25276239,  0.54348102,  0.34829324,  0.36111381,  0.41612942,\n",
       "         0.29459697,  0.08891908,  0.31467564,  0.64630241,  0.42223483,\n",
       "         0.64706499,  0.42101314,  0.05401631,  0.15229978,  0.14095961,\n",
       "         0.31557634,  0.75866444,  0.73955043],\n",
       "       [ 0.87355954,  0.36805434,  0.60205784,  0.30446535,  0.40324682,\n",
       "         0.8563473 ,  0.50411347,  0.74781864,  0.30742142,  0.89166834,\n",
       "         0.90867658,  0.84695426,  0.7354705 ,  0.25559198,  0.17705038,\n",
       "         0.54801784,  0.83568089,  0.07089507,  0.64006583,  0.80747075,\n",
       "         0.51144887,  0.61908079,  0.39757271,  0.37764455,  0.39930328,\n",
       "         0.66791082,  0.31497242,  0.8857315 ],\n",
       "       [ 0.55395989,  0.57953257,  0.40340198,  0.90863307,  0.738997  ,\n",
       "         0.67664694,  0.26531358,  0.29023256,  0.34870644,  0.67783981,\n",
       "         0.3292108 ,  0.63333859,  0.23596598,  0.60991721,  0.17139186,\n",
       "         0.79317987,  0.37411714,  0.62552765,  0.42630496,  0.79619749,\n",
       "         0.35371479,  0.55642517,  0.53734801,  0.4758748 ,  0.3074982 ,\n",
       "         0.91096946,  0.68264017,  0.36851368],\n",
       "       [ 0.58992868,  0.84293739,  0.86472089,  0.80332122,  0.26194336,\n",
       "         0.85067286,  0.17697524,  0.36458821,  0.87374158,  0.30134109,\n",
       "         0.57621561,  0.07038202,  0.22821349,  0.88611248,  0.8813822 ,\n",
       "         0.56642833,  0.26289352,  0.03523476,  0.92087665,  0.85384026,\n",
       "         0.68228579,  0.55137639,  0.06498073,  0.71675423,  0.34564689,\n",
       "         0.79575162,  0.61215715,  0.8533309 ],\n",
       "       [ 0.78848069,  0.78607511,  0.92213549,  0.91888165,  0.33478202,\n",
       "         0.17893032,  0.58554009,  0.89831142,  0.09684439,  0.21162496,\n",
       "         0.49117702,  0.69466427,  0.87327526,  0.88516912,  0.72552766,\n",
       "         0.9486438 ,  0.5781597 ,  0.29939864,  0.82653729,  0.52160015,\n",
       "         0.65676695,  0.63738537,  0.26088698,  0.16114508,  0.72252389,\n",
       "         0.42575019,  0.71219125,  0.78198642],\n",
       "       [ 0.09631552,  0.18751309,  0.1231824 ,  0.89167399,  0.85546465,\n",
       "         0.14974863,  0.55710864,  0.25046732,  0.23876886,  0.51105182,\n",
       "         0.3964974 ,  0.76584511,  0.92554058,  0.89543309,  0.62952994,\n",
       "         0.05624915,  0.96244765,  0.28489595,  0.0769673 ,  0.9264716 ,\n",
       "         0.43329082,  0.76803846,  0.02125365,  0.29396421,  0.84465841,\n",
       "         0.02901859,  0.07750766,  0.74724983],\n",
       "       [ 0.20841284,  0.50368962,  0.12786962,  0.47483578,  0.826845  ,\n",
       "         0.10435669,  0.81805436,  0.68461546,  0.54918629,  0.81260326,\n",
       "         0.42467398,  0.9565046 ,  0.32216439,  0.15059239,  0.11475335,\n",
       "         0.47367226,  0.85893202,  0.38474404,  0.00935731,  0.03860484,\n",
       "         0.68026594,  0.41778846,  0.00350089,  0.4823495 ,  0.36156533,\n",
       "         0.37768867,  0.81029452,  0.97694821],\n",
       "       [ 0.80000921,  0.34345242,  0.73517056,  0.61118261,  0.66539542,\n",
       "         0.43477236,  0.21140049,  0.28366597,  0.34716952,  0.63129028,\n",
       "         0.02640235,  0.9901838 ,  0.69057256,  0.59956244,  0.81865995,\n",
       "         0.90258507,  0.52518318,  0.57625254,  0.78207973,  0.84689069,\n",
       "         0.26306401,  0.49086706,  0.4161145 ,  0.57210382,  0.86244029,\n",
       "         0.5884957 ,  0.35657073,  0.48589824],\n",
       "       [ 0.40226619,  0.6912385 ,  0.61222067,  0.63542338,  0.52519881,\n",
       "         0.06655748,  0.40470758,  0.70198519,  0.28605788,  0.32932693,\n",
       "         0.16567726,  0.85717427,  0.31032456,  0.17461373,  0.70348588,\n",
       "         0.74511594,  0.00547339,  0.62531776,  0.36800561,  0.49288355,\n",
       "         0.05805601,  0.17847859,  0.68822266,  0.29322697,  0.45313012,\n",
       "         0.58445236,  0.59952726,  0.61556803],\n",
       "       [ 0.21087277,  0.37384117,  0.825683  ,  0.90521688,  0.51860134,\n",
       "         0.43108184,  0.3313743 ,  0.78762496,  0.89008298,  0.32515523,\n",
       "         0.68013088,  0.63987418,  0.00963664,  0.54869677,  0.18853797,\n",
       "         0.15014893,  0.67807608,  0.25664364,  0.73194263,  0.70090303,\n",
       "         0.61023246,  0.25017319,  0.52208788,  0.64005012,  0.03395049,\n",
       "         0.46058056,  0.08545815,  0.25045797],\n",
       "       [ 0.50791047,  0.47384773,  0.58134008,  0.99016667,  0.32496158,\n",
       "         0.60098454,  0.30349159,  0.85848225,  0.58592356,  0.4288725 ,\n",
       "         0.30710866,  0.38369477,  0.17272242,  0.24588673,  0.39216437,\n",
       "         0.23701409,  0.80933691,  0.27753948,  0.43170254,  0.97507223,\n",
       "         0.33783407,  0.77510756,  0.92275854,  0.72599359,  0.69708611,\n",
       "         0.42216338,  0.90292093,  0.40176836],\n",
       "       [ 0.86565354,  0.40572314,  0.21196359,  0.39395175,  0.52685281,\n",
       "         0.97644643,  0.24187864,  0.89997039,  0.47836778,  0.27867551,\n",
       "         0.83334762,  0.26886417,  0.72596069,  0.4926283 ,  0.14085067,\n",
       "         0.87587988,  0.16779445,  0.01036131,  0.53009299,  0.94380097,\n",
       "         0.88146953,  0.2461061 ,  0.87028255,  0.25778757,  0.55321548,\n",
       "         0.68335886,  0.21662396,  0.98085698],\n",
       "       [ 0.16335478,  0.5728646 ,  0.10196244,  0.28668385,  0.64154727,\n",
       "         0.64685395,  0.4600416 ,  0.80449748,  0.80216079,  0.95248924,\n",
       "         0.55601516,  0.48653247,  0.42920406,  0.45004309,  0.83904853,\n",
       "         0.29985803,  0.26892737,  0.35189531,  0.47623864,  0.53362297,\n",
       "         0.28294914,  0.64234989,  0.44112069,  0.43794655,  0.95948029,\n",
       "         0.5098666 ,  0.52312894,  0.71854859],\n",
       "       [ 0.63943189,  0.23029569,  0.36491814,  0.19692451,  0.86448562,\n",
       "         0.13914667,  0.93360641,  0.07450046,  0.59458232,  0.78845816,\n",
       "         0.75889571,  0.3905264 ,  0.27086087,  0.90255864,  0.92082709,\n",
       "         0.60459091,  0.69982086,  0.92611078,  0.46601531,  0.74290343,\n",
       "         0.52855355,  0.21136516,  0.04391892,  0.66342097,  0.21118514,\n",
       "         0.18462558,  0.30052252,  0.12349859],\n",
       "       [ 0.1546863 ,  0.76240613,  0.20562961,  0.54132871,  0.01071612,\n",
       "         0.79004495,  0.4200703 ,  0.79127578,  0.08878206,  0.93056794,\n",
       "         0.55129333,  0.95593308,  0.2211827 ,  0.25488088,  0.94484193,\n",
       "         0.9123645 ,  0.40728812,  0.07942422,  0.11448047,  0.69292735,\n",
       "         0.18327285,  0.19032355,  0.70457702,  0.29881428,  0.17622308,\n",
       "         0.49985037,  0.07545037,  0.61104992],\n",
       "       [ 0.78256286,  0.98331177,  0.34368668,  0.56718433,  0.06881594,\n",
       "         0.1236804 ,  0.93696949,  0.60553061,  0.13162917,  0.1044442 ,\n",
       "         0.4474465 ,  0.84026531,  0.43446031,  0.61067054,  0.57099145,\n",
       "         0.01067683,  0.37677571,  0.77759789,  0.5048848 ,  0.88141881,\n",
       "         0.02822331,  0.63584229,  0.45093121,  0.33042499,  0.13436955,\n",
       "         0.11828281,  0.20042425,  0.6646057 ],\n",
       "       [ 0.33487956,  0.16606711,  0.60017898,  0.60513166,  0.69037726,\n",
       "         0.42391926,  0.05739666,  0.81556003,  0.1727808 ,  0.15503746,\n",
       "         0.90324647,  0.23665924,  0.86372661,  0.19027802,  0.19762766,\n",
       "         0.5510595 ,  0.34967972,  0.71168962,  0.83297495,  0.74165417,\n",
       "         0.47635104,  0.14709215,  0.36338206,  0.27535753,  0.49051343,\n",
       "         0.83067471,  0.32595501,  0.23686514],\n",
       "       [ 0.27204313,  0.02472104,  0.43118304,  0.52928274,  0.09530718,\n",
       "         0.35997958,  0.97554512,  0.40266758,  0.04461922,  0.22346704,\n",
       "         0.33390672,  0.67450576,  0.41351665,  0.27333624,  0.17364112,\n",
       "         0.04365384,  0.67791629,  0.46470121,  0.79038472,  0.03758975,\n",
       "         0.2439265 ,  0.94983643,  0.89577473,  0.09612576,  0.81048187,\n",
       "         0.62324118,  0.24970278,  0.21090784],\n",
       "       [ 0.12679573,  0.13059029,  0.40401815,  0.50715109,  0.85543233,\n",
       "         0.66175272,  0.60088772,  0.34464847,  0.53367294,  0.27428635,\n",
       "         0.8579283 ,  0.49343098,  0.24197989,  0.89750462,  0.81900539,\n",
       "         0.02822951,  0.71638738,  0.75799418,  0.87521966,  0.65769945,\n",
       "         0.10274116,  0.35070955,  0.52067646,  0.6047327 ,  0.31761004,\n",
       "         0.6380387 ,  0.4650484 ,  0.65768178],\n",
       "       [ 0.32233742,  0.3266183 ,  0.82120654,  0.76538621,  0.38036306,\n",
       "         0.27717317,  0.03898884,  0.00850491,  0.89862003,  0.04819622,\n",
       "         0.26892131,  0.68668503,  0.73361908,  0.20181882,  0.52529975,\n",
       "         0.65798779,  0.06181483,  0.08764541,  0.86861433,  0.94702202,\n",
       "         0.56227798,  0.22562556,  0.14353738,  0.87576562,  0.13625683,\n",
       "         0.84020816,  0.20058136,  0.09470089],\n",
       "       [ 0.04518372,  0.85909999,  0.27351064,  0.32433037,  0.29822279,\n",
       "         0.87718849,  0.36256454,  0.71603021,  0.81315968,  0.16126412,\n",
       "         0.84349702,  0.09007923,  0.21869522,  0.0900922 ,  0.87265468,\n",
       "         0.19108018,  0.0402274 ,  0.31030031,  0.20405997,  0.98995079,\n",
       "         0.73312194,  0.96538785,  0.86052427,  0.76728738,  0.81431511,\n",
       "         0.6489831 ,  0.57939483,  0.80236612],\n",
       "       [ 0.67055012,  0.46217721,  0.49445836,  0.7558942 ,  0.38541501,\n",
       "         0.74396137,  0.74947916,  0.18456309,  0.78867372,  0.88327799,\n",
       "         0.14642035,  0.39692403,  0.72846567,  0.41748473,  0.94776397,\n",
       "         0.03975923,  0.95462543,  0.41218727,  0.90795639,  0.04381189,\n",
       "         0.21986237,  0.33296548,  0.59227273,  0.41799482,  0.45534673,\n",
       "         0.3079611 ,  0.79545455,  0.86818101],\n",
       "       [ 0.69707067,  0.48718804,  0.27840577,  0.31582821,  0.54758953,\n",
       "         0.53740859,  0.26906159,  0.33072083,  0.36944891,  0.76312109,\n",
       "         0.29177617,  0.60793165,  0.76297802,  0.32853126,  0.73522437,\n",
       "         0.65728162,  0.46070648,  0.01237173,  0.07772707,  0.1101024 ,\n",
       "         0.67738975,  0.8130174 ,  0.59510202,  0.65572378,  0.33582594,\n",
       "         0.57433222,  0.13017936,  0.70944222],\n",
       "       [ 0.89342427,  0.9323202 ,  0.05463269,  0.49327119,  0.52513025,\n",
       "         0.82417434,  0.32006576,  0.66905099,  0.92578136,  0.14764577,\n",
       "         0.96570716,  0.67310772,  0.44354104,  0.81661713,  0.13786077,\n",
       "         0.08209731,  0.85076477,  0.83328951,  0.42290606,  0.38055298,\n",
       "         0.59822073,  0.069787  ,  0.94976233,  0.57355918,  0.41287044,\n",
       "         0.25358057,  0.72464835,  0.2831536 ],\n",
       "       [ 0.93038153,  0.71858075,  0.7377397 ,  0.53660554,  0.30320066,\n",
       "         0.78110178,  0.6810373 ,  0.29457326,  0.27878501,  0.6502183 ,\n",
       "         0.17537938,  0.26443375,  0.4120698 ,  0.73843832,  0.74403604,\n",
       "         0.99119591,  0.9895096 ,  0.28829552,  0.07754679,  0.95906702,\n",
       "         0.76409438,  0.45817868,  0.16839697,  0.17417392,  0.13898036,\n",
       "         0.21507694,  0.78106723,  0.22258432],\n",
       "       [ 0.22747216,  0.71517972,  0.41353386,  0.01572455,  0.06039214,\n",
       "         0.70131413,  0.20690667,  0.76555269,  0.81062058,  0.01915693,\n",
       "         0.03671556,  0.01493618,  0.21902539,  0.88089034,  0.49668101,\n",
       "         0.78803925,  0.61781858,  0.99197713,  0.92733261,  0.07536823,\n",
       "         0.13345236,  0.58930111,  0.71589362,  0.54328743,  0.22996234,\n",
       "         0.58451892,  0.83458752,  0.71222254]])"
      ]
     },
     "execution_count": 72,
     "metadata": {},
     "output_type": "execute_result"
    }
   ],
   "source": [
    "initial_df"
   ]
  },
  {
   "cell_type": "code",
   "execution_count": 190,
   "metadata": {
    "collapsed": true
   },
   "outputs": [],
   "source": [
    "im = copy.deepcopy(im_of_20_map[0,:,:])\n",
    "out_im = copy.deepcopy(im_of_20_map[0,:,:])\n",
    "im[:,:] = np.where(im[:,:] < 0.5 ,0,1)"
   ]
  },
  {
   "cell_type": "code",
   "execution_count": 191,
   "metadata": {
    "collapsed": true
   },
   "outputs": [],
   "source": [
    "theta_1 = 0.8\n",
    "theta_2 = 2\n",
    "im_temp =  copy.deepcopy(initial_df)\n",
    "im_temp_pr =  copy.deepcopy(initial_df)"
   ]
  },
  {
   "cell_type": "code",
   "execution_count": 192,
   "metadata": {
    "collapsed": false
   },
   "outputs": [],
   "source": [
    "for k in range(5):\n",
    "    for i in range(28):\n",
    "        for j in range(28):\n",
    "            EQ_P = 0.0\n",
    "            EQ_Q = 0\n",
    "            if (i >= 1): \n",
    "                    EQ_P += theta_1 * (2 * im_temp_pr[i-1,j]-1) + theta_2 * im[i-1,j]\n",
    "            if (i < 27): \n",
    "                    EQ_P += theta_1 * (2 * im_temp_pr[i+1,j]-1) + theta_2 * im[i+1,j]\n",
    "            if (j >= 1): \n",
    "                    EQ_P += theta_1 * (2 * im_temp_pr[i,j-1]-1) + theta_2 * im[i,j-1]\n",
    "            if (j <27):\n",
    "                    EQ_P += theta_1 * (2 * im_temp_pr[i,j+1]-1) + theta_2 * im[i,j+1]\n",
    "            im_temp[i,j] = np.exp(EQ_P) / (np.exp(EQ_P)+np.exp(-EQ_P))\n",
    "    im_temp_pr  =  copy.deepcopy(im_temp)\n",
    "\n",
    "        \n",
    "#here is to loop over x y and get the pi[i] as in book page 263"
   ]
  },
  {
   "cell_type": "code",
   "execution_count": 186,
   "metadata": {
    "collapsed": false
   },
   "outputs": [
    {
     "data": {
      "text/plain": [
       "array([[ 0.12740902,  0.99063091,  0.99858948,  0.99182831,  0.99976283,\n",
       "         0.99155932,  0.46782802,  0.99132822,  0.30278311,  0.99132805,\n",
       "         0.98327455,  0.99132804,  0.99115738,  0.99132592,  0.96408582,\n",
       "         0.99073241,  0.91147881,  0.82476324,  0.98438455,  0.01156283,\n",
       "         0.9911696 ,  0.00867552,  0.89432032,  0.00867214,  0.01724408,\n",
       "         0.0086989 ,  0.01588492,  0.04168815],\n",
       "       [ 0.9903739 ,  0.12468828,  0.99832164,  0.99996081,  0.99832191,\n",
       "         0.99004707,  0.99826629,  0.48314053,  0.99826624,  0.9799555 ,\n",
       "         0.99826624,  0.99825626,  0.99826624,  0.99819381,  0.99826561,\n",
       "         0.98901391,  0.9976319 ,  0.99531537,  0.39392031,  0.99825525,\n",
       "         0.00238908,  0.99806205,  0.00175688,  0.56400352,  0.00173688,\n",
       "         0.02137973,  0.00180422,  0.21750624],\n",
       "       [ 0.02314021,  0.99826583,  0.95382564,  0.99831386,  0.99828668,\n",
       "         0.99830467,  0.99235503,  0.99830466,  0.98815466,  0.99830466,\n",
       "         0.9982915 ,  0.99830466,  0.99830463,  0.99830471,  0.99824013,\n",
       "         0.99830453,  0.99743899,  0.99993458,  0.99831739,  0.44391019,\n",
       "         0.99830446,  0.02273248,  0.99732144,  0.00275154,  0.86900847,\n",
       "         0.00233884,  0.89721588,  0.02259448],\n",
       "       [ 0.99132732,  0.68111199,  0.99830467,  0.99805707,  0.99830488,\n",
       "         0.9983001 ,  0.99830487,  0.99802802,  0.99830492,  0.99829519,\n",
       "         0.99830492,  0.99830501,  0.99831391,  0.99831388,  0.99831401,\n",
       "         0.99829974,  0.99996907,  0.99834061,  0.99994659,  0.99832285,\n",
       "         0.92831284,  0.99831332,  0.40273727,  0.99750902,  0.0756386 ,\n",
       "         0.99549436,  0.12395109,  0.98833322],\n",
       "       [ 0.906296  ,  0.99826624,  0.99791464,  0.99830488,  0.99830438,\n",
       "         0.99830492,  0.99830338,  0.99830502,  0.99831164,  0.99831396,\n",
       "         0.998314  ,  0.99832302,  0.99996924,  0.9999694 ,  0.9999694 ,\n",
       "         0.9999694 ,  0.99996956,  0.99999944,  0.99996956,  0.99996788,\n",
       "         0.9999694 ,  0.999926  ,  0.99996939,  0.99948509,  0.99827287,\n",
       "         0.96563513,  0.99826804,  0.9229467 ],\n",
       "       [ 0.9913281 ,  0.99809918,  0.99831366,  0.99830451,  0.99830502,\n",
       "         0.99831386,  0.99830517,  0.99832291,  0.99996924,  0.9999694 ,\n",
       "         0.9999694 ,  0.99999944,  0.99999944,  0.99999999,  0.99999999,\n",
       "         0.99999999,  0.99999999,  0.99999999,  0.99999999,  0.99999999,\n",
       "         0.99999999,  0.99999999,  0.99999999,  0.99999944,  0.99996602,\n",
       "         0.99833138,  0.99996593,  0.99160371],\n",
       "       [ 0.99112841,  0.9982848 ,  0.9999689 ,  0.9983229 ,  0.9983229 ,\n",
       "         0.99996891,  0.99833202,  0.99999944,  0.99999944,  0.99999999,\n",
       "         0.99999999,  0.99999999,  1.        ,  1.        ,  1.        ,\n",
       "         1.        ,  1.        ,  1.        ,  1.        ,  1.        ,\n",
       "         1.        ,  1.        ,  1.        ,  0.99999944,  0.9999694 ,\n",
       "         0.99996906,  0.99833985,  0.99983947],\n",
       "       [ 0.99137484,  0.99996749,  0.99834054,  0.99996907,  0.99996907,\n",
       "         0.9983407 ,  0.99999944,  0.99999944,  1.        ,  1.        ,\n",
       "         1.        ,  1.        ,  1.        ,  1.        ,  1.        ,\n",
       "         1.        ,  1.        ,  1.        ,  0.99999999,  0.99999999,\n",
       "         0.99999999,  0.99999999,  0.99999944,  0.99999944,  0.998323  ,\n",
       "         0.9983229 ,  0.99996812,  0.99160478],\n",
       "       [ 0.97070833,  0.9982848 ,  0.99996814,  0.9983229 ,  0.9983229 ,\n",
       "         0.99996907,  0.9999694 ,  0.99999944,  1.        ,  1.        ,\n",
       "         1.        ,  1.        ,  1.        ,  1.        ,  1.        ,\n",
       "         0.99999999,  1.        ,  0.99999999,  0.99999944,  0.9999694 ,\n",
       "         0.9999694 ,  0.9999694 ,  0.9999694 ,  0.99832296,  0.99830507,\n",
       "         0.99821187,  0.99827569,  0.9847779 ],\n",
       "       [ 0.9913281 ,  0.94045248,  0.99831366,  0.99828178,  0.99830502,\n",
       "         0.99831396,  0.99832302,  0.99999944,  0.99999944,  1.        ,\n",
       "         1.        ,  1.        ,  1.        ,  1.        ,  0.99999944,\n",
       "         0.99999999,  0.99999944,  0.99999944,  0.99996924,  0.99832286,\n",
       "         0.99831416,  0.99833175,  0.99996907,  0.9983229 ,  0.99811074,\n",
       "         0.99830467,  0.94755909,  0.99132826],\n",
       "       [ 0.12191777,  0.99826624,  0.9359405 ,  0.99830488,  0.99830153,\n",
       "         0.99830493,  0.99830507,  0.99832313,  0.99999944,  0.99999944,\n",
       "         0.99999999,  1.        ,  1.        ,  0.99999999,  0.99999999,\n",
       "         0.99834087,  0.99996924,  0.99996924,  0.99832281,  0.99830512,\n",
       "         0.99831391,  0.99996891,  0.99834054,  0.99996697,  0.99831386,\n",
       "         0.62501015,  0.99826624,  0.14110581],\n",
       "       [ 0.99132805,  0.02526877,  0.99830466,  0.98980628,  0.99830488,\n",
       "         0.99830459,  0.99830493,  0.99830507,  0.99832297,  0.99996924,\n",
       "         0.99999944,  0.99999999,  1.        ,  1.        ,  0.99999944,\n",
       "         0.99996924,  0.9983318 ,  0.99832295,  0.99830517,  0.99830488,\n",
       "         0.99830502,  0.9983228 ,  0.99996881,  0.9983228 ,  0.96118776,\n",
       "         0.99830466,  0.00324268,  0.9913273 ],\n",
       "       [ 0.00874033,  0.99826624,  0.1455823 ,  0.99830487,  0.99672592,\n",
       "         0.99830502,  0.99831381,  0.99830502,  0.99830506,  0.99832281,\n",
       "         0.99996924,  0.99999944,  1.        ,  1.        ,  0.99999999,\n",
       "         0.99999944,  0.9999694 ,  0.99996924,  0.99832297,  0.99830507,\n",
       "         0.99830488,  0.99830495,  0.99831386,  0.99794102,  0.99830492,\n",
       "         0.09665619,  0.99826602,  0.00874548],\n",
       "       [ 0.9913253 ,  0.00178791,  0.99830465,  0.3645856 ,  0.99830502,\n",
       "         0.99797574,  0.99996891,  0.99832277,  0.99830502,  0.99830483,\n",
       "         0.99832297,  0.99999944,  0.99999944,  1.        ,  1.        ,\n",
       "         0.99999999,  0.99999999,  0.99999944,  0.99999944,  0.99832313,\n",
       "         0.99830507,  0.99830488,  0.99830348,  0.99830502,  0.97966734,\n",
       "         0.9983047 ,  0.00437104,  0.99107238],\n",
       "       [ 0.0086721 ,  0.99826379,  0.00188116,  0.99830415,  0.50690928,\n",
       "         0.99996891,  0.99831954,  0.99996891,  0.99816983,  0.99830493,\n",
       "         0.99830442,  0.99832313,  0.99999944,  0.99999944,  1.        ,\n",
       "         1.        ,  1.        ,  1.        ,  0.99999944,  0.99999944,\n",
       "         0.99832297,  0.99830502,  0.99830502,  0.99832112,  0.99996891,\n",
       "         0.7172257 ,  0.99799672,  0.0091918 ],\n",
       "       [ 0.98714294,  0.00173378,  0.99807929,  0.00209193,  0.99829481,\n",
       "         0.53969003,  0.99996891,  0.96493306,  0.99830502,  0.99755193,\n",
       "         0.99830488,  0.99830445,  0.99832313,  0.99999944,  0.99999944,\n",
       "         1.        ,  1.        ,  1.        ,  1.        ,  0.99999944,\n",
       "         0.99996924,  0.99831401,  0.99831401,  0.99996907,  0.99832986,\n",
       "         0.99994806,  0.0487425 ,  0.88027749],\n",
       "       [ 0.00867195,  0.94546991,  0.00169537,  0.98650657,  0.00199079,\n",
       "         0.9982865 ,  0.04938433,  0.99830502,  0.47544656,  0.99830488,\n",
       "         0.99770561,  0.99830488,  0.99830492,  0.99832323,  0.99999944,\n",
       "         0.99999944,  0.99999999,  1.        ,  1.        ,  0.99999999,\n",
       "         0.99999944,  0.99832311,  0.99832295,  0.99996924,  0.99995419,\n",
       "         0.95953722,  0.52179519,  0.01001737],\n",
       "       [ 0.14589408,  0.00173376,  0.13338441,  0.00169642,  0.96636281,\n",
       "         0.00174882,  0.99829534,  0.00224079,  0.99830487,  0.9269544 ,\n",
       "         0.99830493,  0.99827566,  0.99831396,  0.99832311,  0.9999694 ,\n",
       "         0.99999944,  0.99999999,  0.99999999,  1.        ,  1.        ,\n",
       "         0.99999944,  0.9999694 ,  0.99996907,  0.99833927,  0.99996345,\n",
       "         0.52333054,  0.0451043 ,  0.01535268],\n",
       "       [ 0.00867218,  0.00217327,  0.00170291,  0.04917317,  0.00199256,\n",
       "         0.99498355,  0.00234035,  0.99830432,  0.22418935,  0.99830502,\n",
       "         0.99742422,  0.99832302,  0.99996924,  0.99999944,  0.99999944,\n",
       "         0.99999999,  0.99999999,  1.        ,  1.        ,  1.        ,\n",
       "         0.99999999,  0.9999694 ,  0.99833172,  0.99996886,  0.97221374,\n",
       "         0.95404333,  0.00282345,  0.01064399],\n",
       "       [ 0.01269719,  0.00174848,  0.00235383,  0.01293868,  0.86356116,\n",
       "         0.05563381,  0.99825277,  0.34454525,  0.99831396,  0.99379556,\n",
       "         0.99996924,  0.99999944,  0.99999944,  0.99999999,  1.        ,\n",
       "         1.        ,  1.        ,  1.        ,  1.        ,  0.99999999,\n",
       "         0.99999944,  0.99996924,  0.99831402,  0.99814089,  0.99807071,\n",
       "         0.08619809,  0.33818534,  0.00869903],\n",
       "       [ 0.00980422,  0.06147109,  0.07624695,  0.490286  ,  0.87250001,\n",
       "         0.99762629,  0.96551888,  0.99832291,  0.99991937,  0.99999944,\n",
       "         0.99999944,  0.99999999,  1.        ,  1.        ,  1.        ,\n",
       "         1.        ,  1.        ,  0.99999999,  0.99999944,  0.99999944,\n",
       "         0.99996919,  0.99832281,  0.99830396,  0.99830434,  0.97082677,\n",
       "         0.995847  ,  0.00281058,  0.66121044],\n",
       "       [ 0.85010509,  0.17274267,  0.96093229,  0.97975992,  0.99757226,\n",
       "         0.99811692,  0.99996923,  0.99999941,  0.99999944,  0.99999999,\n",
       "         1.        ,  1.        ,  1.        ,  1.        ,  1.        ,\n",
       "         1.        ,  0.99999944,  0.99999943,  0.99996924,  0.9979753 ,\n",
       "         0.99831396,  0.99806418,  0.99830488,  0.99801776,  0.99830324,\n",
       "         0.07684771,  0.99533778,  0.00878205],\n",
       "       [ 0.74617139,  0.99782395,  0.99077284,  0.99996737,  0.99996937,\n",
       "         0.99999944,  0.99999944,  0.99999999,  1.        ,  1.        ,\n",
       "         1.        ,  1.        ,  1.        ,  1.        ,  0.99999999,\n",
       "         0.99999944,  0.99999942,  0.99832318,  0.97588367,  0.99830502,\n",
       "         0.95247853,  0.99830488,  0.96126204,  0.99830487,  0.57079066,\n",
       "         0.99830285,  0.00231672,  0.989193  ],\n",
       "       [ 0.99116166,  0.99674904,  0.99996903,  0.99996956,  0.99999999,\n",
       "         0.99999944,  1.        ,  1.        ,  1.        ,  1.        ,\n",
       "         1.        ,  1.        ,  0.99999999,  0.99999944,  0.99999944,\n",
       "         0.99996887,  0.99832297,  0.89487735,  0.99830493,  0.07313761,\n",
       "         0.99830488,  0.05039515,  0.99830487,  0.05377053,  0.99830439,\n",
       "         0.00263482,  0.99826443,  0.00868052],\n",
       "       [ 0.99025967,  0.99825138,  0.9983224 ,  0.99999938,  0.99996957,\n",
       "         0.99999999,  0.99999944,  0.99999999,  0.99999999,  0.99999999,\n",
       "         0.99999999,  0.99999944,  0.99999999,  0.9999694 ,  0.99832245,\n",
       "         0.99831396,  0.9899451 ,  0.99830488,  0.01476747,  0.99830487,\n",
       "         0.00193108,  0.99830487,  0.00219697,  0.99830108,  0.00200469,\n",
       "         0.99825473,  0.00173494,  0.991212  ],\n",
       "       [ 0.98955699,  0.9982649 ,  0.98774962,  0.99832276,  0.99982692,\n",
       "         0.99833166,  0.99996891,  0.99996939,  0.9999694 ,  0.99996956,\n",
       "         0.9999694 ,  0.99999944,  0.99834086,  0.99996907,  0.99831375,\n",
       "         0.99822117,  0.99830467,  0.39531503,  0.99830466,  0.00171282,\n",
       "         0.99830465,  0.00169814,  0.99829702,  0.00170265,  0.99672413,\n",
       "         0.00169611,  0.9971595 ,  0.00869924],\n",
       "       [ 0.99036972,  0.91583422,  0.99826582,  0.40655433,  0.99827544,\n",
       "         0.97882382,  0.99827553,  0.99825484,  0.99833086,  0.99996842,\n",
       "         0.99833091,  0.99828658,  0.9999682 ,  0.9982848 ,  0.99826614,\n",
       "         0.99826624,  0.98773136,  0.99826624,  0.00772998,  0.99826622,\n",
       "         0.00173458,  0.99825572,  0.00173383,  0.99430582,  0.00173385,\n",
       "         0.91419155,  0.00178401,  0.95320062],\n",
       "       [ 0.75004036,  0.99037279,  0.10495857,  0.99132733,  0.2898479 ,\n",
       "         0.99132824,  0.9790765 ,  0.99155957,  0.99983918,  0.99182833,\n",
       "         0.99984021,  0.99156107,  0.99138117,  0.99132979,  0.99132811,\n",
       "         0.99067855,  0.99132805,  0.45607194,  0.99132795,  0.01005495,\n",
       "         0.99129769,  0.0086739 ,  0.98483687,  0.00867206,  0.66189949,\n",
       "         0.00869916,  0.53698288,  0.04155834]])"
      ]
     },
     "execution_count": 186,
     "metadata": {},
     "output_type": "execute_result"
    }
   ],
   "source": [
    "im_temp"
   ]
  },
  {
   "cell_type": "code",
   "execution_count": 85,
   "metadata": {
    "collapsed": false
   },
   "outputs": [
    {
     "data": {
      "text/plain": [
       "625.76477275558659"
      ]
     },
     "execution_count": 85,
     "metadata": {},
     "output_type": "execute_result"
    }
   ],
   "source": [
    "np.sum(im_temp)"
   ]
  },
  {
   "cell_type": "code",
   "execution_count": 28,
   "metadata": {
    "collapsed": true
   },
   "outputs": [],
   "source": [
    "im_temp_out = np.zeros((28,28))"
   ]
  },
  {
   "cell_type": "code",
   "execution_count": 193,
   "metadata": {
    "collapsed": false
   },
   "outputs": [],
   "source": [
    "im_temp_out[:,:] = np.where(im_temp[:,:] < 0.5 ,0,1)"
   ]
  },
  {
   "cell_type": "code",
   "execution_count": 194,
   "metadata": {
    "collapsed": false
   },
   "outputs": [
    {
     "data": {
      "image/png": "[encoded data removed]",
      "text/plain": [
       "<matplotlib.figure.Figure at 0x2978387d588>"
      ]
     },
     "metadata": {},
     "output_type": "display_data"
    }
   ],
   "source": [
    "plt.imshow(im_temp.astype(np.float64),cmap='gray')\n",
    "plt.show() #????????????????????????????????????"
   ]
  },
  {
   "cell_type": "code",
   "execution_count": null,
   "metadata": {
    "collapsed": true
   },
   "outputs": [],
   "source": []
  }
 ],
 "metadata": {
  "kernelspec": {
   "display_name": "Python 3",
   "language": "python",
   "name": "python3"
  }
 },
 "nbformat": 4,
 "nbformat_minor": 2
}

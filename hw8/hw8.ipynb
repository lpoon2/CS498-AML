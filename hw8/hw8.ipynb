{
 "cells": [
  {
   "cell_type": "code",
   "execution_count": 1,
   "metadata": {
    "collapsed": true
   },
   "outputs": [],
   "source": [
    "import os, struct\n",
    "import math, random, copy\n",
    "import numpy as np\n",
    "import sys\n",
    "from scipy import misc\n",
    "import math\n",
    "import matplotlib.pyplot as plt\n",
    "import numpy as np\n",
    "import scipy\n",
    "from matplotlib import pyplot as plt\n",
    "import pandas as pd\n",
    "import mnist\n",
    "import scipy.misc"
   ]
  },
  {
   "cell_type": "markdown",
   "metadata": {},
   "source": [
    "### Step 1 - Flipping images"
   ]
  },
  {
   "cell_type": "code",
   "execution_count": 2,
   "metadata": {
    "collapsed": false
   },
   "outputs": [
    {
     "data": {
      "image/png": "[encoded data removed]",
      "text/plain": [
       "<PIL.Image.Image image mode=L size=280x280 at 0x22C5CEACE80>"
      ]
     },
     "execution_count": 2,
     "metadata": {},
     "output_type": "execute_result"
    }
   ],
   "source": [
    "images = mnist.train_images()\n",
    "scipy.misc.toimage(scipy.misc.imresize(images[0,:,:] * -1 + 256, 10.))\n"
   ]
  },
  {
   "cell_type": "code",
   "execution_count": 3,
   "metadata": {
    "collapsed": true
   },
   "outputs": [],
   "source": [
    "im_of_20 = np.zeros((20, 28, 28))"
   ]
  },
  {
   "cell_type": "code",
   "execution_count": 4,
   "metadata": {
    "collapsed": true
   },
   "outputs": [],
   "source": [
    "im_of_20_flip = np.zeros((20, 28, 28))"
   ]
  },
  {
   "cell_type": "code",
   "execution_count": 5,
   "metadata": {
    "collapsed": true
   },
   "outputs": [],
   "source": [
    "for i in range(20): #get the first 20 images to work with\n",
    "    im_of_20[i,:,:] = images[i,:,:]\n",
    "    \n",
    "im_of_20_map = np.where(im_of_20 < 0.5 ,-1,1)"
   ]
  },
  {
   "cell_type": "markdown",
   "metadata": {},
   "source": [
    "### Step 2 - Adding noises to images"
   ]
  },
  {
   "cell_type": "code",
   "execution_count": 52,
   "metadata": {
    "collapsed": true
   },
   "outputs": [],
   "source": [
    "noise_df = np.loadtxt(\"NoiseCoordinates.csv\", delimiter= ',',  usecols=range(1,16), skiprows=1)"
   ]
  },
  {
   "cell_type": "code",
   "execution_count": 137,
   "metadata": {
    "collapsed": false
   },
   "outputs": [
    {
     "data": {
      "text/plain": [
       "array([-1, -1, -1, -1, -1, -1, -1, -1,  1,  1,  1,  1,  1,  1,  1,  1,  1,\n",
       "       -1, -1, -1, -1, -1, -1, -1, -1, -1, -1, -1])"
      ]
     },
     "execution_count": 137,
     "metadata": {},
     "output_type": "execute_result"
    }
   ],
   "source": [
    "im_of_20_map[0,21,:]"
   ]
  },
  {
   "cell_type": "code",
   "execution_count": 54,
   "metadata": {
    "collapsed": false
   },
   "outputs": [
    {
     "data": {
      "text/plain": [
       "(40, 15)"
      ]
     },
     "execution_count": 54,
     "metadata": {},
     "output_type": "execute_result"
    }
   ],
   "source": [
    "noise_df.shape"
   ]
  },
  {
   "cell_type": "code",
   "execution_count": 59,
   "metadata": {
    "collapsed": true
   },
   "outputs": [],
   "source": [
    "im_of_20_flip =  copy.deepcopy(im_of_20_map)"
   ]
  },
  {
   "cell_type": "code",
   "execution_count": 60,
   "metadata": {
    "collapsed": false
   },
   "outputs": [
    {
     "data": {
      "text/plain": [
       "9.0"
      ]
     },
     "execution_count": 60,
     "metadata": {},
     "output_type": "execute_result"
    }
   ],
   "source": [
    "noise_df[1*2,1]"
   ]
  },
  {
   "cell_type": "code",
   "execution_count": 68,
   "metadata": {
    "collapsed": true
   },
   "outputs": [],
   "source": [
    "for i in range(20):\n",
    "    for j in range(15):\n",
    "        row = int(noise_df[i*2,j])\n",
    "        col = int(noise_df[i*2+1,j])\n",
    "        if im_of_20_flip[i, row, col] == 1:\n",
    "            im_of_20_flip[i, row, col] = -1\n",
    "        else:\n",
    "            im_of_20_flip[i, row, col] = 1"
   ]
  },
  {
   "cell_type": "code",
   "execution_count": 129,
   "metadata": {
    "collapsed": false
   },
   "outputs": [
    {
     "data": {
      "image/png": "[encoded data removed]",
      "text/plain": [
       "<matplotlib.figure.Figure at 0x22c66712208>"
      ]
     },
     "metadata": {},
     "output_type": "display_data"
    }
   ],
   "source": [
    "plt.imshow(im_of_20_flip[0,:,:].astype(np.float64),cmap='gray')\n",
    "plt.show()\n"
   ]
  },
  {
   "cell_type": "markdown",
   "metadata": {},
   "source": [
    "### Step 3 - Denoising with Mean Field Inference"
   ]
  },
  {
   "cell_type": "code",
   "execution_count": 70,
   "metadata": {
    "collapsed": true
   },
   "outputs": [],
   "source": [
    "import copy"
   ]
  },
  {
   "cell_type": "code",
   "execution_count": 71,
   "metadata": {
    "collapsed": true
   },
   "outputs": [],
   "source": [
    "initial_df = np.loadtxt(\"InitialParametersModel.csv\", delimiter= ',') # 28x28\n",
    "update_df = np.loadtxt(\"UpdateOrderCoordinates.csv\", delimiter= ',', usecols=range(1,785), skiprows=1)"
   ]
  },
  {
   "cell_type": "code",
   "execution_count": 72,
   "metadata": {
    "collapsed": true
   },
   "outputs": [],
   "source": [
    "for i in range(10):\n",
    "    for img in range(1):\n",
    "        for idx in range(784): \n",
    "            row_num = int(update_df[img*2,idx])\n",
    "            col_num = int(update_df[img*2+1,idx])\n",
    "            first_sum = 0 \n",
    "            sec_sum = 0 \n",
    "            third_sum = 0\n",
    "            fourth_sum = 0\n",
    "            if (row_num - 1) >= 0:\n",
    "                first_sum += 0.8 * (2 * initial_df[row_num - 1, col_num] - 1)\n",
    "                sec_sum += (2 * im_of_20_flip[img, row_num - 1, col_num])\n",
    "                third_sum += -0.8 * (2 * initial_df[row_num - 1, col_num] - 1)\n",
    "                fourth_sum += (-2 * im_of_20_flip[img, row_num - 1, col_num])\n",
    "            if (row_num + 1) < 28:\n",
    "                first_sum += 0.8 * (2 * initial_df[row_num + 1, col_num] - 1)\n",
    "                sec_sum += (2 * im_of_20_flip[img, row_num + 1, col_num])\n",
    "                third_sum += -0.8 * (2 * initial_df[row_num + 1, col_num] - 1)\n",
    "                fourth_sum += (-2 * im_of_20_flip[img, row_num + 1, col_num])\n",
    "            if (col_num - 1) >= 0:\n",
    "                first_sum += 0.8 * (2 * initial_df[row_num , col_num - 1] - 1)\n",
    "                sec_sum += (2 * im_of_20_flip[img, row_num , col_num - 1])\n",
    "                third_sum += -0.8 * (2 * initial_df[row_num , col_num - 1] - 1)\n",
    "                fourth_sum += (-2 * im_of_20_flip[img, row_num , col_num - 1])\n",
    "            if (col_num + 1) < 28:\n",
    "                first_sum += 0.8 * (2 * initial_df[row_num , col_num + 1] - 1)\n",
    "                sec_sum += (2 * im_of_20_flip[img, row_num , col_num + 1])\n",
    "                third_sum += -0.8 * (2 * initial_df[row_num , col_num + 1] - 1)\n",
    "                fourth_sum += (-2 * im_of_20_flip[img, row_num , col_num + 1])\n",
    "            numerator = np.exp(first_sum+sec_sum)\n",
    "            denominator = numerator + np.exp(third_sum+fourth_sum)\n",
    "\n",
    "            initial_df[row_num , col_num] = numerator/denominator\n",
    "    "
   ]
  },
  {
   "cell_type": "code",
   "execution_count": 73,
   "metadata": {
    "collapsed": false
   },
   "outputs": [
    {
     "data": {
      "text/plain": [
       "array([[  1.36740135e-05,   5.05919168e-08,   1.50710407e-04,\n",
       "          5.06141973e-08,   1.50710407e-04,   5.05897113e-08,\n",
       "          5.05653273e-08,   5.05653273e-08,   5.05653273e-08,\n",
       "          5.05653273e-08,   5.05653273e-08,   5.05653273e-08,\n",
       "          5.05653273e-08,   5.05653273e-08,   5.05653273e-08,\n",
       "          5.05653273e-08,   5.05653273e-08,   5.05653273e-08,\n",
       "          5.05653273e-08,   5.05653273e-08,   5.05653273e-08,\n",
       "          5.05653273e-08,   5.05653273e-08,   5.05653273e-08,\n",
       "          5.05653273e-08,   5.05653273e-08,   5.05675318e-08,\n",
       "          1.36740135e-05],\n",
       "       [  5.05675318e-08,   1.86983699e-10,   1.87074171e-10,\n",
       "          5.57390150e-07,   1.87074171e-10,   1.86983669e-10,\n",
       "          1.86983669e-10,   1.86983669e-10,   1.86983669e-10,\n",
       "          1.86983669e-10,   1.86983669e-10,   1.86983669e-10,\n",
       "          1.86983669e-10,   1.86983669e-10,   1.86983669e-10,\n",
       "          1.86983669e-10,   1.86983669e-10,   1.86984002e-10,\n",
       "          1.86983669e-10,   1.86983669e-10,   1.86983669e-10,\n",
       "          1.86983669e-10,   1.86983669e-10,   1.86983669e-10,\n",
       "          1.86983669e-10,   1.86983669e-10,   1.86983699e-10,\n",
       "          5.05675318e-08],\n",
       "       [  5.05653273e-08,   1.86983669e-10,   1.86983638e-10,\n",
       "          1.86983972e-10,   1.86983638e-10,   1.86983638e-10,\n",
       "          1.86983638e-10,   1.86983638e-10,   1.86983638e-10,\n",
       "          1.86983638e-10,   1.86983638e-10,   1.86983638e-10,\n",
       "          1.86983638e-10,   1.86983638e-10,   1.86983638e-10,\n",
       "          1.86983638e-10,   1.86984305e-10,   5.57390060e-07,\n",
       "          1.86984305e-10,   1.86983638e-10,   1.86983638e-10,\n",
       "          1.86983638e-10,   1.86983638e-10,   1.86983638e-10,\n",
       "          1.86983638e-10,   1.86983638e-10,   1.86983669e-10,\n",
       "          5.05653273e-08],\n",
       "       [  5.05653273e-08,   1.86983669e-10,   1.86983638e-10,\n",
       "          1.86983638e-10,   1.86983638e-10,   1.86983638e-10,\n",
       "          1.86983638e-10,   1.86983638e-10,   1.86983638e-10,\n",
       "          1.86983638e-10,   1.86983638e-10,   1.86983639e-10,\n",
       "          1.86986915e-10,   1.86991820e-10,   1.86991821e-10,\n",
       "          1.86992154e-10,   5.57417707e-07,   2.11952899e-10,\n",
       "          5.57417707e-07,   1.86992154e-10,   1.86991821e-10,\n",
       "          1.86991821e-10,   1.86991813e-10,   1.86984024e-10,\n",
       "          1.86983638e-10,   1.86983638e-10,   1.86983669e-10,\n",
       "          5.05653273e-08],\n",
       "       [  5.05653273e-08,   1.86983669e-10,   1.86983638e-10,\n",
       "          1.86983638e-10,   1.86983638e-10,   1.86983638e-10,\n",
       "          1.86983638e-10,   1.86983638e-10,   1.86985332e-10,\n",
       "          1.86991820e-10,   1.87004068e-10,   4.66909103e-10,\n",
       "          5.47596926e-06,   1.36733529e-05,   1.36746074e-05,\n",
       "          1.36746873e-05,   1.54999136e-05,   3.91680031e-02,\n",
       "          1.54999136e-05,   1.36746873e-05,   1.36746075e-05,\n",
       "          1.36746064e-05,   1.36619388e-05,   6.43958173e-07,\n",
       "          1.86984409e-10,   1.86983638e-10,   1.86984002e-10,\n",
       "          5.05653273e-08],\n",
       "       [  5.05653273e-08,   1.86983669e-10,   1.86983972e-10,\n",
       "          1.86983638e-10,   1.86983638e-10,   1.86983972e-10,\n",
       "          1.86983638e-10,   1.92882977e-10,   2.82986892e-06,\n",
       "          1.36727358e-05,   3.41426692e-05,   2.85967487e-01,\n",
       "          7.14018091e-01,   9.99965855e-01,   9.99986324e-01,\n",
       "          9.99986325e-01,   9.99986326e-01,   9.99987936e-01,\n",
       "          9.99986326e-01,   9.99986325e-01,   9.99986325e-01,\n",
       "          9.99986313e-01,   9.99709706e-01,   4.51015197e-02,\n",
       "          6.43931353e-07,   1.86984690e-10,   5.57390150e-07,\n",
       "          5.05898015e-08],\n",
       "       [  5.05653273e-08,   1.86984335e-10,   5.57390060e-07,\n",
       "          1.86984305e-10,   1.86984305e-10,   5.57390060e-07,\n",
       "          1.94074326e-10,   9.70421579e-03,   5.07712153e-01,\n",
       "          9.99933927e-01,   9.99986324e-01,   9.99994524e-01,\n",
       "          1.00000000e+00,   1.00000000e+00,   1.00000000e+00,\n",
       "          1.00000000e+00,   1.00000000e+00,   1.00000000e+00,\n",
       "          1.00000000e+00,   1.00000000e+00,   1.00000000e+00,\n",
       "          1.00000000e+00,   9.99999981e-01,   4.63236659e-02,\n",
       "          6.46455760e-07,   5.57391213e-07,   1.87074838e-10,\n",
       "          1.50710407e-04],\n",
       "       [  5.05654175e-08,   5.57390150e-07,   1.86984972e-10,\n",
       "          5.57391054e-07,   5.57391054e-07,   1.88140925e-10,\n",
       "          1.92650420e-03,   4.68368275e-02,   9.99999981e-01,\n",
       "          1.00000000e+00,   1.00000000e+00,   1.00000000e+00,\n",
       "          1.00000000e+00,   1.00000000e+00,   1.00000000e+00,\n",
       "          1.00000000e+00,   1.00000000e+00,   1.00000000e+00,\n",
       "          9.99997239e-01,   9.99986328e-01,   9.99986323e-01,\n",
       "          9.99933924e-01,   5.07699219e-01,   9.68805059e-03,\n",
       "          1.92871651e-10,   1.86984305e-10,   5.57390150e-07,\n",
       "          5.05898015e-08],\n",
       "       [  5.05653273e-08,   1.86984335e-10,   5.57390060e-07,\n",
       "          1.86984305e-10,   1.86984305e-10,   5.57391221e-07,\n",
       "          6.51382632e-07,   4.67704520e-02,   9.99999983e-01,\n",
       "          1.00000000e+00,   1.00000000e+00,   1.00000000e+00,\n",
       "          1.00000000e+00,   1.00000000e+00,   1.00000000e+00,\n",
       "          9.99999443e-01,   1.00000000e+00,   9.99972889e-01,\n",
       "          5.00035809e-01,   6.77319159e-05,   1.36769729e-05,\n",
       "          1.36718403e-05,   2.82975678e-06,   1.92872999e-10,\n",
       "          1.86983638e-10,   1.86983638e-10,   1.86984002e-10,\n",
       "          5.05653273e-08],\n",
       "       [  5.05653273e-08,   1.86983669e-10,   1.86983972e-10,\n",
       "          1.86983638e-10,   1.86983638e-10,   1.86983972e-10,\n",
       "          1.93744252e-10,   1.10986874e-02,   5.50154962e-01,\n",
       "          9.99999997e-01,   1.00000000e+00,   1.00000000e+00,\n",
       "          1.00000000e+00,   1.00000000e+00,   9.98340935e-01,\n",
       "          9.99965695e-01,   7.14088444e-01,   2.86067672e-01,\n",
       "          6.89664321e-06,   1.87028300e-10,   1.86991822e-10,\n",
       "          1.86992486e-10,   5.57395107e-07,   1.86984305e-10,\n",
       "          1.86983638e-10,   1.86983638e-10,   1.86983669e-10,\n",
       "          5.05653273e-08],\n",
       "       [  5.05653273e-08,   1.86983669e-10,   1.86983638e-10,\n",
       "          1.86983638e-10,   1.86983638e-10,   1.86983638e-10,\n",
       "          1.86983638e-10,   2.28678710e-10,   5.18065898e-02,\n",
       "          5.41372955e-01,   9.99988022e-01,   1.00000000e+00,\n",
       "          1.00000000e+00,   9.99999443e-01,   9.99984418e-01,\n",
       "          1.12540692e-07,   5.47719397e-06,   1.39228077e-06,\n",
       "          1.86988601e-10,   1.86983638e-10,   1.86983972e-10,\n",
       "          5.57390060e-07,   1.86984972e-10,   5.57390060e-07,\n",
       "          1.86983972e-10,   1.86983638e-10,   1.86983669e-10,\n",
       "          5.05653273e-08],\n",
       "       [  5.05653273e-08,   1.86983669e-10,   1.86983638e-10,\n",
       "          1.86983638e-10,   1.86983638e-10,   1.86983638e-10,\n",
       "          1.86983638e-10,   1.86983639e-10,   2.20727857e-10,\n",
       "          1.56101018e-05,   5.00009062e-01,   9.99989603e-01,\n",
       "          1.00000000e+00,   1.00000000e+00,   9.60839221e-01,\n",
       "          5.97666601e-05,   1.87063223e-10,   1.86986420e-10,\n",
       "          1.86983638e-10,   1.86983638e-10,   1.86983638e-10,\n",
       "          1.86984305e-10,   5.57390060e-07,   1.86984305e-10,\n",
       "          1.86983638e-10,   1.86983638e-10,   1.86983669e-10,\n",
       "          5.05653273e-08],\n",
       "       [  5.05653273e-08,   1.86983669e-10,   1.86983638e-10,\n",
       "          1.86983638e-10,   1.86983638e-10,   1.86983638e-10,\n",
       "          1.86983972e-10,   1.86983638e-10,   1.86983638e-10,\n",
       "          1.87003740e-10,   1.79842493e-05,   5.83005453e-01,\n",
       "          9.99999998e-01,   1.00000000e+00,   9.99996872e-01,\n",
       "          5.00097289e-01,   6.77334911e-05,   3.25512228e-06,\n",
       "          2.27643702e-10,   1.86983639e-10,   1.86983638e-10,\n",
       "          1.86983638e-10,   1.86983972e-10,   1.86983638e-10,\n",
       "          1.86983638e-10,   1.86983638e-10,   1.86983669e-10,\n",
       "          5.05653273e-08],\n",
       "       [  5.05653273e-08,   1.86983669e-10,   1.86983638e-10,\n",
       "          1.86983638e-10,   1.86983638e-10,   1.86984305e-10,\n",
       "          5.57390060e-07,   1.86984305e-10,   1.86983638e-10,\n",
       "          1.86983639e-10,   2.64258750e-10,   1.04718475e-01,\n",
       "          7.37246199e-01,   9.99999999e-01,   1.00000000e+00,\n",
       "          9.99997240e-01,   9.99942249e-01,   5.49719648e-01,\n",
       "          6.14844259e-02,   2.77967948e-10,   1.86983639e-10,\n",
       "          1.86983638e-10,   1.86983638e-10,   1.86983638e-10,\n",
       "          1.86983972e-10,   1.86983638e-10,   1.86983669e-10,\n",
       "          5.05653273e-08],\n",
       "       [  5.05653273e-08,   1.86983669e-10,   1.86983638e-10,\n",
       "          1.86983638e-10,   1.86983972e-10,   5.57390060e-07,\n",
       "          1.86984972e-10,   5.57390060e-07,   1.86983972e-10,\n",
       "          1.86983638e-10,   1.86983639e-10,   5.24646939e-10,\n",
       "          2.17689157e-01,   8.51544486e-01,   1.00000000e+00,\n",
       "          1.00000000e+00,   1.00000000e+00,   9.99999997e-01,\n",
       "          5.97130601e-01,   6.14916473e-02,   2.27652476e-10,\n",
       "          1.86983638e-10,   1.86983638e-10,   1.86984305e-10,\n",
       "          5.57390060e-07,   1.86984305e-10,   1.86983669e-10,\n",
       "          5.05653273e-08],\n",
       "       [  5.05653273e-08,   1.86983669e-10,   1.86983638e-10,\n",
       "          1.86983638e-10,   1.86983638e-10,   1.86984305e-10,\n",
       "          5.57390060e-07,   1.86984305e-10,   1.86983638e-10,\n",
       "          1.86983638e-10,   1.86983638e-10,   1.86983639e-10,\n",
       "          1.07254276e-09,   3.28175344e-01,   9.18155005e-01,\n",
       "          1.00000000e+00,   1.00000000e+00,   1.00000000e+00,\n",
       "          9.99999997e-01,   5.49023259e-01,   8.07788157e-06,\n",
       "          1.86988497e-10,   1.86983972e-10,   5.57391054e-07,\n",
       "          1.86984972e-10,   5.57390060e-07,   1.86984002e-10,\n",
       "          5.05653273e-08],\n",
       "       [  5.05653273e-08,   1.86983669e-10,   1.86983638e-10,\n",
       "          1.86983638e-10,   1.86983638e-10,   1.86983638e-10,\n",
       "          1.86983972e-10,   1.86983638e-10,   1.86983638e-10,\n",
       "          1.86983638e-10,   1.86983638e-10,   1.86983638e-10,\n",
       "          1.86983640e-10,   2.09762324e-09,   4.27305617e-01,\n",
       "          9.88362459e-01,   9.99999421e-01,   1.00000000e+00,\n",
       "          1.00000000e+00,   9.99976853e-01,   2.85749738e-01,\n",
       "          4.66583868e-10,   1.86984305e-10,   5.57392048e-07,\n",
       "          5.57392048e-07,   1.86984305e-10,   1.86983669e-10,\n",
       "          5.05653273e-08],\n",
       "       [  5.05653273e-08,   1.86983669e-10,   1.86983638e-10,\n",
       "          1.86983638e-10,   1.86983638e-10,   1.86983638e-10,\n",
       "          1.86983638e-10,   1.86983638e-10,   1.86983638e-10,\n",
       "          1.86983638e-10,   1.86983638e-10,   1.86983639e-10,\n",
       "          1.86991812e-10,   4.67934019e-10,   4.65407345e-04,\n",
       "          9.59466246e-01,   9.99999365e-01,   9.99999443e-01,\n",
       "          1.00000000e+00,   1.00000000e+00,   7.13792415e-01,\n",
       "          5.47223066e-06,   5.57399818e-07,   1.86984972e-10,\n",
       "          5.57391054e-07,   1.86983972e-10,   1.86983669e-10,\n",
       "          5.05653273e-08],\n",
       "       [  5.05653273e-08,   1.86983669e-10,   1.86983638e-10,\n",
       "          1.86983638e-10,   1.86983638e-10,   1.86983638e-10,\n",
       "          1.86983638e-10,   1.86983638e-10,   1.86983638e-10,\n",
       "          1.86983639e-10,   1.86991802e-10,   4.66514947e-10,\n",
       "          1.36594773e-05,   2.86192773e-01,   7.14491870e-01,\n",
       "          9.99998417e-01,   9.99999443e-01,   1.00000000e+00,\n",
       "          1.00000000e+00,   1.00000000e+00,   9.99830705e-01,\n",
       "          1.36669634e-05,   1.86992483e-10,   5.57390060e-07,\n",
       "          1.86984305e-10,   1.86983638e-10,   1.86983669e-10,\n",
       "          5.05653273e-08],\n",
       "       [  5.05653273e-08,   1.86983669e-10,   1.86983638e-10,\n",
       "          1.86983638e-10,   1.86983638e-10,   1.86983638e-10,\n",
       "          1.86983638e-10,   1.86983639e-10,   1.86991822e-10,\n",
       "          4.66845589e-10,   1.36610669e-05,   2.85848073e-01,\n",
       "          7.13864004e-01,   9.99986328e-01,   1.00000000e+00,\n",
       "          1.00000000e+00,   1.00000000e+00,   1.00000000e+00,\n",
       "          1.00000000e+00,   9.99972878e-01,   4.99850589e-01,\n",
       "          2.75956594e-06,   1.86985290e-10,   1.86983972e-10,\n",
       "          1.86983638e-10,   1.86983638e-10,   1.86983669e-10,\n",
       "          5.05653273e-08],\n",
       "       [  5.05653273e-08,   1.86983669e-10,   1.86983638e-10,\n",
       "          1.86983638e-10,   1.86983638e-10,   1.86983639e-10,\n",
       "          1.86991502e-10,   4.67318577e-10,   1.36764598e-05,\n",
       "          2.85942598e-01,   7.14008654e-01,   9.99986313e-01,\n",
       "          1.00000000e+00,   1.00000000e+00,   1.00000000e+00,\n",
       "          1.00000000e+00,   1.00000000e+00,   9.99989640e-01,\n",
       "          7.14151755e-01,   2.86022879e-01,   6.89389632e-06,\n",
       "          1.86989414e-10,   1.86983638e-10,   1.86983638e-10,\n",
       "          1.86983638e-10,   1.86983638e-10,   1.86983669e-10,\n",
       "          5.05653273e-08],\n",
       "       [  5.05653273e-08,   1.86983669e-10,   1.86983638e-10,\n",
       "          1.86983972e-10,   1.87002328e-10,   4.39072064e-10,\n",
       "          1.31417316e-05,   2.86077040e-01,   7.14113404e-01,\n",
       "          9.99986332e-01,   1.00000000e+00,   1.00000000e+00,\n",
       "          1.00000000e+00,   1.00000000e+00,   1.00000000e+00,\n",
       "          9.99999999e-01,   8.40405459e-01,   3.75034617e-01,\n",
       "          1.80477650e-05,   4.67168071e-10,   1.86987767e-10,\n",
       "          1.86983638e-10,   1.86983638e-10,   1.86983638e-10,\n",
       "          1.86983638e-10,   1.86983638e-10,   1.86983669e-10,\n",
       "          5.05653273e-08],\n",
       "       [  5.05653273e-08,   1.86983669e-10,   1.86984305e-10,\n",
       "          5.57469680e-07,   3.12338362e-05,   2.66750095e-01,\n",
       "          7.01515262e-01,   9.99985772e-01,   1.00000000e+00,\n",
       "          1.00000000e+00,   1.00000000e+00,   1.00000000e+00,\n",
       "          1.00000000e+00,   1.00000000e+00,   9.99981254e-01,\n",
       "          6.17005962e-01,   1.49027293e-01,   9.84633117e-10,\n",
       "          1.86994311e-10,   1.86983639e-10,   1.86983638e-10,\n",
       "          1.86983638e-10,   1.86983638e-10,   1.86983638e-10,\n",
       "          1.86983638e-10,   1.86983638e-10,   1.86983669e-10,\n",
       "          5.05653273e-08],\n",
       "       [  5.05653273e-08,   1.86984002e-10,   5.57413913e-07,\n",
       "          1.33729671e-05,   9.91380469e-01,   9.82461497e-01,\n",
       "          9.99999999e-01,   1.00000000e+00,   1.00000000e+00,\n",
       "          1.00000000e+00,   1.00000000e+00,   1.00000000e+00,\n",
       "          9.99998609e-01,   7.14327697e-01,   2.86145357e-01,\n",
       "          1.00300416e-05,   2.98884525e-10,   1.86983639e-10,\n",
       "          1.86983638e-10,   1.86983638e-10,   1.86983638e-10,\n",
       "          1.86983638e-10,   1.86983638e-10,   1.86983638e-10,\n",
       "          1.86983638e-10,   1.86983638e-10,   1.86983669e-10,\n",
       "          5.05653273e-08],\n",
       "       [  5.05653273e-08,   1.86983669e-10,   1.87980240e-10,\n",
       "          1.66060873e-03,   3.27546751e-04,   9.99598314e-01,\n",
       "          9.60785462e-01,   9.99984498e-01,   9.99986325e-01,\n",
       "          9.99986325e-01,   9.99984696e-01,   9.64811320e-01,\n",
       "          9.99624855e-01,   1.34293299e-04,   4.67557230e-10,\n",
       "          1.86989607e-10,   1.86983639e-10,   1.86983638e-10,\n",
       "          1.86983638e-10,   1.86983638e-10,   1.86983638e-10,\n",
       "          1.86983638e-10,   1.86983638e-10,   1.86983638e-10,\n",
       "          1.86983638e-10,   1.86983638e-10,   1.86983669e-10,\n",
       "          5.05653273e-08],\n",
       "       [  5.05653273e-08,   1.86983669e-10,   1.86983638e-10,\n",
       "          1.87980240e-10,   5.57974603e-07,   4.58147485e-09,\n",
       "          1.20619487e-05,   1.36744569e-05,   1.36746074e-05,\n",
       "          1.36747030e-05,   1.53014502e-05,   3.51429884e-02,\n",
       "          5.12702976e-09,   5.57629801e-07,   1.86983972e-10,\n",
       "          1.86983638e-10,   1.86983638e-10,   1.86983638e-10,\n",
       "          1.86983638e-10,   1.86983638e-10,   1.86983638e-10,\n",
       "          1.86983638e-10,   1.86983638e-10,   1.86983638e-10,\n",
       "          1.86983638e-10,   1.86983638e-10,   1.86983669e-10,\n",
       "          5.05653273e-08],\n",
       "       [  5.05675318e-08,   1.86983699e-10,   1.86983669e-10,\n",
       "          1.86983669e-10,   1.86984002e-10,   1.86983671e-10,\n",
       "          1.86990886e-10,   1.86991851e-10,   1.87082357e-10,\n",
       "          5.57414541e-07,   1.87083331e-10,   2.09239729e-10,\n",
       "          5.57390159e-07,   1.86984336e-10,   1.86983669e-10,\n",
       "          1.86983669e-10,   1.86983669e-10,   1.86983669e-10,\n",
       "          1.86983669e-10,   1.86983669e-10,   1.86983669e-10,\n",
       "          1.86983669e-10,   1.86983669e-10,   1.86983669e-10,\n",
       "          1.86983669e-10,   1.86983669e-10,   1.86983699e-10,\n",
       "          5.05675318e-08],\n",
       "       [  1.36740135e-05,   5.05675318e-08,   5.05653273e-08,\n",
       "          5.05653273e-08,   5.05653273e-08,   5.05653273e-08,\n",
       "          5.05653273e-08,   5.05897113e-08,   1.50710407e-04,\n",
       "          5.06141973e-08,   1.50710407e-04,   5.05897113e-08,\n",
       "          5.05654175e-08,   5.05653273e-08,   5.05653273e-08,\n",
       "          5.05653273e-08,   5.05653273e-08,   5.05653273e-08,\n",
       "          5.05653273e-08,   5.05653273e-08,   5.05653273e-08,\n",
       "          5.05653273e-08,   5.05653273e-08,   5.05653273e-08,\n",
       "          5.05653273e-08,   5.05653273e-08,   5.05675318e-08,\n",
       "          1.36740135e-05]])"
      ]
     },
     "execution_count": 73,
     "metadata": {},
     "output_type": "execute_result"
    }
   ],
   "source": [
    "initial_df"
   ]
  },
  {
   "cell_type": "code",
   "execution_count": 128,
   "metadata": {
    "collapsed": false,
    "scrolled": true
   },
   "outputs": [
    {
     "ename": "TypeError",
     "evalue": "Invalid dimensions for image data",
     "output_type": "error",
     "traceback": [
      "\u001b[0;31m--------------------------------------------------------------\u001b[0m",
      "\u001b[0;31mTypeError\u001b[0m                    Traceback (most recent call last)",
      "\u001b[0;32m<ipython-input-128-e57042c0c47a>\u001b[0m in \u001b[0;36m<module>\u001b[0;34m()\u001b[0m\n\u001b[1;32m      1\u001b[0m \u001b[0minitial_df1\u001b[0m \u001b[1;33m=\u001b[0m \u001b[0mnp\u001b[0m\u001b[1;33m.\u001b[0m\u001b[0mwhere\u001b[0m\u001b[1;33m(\u001b[0m\u001b[0minitial_df\u001b[0m \u001b[1;33m<\u001b[0m \u001b[1;36m0.5\u001b[0m \u001b[1;33m,\u001b[0m\u001b[1;33m-\u001b[0m\u001b[1;36m1\u001b[0m\u001b[1;33m,\u001b[0m\u001b[1;36m1\u001b[0m\u001b[1;33m)\u001b[0m\u001b[1;33m\u001b[0m\u001b[0m\n\u001b[0;32m----> 2\u001b[0;31m \u001b[0mplt\u001b[0m\u001b[1;33m.\u001b[0m\u001b[0mimshow\u001b[0m\u001b[1;33m(\u001b[0m\u001b[0minitial_df1\u001b[0m\u001b[1;33m.\u001b[0m\u001b[0mastype\u001b[0m\u001b[1;33m(\u001b[0m\u001b[0mnp\u001b[0m\u001b[1;33m.\u001b[0m\u001b[0mfloat64\u001b[0m\u001b[1;33m)\u001b[0m\u001b[1;33m,\u001b[0m\u001b[0mcmap\u001b[0m\u001b[1;33m=\u001b[0m\u001b[1;34m'gray'\u001b[0m\u001b[1;33m)\u001b[0m\u001b[1;33m\u001b[0m\u001b[0m\n\u001b[0m\u001b[1;32m      3\u001b[0m \u001b[0mplt\u001b[0m\u001b[1;33m.\u001b[0m\u001b[0mshow\u001b[0m\u001b[1;33m(\u001b[0m\u001b[1;33m)\u001b[0m\u001b[1;33m\u001b[0m\u001b[0m\n",
      "\u001b[0;32mC:\\Users\\titus\\Anaconda3\\lib\\site-packages\\matplotlib\\pyplot.py\u001b[0m in \u001b[0;36mimshow\u001b[0;34m(X, cmap, norm, aspect, interpolation, alpha, vmin, vmax, origin, extent, shape, filternorm, filterrad, imlim, resample, url, hold, data, **kwargs)\u001b[0m\n\u001b[1;32m   3156\u001b[0m                         \u001b[0mfilternorm\u001b[0m\u001b[1;33m=\u001b[0m\u001b[0mfilternorm\u001b[0m\u001b[1;33m,\u001b[0m \u001b[0mfilterrad\u001b[0m\u001b[1;33m=\u001b[0m\u001b[0mfilterrad\u001b[0m\u001b[1;33m,\u001b[0m\u001b[1;33m\u001b[0m\u001b[0m\n\u001b[1;32m   3157\u001b[0m                         \u001b[0mimlim\u001b[0m\u001b[1;33m=\u001b[0m\u001b[0mimlim\u001b[0m\u001b[1;33m,\u001b[0m \u001b[0mresample\u001b[0m\u001b[1;33m=\u001b[0m\u001b[0mresample\u001b[0m\u001b[1;33m,\u001b[0m \u001b[0murl\u001b[0m\u001b[1;33m=\u001b[0m\u001b[0murl\u001b[0m\u001b[1;33m,\u001b[0m \u001b[0mdata\u001b[0m\u001b[1;33m=\u001b[0m\u001b[0mdata\u001b[0m\u001b[1;33m,\u001b[0m\u001b[1;33m\u001b[0m\u001b[0m\n\u001b[0;32m-> 3158\u001b[0;31m                         **kwargs)\n\u001b[0m\u001b[1;32m   3159\u001b[0m     \u001b[1;32mfinally\u001b[0m\u001b[1;33m:\u001b[0m\u001b[1;33m\u001b[0m\u001b[0m\n\u001b[1;32m   3160\u001b[0m         \u001b[0max\u001b[0m\u001b[1;33m.\u001b[0m\u001b[0m_hold\u001b[0m \u001b[1;33m=\u001b[0m \u001b[0mwashold\u001b[0m\u001b[1;33m\u001b[0m\u001b[0m\n",
      "\u001b[0;32mC:\\Users\\titus\\Anaconda3\\lib\\site-packages\\matplotlib\\__init__.py\u001b[0m in \u001b[0;36minner\u001b[0;34m(ax, *args, **kwargs)\u001b[0m\n\u001b[1;32m   1889\u001b[0m                     warnings.warn(msg % (label_namer, func.__name__),\n\u001b[1;32m   1890\u001b[0m                                   RuntimeWarning, stacklevel=2)\n\u001b[0;32m-> 1891\u001b[0;31m             \u001b[1;32mreturn\u001b[0m \u001b[0mfunc\u001b[0m\u001b[1;33m(\u001b[0m\u001b[0max\u001b[0m\u001b[1;33m,\u001b[0m \u001b[1;33m*\u001b[0m\u001b[0margs\u001b[0m\u001b[1;33m,\u001b[0m \u001b[1;33m**\u001b[0m\u001b[0mkwargs\u001b[0m\u001b[1;33m)\u001b[0m\u001b[1;33m\u001b[0m\u001b[0m\n\u001b[0m\u001b[1;32m   1892\u001b[0m         \u001b[0mpre_doc\u001b[0m \u001b[1;33m=\u001b[0m \u001b[0minner\u001b[0m\u001b[1;33m.\u001b[0m\u001b[0m__doc__\u001b[0m\u001b[1;33m\u001b[0m\u001b[0m\n\u001b[1;32m   1893\u001b[0m         \u001b[1;32mif\u001b[0m \u001b[0mpre_doc\u001b[0m \u001b[1;32mis\u001b[0m \u001b[1;32mNone\u001b[0m\u001b[1;33m:\u001b[0m\u001b[1;33m\u001b[0m\u001b[0m\n",
      "\u001b[0;32mC:\\Users\\titus\\Anaconda3\\lib\\site-packages\\matplotlib\\axes\\_axes.py\u001b[0m in \u001b[0;36mimshow\u001b[0;34m(self, X, cmap, norm, aspect, interpolation, alpha, vmin, vmax, origin, extent, shape, filternorm, filterrad, imlim, resample, url, **kwargs)\u001b[0m\n\u001b[1;32m   5116\u001b[0m                               resample=resample, **kwargs)\n\u001b[1;32m   5117\u001b[0m \u001b[1;33m\u001b[0m\u001b[0m\n\u001b[0;32m-> 5118\u001b[0;31m         \u001b[0mim\u001b[0m\u001b[1;33m.\u001b[0m\u001b[0mset_data\u001b[0m\u001b[1;33m(\u001b[0m\u001b[0mX\u001b[0m\u001b[1;33m)\u001b[0m\u001b[1;33m\u001b[0m\u001b[0m\n\u001b[0m\u001b[1;32m   5119\u001b[0m         \u001b[0mim\u001b[0m\u001b[1;33m.\u001b[0m\u001b[0mset_alpha\u001b[0m\u001b[1;33m(\u001b[0m\u001b[0malpha\u001b[0m\u001b[1;33m)\u001b[0m\u001b[1;33m\u001b[0m\u001b[0m\n\u001b[1;32m   5120\u001b[0m         \u001b[1;32mif\u001b[0m \u001b[0mim\u001b[0m\u001b[1;33m.\u001b[0m\u001b[0mget_clip_path\u001b[0m\u001b[1;33m(\u001b[0m\u001b[1;33m)\u001b[0m \u001b[1;32mis\u001b[0m \u001b[1;32mNone\u001b[0m\u001b[1;33m:\u001b[0m\u001b[1;33m\u001b[0m\u001b[0m\n",
      "\u001b[0;32mC:\\Users\\titus\\Anaconda3\\lib\\site-packages\\matplotlib\\image.py\u001b[0m in \u001b[0;36mset_data\u001b[0;34m(self, A)\u001b[0m\n\u001b[1;32m    547\u001b[0m         if (self._A.ndim not in (2, 3) or\n\u001b[1;32m    548\u001b[0m                 (self._A.ndim == 3 and self._A.shape[-1] not in (3, 4))):\n\u001b[0;32m--> 549\u001b[0;31m             \u001b[1;32mraise\u001b[0m \u001b[0mTypeError\u001b[0m\u001b[1;33m(\u001b[0m\u001b[1;34m\"Invalid dimensions for image data\"\u001b[0m\u001b[1;33m)\u001b[0m\u001b[1;33m\u001b[0m\u001b[0m\n\u001b[0m\u001b[1;32m    550\u001b[0m \u001b[1;33m\u001b[0m\u001b[0m\n\u001b[1;32m    551\u001b[0m         \u001b[0mself\u001b[0m\u001b[1;33m.\u001b[0m\u001b[0m_imcache\u001b[0m \u001b[1;33m=\u001b[0m \u001b[1;32mNone\u001b[0m\u001b[1;33m\u001b[0m\u001b[0m\n",
      "\u001b[0;31mTypeError\u001b[0m: Invalid dimensions for image data"
     ]
    }
   ],
   "source": [
    "initial_df1 = np.where(initial_df < 0.5 ,-1,1)\n",
    "plt.imshow(initial_df1.astype(np.float64),cmap='gray')\n",
    "plt.show()"
   ]
  },
  {
   "cell_type": "markdown",
   "metadata": {},
   "source": [
    "### Step 4 - Turning in the energy function values computed initially and after each iteration"
   ]
  },
  {
   "cell_type": "code",
   "execution_count": 138,
   "metadata": {
    "collapsed": true
   },
   "outputs": [],
   "source": [
    "'''\n",
    "Helper function to calculate E_q [log P]\n",
    "'''\n",
    "def EQLOGP(imgIdx): \n",
    "    first_sum = 0 \n",
    "    sec_sum = 0\n",
    "    for row in range(28):\n",
    "        for col in range(28): \n",
    "            if col - 1 >= 0:\n",
    "                first_sum += 0.8 * (2 * initial_df[imgIdx,row, col] - 1) * (2 * initial_df[imgIdx,row, col - 1] - 1)\n",
    "                #sec_sum += 2 * (2*initial_df[imgIdx,row, col]-1) * (im_of_20_flip[imgIdx, row , col - 1])\n",
    "            if col + 1 < 28:\n",
    "                first_sum += 0.8 * (2 * initial_df[imgIdx,row, col] - 1) * (2 * initial_df[imgIdx,row, col + 1] - 1)\n",
    "                #sec_sum += 2 * (2*initial_df[imgIdx,row, col]-1) * (im_of_20_flip[imgIdx, row , col + 1])\n",
    "            if row - 1 >= 0:\n",
    "                first_sum += 0.8 * (2 * initial_df[imgIdx,row, col] - 1) * (2 * initial_df[imgIdx,row - 1, col] - 1)\n",
    "                #sec_sum += 2 * (2*initial_df[imgIdx,row, col]-1) * (im_of_20_flip[imgIdx, row - 1, col])\n",
    "            if row + 1 < 28:\n",
    "                first_sum += 0.8 * (2 * initial_df[imgIdx,row, col] - 1) * (2 * initial_df[imgIdx,row + 1, col] - 1)\n",
    "                #sec_sum += 2 * (2*initial_df[imgIdx,row, col]-1) * (im_of_20_flip[imgIdx, row + 1, col])\n",
    "            sec_sum += 2 * (2*initial_df[imgIdx,row, col]-1) * (im_of_20_flip[imgIdx, row , col ]) \n",
    "    return first_sum + sec_sum\n",
    "    "
   ]
  },
  {
   "cell_type": "code",
   "execution_count": 139,
   "metadata": {
    "collapsed": true
   },
   "outputs": [],
   "source": [
    "'''\n",
    "Helper function to calculate E_q [log Q] \n",
    "'''\n",
    "def EQLOGQ(img):\n",
    "    eqlogq = 0\n",
    "    for row in range(28):\n",
    "        for col in range(28):\n",
    "            eqlogq += initial_df[img,row, col] * (np.log(initial_df[img,row, col]) + (10e-10)) + \\\n",
    "                (1-initial_df[img,row, col])*(np.log(1-initial_df[img,row, col] + (10e-10)))\n",
    "    return eqlogq"
   ]
  },
  {
   "cell_type": "code",
   "execution_count": 154,
   "metadata": {
    "collapsed": false
   },
   "outputs": [],
   "source": [
    "'''\n",
    "loading the initial VFE\n",
    "'''\n",
    "initial_df_input = np.loadtxt(\"InitialParametersModel.csv\", delimiter= ',') # 28x28\n",
    "initial_df= np.zeros((20,28,28))\n",
    "for i in range(20):\n",
    "    initial_df[i,:,:] = initial_df_input\n",
    "energy_list = np.zeros((20,11))\n",
    "first_sum = 0 \n",
    "sec_sum = 0 \n",
    "for imgIdx in range(20):\n",
    "    first_sum = 0 \n",
    "    sec_sum = 0 \n",
    "    for row in range(28):\n",
    "        for col in range(28): \n",
    "            if (col - 1) >= 0:\n",
    "                first_sum += 0.8 * (2 * initial_df[imgIdx,row, col] - 1) * (2 * initial_df[imgIdx,row, col - 1] - 1)\n",
    "                #sec_sum += 2 * (2 * initial_df[imgIdx,row, col] - 1) * (im_of_20_flip[imgIdx, row , col - 1])\n",
    "            if (col + 1) < 28:\n",
    "                first_sum += 0.8 * (2 * initial_df[imgIdx,row, col] - 1) * (2 * initial_df[imgIdx,row, col + 1] - 1)\n",
    "                #sec_sum += 2 * (2 * initial_df[imgIdx,row, col] - 1) * (im_of_20_flip[imgIdx, row , col + 1])\n",
    "            if (row - 1) >= 0:\n",
    "                first_sum += 0.8 * (2 * initial_df[imgIdx,row, col] - 1) * (2 * initial_df[imgIdx,row - 1, col] - 1)\n",
    "                #sec_sum += 2 * (2 * initial_df[imgIdx,row, col] - 1) * (im_of_20_flip[imgIdx, row - 1, col])\n",
    "            if (row + 1) < 28:\n",
    "                first_sum += 0.8 * (2 * initial_df[imgIdx,row, col] - 1) * (2 * initial_df[imgIdx,row + 1, col] - 1)\n",
    "            sec_sum += 2 * (2*initial_df[imgIdx,row, col]-1) * (im_of_20_flip[imgIdx, row , col ]) \n",
    "    energy_list[imgIdx,0] = EQLOGQ(imgIdx) - (first_sum + sec_sum) "
   ]
  },
  {
   "cell_type": "code",
   "execution_count": 158,
   "metadata": {
    "collapsed": false
   },
   "outputs": [
    {
     "data": {
      "text/plain": [
       "-8"
      ]
     },
     "execution_count": 158,
     "metadata": {},
     "output_type": "execute_result"
    }
   ],
   "source": [
    "sec_sum"
   ]
  },
  {
   "cell_type": "code",
   "execution_count": 156,
   "metadata": {
    "collapsed": true
   },
   "outputs": [],
   "source": [
    "for i in range(1,11):\n",
    "    for img in range(20):\n",
    "        for idx in range(784): \n",
    "            row_num = int(update_df[img*2,idx])\n",
    "            col_num = int(update_df[img*2+1,idx])\n",
    "            first_sum = 0 \n",
    "            sec_sum = 0 \n",
    "            third_sum = 0\n",
    "            fourth_sum = 0\n",
    "            if (row_num - 1) >= 0:\n",
    "                first_sum += 0.8 * (2 * initial_df[img,row_num - 1, col_num] - 1)\n",
    "                sec_sum += (2 * im_of_20_flip[img, row_num - 1, col_num])\n",
    "                third_sum += -0.8 * (2 * initial_df[img,row_num - 1, col_num] - 1)\n",
    "                fourth_sum += (-2 * im_of_20_flip[img, row_num - 1, col_num])\n",
    "            if (row_num + 1) < 28:\n",
    "                first_sum += 0.8 * (2 * initial_df[img,row_num + 1, col_num] - 1)\n",
    "                sec_sum += (2 * im_of_20_flip[img, row_num + 1, col_num])\n",
    "                third_sum += -0.8 * (2 * initial_df[img,row_num + 1, col_num] - 1)\n",
    "                fourth_sum += (-2 * im_of_20_flip[img, row_num + 1, col_num])\n",
    "            if (col_num - 1) >= 0:\n",
    "                first_sum += 0.8 * (2 * initial_df[img,row_num , col_num - 1] - 1)\n",
    "                sec_sum += (2 * im_of_20_flip[img, row_num , col_num - 1])\n",
    "                third_sum += -0.8 * (2 * initial_df[img,row_num , col_num - 1] - 1)\n",
    "                fourth_sum += (-2 * im_of_20_flip[img, row_num , col_num - 1])\n",
    "            if (col_num + 1) < 28:\n",
    "                first_sum += 0.8 * (2 * initial_df[img,row_num , col_num + 1] - 1)\n",
    "                sec_sum += (2 * im_of_20_flip[img, row_num , col_num + 1])\n",
    "                third_sum += -0.8 * (2 * initial_df[img,row_num , col_num + 1] - 1)\n",
    "                fourth_sum += (-2 * im_of_20_flip[img, row_num , col_num + 1])\n",
    "            numerator = np.exp(first_sum+sec_sum)\n",
    "            denominator = numerator + np.exp(third_sum+fourth_sum)\n",
    "\n",
    "            initial_df[img,row_num , col_num] = numerator/denominator\n",
    "        energy_list[img, i] = EQLOGQ(img) - EQLOGP(img)"
   ]
  },
  {
   "cell_type": "code",
   "execution_count": 157,
   "metadata": {
    "collapsed": false
   },
   "outputs": [
    {
     "data": {
      "text/plain": [
       "array([[ -406.42825816, -3480.71407109, -3520.51980911, -3520.86253036,\n",
       "        -3520.94603143, -3520.85461126, -3520.7559376 , -3520.70619562,\n",
       "        -3520.6866904 , -3520.68196724, -3520.68342434],\n",
       "       [ -460.86138241, -3431.77638632, -3492.65499991, -3492.98033529,\n",
       "        -3492.83950102, -3492.64678919, -3492.51167273, -3492.43573287,\n",
       "        -3492.39757208, -3492.37971718, -3492.37197208],\n",
       "       [ -451.66778545, -3550.59361997, -3578.80681613, -3578.97935756,\n",
       "        -3578.97583611, -3578.93742267, -3578.89852723, -3578.86663571,\n",
       "        -3578.84226886, -3578.82423782, -3578.81111827],\n",
       "       [ -436.6531938 , -3662.19797322, -3677.22228019, -3677.40494307,\n",
       "        -3676.85862166, -3676.56159826, -3676.46471184, -3676.43513054,\n",
       "        -3676.42420278, -3676.41886012, -3676.41568314],\n",
       "       [ -416.04081817, -3544.51806744, -3603.13248195, -3615.52233406,\n",
       "        -3617.47586644, -3617.91643235, -3618.13004313, -3618.25053452,\n",
       "        -3618.32422293, -3618.37161638, -3618.4031332 ],\n",
       "       [ -432.90195076, -3496.64737601, -3557.83508929, -3559.2638802 ,\n",
       "        -3559.56206625, -3559.734529  , -3559.86726259, -3559.95904892,\n",
       "        -3560.0146473 , -3560.04572408, -3560.06247856],\n",
       "       [ -420.57426897, -3714.08274776, -3720.27886412, -3719.49029197,\n",
       "        -3719.01576733, -3718.68199428, -3718.44561684, -3718.28091506,\n",
       "        -3718.16865432, -3718.09362119, -3718.04420004],\n",
       "       [ -458.68698586, -3440.28338029, -3497.52522918, -3497.13412137,\n",
       "        -3496.66356444, -3496.25919253, -3496.10273627, -3496.07537486,\n",
       "        -3496.09091994, -3496.11614174, -3496.14017502],\n",
       "       [ -447.45237956, -3723.80495487, -3753.52092591, -3753.66335254,\n",
       "        -3753.70732061, -3753.73212105, -3753.80028358, -3753.87299798,\n",
       "        -3753.93163074, -3753.97502838, -3754.00630075],\n",
       "       [ -399.23920563, -3493.45513182, -3537.10266728, -3539.91956631,\n",
       "        -3540.43578164, -3540.63647844, -3540.83249829, -3540.96119062,\n",
       "        -3541.04759957, -3541.10690719, -3541.14810803],\n",
       "       [ -418.07046642, -3570.61078989, -3603.73585906, -3606.50945642,\n",
       "        -3607.66422025, -3607.70744929, -3607.70733151, -3607.70903784,\n",
       "        -3607.71032204, -3607.71100808, -3607.71133427],\n",
       "       [ -378.27506343, -3592.05870434, -3623.58527031, -3624.48046665,\n",
       "        -3624.54630977, -3624.53584848, -3624.51711735, -3624.49963925,\n",
       "        -3624.48603907, -3624.47626185, -3624.46950889],\n",
       "       [ -399.62039451, -3443.59197136, -3491.70531407, -3492.72570683,\n",
       "        -3492.83624888, -3492.50039217, -3492.32537674, -3492.26748137,\n",
       "        -3492.25105252, -3492.24655982, -3492.24532584],\n",
       "       [ -440.60154552, -3515.97766196, -3575.25574931, -3575.58503449,\n",
       "        -3575.51630281, -3575.45033542, -3575.42079385, -3575.41191436,\n",
       "        -3575.41279596, -3575.41763581, -3575.42361441],\n",
       "       [ -420.17107531, -3753.31358342, -3760.8099797 , -3760.56939793,\n",
       "        -3760.45837297, -3760.40905037, -3760.38760038, -3760.37836446,\n",
       "        -3760.37440523, -3760.37271125, -3760.37198708],\n",
       "       [ -439.89118284, -3495.63700409, -3560.4428106 , -3560.79878142,\n",
       "        -3561.24669008, -3561.54826557, -3561.74077509, -3561.86684697,\n",
       "        -3561.95059029, -3562.00659233, -3562.04414835],\n",
       "       [ -411.86046546, -3473.18386907, -3513.13036416, -3514.12902427,\n",
       "        -3514.25724469, -3514.2676962 , -3514.24475351, -3514.21655918,\n",
       "        -3514.19317443, -3514.17648556, -3514.16544884],\n",
       "       [ -365.08558846, -3609.82491367, -3644.27061908, -3644.89587438,\n",
       "        -3645.16064797, -3645.31469444, -3645.41843917, -3645.49201094,\n",
       "        -3645.54490664, -3645.58303155, -3645.61051639],\n",
       "       [ -446.73213493, -3529.17720025, -3559.94469413, -3558.87394764,\n",
       "        -3558.0920112 , -3557.71743906, -3557.55182188, -3557.46617091,\n",
       "        -3557.405992  , -3557.34976582, -3557.29021662],\n",
       "       [ -397.01185637, -3587.78291518, -3622.2251573 , -3621.66651524,\n",
       "        -3621.30809427, -3621.07816259, -3620.92925354, -3620.8452696 ,\n",
       "        -3620.80515311, -3620.78895089, -3620.78371923]])"
      ]
     },
     "execution_count": 157,
     "metadata": {},
     "output_type": "execute_result"
    }
   ],
   "source": [
    "energy_list"
   ]
  },
  {
   "cell_type": "markdown",
   "metadata": {},
   "source": [
    "### Step 5 - Displaying the reconstructed images (Image 11 - 19)"
   ]
  },
  {
   "cell_type": "code",
   "execution_count": 254,
   "metadata": {
    "collapsed": true
   },
   "outputs": [],
   "source": [
    "initial_df = np.loadtxt(\"InitialParametersModel.csv\", delimiter= ',') # 28x28\n",
    "\n",
    "for i in range(10):\n",
    "    for img in range(10,20):\n",
    "        for idx in range(784): \n",
    "            row_num = int(update_df[img*2,idx])\n",
    "            col_num = int(update_df[img*2+1,idx])\n",
    "            first_sum = 0 \n",
    "            sec_sum = 0 \n",
    "            third_sum = 0\n",
    "            fourth_sum = 0\n",
    "            if (row_num - 1) >= 0:\n",
    "                first_sum += 0.8 * (2 * initial_df[row_num - 1, col_num] - 1)\n",
    "                sec_sum += (2 * im_of_20_flip[img, row_num - 1, col_num])\n",
    "                third_sum += -0.8 * (2 * initial_df[row_num - 1, col_num] - 1)\n",
    "                fourth_sum += (-2 * im_of_20_flip[img, row_num - 1, col_num])\n",
    "            if (row_num + 1) < 28:\n",
    "                first_sum += 0.8 * (2 * initial_df[row_num + 1, col_num] - 1)\n",
    "                sec_sum += (2 * im_of_20_flip[img, row_num + 1, col_num])\n",
    "                third_sum += -0.8 * (2 * initial_df[row_num + 1, col_num] - 1)\n",
    "                fourth_sum += (-2 * im_of_20_flip[img, row_num + 1, col_num])\n",
    "            if (col_num - 1) >= 0:\n",
    "                first_sum += 0.8 * (2 * initial_df[row_num , col_num - 1] - 1)\n",
    "                sec_sum += (2 * im_of_20_flip[img, row_num , col_num - 1])\n",
    "                third_sum += -0.8 * (2 * initial_df[row_num , col_num - 1] - 1)\n",
    "                fourth_sum += (-2 * im_of_20_flip[img, row_num , col_num - 1])\n",
    "            if (col_num + 1) < 28:\n",
    "                first_sum += 0.8 * (2 * initial_df[row_num , col_num + 1] - 1)\n",
    "                sec_sum += (2 * im_of_20_flip[img, row_num , col_num + 1])\n",
    "                third_sum += -0.8 * (2 * initial_df[row_num , col_num + 1] - 1)\n",
    "                fourth_sum += (-2 * im_of_20_flip[img, row_num , col_num + 1])\n",
    "            numerator = np.exp(first_sum+sec_sum)\n",
    "            denominator = numerator + np.exp(third_sum+fourth_sum)\n",
    "\n",
    "            initial_df[row_num , col_num] = numerator/denominator"
   ]
  },
  {
   "cell_type": "code",
   "execution_count": 255,
   "metadata": {
    "collapsed": true
   },
   "outputs": [],
   "source": [
    "a = [] \n",
    "for i in range(10,20):\n",
    "    for row in range(28):\n",
    "        for col in range(28):\n",
    "            if (initial_df[row,col] < 0.5):\n",
    "                if (im_of_20_flip[i, row , col] == 1):\n",
    "                    im_of_20_flip[i, row , col] = 0\n",
    "                else: \n",
    "                    im_of_20_flip[i, row , col] = 1\n",
    "    a.append(im_of_20_flip[i])"
   ]
  },
  {
   "cell_type": "code",
   "execution_count": 268,
   "metadata": {
    "collapsed": true
   },
   "outputs": [],
   "source": [
    "'''\n",
    "wrtie to file\n",
    "'''\n",
    "output_str = '' \n",
    "for row in range(28): # height of image\n",
    "    for img in range(10): # 10 images align\n",
    "        for col in range(28):\n",
    "            output_str += str(a[img][row, col]) + ','\n",
    "    output_str = output_str[:-1]\n",
    "    output_str += '\\n'"
   ]
  },
  {
   "cell_type": "code",
   "execution_count": 272,
   "metadata": {
    "collapsed": false
   },
   "outputs": [
    {
     "data": {
      "text/plain": [
       "'1,1,1,1,1,1,1,1,1,1,1,1,1,1,1,1,1,1,1,1,1,1,1,1,1,1,1,1,1,1,1,1,1,1,1,1,1,1,1,1,1,1,1,1,1,1,1,1,1,1,1,1,1,0,0,1,1,1,1,1,1,1,1,1,1,1,1,1,1,1,1,1,1,1,1,1,1,1,1,1,1,1,1,1,1,1,1,1,1,1,1,1,1,1,1,1,1,1,1,1,1,0,1,1,1,1,1,1,1,1,1,1,1,1,1,1,1,1,1,1,1,1,1,1,1,1,1,1,1,1,1,1,0,1,1,1,1,1,1,1,1,1,1,1,1,1,1,1,1,1,1,1,1,1,1,1,1,1,1,1,1,1,1,1,1,1,1,1,1,1,1,1,1,1,1,1,1,1,1,1,1,1,1,1,1,1,1,1,1,1,1,1,1,1,1,1,1,1,1,1,1,1,1,1,1,1,1,1,1,1,1,1,1,1,1,1,1,1,1,1,1,1,1,1,1,1,1,1,1,1,1,1,1,1,1,1,1,1,1,1,1,1,1,1,0,1,1,1,1,1,1,1,1,1,1,1,1,1,1,1,1,1,1,1,1,1,1,1,1,1,1,1,1,1,1,1,1,1,0,1\\n1,1,1,1,1,1,1,1,1,1,1,1,1,1,1,1,1,1,1,1,1,1,1,0,1,1,1,1,1,1,1,1,1,1,1,1,1,1,1,1,1,1,1,1,1,1,1,1,1,1,1,1,1,1,1,0,1,1,1,1,1,1,1,1,1,1,1,1,1,1,1,1,1,1,1,0,1,1,1,1,1,1,1,1,1,1,1,1,1,1,1,1,1,1,1,0,1,1,0,0,1,1,1,1,1,1,1,1,1,1,1,1,0,1,1,1,1,1,1,1,1,1,1,1,1,1,1,1,1,1,1,1,1,1,1,1,1,1,1,1,1,1,1,1,1,1,1,1,1,1,1,1,1,1,1,1,1,1,1,1,1,1,1,1,1,1,1,1,1,1,1,1,1,1,1,1,1,1,1,1,1,1,1,1,1,1,1,1,1,1,1,1,1,1,1,1,1,1,1,1,1,1,1,1,1,1,1,1,1,1,1,1,1,1,1,1,1,1,1,1,1,1,1,1,1,1,1,1,1,1,0,1,1,1,1,1,1,1,1,1,1,1,1,1,1,1,1,1,1,1,1,1,1,1,1,1,1,1,1,1,1,1,1,1,1,1,0,1,1,1,1,1,1,1,1,1,1,1,1,1\\n1,1,1,1,1,1,1,1,1,1,1,1,1,1,1,1,1,1,1,1,1,1,1,1,1,1,1,1,1,1,1,1,1,1,1,1,1,1,1,1,1,1,1,1,1,1,1,1,1,1,1,1,1,1,1,1,1,1,1,1,1,1,1,1,1,1,1,0,1,1,1,1,1,1,1,1,1,1,1,1,1,1,1,1,1,1,1,1,1,1,1,1,1,1,1,1,1,1,1,1,0,0,0,1,1,1,1,1,1,1,1,1,1,1,1,1,1,1,1,0,1,1,1,1,1,1,1,1,1,1,1,1,1,1,1,1,1,1,1,1,1,1,1,1,1,1,1,1,1,1,1,1,1,1,1,1,1,1,1,1,1,1,1,1,1,1,1,1,1,1,1,1,1,1,1,1,1,1,1,1,1,1,1,1,1,1,1,1,1,1,1,1,1,1,1,1,1,1,1,1,1,1,1,1,1,1,1,1,1,1,1,1,1,1,1,1,1,1,1,1,1,1,1,1,1,1,1,1,1,1,1,1,1,1,1,1,1,1,1,1,1,1,1,1,1,1,1,1,1,1,1,1,1,1,1,1,1,1,1,1,1,1,1,1,1,1,1,1,1,1,1,1,1,1,1,1,1,1,1,1\\n1,1,1,1,1,1,1,1,1,1,1,1,1,1,1,1,1,1,1,1,1,1,1,1,1,1,1,1,1,1,1,1,1,1,1,1,1,1,1,1,1,1,1,1,1,1,1,1,1,1,1,1,1,1,1,1,1,1,1,1,1,1,1,1,1,1,1,1,1,1,1,1,1,1,1,1,1,1,1,1,1,1,1,1,1,1,1,1,1,1,1,1,1,1,1,1,1,1,1,0,0,0,0,1,1,1,1,1,1,1,1,1,1,1,1,1,1,1,1,1,0,1,1,1,1,1,1,1,1,1,1,1,1,1,1,1,1,0,1,1,1,1,1,1,1,1,1,1,1,1,0,1,1,1,1,1,1,1,1,1,1,1,1,1,1,1,1,1,1,1,1,1,1,1,1,1,1,1,1,1,1,1,1,1,1,1,1,1,1,1,1,1,1,1,1,1,1,1,1,1,1,1,1,1,1,1,1,1,1,1,1,1,1,1,1,1,1,1,1,1,1,1,1,1,1,1,1,1,1,1,1,1,1,1,1,1,1,1,1,1,0,0,0,0,1,1,1,1,1,0,1,1,1,1,1,1,0,1,1,1,1,1,1,1,1,1,1,1,1,1,1,1,1,1,1,0,1,1,1,1\\n1,1,1,1,1,1,1,1,1,1,1,0,0,0,0,0,0,0,1,1,1,1,1,1,1,1,1,1,1,1,1,1,1,1,1,1,1,1,1,1,0,1,1,1,1,1,1,1,1,0,1,1,1,1,1,1,1,1,1,1,1,1,1,1,1,1,1,1,1,1,1,1,1,1,1,1,1,1,1,1,1,1,1,1,1,1,1,1,1,1,1,1,0,1,1,1,1,0,0,0,0,0,0,1,1,1,1,1,1,1,1,1,1,1,1,1,1,1,1,1,1,1,1,1,1,1,1,1,1,1,1,1,1,1,1,1,1,1,1,1,1,1,1,1,1,1,1,1,1,1,1,1,1,1,1,1,1,1,1,1,1,1,1,1,1,1,1,1,1,1,1,1,1,1,1,1,1,1,1,1,1,1,1,1,1,1,1,1,1,1,1,1,1,1,1,1,1,1,1,1,1,1,1,1,1,1,1,1,1,1,1,1,1,1,1,1,1,1,1,1,1,1,1,1,1,1,1,1,1,1,1,1,0,1,1,1,1,1,1,0,0,0,0,0,1,1,1,1,1,1,1,1,1,1,1,1,1,1,1,1,1,1,1,1,1,1,1,1,1,1,1,1,1,1,1,1,1,1,1,1\\n1,1,1,1,1,1,1,1,1,1,0,0,0,0,0,0,0,1,1,1,1,1,1,1,1,1,1,1,1,1,1,1,1,1,1,1,1,1,1,1,1,1,1,1,1,1,1,1,1,1,1,1,1,1,1,1,1,1,1,0,0,0,0,0,0,0,0,0,0,0,0,0,1,1,1,1,1,1,1,1,1,1,1,1,1,1,1,1,1,1,1,1,1,1,1,1,0,0,0,0,0,0,1,1,1,1,0,1,1,1,1,1,1,1,1,1,1,1,1,1,1,1,1,0,0,0,0,1,1,1,1,1,1,0,1,1,1,1,1,1,1,1,1,1,1,1,1,1,1,1,1,1,1,1,1,1,1,1,1,1,1,1,1,1,1,1,1,1,1,1,0,1,1,1,1,1,1,1,1,0,0,0,0,0,0,0,1,1,1,1,1,1,1,1,0,1,1,1,1,1,1,1,1,1,1,1,1,1,1,1,1,1,1,1,1,0,0,0,0,1,1,1,1,1,1,1,1,1,1,1,1,1,1,1,1,1,1,1,0,0,0,0,1,1,1,1,1,1,1,1,1,1,1,1,1,1,1,1,1,0,1,1,1,1,1,1,1,1,1,1,1,1,1,1,1,1,1,1,1,1\\n1,1,1,1,1,1,1,1,1,1,0,0,0,0,0,0,0,0,0,1,1,1,1,1,1,1,1,1,1,1,1,1,1,1,1,1,1,1,1,1,1,1,1,1,1,1,1,1,1,1,1,1,1,1,1,1,1,1,1,0,0,0,0,0,0,0,0,0,0,1,0,0,0,0,0,1,1,1,1,1,1,1,1,1,1,1,1,1,1,1,1,1,1,1,1,1,0,0,0,0,0,1,1,1,1,1,1,1,1,1,1,1,1,1,1,1,1,1,1,1,1,1,1,0,0,0,0,1,1,1,1,1,1,1,1,1,1,1,1,1,1,1,1,1,1,1,1,1,1,1,1,1,1,1,1,1,1,1,1,1,1,1,1,1,1,1,1,1,1,1,1,1,1,1,1,1,1,0,0,0,0,0,0,0,0,0,1,1,1,1,1,1,1,1,1,1,1,1,1,1,1,1,1,1,1,1,1,1,1,1,1,0,0,0,0,0,0,0,0,1,1,1,1,1,1,1,1,1,1,1,1,1,1,0,1,1,1,0,0,0,0,0,1,1,1,1,1,1,1,1,1,1,1,1,1,1,1,1,1,1,1,1,1,1,1,1,1,1,1,1,1,1,1,1,1,1,1,1,1,1\\n1,1,1,1,1,1,1,1,1,1,1,0,1,0,1,1,1,1,0,1,1,1,1,1,1,1,1,1,1,1,1,1,1,1,1,1,1,1,1,1,1,1,-1,-1,-1,-1,1,1,0,0,0,0,0,0,1,1,1,1,1,0,0,0,0,0,1,0,0,0,0,0,1,1,1,1,0,1,1,1,1,1,1,1,1,1,1,1,1,1,1,1,1,1,1,1,1,0,0,0,1,1,-1,-1,1,1,1,1,1,1,1,1,1,1,1,1,1,1,1,1,1,1,1,1,1,0,0,0,1,-1,-1,-1,1,0,1,1,1,1,1,0,1,1,1,1,1,1,1,1,1,1,1,1,0,1,0,1,-1,1,1,1,0,0,0,1,1,1,1,1,1,1,1,1,1,1,1,1,1,1,1,0,0,0,0,1,-1,1,1,1,0,1,1,1,1,1,1,1,1,1,1,1,1,1,1,1,1,1,1,1,1,0,0,0,1,1,1,1,0,0,0,0,0,1,1,1,1,1,1,1,1,1,1,1,1,1,1,1,1,1,0,0,1,1,-1,-1,1,1,1,1,1,1,1,1,1,1,1,1,1,1,1,1,1,1,1,1,1,1,1,0,1,1,1,1,0,1,1,1,1,1,1,1,1,1\\n1,1,1,1,1,1,1,1,1,1,1,1,0,1,1,1,1,1,1,-1,1,1,1,1,1,1,1,1,1,1,1,1,1,1,1,1,1,1,1,1,1,-1,-1,-1,-1,-1,1,1,0,0,0,0,0,0,1,1,1,1,0,0,0,0,0,0,1,1,1,1,1,-1,1,1,1,1,1,-1,1,1,1,1,1,1,1,1,1,1,1,1,1,1,1,1,1,1,1,0,0,1,1,-1,-1,-1,-1,-1,1,1,1,1,1,1,1,1,1,1,1,1,1,1,1,1,1,1,1,1,0,1,1,-1,-1,-1,-1,-1,1,1,1,1,1,1,1,1,1,1,1,1,1,1,1,1,1,1,1,1,0,1,1,1,1,1,1,1,0,0,1,1,1,1,1,1,1,1,1,1,1,1,0,1,0,0,0,1,1,-1,-1,-1,1,1,1,-1,1,1,1,1,1,1,1,1,1,1,1,1,1,1,1,1,1,1,1,0,0,1,1,1,1,1,-1,1,0,0,1,1,1,1,1,1,1,1,1,1,1,1,1,1,1,1,1,1,0,1,1,-1,-1,-1,-1,-1,1,1,1,1,1,1,1,1,1,1,1,1,1,1,1,0,1,1,1,1,0,-1,1,1,1,1,1,1,1,1,1,1,1,1,1,1\\n1,1,1,1,1,1,1,1,1,1,1,-1,1,1,1,1,1,1,1,-1,1,1,1,1,1,1,1,1,1,1,0,1,1,1,1,1,1,1,1,1,-1,-1,-1,-1,1,1,1,1,0,0,0,1,0,1,1,1,1,1,1,0,1,1,1,1,1,1,1,-1,-1,-1,1,1,1,1,1,-1,1,1,1,1,1,1,1,1,1,1,1,1,1,1,1,1,1,1,0,1,1,1,1,-1,-1,-1,-1,-1,1,1,1,1,1,1,1,1,1,1,1,1,1,1,1,1,1,1,1,-1,1,1,1,1,-1,-1,-1,-1,1,1,1,1,1,1,1,1,1,1,1,1,1,1,1,1,0,0,0,1,1,1,1,1,1,1,1,1,0,0,1,1,1,1,1,1,1,1,1,1,1,1,1,1,0,0,0,-1,-1,-1,-1,-1,1,1,1,1,1,1,1,1,1,1,1,1,1,1,1,1,1,1,0,1,1,1,0,1,1,1,1,1,1,1,1,1,0,0,1,1,1,1,1,1,1,1,1,1,1,1,1,1,1,0,1,1,1,1,-1,-1,-1,-1,-1,-1,1,1,1,1,1,1,1,1,0,1,1,1,1,1,1,1,1,1,1,1,1,1,1,1,1,1,1,1,0,1,1,1,1,1,1,1\\n1,1,1,1,1,1,1,1,1,1,1,-1,-1,1,1,0,0,1,1,-1,-1,1,1,1,0,1,1,1,1,0,1,1,1,1,1,1,1,1,1,-1,-1,-1,1,0,0,1,1,1,1,0,1,1,1,1,1,1,1,1,1,1,1,1,1,1,1,1,1,-1,1,1,1,0,0,1,-1,-1,-1,1,1,1,1,1,1,1,1,1,1,1,1,1,1,1,1,0,0,1,1,1,-1,1,1,-1,-1,-1,-1,1,1,1,1,1,1,1,1,1,1,1,1,1,1,1,1,1,1,-1,1,1,1,0,1,-1,-1,-1,-1,1,1,0,1,1,1,1,1,1,1,1,1,1,1,0,0,0,0,1,1,1,1,0,0,1,1,1,1,0,1,1,1,1,1,1,1,1,1,1,1,1,1,1,0,0,1,-1,-1,1,-1,1,0,1,1,1,-1,1,1,1,1,1,1,1,1,1,1,1,1,1,1,1,1,1,0,1,1,1,-1,1,0,1,1,1,1,1,1,1,1,1,1,1,1,1,1,1,1,1,1,1,1,1,1,1,1,1,-1,1,1,-1,-1,-1,-1,1,1,1,1,1,1,1,1,1,1,1,1,1,1,1,1,1,1,1,1,1,-1,1,1,1,1,1,1,1,1,1,1,1,1,1\\n1,1,1,1,1,1,1,1,1,1,1,-1,1,-1,0,0,1,1,1,-1,1,1,1,1,1,1,1,1,1,1,1,1,1,1,1,1,1,1,1,-1,-1,-1,0,0,1,1,-1,-1,1,1,1,1,1,1,1,1,1,1,1,1,1,1,1,1,1,1,1,1,1,1,0,0,1,1,-1,-1,1,1,1,1,1,1,1,1,1,1,1,1,1,1,1,1,0,0,0,1,1,-1,1,1,-1,1,1,1,1,0,1,1,1,1,1,1,1,1,1,1,1,1,1,1,1,1,1,-1,1,1,0,0,-1,-1,-1,-1,1,1,1,1,1,1,1,1,1,1,1,1,1,1,1,0,0,0,0,1,1,1,1,1,-1,1,1,1,0,0,1,1,1,1,1,1,1,1,1,1,1,1,1,1,1,1,1,1,-1,-1,1,1,1,1,1,1,1,1,1,1,1,1,1,1,1,1,1,1,1,1,1,1,1,1,1,1,1,1,0,0,1,1,1,1,1,1,1,1,1,1,1,1,1,1,1,1,1,1,1,1,1,1,1,1,1,-1,1,1,-1,-1,-1,-1,1,1,1,1,1,1,1,1,1,1,1,1,1,1,1,1,1,1,1,1,1,1,1,1,-1,1,1,1,0,1,1,1,1,1,1,1\\n1,1,1,1,1,1,1,1,1,1,0,1,1,1,1,1,1,1,1,-1,1,1,1,1,1,1,1,1,1,1,1,1,1,1,1,1,1,1,1,1,1,1,1,1,1,-1,-1,-1,1,1,1,1,1,1,1,1,1,1,1,1,1,1,1,1,1,1,0,1,1,1,1,1,-1,1,-1,-1,1,1,1,0,1,1,1,1,1,1,1,1,1,1,1,1,0,0,0,1,1,-1,-1,1,1,1,1,1,0,0,1,1,1,1,1,1,1,1,1,1,1,1,1,1,1,1,1,-1,1,1,1,1,-1,-1,-1,-1,1,1,1,1,1,1,1,1,1,1,1,1,1,1,0,0,0,0,0,1,-1,-1,-1,-1,-1,1,1,1,0,1,1,1,1,1,1,1,1,1,1,1,1,1,1,1,1,1,1,-1,-1,-1,-1,-1,-1,1,1,1,1,1,1,1,1,1,1,1,1,1,1,1,0,1,1,1,1,1,0,1,1,1,1,1,1,1,1,-1,1,1,1,1,1,1,1,1,1,1,1,1,1,1,1,1,1,1,0,1,1,-1,-1,-1,-1,1,-1,-1,1,1,1,1,1,1,1,1,1,1,1,1,1,1,1,1,1,1,1,1,1,-1,1,1,1,1,1,1,1,1,1,1,1,1,1,1\\n1,1,1,1,1,1,1,1,1,1,1,1,1,1,1,1,1,1,1,1,1,1,1,1,1,1,1,1,1,1,1,1,1,1,1,1,1,1,1,1,1,1,1,-1,-1,-1,-1,1,1,1,1,1,1,1,1,1,1,1,1,1,1,1,1,1,0,1,0,1,1,1,1,1,1,1,1,0,1,1,1,1,1,1,1,1,1,1,1,1,1,1,1,1,0,0,0,1,1,-1,1,1,1,1,1,0,0,0,0,1,1,1,1,1,1,1,1,1,1,1,1,1,1,1,1,-1,1,1,1,1,-1,-1,-1,1,1,1,1,1,1,1,1,1,1,1,1,1,1,1,0,0,0,0,0,-1,-1,-1,-1,1,1,1,1,0,0,1,1,1,1,1,1,1,1,1,1,1,1,1,1,1,1,1,1,-1,-1,-1,-1,-1,1,1,1,0,1,1,1,1,0,1,1,1,1,1,1,1,1,1,1,1,1,1,1,1,1,1,1,1,1,1,1,1,1,1,1,1,1,1,1,1,1,1,1,1,1,1,1,1,1,1,0,1,1,-1,1,1,1,1,1,1,1,1,1,1,1,1,1,1,1,1,1,1,1,1,1,1,1,1,1,1,1,1,1,1,1,1,-1,1,1,1,1,1,1,1,1,1\\n0,1,1,1,1,1,1,1,1,1,1,1,1,1,1,1,1,1,0,1,1,1,1,1,1,1,1,1,1,1,1,1,1,1,1,1,1,1,1,1,1,1,-1,-1,-1,-1,1,1,1,1,1,1,1,1,1,1,1,1,1,1,1,1,1,1,1,0,0,1,1,1,1,1,1,1,0,0,0,0,1,1,1,1,1,1,1,1,1,0,1,1,1,0,0,0,0,1,-1,1,1,1,1,1,0,0,0,0,0,1,1,1,1,1,1,1,1,1,1,1,1,1,1,1,1,-1,1,1,1,1,-1,-1,1,1,1,1,1,1,1,1,1,1,1,1,1,1,0,0,1,0,0,0,1,-1,-1,-1,-1,1,1,1,0,0,1,1,1,1,1,1,1,1,1,1,1,1,1,1,1,1,1,1,1,-1,-1,-1,-1,-1,1,1,0,0,1,1,0,0,0,0,0,1,1,1,1,1,1,1,1,1,1,1,1,1,1,-1,1,1,1,1,1,1,1,1,1,1,1,1,1,1,1,1,1,1,1,1,1,1,1,1,0,1,-1,1,1,1,1,1,0,0,1,1,1,1,1,1,1,1,1,1,1,1,1,1,1,1,1,1,1,1,1,1,1,1,1,1,1,1,1,1,1,1,1,1,1,1\\n1,1,1,1,1,1,1,1,1,1,1,-1,1,1,1,1,1,1,0,1,1,1,1,1,1,1,1,1,1,0,1,1,1,1,1,1,1,1,1,1,1,1,1,-1,-1,-1,1,1,1,1,1,1,1,1,1,1,1,0,1,1,1,1,1,0,1,1,1,-1,1,1,1,1,1,1,0,0,0,0,0,1,1,1,1,1,1,1,1,1,1,1,1,0,0,0,0,-1,1,1,1,1,1,1,0,0,0,0,1,1,1,1,1,1,1,1,1,1,1,1,1,1,1,1,1,-1,1,1,1,1,-1,-1,1,1,1,1,1,1,1,1,1,1,1,1,1,1,1,1,1,1,1,1,1,-1,-1,-1,1,1,1,1,0,1,1,1,1,1,1,1,1,1,1,1,1,1,1,1,1,1,0,1,1,-1,-1,-1,1,1,1,1,0,0,0,0,0,0,0,0,1,1,1,1,1,1,1,1,1,1,1,1,0,1,1,1,1,1,-1,-1,1,1,1,1,1,1,1,1,1,1,1,1,1,1,1,1,1,1,1,0,0,1,1,1,1,-1,-1,-1,0,0,1,1,1,1,1,1,1,1,1,1,0,1,1,1,1,1,1,1,1,-1,1,1,1,1,1,-1,1,1,1,1,1,1,1,1,1,1\\n1,1,1,1,1,1,1,1,1,1,1,1,1,-1,-1,1,1,0,0,0,1,1,1,1,1,1,1,1,1,1,1,1,1,1,1,1,0,0,1,0,0,1,1,1,-1,1,1,1,1,1,1,1,1,1,1,1,1,1,1,1,1,1,1,1,1,1,1,1,1,-1,-1,-1,1,0,0,0,0,0,0,1,1,1,1,1,1,1,1,1,1,1,1,0,0,0,1,1,0,1,1,1,-1,0,0,0,1,1,1,1,1,1,1,1,1,1,1,1,1,1,1,1,1,1,1,1,0,1,1,-1,-1,1,1,1,1,1,1,1,1,1,1,1,1,1,1,1,1,1,1,1,1,1,1,1,1,-1,1,1,1,0,1,1,1,1,1,1,1,1,1,1,1,1,1,1,1,1,1,1,0,0,0,0,0,1,1,1,1,0,0,0,0,0,0,0,0,1,1,1,1,1,1,1,0,1,1,1,1,1,0,0,0,1,1,1,-1,1,1,1,1,1,1,1,1,1,0,1,1,1,1,1,1,1,1,1,0,0,0,0,1,1,1,-1,-1,1,0,0,1,1,1,1,1,1,1,1,1,1,1,1,1,1,1,1,1,1,1,1,1,1,1,1,1,1,1,1,1,1,1,1,1,1,1,1\\n0,1,1,1,1,1,1,1,1,1,1,1,1,-1,-1,1,1,0,0,0,1,1,1,1,1,1,1,1,1,1,1,1,1,1,0,0,0,0,1,1,0,1,1,1,-1,1,1,1,1,1,1,1,1,1,1,1,1,1,1,1,1,1,1,1,1,1,1,1,1,-1,-1,-1,-1,0,0,0,0,0,0,1,1,1,1,1,1,1,1,1,1,1,1,0,0,0,1,0,0,1,1,-1,1,0,0,0,1,1,1,1,1,1,1,0,1,1,1,1,1,1,1,1,1,1,1,1,0,1,1,1,-1,1,1,1,1,1,1,1,1,1,1,1,1,1,1,1,1,1,1,1,1,1,1,1,1,1,1,1,1,1,1,0,1,1,1,1,1,1,1,1,1,1,1,1,1,1,0,0,0,0,0,0,0,1,-1,1,1,0,0,0,1,1,1,1,1,1,1,1,1,1,1,1,1,1,1,1,0,0,0,0,0,1,1,1,-1,1,1,1,1,1,1,1,1,1,1,1,1,1,1,1,1,1,1,1,1,0,0,0,1,-1,-1,-1,-1,1,0,0,1,1,0,1,1,1,1,1,1,1,1,1,1,1,1,1,1,1,1,1,1,1,1,1,1,1,1,1,1,1,1,1,1,1,1,1\\n1,1,1,1,1,1,1,1,1,1,1,1,1,-1,-1,1,0,0,0,1,1,1,1,1,1,1,1,1,1,1,1,1,1,0,0,0,1,1,1,1,0,1,1,1,1,1,1,1,1,1,1,1,1,1,1,1,1,1,1,1,1,1,1,1,1,1,1,1,1,-1,-1,-1,1,1,0,0,0,0,0,1,1,1,1,1,1,1,1,1,1,1,1,0,0,0,1,0,0,1,1,1,0,0,0,0,1,1,1,1,1,1,1,1,1,1,1,1,1,1,1,1,1,1,1,1,0,1,1,1,1,1,1,1,1,1,1,1,1,1,1,0,1,1,1,1,1,1,1,1,1,1,1,1,0,1,1,1,0,0,1,1,1,1,1,1,1,0,1,1,1,1,1,1,1,1,0,0,0,0,0,0,0,1,-1,1,0,0,0,1,1,1,1,1,1,1,1,1,1,1,1,1,1,1,1,1,0,0,0,0,0,1,1,1,1,1,1,1,1,1,1,0,1,1,1,1,1,1,1,1,1,1,1,1,1,0,0,0,1,-1,-1,-1,1,1,0,0,1,1,1,1,1,1,1,1,1,1,1,1,1,1,0,1,1,1,1,1,1,1,1,1,0,1,1,1,1,1,1,1,1,1,1,1\\n1,1,1,1,1,1,0,0,0,1,1,1,1,-1,1,1,0,0,0,1,1,1,1,1,1,1,1,1,1,1,1,1,1,1,0,0,0,0,0,0,0,1,1,-1,1,1,1,1,1,1,1,1,1,1,1,1,1,1,1,1,1,1,1,1,0,0,0,1,1,-1,-1,-1,1,0,0,0,0,0,0,1,1,1,1,1,1,1,1,1,1,1,1,0,0,0,0,0,0,1,1,1,0,1,1,1,1,1,1,1,1,1,1,1,1,1,1,1,1,1,1,1,1,1,1,1,0,1,1,1,1,1,1,1,1,1,1,1,1,1,1,1,1,1,1,1,1,1,1,1,1,1,1,0,0,1,1,1,0,1,1,1,1,1,1,1,1,1,1,1,1,1,1,1,1,1,0,0,0,1,1,1,1,1,1,1,0,0,1,1,1,1,1,1,1,1,1,1,1,1,1,1,1,1,1,0,0,0,0,0,0,1,1,1,1,1,1,1,1,1,1,1,1,1,1,1,1,1,1,1,1,1,1,1,1,0,0,0,1,-1,-1,-1,1,0,0,1,1,0,0,1,0,1,1,1,1,1,0,1,1,1,1,1,0,0,1,1,0,1,1,1,1,1,1,1,1,1,1,1,1,1,1,1\\n1,1,1,1,0,1,0,0,1,0,0,-1,1,1,0,0,0,0,0,1,1,1,1,1,1,1,1,1,1,1,1,1,1,1,1,0,0,0,0,1,1,1,0,0,1,1,1,1,1,1,1,1,1,1,1,1,1,1,1,1,1,1,1,0,0,0,0,-1,-1,-1,1,1,0,0,0,0,0,0,1,1,0,1,1,1,1,1,1,1,1,1,1,0,0,0,0,1,1,1,0,0,0,1,1,0,1,1,1,1,1,1,1,1,1,1,1,1,1,1,1,1,0,1,1,-1,1,1,0,0,1,1,1,1,1,1,1,1,1,0,1,1,1,1,1,1,1,1,1,1,1,1,0,1,1,1,1,0,1,1,1,1,1,1,1,1,1,1,1,1,1,1,1,1,1,1,0,0,0,1,1,-1,-1,1,0,0,0,1,1,1,1,1,1,1,1,1,1,1,1,1,1,1,1,1,1,0,0,0,1,1,1,1,0,0,1,1,1,1,0,1,0,1,1,1,1,1,1,1,1,1,1,1,1,1,1,0,0,1,-1,-1,1,1,0,0,0,0,1,1,1,1,1,1,1,1,1,1,1,1,1,1,1,1,1,1,1,1,1,1,0,1,1,1,1,1,1,1,1,1,1,1,1,1\\n1,1,1,1,1,1,0,0,0,0,1,1,1,1,1,0,1,0,1,1,1,1,1,1,1,1,1,1,1,1,1,1,1,1,1,1,1,1,-1,-1,-1,-1,-1,1,1,1,1,1,1,1,1,1,1,1,1,1,1,1,1,1,1,1,0,0,0,0,1,1,-1,-1,1,0,0,0,0,0,0,0,1,1,1,1,1,1,1,1,1,1,1,1,1,1,0,0,1,1,1,1,1,0,1,1,1,1,1,1,1,1,1,1,1,1,1,1,1,1,1,1,1,1,1,1,-1,-1,1,1,1,0,1,1,1,1,1,1,1,1,1,1,1,1,1,1,1,1,1,1,1,1,1,1,1,1,1,1,-1,1,1,1,1,1,1,1,1,1,1,1,1,1,1,1,1,1,1,1,0,0,0,0,1,1,1,1,1,0,1,1,1,1,1,1,1,0,1,1,1,1,1,1,1,1,1,1,1,0,0,0,1,1,1,1,1,1,1,1,1,1,1,1,1,1,1,1,1,1,1,1,1,1,1,1,1,1,1,1,1,1,1,1,1,0,0,0,0,1,1,1,1,1,1,1,1,1,1,1,1,1,1,1,1,1,1,1,-1,1,1,1,-1,1,1,1,1,1,1,1,1,1,1,1,1,1\\n1,1,1,1,1,1,1,0,0,0,1,1,1,1,0,0,1,1,1,1,1,1,1,1,1,1,1,1,1,1,1,1,1,1,1,1,1,1,-1,-1,-1,-1,1,1,1,1,1,1,1,1,1,1,1,1,1,1,1,1,1,1,1,1,1,0,0,0,1,1,1,1,0,0,0,0,0,0,0,1,1,1,1,1,1,1,1,1,1,1,1,1,1,1,1,1,-1,-1,-1,-1,1,1,1,1,1,1,1,1,1,1,1,1,1,1,1,1,1,1,1,1,1,1,1,1,-1,-1,-1,1,0,0,1,1,1,1,1,1,1,1,1,1,1,1,1,1,1,1,1,1,1,1,1,0,1,1,1,1,1,1,1,1,1,1,1,1,1,1,1,1,1,1,1,1,1,1,1,1,1,0,1,0,1,1,1,1,1,1,1,1,1,1,1,1,1,1,1,1,1,1,1,1,0,1,1,1,1,0,0,0,1,1,1,1,1,1,1,1,1,1,1,1,1,1,1,1,1,1,1,1,1,1,1,1,1,1,1,1,-1,1,1,1,0,0,0,0,1,1,1,1,1,1,1,1,1,1,1,1,1,1,1,1,1,1,1,1,1,1,1,1,1,1,1,1,1,1,1,1,1,1,1,1,1,1\\n1,1,1,1,1,1,1,1,0,0,1,1,0,0,0,0,1,1,1,1,1,1,1,1,1,1,1,1,1,1,1,1,1,1,1,1,1,1,-1,-1,1,1,1,1,1,1,1,0,1,1,1,1,1,1,1,1,1,1,1,1,1,1,1,0,0,0,1,1,0,0,1,0,0,0,0,0,1,1,1,1,1,1,1,1,1,1,1,1,1,1,1,1,1,1,-1,-1,1,1,1,1,1,1,1,1,1,1,1,1,1,1,1,1,1,1,1,1,1,1,1,1,1,1,-1,-1,1,0,0,0,1,1,1,1,1,1,1,1,1,1,1,1,1,0,1,1,1,1,1,1,1,0,1,1,0,1,1,1,1,1,1,1,1,1,1,1,1,1,1,1,1,1,1,0,1,1,1,1,1,1,-1,-1,1,1,1,1,1,0,1,1,1,1,1,1,1,1,1,1,1,1,1,1,1,1,1,0,0,0,1,1,0,0,1,1,1,1,1,1,1,1,1,1,1,1,1,1,1,1,1,1,1,1,1,1,1,1,-1,-1,1,1,1,1,1,1,1,1,1,1,1,1,1,1,1,1,1,1,1,1,1,1,1,1,1,0,1,-1,0,1,1,1,1,1,1,1,1,1,1,1,1,1,1,1\\n1,1,1,1,1,1,1,1,1,-1,-1,-1,1,1,1,1,1,1,1,1,1,1,1,1,1,1,1,1,1,1,1,1,1,1,1,1,1,-1,-1,-1,1,1,1,1,1,1,1,1,1,1,1,1,1,1,1,1,1,1,1,1,1,1,1,1,0,1,1,1,0,0,0,0,0,0,1,1,1,1,1,1,1,1,1,1,1,1,1,1,1,1,1,1,1,-1,-1,-1,1,1,1,1,1,1,1,1,1,1,1,1,1,1,1,1,1,1,1,1,1,1,1,1,1,-1,-1,-1,1,0,0,0,1,1,1,1,1,1,1,1,1,0,1,1,1,1,1,1,1,1,1,1,1,1,1,1,0,1,1,1,1,1,1,1,1,1,1,1,1,1,1,1,1,1,1,1,1,1,1,1,1,-1,-1,-1,1,1,0,1,1,1,1,1,1,1,1,1,1,1,1,1,1,1,1,1,1,1,1,0,0,1,1,1,1,1,1,1,1,1,1,1,0,1,1,0,1,1,1,1,1,1,1,1,1,1,1,1,1,-1,-1,-1,1,1,1,1,1,1,1,1,1,1,1,1,1,1,1,1,1,1,1,1,1,1,1,1,0,1,1,1,1,1,1,1,1,1,1,1,1,1,1,1,1,1,1,1\\n1,1,1,1,1,1,0,1,-1,-1,-1,1,1,1,1,1,1,1,1,1,1,1,1,1,1,1,1,1,1,1,1,1,1,1,1,1,-1,-1,-1,0,1,1,1,1,1,1,1,1,1,1,1,1,1,1,1,1,1,1,1,1,1,1,1,1,-1,-1,-1,1,1,1,1,1,1,1,1,1,1,1,1,1,1,1,1,1,1,1,1,1,1,1,1,1,-1,-1,-1,1,0,1,1,1,1,1,1,1,1,1,1,1,1,1,1,1,1,1,1,1,1,1,1,1,-1,-1,-1,1,1,1,1,1,1,1,1,1,1,1,1,1,1,1,1,1,1,1,1,1,1,1,1,0,1,1,1,0,1,1,1,1,1,1,1,1,1,1,1,1,1,1,1,1,1,1,1,1,1,1,1,1,-1,-1,-1,1,1,1,1,1,1,1,1,1,1,1,1,1,1,1,1,1,1,1,1,1,1,1,1,1,-1,-1,-1,1,1,1,1,1,1,1,1,1,1,1,1,1,1,1,1,1,1,1,1,1,1,1,1,1,-1,-1,-1,1,1,1,1,1,1,1,1,1,1,1,1,1,1,1,1,1,1,1,1,1,1,1,1,1,1,1,1,0,1,1,1,1,1,1,1,1,1,1,1,1,1,1,1,1\\n1,1,1,1,1,1,1,1,-1,-1,1,1,1,1,1,1,1,1,1,1,1,1,1,1,1,1,1,1,1,1,1,1,1,1,1,1,-1,-1,1,1,1,1,1,1,1,1,1,1,1,1,1,1,1,1,1,1,1,1,1,1,1,1,1,1,-1,-1,1,1,1,1,1,1,1,1,1,1,1,1,1,1,1,1,1,1,1,1,1,1,1,1,1,1,-1,-1,1,1,1,1,1,1,1,1,1,1,1,1,1,1,1,1,1,1,1,1,1,1,1,1,1,1,-1,-1,1,1,1,1,1,1,1,1,1,1,1,1,1,1,1,1,1,1,1,1,1,1,1,1,1,1,1,1,0,1,1,1,1,0,1,1,1,1,1,1,1,1,1,1,1,1,1,1,1,1,1,1,1,1,-1,-1,1,1,1,1,1,1,1,1,1,1,1,1,1,1,1,1,1,1,1,1,1,1,1,1,0,1,-1,-1,1,1,1,1,1,1,1,1,1,1,1,1,1,1,1,1,1,1,1,1,1,1,1,1,1,1,-1,-1,1,1,1,1,1,1,1,1,1,1,1,1,1,1,1,1,1,1,1,1,1,1,1,1,1,0,1,1,0,1,1,1,1,1,1,1,1,1,1,1,1,1,1,1,1,1\\n1,1,1,1,1,1,1,1,1,1,1,1,1,1,1,1,0,0,1,1,1,1,1,0,1,1,1,1,1,1,1,1,1,1,1,1,1,1,1,1,1,1,1,1,1,1,1,1,1,1,1,1,1,1,1,1,1,1,1,1,1,1,1,1,1,1,1,1,1,1,1,1,1,1,1,1,1,1,1,1,1,1,1,1,1,1,1,1,1,1,1,1,1,1,1,1,1,1,1,1,1,1,1,1,1,1,1,1,1,1,0,1,1,1,1,1,1,1,1,1,1,1,1,1,1,1,1,1,1,1,1,1,1,1,1,1,1,1,1,1,1,1,1,1,1,1,1,1,1,1,1,1,1,1,1,1,1,0,1,1,1,1,1,1,1,1,1,1,1,1,1,1,1,1,1,1,1,1,1,1,1,1,1,1,1,1,1,1,1,1,1,1,1,1,1,1,1,1,1,1,1,1,1,1,1,1,1,1,1,1,1,1,1,1,1,1,1,1,1,1,1,1,1,1,1,1,1,1,1,1,1,1,1,1,1,1,1,1,1,1,1,1,1,1,1,1,1,1,1,1,1,1,1,1,1,1,1,1,1,1,1,1,1,1,1,1,1,1,1,1,1,1,1,1,1,1,1,1,1,1\\n'"
      ]
     },
     "execution_count": 272,
     "metadata": {},
     "output_type": "execute_result"
    }
   ],
   "source": [
    "output_str # X in {0,1}"
   ]
  },
  {
   "cell_type": "code",
   "execution_count": 271,
   "metadata": {
    "collapsed": false
   },
   "outputs": [
    {
     "data": {
      "text/plain": [
       "<function TextIOWrapper.close>"
      ]
     },
     "execution_count": 271,
     "metadata": {},
     "output_type": "execute_result"
    }
   ],
   "source": [
    "f= open(\"output.txt\",\"w+\")\n",
    "f.write(output_str)\n",
    "f.close()"
   ]
  },
  {
   "cell_type": "code",
   "execution_count": 190,
   "metadata": {
    "collapsed": true
   },
   "outputs": [],
   "source": [
    "im = copy.deepcopy(im_of_20_map[0,:,:])\n",
    "out_im = copy.deepcopy(im_of_20_map[0,:,:])\n",
    "im[:,:] = np.where(im[:,:] < 0.5 ,0,1)"
   ]
  },
  {
   "cell_type": "code",
   "execution_count": 191,
   "metadata": {
    "collapsed": true
   },
   "outputs": [],
   "source": [
    "theta_1 = 0.8\n",
    "theta_2 = 2\n",
    "im_temp =  copy.deepcopy(initial_df)\n",
    "im_temp_pr =  copy.deepcopy(initial_df)"
   ]
  },
  {
   "cell_type": "code",
   "execution_count": 192,
   "metadata": {
    "collapsed": true
   },
   "outputs": [],
   "source": [
    "for k in range(5):\n",
    "    for i in range(28):\n",
    "        for j in range(28):\n",
    "            EQ_P = 0.0\n",
    "            EQ_Q = 0\n",
    "            if (i >= 1): \n",
    "                    EQ_P += theta_1 * (2 * im_temp_pr[i-1,j]-1) + theta_2 * im[i-1,j]\n",
    "            if (i < 27): \n",
    "                    EQ_P += theta_1 * (2 * im_temp_pr[i+1,j]-1) + theta_2 * im[i+1,j]\n",
    "            if (j >= 1): \n",
    "                    EQ_P += theta_1 * (2 * im_temp_pr[i,j-1]-1) + theta_2 * im[i,j-1]\n",
    "            if (j <27):\n",
    "                    EQ_P += theta_1 * (2 * im_temp_pr[i,j+1]-1) + theta_2 * im[i,j+1]\n",
    "            im_temp[i,j] = np.exp(EQ_P) / (np.exp(EQ_P)+np.exp(-EQ_P))\n",
    "    im_temp_pr  =  copy.deepcopy(im_temp)\n",
    "\n",
    "        \n",
    "#here is to loop over x y and get the pi[i] as in book page 263"
   ]
  },
  {
   "cell_type": "code",
   "execution_count": 186,
   "metadata": {
    "collapsed": false
   },
   "outputs": [
    {
     "data": {
      "text/plain": [
       "array([[ 0.12740902,  0.99063091,  0.99858948,  0.99182831,  0.99976283,\n",
       "         0.99155932,  0.46782802,  0.99132822,  0.30278311,  0.99132805,\n",
       "         0.98327455,  0.99132804,  0.99115738,  0.99132592,  0.96408582,\n",
       "         0.99073241,  0.91147881,  0.82476324,  0.98438455,  0.01156283,\n",
       "         0.9911696 ,  0.00867552,  0.89432032,  0.00867214,  0.01724408,\n",
       "         0.0086989 ,  0.01588492,  0.04168815],\n",
       "       [ 0.9903739 ,  0.12468828,  0.99832164,  0.99996081,  0.99832191,\n",
       "         0.99004707,  0.99826629,  0.48314053,  0.99826624,  0.9799555 ,\n",
       "         0.99826624,  0.99825626,  0.99826624,  0.99819381,  0.99826561,\n",
       "         0.98901391,  0.9976319 ,  0.99531537,  0.39392031,  0.99825525,\n",
       "         0.00238908,  0.99806205,  0.00175688,  0.56400352,  0.00173688,\n",
       "         0.02137973,  0.00180422,  0.21750624],\n",
       "       [ 0.02314021,  0.99826583,  0.95382564,  0.99831386,  0.99828668,\n",
       "         0.99830467,  0.99235503,  0.99830466,  0.98815466,  0.99830466,\n",
       "         0.9982915 ,  0.99830466,  0.99830463,  0.99830471,  0.99824013,\n",
       "         0.99830453,  0.99743899,  0.99993458,  0.99831739,  0.44391019,\n",
       "         0.99830446,  0.02273248,  0.99732144,  0.00275154,  0.86900847,\n",
       "         0.00233884,  0.89721588,  0.02259448],\n",
       "       [ 0.99132732,  0.68111199,  0.99830467,  0.99805707,  0.99830488,\n",
       "         0.9983001 ,  0.99830487,  0.99802802,  0.99830492,  0.99829519,\n",
       "         0.99830492,  0.99830501,  0.99831391,  0.99831388,  0.99831401,\n",
       "         0.99829974,  0.99996907,  0.99834061,  0.99994659,  0.99832285,\n",
       "         0.92831284,  0.99831332,  0.40273727,  0.99750902,  0.0756386 ,\n",
       "         0.99549436,  0.12395109,  0.98833322],\n",
       "       [ 0.906296  ,  0.99826624,  0.99791464,  0.99830488,  0.99830438,\n",
       "         0.99830492,  0.99830338,  0.99830502,  0.99831164,  0.99831396,\n",
       "         0.998314  ,  0.99832302,  0.99996924,  0.9999694 ,  0.9999694 ,\n",
       "         0.9999694 ,  0.99996956,  0.99999944,  0.99996956,  0.99996788,\n",
       "         0.9999694 ,  0.999926  ,  0.99996939,  0.99948509,  0.99827287,\n",
       "         0.96563513,  0.99826804,  0.9229467 ],\n",
       "       [ 0.9913281 ,  0.99809918,  0.99831366,  0.99830451,  0.99830502,\n",
       "         0.99831386,  0.99830517,  0.99832291,  0.99996924,  0.9999694 ,\n",
       "         0.9999694 ,  0.99999944,  0.99999944,  0.99999999,  0.99999999,\n",
       "         0.99999999,  0.99999999,  0.99999999,  0.99999999,  0.99999999,\n",
       "         0.99999999,  0.99999999,  0.99999999,  0.99999944,  0.99996602,\n",
       "         0.99833138,  0.99996593,  0.99160371],\n",
       "       [ 0.99112841,  0.9982848 ,  0.9999689 ,  0.9983229 ,  0.9983229 ,\n",
       "         0.99996891,  0.99833202,  0.99999944,  0.99999944,  0.99999999,\n",
       "         0.99999999,  0.99999999,  1.        ,  1.        ,  1.        ,\n",
       "         1.        ,  1.        ,  1.        ,  1.        ,  1.        ,\n",
       "         1.        ,  1.        ,  1.        ,  0.99999944,  0.9999694 ,\n",
       "         0.99996906,  0.99833985,  0.99983947],\n",
       "       [ 0.99137484,  0.99996749,  0.99834054,  0.99996907,  0.99996907,\n",
       "         0.9983407 ,  0.99999944,  0.99999944,  1.        ,  1.        ,\n",
       "         1.        ,  1.        ,  1.        ,  1.        ,  1.        ,\n",
       "         1.        ,  1.        ,  1.        ,  0.99999999,  0.99999999,\n",
       "         0.99999999,  0.99999999,  0.99999944,  0.99999944,  0.998323  ,\n",
       "         0.9983229 ,  0.99996812,  0.99160478],\n",
       "       [ 0.97070833,  0.9982848 ,  0.99996814,  0.9983229 ,  0.9983229 ,\n",
       "         0.99996907,  0.9999694 ,  0.99999944,  1.        ,  1.        ,\n",
       "         1.        ,  1.        ,  1.        ,  1.        ,  1.        ,\n",
       "         0.99999999,  1.        ,  0.99999999,  0.99999944,  0.9999694 ,\n",
       "         0.9999694 ,  0.9999694 ,  0.9999694 ,  0.99832296,  0.99830507,\n",
       "         0.99821187,  0.99827569,  0.9847779 ],\n",
       "       [ 0.9913281 ,  0.94045248,  0.99831366,  0.99828178,  0.99830502,\n",
       "         0.99831396,  0.99832302,  0.99999944,  0.99999944,  1.        ,\n",
       "         1.        ,  1.        ,  1.        ,  1.        ,  0.99999944,\n",
       "         0.99999999,  0.99999944,  0.99999944,  0.99996924,  0.99832286,\n",
       "         0.99831416,  0.99833175,  0.99996907,  0.9983229 ,  0.99811074,\n",
       "         0.99830467,  0.94755909,  0.99132826],\n",
       "       [ 0.12191777,  0.99826624,  0.9359405 ,  0.99830488,  0.99830153,\n",
       "         0.99830493,  0.99830507,  0.99832313,  0.99999944,  0.99999944,\n",
       "         0.99999999,  1.        ,  1.        ,  0.99999999,  0.99999999,\n",
       "         0.99834087,  0.99996924,  0.99996924,  0.99832281,  0.99830512,\n",
       "         0.99831391,  0.99996891,  0.99834054,  0.99996697,  0.99831386,\n",
       "         0.62501015,  0.99826624,  0.14110581],\n",
       "       [ 0.99132805,  0.02526877,  0.99830466,  0.98980628,  0.99830488,\n",
       "         0.99830459,  0.99830493,  0.99830507,  0.99832297,  0.99996924,\n",
       "         0.99999944,  0.99999999,  1.        ,  1.        ,  0.99999944,\n",
       "         0.99996924,  0.9983318 ,  0.99832295,  0.99830517,  0.99830488,\n",
       "         0.99830502,  0.9983228 ,  0.99996881,  0.9983228 ,  0.96118776,\n",
       "         0.99830466,  0.00324268,  0.9913273 ],\n",
       "       [ 0.00874033,  0.99826624,  0.1455823 ,  0.99830487,  0.99672592,\n",
       "         0.99830502,  0.99831381,  0.99830502,  0.99830506,  0.99832281,\n",
       "         0.99996924,  0.99999944,  1.        ,  1.        ,  0.99999999,\n",
       "         0.99999944,  0.9999694 ,  0.99996924,  0.99832297,  0.99830507,\n",
       "         0.99830488,  0.99830495,  0.99831386,  0.99794102,  0.99830492,\n",
       "         0.09665619,  0.99826602,  0.00874548],\n",
       "       [ 0.9913253 ,  0.00178791,  0.99830465,  0.3645856 ,  0.99830502,\n",
       "         0.99797574,  0.99996891,  0.99832277,  0.99830502,  0.99830483,\n",
       "         0.99832297,  0.99999944,  0.99999944,  1.        ,  1.        ,\n",
       "         0.99999999,  0.99999999,  0.99999944,  0.99999944,  0.99832313,\n",
       "         0.99830507,  0.99830488,  0.99830348,  0.99830502,  0.97966734,\n",
       "         0.9983047 ,  0.00437104,  0.99107238],\n",
       "       [ 0.0086721 ,  0.99826379,  0.00188116,  0.99830415,  0.50690928,\n",
       "         0.99996891,  0.99831954,  0.99996891,  0.99816983,  0.99830493,\n",
       "         0.99830442,  0.99832313,  0.99999944,  0.99999944,  1.        ,\n",
       "         1.        ,  1.        ,  1.        ,  0.99999944,  0.99999944,\n",
       "         0.99832297,  0.99830502,  0.99830502,  0.99832112,  0.99996891,\n",
       "         0.7172257 ,  0.99799672,  0.0091918 ],\n",
       "       [ 0.98714294,  0.00173378,  0.99807929,  0.00209193,  0.99829481,\n",
       "         0.53969003,  0.99996891,  0.96493306,  0.99830502,  0.99755193,\n",
       "         0.99830488,  0.99830445,  0.99832313,  0.99999944,  0.99999944,\n",
       "         1.        ,  1.        ,  1.        ,  1.        ,  0.99999944,\n",
       "         0.99996924,  0.99831401,  0.99831401,  0.99996907,  0.99832986,\n",
       "         0.99994806,  0.0487425 ,  0.88027749],\n",
       "       [ 0.00867195,  0.94546991,  0.00169537,  0.98650657,  0.00199079,\n",
       "         0.9982865 ,  0.04938433,  0.99830502,  0.47544656,  0.99830488,\n",
       "         0.99770561,  0.99830488,  0.99830492,  0.99832323,  0.99999944,\n",
       "         0.99999944,  0.99999999,  1.        ,  1.        ,  0.99999999,\n",
       "         0.99999944,  0.99832311,  0.99832295,  0.99996924,  0.99995419,\n",
       "         0.95953722,  0.52179519,  0.01001737],\n",
       "       [ 0.14589408,  0.00173376,  0.13338441,  0.00169642,  0.96636281,\n",
       "         0.00174882,  0.99829534,  0.00224079,  0.99830487,  0.9269544 ,\n",
       "         0.99830493,  0.99827566,  0.99831396,  0.99832311,  0.9999694 ,\n",
       "         0.99999944,  0.99999999,  0.99999999,  1.        ,  1.        ,\n",
       "         0.99999944,  0.9999694 ,  0.99996907,  0.99833927,  0.99996345,\n",
       "         0.52333054,  0.0451043 ,  0.01535268],\n",
       "       [ 0.00867218,  0.00217327,  0.00170291,  0.04917317,  0.00199256,\n",
       "         0.99498355,  0.00234035,  0.99830432,  0.22418935,  0.99830502,\n",
       "         0.99742422,  0.99832302,  0.99996924,  0.99999944,  0.99999944,\n",
       "         0.99999999,  0.99999999,  1.        ,  1.        ,  1.        ,\n",
       "         0.99999999,  0.9999694 ,  0.99833172,  0.99996886,  0.97221374,\n",
       "         0.95404333,  0.00282345,  0.01064399],\n",
       "       [ 0.01269719,  0.00174848,  0.00235383,  0.01293868,  0.86356116,\n",
       "         0.05563381,  0.99825277,  0.34454525,  0.99831396,  0.99379556,\n",
       "         0.99996924,  0.99999944,  0.99999944,  0.99999999,  1.        ,\n",
       "         1.        ,  1.        ,  1.        ,  1.        ,  0.99999999,\n",
       "         0.99999944,  0.99996924,  0.99831402,  0.99814089,  0.99807071,\n",
       "         0.08619809,  0.33818534,  0.00869903],\n",
       "       [ 0.00980422,  0.06147109,  0.07624695,  0.490286  ,  0.87250001,\n",
       "         0.99762629,  0.96551888,  0.99832291,  0.99991937,  0.99999944,\n",
       "         0.99999944,  0.99999999,  1.        ,  1.        ,  1.        ,\n",
       "         1.        ,  1.        ,  0.99999999,  0.99999944,  0.99999944,\n",
       "         0.99996919,  0.99832281,  0.99830396,  0.99830434,  0.97082677,\n",
       "         0.995847  ,  0.00281058,  0.66121044],\n",
       "       [ 0.85010509,  0.17274267,  0.96093229,  0.97975992,  0.99757226,\n",
       "         0.99811692,  0.99996923,  0.99999941,  0.99999944,  0.99999999,\n",
       "         1.        ,  1.        ,  1.        ,  1.        ,  1.        ,\n",
       "         1.        ,  0.99999944,  0.99999943,  0.99996924,  0.9979753 ,\n",
       "         0.99831396,  0.99806418,  0.99830488,  0.99801776,  0.99830324,\n",
       "         0.07684771,  0.99533778,  0.00878205],\n",
       "       [ 0.74617139,  0.99782395,  0.99077284,  0.99996737,  0.99996937,\n",
       "         0.99999944,  0.99999944,  0.99999999,  1.        ,  1.        ,\n",
       "         1.        ,  1.        ,  1.        ,  1.        ,  0.99999999,\n",
       "         0.99999944,  0.99999942,  0.99832318,  0.97588367,  0.99830502,\n",
       "         0.95247853,  0.99830488,  0.96126204,  0.99830487,  0.57079066,\n",
       "         0.99830285,  0.00231672,  0.989193  ],\n",
       "       [ 0.99116166,  0.99674904,  0.99996903,  0.99996956,  0.99999999,\n",
       "         0.99999944,  1.        ,  1.        ,  1.        ,  1.        ,\n",
       "         1.        ,  1.        ,  0.99999999,  0.99999944,  0.99999944,\n",
       "         0.99996887,  0.99832297,  0.89487735,  0.99830493,  0.07313761,\n",
       "         0.99830488,  0.05039515,  0.99830487,  0.05377053,  0.99830439,\n",
       "         0.00263482,  0.99826443,  0.00868052],\n",
       "       [ 0.99025967,  0.99825138,  0.9983224 ,  0.99999938,  0.99996957,\n",
       "         0.99999999,  0.99999944,  0.99999999,  0.99999999,  0.99999999,\n",
       "         0.99999999,  0.99999944,  0.99999999,  0.9999694 ,  0.99832245,\n",
       "         0.99831396,  0.9899451 ,  0.99830488,  0.01476747,  0.99830487,\n",
       "         0.00193108,  0.99830487,  0.00219697,  0.99830108,  0.00200469,\n",
       "         0.99825473,  0.00173494,  0.991212  ],\n",
       "       [ 0.98955699,  0.9982649 ,  0.98774962,  0.99832276,  0.99982692,\n",
       "         0.99833166,  0.99996891,  0.99996939,  0.9999694 ,  0.99996956,\n",
       "         0.9999694 ,  0.99999944,  0.99834086,  0.99996907,  0.99831375,\n",
       "         0.99822117,  0.99830467,  0.39531503,  0.99830466,  0.00171282,\n",
       "         0.99830465,  0.00169814,  0.99829702,  0.00170265,  0.99672413,\n",
       "         0.00169611,  0.9971595 ,  0.00869924],\n",
       "       [ 0.99036972,  0.91583422,  0.99826582,  0.40655433,  0.99827544,\n",
       "         0.97882382,  0.99827553,  0.99825484,  0.99833086,  0.99996842,\n",
       "         0.99833091,  0.99828658,  0.9999682 ,  0.9982848 ,  0.99826614,\n",
       "         0.99826624,  0.98773136,  0.99826624,  0.00772998,  0.99826622,\n",
       "         0.00173458,  0.99825572,  0.00173383,  0.99430582,  0.00173385,\n",
       "         0.91419155,  0.00178401,  0.95320062],\n",
       "       [ 0.75004036,  0.99037279,  0.10495857,  0.99132733,  0.2898479 ,\n",
       "         0.99132824,  0.9790765 ,  0.99155957,  0.99983918,  0.99182833,\n",
       "         0.99984021,  0.99156107,  0.99138117,  0.99132979,  0.99132811,\n",
       "         0.99067855,  0.99132805,  0.45607194,  0.99132795,  0.01005495,\n",
       "         0.99129769,  0.0086739 ,  0.98483687,  0.00867206,  0.66189949,\n",
       "         0.00869916,  0.53698288,  0.04155834]])"
      ]
     },
     "execution_count": 186,
     "metadata": {},
     "output_type": "execute_result"
    }
   ],
   "source": [
    "im_temp"
   ]
  },
  {
   "cell_type": "code",
   "execution_count": 85,
   "metadata": {
    "collapsed": false
   },
   "outputs": [
    {
     "data": {
      "text/plain": [
       "625.76477275558659"
      ]
     },
     "execution_count": 85,
     "metadata": {},
     "output_type": "execute_result"
    }
   ],
   "source": [
    "np.sum(im_temp)"
   ]
  },
  {
   "cell_type": "code",
   "execution_count": 28,
   "metadata": {
    "collapsed": true
   },
   "outputs": [],
   "source": [
    "im_temp_out = np.zeros((28,28))"
   ]
  },
  {
   "cell_type": "code",
   "execution_count": 193,
   "metadata": {
    "collapsed": true
   },
   "outputs": [],
   "source": [
    "im_temp_out[:,:] = np.where(im_temp[:,:] < 0.5 ,0,1)"
   ]
  },
  {
   "cell_type": "code",
   "execution_count": 194,
   "metadata": {
    "collapsed": false
   },
   "outputs": [
    {
     "data": {
      "image/png": "[encoded data removed]",
      "text/plain": [
       "<matplotlib.figure.Figure at 0x2978387d588>"
      ]
     },
     "metadata": {},
     "output_type": "display_data"
    }
   ],
   "source": [
    "plt.imshow(im_temp.astype(np.float64),cmap='gray')\n",
    "plt.show() #????????????????????????????????????"
   ]
  },
  {
   "cell_type": "code",
   "execution_count": null,
   "metadata": {
    "collapsed": true
   },
   "outputs": [],
   "source": []
  }
 ],
 "metadata": {
  "kernelspec": {
   "display_name": "Python 3",
   "language": "python",
   "name": "python3"
  },
  "language_info": {
   "codemirror_mode": {
    "name": "ipython",
    "version": 3
   },
   "file_extension": ".py",
   "mimetype": "text/x-python",
   "name": "python",
   "nbconvert_exporter": "python",
   "pygments_lexer": "ipython3",
   "version": "3.6.0"
  }
 },
 "nbformat": 4,
 "nbformat_minor": 2
}

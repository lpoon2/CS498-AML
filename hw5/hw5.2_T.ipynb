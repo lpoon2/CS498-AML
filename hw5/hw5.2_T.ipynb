{
 "cells": [
  {
   "cell_type": "code",
   "execution_count": 1,
   "metadata": {
    "collapsed": true
   },
   "outputs": [],
   "source": [
    "import numpy as np\n",
    "import os\n",
    "import pandas as pd\n",
    "import csv\n",
    "from matplotlib import pyplot as plt\n",
    "import matplotlib.pyplot as pyplot\n",
    "import PIL.Image as Image\n",
    "from PIL import ImageOps\n",
    "import glob\n",
    "import math"
   ]
  },
  {
   "cell_type": "code",
   "execution_count": 2,
   "metadata": {
    "collapsed": true
   },
   "outputs": [],
   "source": [
    "df = pd.read_table(\"data7_10.txt\")"
   ]
  },
  {
   "cell_type": "code",
   "execution_count": 3,
   "metadata": {
    "collapsed": false
   },
   "outputs": [
    {
     "name": "stdout",
     "output_type": "stream",
     "text": [
      "    Mass  Fore  Bicep  Chest  Neck  Shoulder  Waist  Height  Calf  Thigh  Head\n",
      "0   77.0  28.5   33.5  100.0  38.5     114.0   85.0   178.0  37.5   53.0  58.0\n",
      "1   85.5  29.5   36.5  107.0  39.0     119.0   90.5   187.0  40.0   52.0  59.0\n",
      "2   63.0  25.0   31.0   94.0  36.5     102.0   80.5   175.0  33.0   49.0  57.0\n",
      "3   80.5  28.5   34.0  104.0  39.0     114.0   91.5   183.0  38.0   50.0  60.0\n",
      "4   79.5  28.5   36.5  107.0  39.0     114.0   92.0   174.0  40.0   53.0  59.0\n",
      "5   94.0  30.5   38.0  112.0  39.0     121.0  101.0   180.0  39.5   57.5  59.0\n",
      "6   66.0  26.5   29.0   93.0  35.0     105.0   76.0   177.5  38.5   50.0  58.5\n",
      "7   69.0  27.0   31.0   95.0  37.0     108.0   84.0   182.5  36.0   49.0  60.0\n",
      "8   65.0  26.5   29.0   93.0  35.0     112.0   74.0   178.5  34.0   47.0  55.5\n",
      "9   58.0  26.5   31.0   96.0  35.0     103.0   76.0   168.5  35.0   46.0  58.0\n",
      "10  69.5  28.5   37.0  109.5  39.0     118.0   80.0   170.0  38.0   50.0  58.5\n",
      "11  73.0  27.5   33.0  102.0  38.5     113.0   86.0   180.0  36.0   49.0  59.0\n",
      "12  74.0  29.5   36.0  101.0  38.5     115.5   82.0   186.5  38.0   49.0  60.0\n",
      "13  68.0  25.0   30.0   98.5  37.0     108.0   82.0   188.0  37.0   49.5  57.0\n",
      "14  80.0  29.5   36.0  103.0  40.0     117.0   95.5   173.0  37.0   52.5  58.0\n",
      "15  66.0  26.5   32.5   89.0  35.0     104.5   81.0   171.0  38.0   48.0  56.5\n",
      "16  54.5  24.0   30.0   92.5  35.5     102.0   76.0   169.0  32.0   42.0  57.0\n",
      "17  64.0  25.5   28.5   87.5  35.0     109.0   84.0   181.0  35.5   42.0  58.0\n",
      "18  84.0  30.0   34.5   99.0  40.5     119.0   88.0   188.0  39.0   50.5  56.0\n",
      "19  73.0  28.0   34.5   97.0  37.0     104.0   82.0   173.0  38.0   49.0  58.0\n",
      "20  89.0  29.0   35.5  106.0  39.0     118.0   96.0   179.0  39.5   51.0  58.5\n",
      "21  94.0  31.0   33.5  106.0  39.0     120.0   99.5   184.0  42.0   55.0  57.0\n"
     ]
    }
   ],
   "source": [
    "print(df)"
   ]
  },
  {
   "cell_type": "code",
   "execution_count": 7,
   "metadata": {
    "collapsed": false
   },
   "outputs": [
    {
     "data": {
      "image/png": "[encoded data removed]",
      "text/plain": [
       "<matplotlib.figure.Figure at 0x134248ec6d8>"
      ]
     },
     "metadata": {},
     "output_type": "display_data"
    }
   ],
   "source": [
    "from sklearn import linear_model\n",
    "from sklearn.model_selection import train_test_split\n",
    "df = pd.read_table(\"data7_10.txt\")\n",
    "y=df['Mass']\n",
    "\n",
    "df = df.drop(['Mass'],axis=1)\n",
    "\n",
    "x=df\n",
    "\n",
    "#x,_,y,_ = train_test_split(x,y,test_size=0.0)\n",
    "\n",
    "reg = linear_model.LinearRegression()\n",
    "\n",
    "reg.fit(x,y)\n",
    "x_r = reg.predict(x)\n",
    "y_r = y- reg.predict(x)\n",
    "\n",
    "plt.scatter(x_r ,y_r ,color ='green')\n",
    "plt.hlines(y = 0, xmin = 50, xmax = 100)\n",
    "plt.title('Residual Plot against fitted values')\n",
    "plt.xlabel('fitted values')\n",
    "plt.ylabel('residuals')\n",
    "plt.show() \n",
    "\n",
    "r_square = np.var(reg.predict(x)) / np.var(y)"
   ]
  },
  {
   "cell_type": "code",
   "execution_count": 5,
   "metadata": {
    "collapsed": false
   },
   "outputs": [
    {
     "data": {
      "text/plain": [
       "0.97721066174132543"
      ]
     },
     "execution_count": 5,
     "metadata": {},
     "output_type": "execute_result"
    }
   ],
   "source": [
    "r_square"
   ]
  },
  {
   "cell_type": "code",
   "execution_count": 66,
   "metadata": {
    "collapsed": false
   },
   "outputs": [
    {
     "data": {
      "text/plain": [
       "0.976473058722882"
      ]
     },
     "execution_count": 66,
     "metadata": {},
     "output_type": "execute_result"
    }
   ],
   "source": [
    "r_square"
   ]
  },
  {
   "cell_type": "code",
   "execution_count": 12,
   "metadata": {
    "collapsed": false
   },
   "outputs": [
    {
     "data": {
      "image/png": "[encoded data removed]",
      "text/plain": [
       "<matplotlib.figure.Figure at 0x13429c0d9b0>"
      ]
     },
     "metadata": {},
     "output_type": "display_data"
    }
   ],
   "source": [
    "df = pd.read_table(\"data7_10.txt\")\n",
    "y= np.cbrt(df['Mass'])\n",
    "df = df.drop(['Mass'],axis=1)\n",
    "df.columns = range(df.shape[1]) #removing header\n",
    "x = df \n",
    "reg = linear_model.LinearRegression()\n",
    "#x = np.power(x, (1/3.0))\n",
    "y = np.power(y, (1/3.0))\n",
    "\n",
    "reg.fit(x,y)\n",
    "x_r = reg.predict(x)\n",
    "y_r = y - reg.predict(x)\n",
    "plt.scatter(x_r ,y_r ,color ='green')\n",
    "plt.hlines(y = 0, xmin = min(x_r)-0.01, xmax = max(x_r)+0.01)\n",
    "plt.title('Residual Plot against original data')\n",
    "plt.xlabel('cube root of data')\n",
    "plt.ylabel('residuals')\n",
    "plt.show()  \n",
    "r_square = np.var(x_r) / np.var(y)"
   ]
  },
  {
   "cell_type": "code",
   "execution_count": 13,
   "metadata": {
    "collapsed": false
   },
   "outputs": [
    {
     "data": {
      "image/png": "[encoded data removed]",
      "text/plain": [
       "<matplotlib.figure.Figure at 0x13429a96860>"
      ]
     },
     "metadata": {},
     "output_type": "display_data"
    }
   ],
   "source": [
    "from sklearn import linear_model\n",
    "from sklearn.model_selection import train_test_split\n",
    "df = pd.read_table(\"data7_10.txt\")\n",
    "y_o = np.asarray(df['Mass'])\n",
    "y= np.cbrt(df['Mass'])\n",
    "df = df.drop(['Mass'],axis=1)\n",
    "df.columns = range(df.shape[1]) #removing header\n",
    "x = df \n",
    "reg = linear_model.LinearRegression()\n",
    "#x = np.power(x, (1/3.0))\n",
    "y = np.power(y, (1/3.0))\n",
    "\n",
    "reg.fit(x,y)\n",
    "x_r = np.power(reg.predict(x), 3)\n",
    "y_r = y_o  - np.power(reg.predict(x), 3.0)\n",
    "\n",
    "plt.scatter(x_r ,y_r ,color ='green')\n",
    "plt.hlines(y = 0, xmin = min(x_r)-0.01, xmax = max(x_r)+0.01)\n",
    "plt.title('Residual Plot againt cube root of fitted data')\n",
    "plt.xlabel('cube root of data')\n",
    "plt.ylabel('residuals')\n",
    "plt.show()  \n",
    "r_square = np.var(x_r) / np.var(y)"
   ]
  },
  {
   "cell_type": "code",
   "execution_count": 14,
   "metadata": {
    "collapsed": false
   },
   "outputs": [
    {
     "data": {
      "text/plain": [
       "array([ 1.61716731,  1.63851115,  1.58395217,  1.6247102 ,  1.62802284,\n",
       "        1.65790061,  1.59109011,  1.6021407 ,  1.58443624,  1.57651471,\n",
       "        1.6040527 ,  1.60819668,  1.61781985,  1.60241753,  1.63191402,\n",
       "        1.59485433,  1.5601808 ,  1.58885482,  1.63703794,  1.60292022,\n",
       "        1.63660574,  1.66111817])"
      ]
     },
     "execution_count": 14,
     "metadata": {},
     "output_type": "execute_result"
    }
   ],
   "source": [
    "reg.predict(x)"
   ]
  },
  {
   "cell_type": "code",
   "execution_count": 68,
   "metadata": {
    "collapsed": false
   },
   "outputs": [
    {
     "data": {
      "text/plain": [
       "0.9749728597801842"
      ]
     },
     "execution_count": 68,
     "metadata": {},
     "output_type": "execute_result"
    }
   ],
   "source": [
    "r_square"
   ]
  },
  {
   "cell_type": "markdown",
   "metadata": {},
   "source": [
    "Both residual plots has a good random pattern..."
   ]
  }
 ],
 "metadata": {
  "kernelspec": {
   "display_name": "Python 3",
   "language": "python",
   "name": "python3"
  },
  "language_info": {
   "codemirror_mode": {
    "name": "ipython",
    "version": 3
   },
   "file_extension": ".py",
   "mimetype": "text/x-python",
   "name": "python",
   "nbconvert_exporter": "python",
   "pygments_lexer": "ipython3",
   "version": "3.6.0"
  }
 },
 "nbformat": 4,
 "nbformat_minor": 2
}

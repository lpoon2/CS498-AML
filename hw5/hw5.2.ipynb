{
 "cells": [
  {
   "cell_type": "code",
   "execution_count": 65,
   "metadata": {
    "collapsed": true
   },
   "outputs": [],
   "source": [
    "import numpy as np\n",
    "import os\n",
    "import pandas as pd\n",
    "import csv\n",
    "from matplotlib import pyplot as plt\n",
    "import matplotlib.pyplot as pyplot\n",
    "import PIL.Image as Image\n",
    "from PIL import ImageOps\n",
    "import glob\n",
    "import math"
   ]
  },
  {
   "cell_type": "code",
   "execution_count": 66,
   "metadata": {
    "collapsed": true
   },
   "outputs": [],
   "source": [
    "df = pd.read_table(\"data7_10.txt\")"
   ]
  },
  {
   "cell_type": "code",
   "execution_count": 68,
   "metadata": {},
   "outputs": [
    {
     "data": {
      "image/png": "[encoded data removed]",
      "text/plain": [
       "<matplotlib.figure.Figure at 0x1a16efaf90>"
      ]
     },
     "metadata": {},
     "output_type": "display_data"
    },
    {
     "name": "stdout",
     "output_type": "stream",
     "text": [
      "===== standard residuals=====\n",
      "0.977665439294\n",
      "0.30973201437\n",
      "0.142356160586\n",
      "0.684561226192\n",
      "-0.63158327991\n",
      "-0.020159766561\n",
      "0.76286977532\n",
      "-0.23726830272\n",
      "0.979119445598\n",
      "-1.57843747483\n",
      "-0.570246326656\n",
      "0.317120188865\n",
      "-1.01802979178\n",
      "-1.30201546612\n",
      "-1.44075818204\n",
      "-0.513494982606\n",
      "0.543539231964\n",
      "-0.555335164626\n",
      "0.0771342958302\n",
      "1.48898438621\n",
      "2.58000272487\n",
      "-0.995756151259\n",
      "===== good standard residuals %=====\n",
      "0.727272727273%\n"
     ]
    }
   ],
   "source": [
    "from sklearn import linear_model\n",
    "from sklearn.model_selection import train_test_split\n",
    "\n",
    "#processing data\n",
    "df = pd.read_table(\"data7_10.txt\")\n",
    "y=df['Mass']\n",
    "df = df.drop(['Mass'],axis=1)\n",
    "x=df\n",
    "\n",
    "#fitting data\n",
    "reg = linear_model.LinearRegression()\n",
    "reg.fit(x,y)\n",
    "x_r = reg.predict(x)\n",
    "y_r = y- reg.predict(x)\n",
    "\n",
    "#drawing plots\n",
    "plt.scatter(x_r ,y_r ,color ='green')\n",
    "plt.hlines(y = 0, xmin = 50, xmax = 100)\n",
    "plt.title('Residual Plot against fitted values')\n",
    "plt.xlabel('fitted values')\n",
    "plt.ylabel('residuals')\n",
    "plt.show() \n",
    "\n",
    "#evaluating regression\n",
    "r_square = np.var(reg.predict(x)) / np.var(y)\n",
    "\n",
    "#printing standard residuals\n",
    "print('===== standard residuals=====')\n",
    "s = np.std(y_r)\n",
    "good = 0\n",
    "for yi in y_r:\n",
    "    print(yi/s)\n",
    "    if ((yi/s) >= -1) and ((yi/s) <= 1):\n",
    "        good +=1 \n",
    "print('===== good standard residuals %=====')\n",
    "print(str(good*1.0/len(y_r)) + \"%\")"
   ]
  },
  {
   "cell_type": "code",
   "execution_count": 69,
   "metadata": {},
   "outputs": [
    {
     "data": {
      "text/plain": [
       "0.97721066174132543"
      ]
     },
     "execution_count": 69,
     "metadata": {},
     "output_type": "execute_result"
    }
   ],
   "source": [
    "r_square"
   ]
  },
  {
   "cell_type": "code",
   "execution_count": 70,
   "metadata": {},
   "outputs": [
    {
     "data": {
      "image/png": "[encoded data removed]",
      "text/plain": [
       "<matplotlib.figure.Figure at 0x1160ea6d0>"
      ]
     },
     "metadata": {},
     "output_type": "display_data"
    },
    {
     "name": "stdout",
     "output_type": "stream",
     "text": [
      "===== standard residuals=====\n",
      "0.768705441176\n",
      "0.174296174701\n",
      "0.136695703958\n",
      "0.842958524418\n",
      "-0.449952828667\n",
      "-0.220097783741\n",
      "0.585715747107\n",
      "-0.37497263145\n",
      "1.29721227064\n",
      "-1.71034388915\n",
      "-0.477989927141\n",
      "0.507805085323\n",
      "-1.07308796513\n",
      "-1.09171743786\n",
      "-1.15979511506\n",
      "-0.546818099794\n",
      "0.0614402820588\n",
      "-0.33625325402\n",
      "-0.197294953302\n",
      "1.87428187111\n",
      "2.45519566553\n",
      "-1.06598288071\n",
      "===== good standard residuals %=====\n",
      "0.636363636364%\n"
     ]
    }
   ],
   "source": [
    "from sklearn import linear_model\n",
    "from sklearn.model_selection import train_test_split\n",
    "\n",
    "#processing data\n",
    "df = pd.read_table(\"data7_10.txt\")\n",
    "y= np.cbrt(df['Mass'])\n",
    "df = df.drop(['Mass'],axis=1)\n",
    "df.columns = range(df.shape[1]) #removing header\n",
    "x = df \n",
    "x = np.power(x, (1/3.0))\n",
    "y = np.power(y, (1/3.0))\n",
    "\n",
    "#fitting data\n",
    "reg = linear_model.LinearRegression()\n",
    "reg.fit(x,y)\n",
    "x_r = reg.predict(x)\n",
    "y_r = y - reg.predict(x)\n",
    "\n",
    "#plotting graphs\n",
    "plt.scatter(x_r ,y_r ,color ='red')\n",
    "plt.hlines(y = 0, xmin = min(x_r)-0.01, xmax = max(x_r)+0.01)\n",
    "plt.title('Residual Plot againt fitted data in cube root coordinates')\n",
    "plt.xlabel('fitted data')\n",
    "plt.ylabel('residuals')\n",
    "plt.show()  \n",
    "\n",
    "#evaluating regression\n",
    "r_square = np.var(x_r) / np.var(y)\n",
    "#printing standard residuals\n",
    "print('===== standard residuals=====')\n",
    "s = np.std(y_r)\n",
    "good = 0\n",
    "for yi in y_r:\n",
    "    print(yi/s)\n",
    "    if ((yi/s) >= -1) and ((yi/s) <= 1):\n",
    "        good +=1 \n",
    "print('===== good standard residuals %=====')\n",
    "print(str(good*1.0/len(y_r)) + \"%\")"
   ]
  },
  {
   "cell_type": "code",
   "execution_count": 71,
   "metadata": {},
   "outputs": [
    {
     "data": {
      "text/plain": [
       "0.97647305872288204"
      ]
     },
     "execution_count": 71,
     "metadata": {},
     "output_type": "execute_result"
    }
   ],
   "source": [
    "r_square"
   ]
  },
  {
   "cell_type": "code",
   "execution_count": 72,
   "metadata": {},
   "outputs": [
    {
     "data": {
      "image/png": "[encoded data removed]",
      "text/plain": [
       "<matplotlib.figure.Figure at 0x1a16f64490>"
      ]
     },
     "metadata": {},
     "output_type": "display_data"
    },
    {
     "name": "stdout",
     "output_type": "stream",
     "text": [
      "===== standard residuals=====\n",
      "0.776818227026\n",
      "0.196362915588\n",
      "0.164180613865\n",
      "0.893797714794\n",
      "-0.46438814969\n",
      "-0.299533525734\n",
      "0.425941828815\n",
      "-0.345180646466\n",
      "1.38963286444\n",
      "-1.55534639265\n",
      "-0.498066822373\n",
      "0.629285071816\n",
      "-1.12214671532\n",
      "-1.04495690414\n",
      "-1.13656436212\n",
      "-0.49147152999\n",
      "-0.21181073971\n",
      "-0.354312271013\n",
      "-0.229544254385\n",
      "1.91526206083\n",
      "2.44575721504\n",
      "-1.08371619862\n",
      "===== good standard residuals %=====\n",
      "0.636363636364%\n"
     ]
    }
   ],
   "source": [
    "#processing data\n",
    "df = pd.read_table(\"data7_10.txt\")\n",
    "y= np.cbrt(df['Mass'])\n",
    "df = df.drop(['Mass'],axis=1)\n",
    "df.columns = range(df.shape[1]) #removing header\n",
    "x = df \n",
    "y = np.power(y, (1/3.0))\n",
    "\n",
    "#fitting data\n",
    "reg = linear_model.LinearRegression()\n",
    "reg.fit(x,y)\n",
    "x_r = reg.predict(x)\n",
    "y_r = y - reg.predict(x)\n",
    "\n",
    "#plotting graphs\n",
    "plt.scatter(x_r ,y_r ,color ='green')\n",
    "plt.hlines(y = 0, xmin = min(x_r)-0.01, xmax = max(x_r)+0.01)\n",
    "plt.title('Residual Plot against fitted values in original coordinates')\n",
    "plt.xlabel('fitted value')\n",
    "plt.ylabel('residuals')\n",
    "plt.show()  \n",
    "\n",
    "#evaluating regression\n",
    "r_square = np.var(x_r) / np.var(y)\n",
    "\n",
    "#printing standard residuals\n",
    "print('===== standard residuals=====')\n",
    "s = np.std(y_r)\n",
    "good = 0\n",
    "for yi in y_r:\n",
    "    print(yi/s)\n",
    "    if ((yi/s) >= -1) and ((yi/s) <= 1):\n",
    "        good +=1 \n",
    "print('===== good standard residuals %=====')\n",
    "print(str(good*1.0/len(y_r)) + \"%\")"
   ]
  },
  {
   "cell_type": "code",
   "execution_count": 73,
   "metadata": {},
   "outputs": [
    {
     "data": {
      "text/plain": [
       "0.97497285978018422"
      ]
     },
     "execution_count": 73,
     "metadata": {},
     "output_type": "execute_result"
    }
   ],
   "source": [
    "r_square"
   ]
  },
  {
   "cell_type": "markdown",
   "metadata": {},
   "source": [
    "Both residual plots has a good random pattern..."
   ]
  }
 ],
 "metadata": {
  "kernelspec": {
   "display_name": "Python 3",
   "language": "python",
   "name": "python3"
  },
  "language_info": {
   "codemirror_mode": {
    "name": "ipython",
    "version": 3
   },
   "file_extension": ".py",
   "mimetype": "text/x-python",
   "name": "python",
   "nbconvert_exporter": "python",
   "pygments_lexer": "ipython3",
   "version": "3.6.4"
  }
 },
 "nbformat": 4,
 "nbformat_minor": 2
}
